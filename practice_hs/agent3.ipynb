{
 "cells": [
  {
   "cell_type": "code",
   "execution_count": 1,
   "metadata": {},
   "outputs": [],
   "source": [
    "import os\n",
    "import torch\n",
    "import pandas as pd\n",
    "from langchain.text_splitter import RecursiveCharacterTextSplitter\n",
    "from langchain.vectorstores import FAISS\n",
    "from langchain.embeddings import HuggingFaceEmbeddings\n",
    "from langchain.chat_models import ChatOpenAI\n",
    "from langchain.tools import Tool\n",
    "from langchain.agents import initialize_agent, AgentType\n",
    "from langchain.memory import ConversationBufferMemory\n",
    "from langchain.schema import Document\n",
    "from dotenv import load_dotenv"
   ]
  },
  {
   "cell_type": "code",
   "execution_count": 2,
   "metadata": {},
   "outputs": [],
   "source": [
    "# .env 파일 로드\n",
    "load_dotenv()\n",
    "\n",
    "# OpenAI API 키를 환경 변수에서 로드\n",
    "openai_api_key = os.getenv(\"OPENAI_API_KEY\")\n",
    "\n",
    "# Parquet 파일 경로 설정\n",
    "file_path = 'merged_data.parquet'\n",
    "\n",
    "# Parquet 파일을 pandas로 로드\n",
    "df = pd.read_parquet(file_path)\n",
    "\n",
    "# 각 행을 Document 객체로 변환\n",
    "documents = []\n",
    "for index, row in df.iterrows():\n",
    "    content = f\"\"\"\n",
    "    filename: {row['filename']}\n",
    "    date: {row['date']}\n",
    "    conference_number: {row['conference_number']}\n",
    "    question_number: {row['question_number']}\n",
    "    meeting_name: {row['meeting_name']}\n",
    "    generation_number: {row['generation_number']}\n",
    "    committee_name: {row['committee_name']}\n",
    "    meeting_number: {row['meeting_number']}\n",
    "    session_number: {row['session_number']}\n",
    "    agenda: {row['agenda']}\n",
    "    law: {row['law']}\n",
    "    qna_type: {row['qna_type']}\n",
    "    context: {row['context']}\n",
    "    questioner_name: {row['questioner_name']}\n",
    "    questioner_affiliation: {row['questioner_affiliation']}\n",
    "    questioner_position: {row['questioner_position']}\n",
    "    question_comment: {row['question_comment']}\n",
    "    answerer_name: {row['answerer_name']}\n",
    "    answerer_affiliation: {row['answerer_affiliation']}\n",
    "    answerer_position: {row['answerer_position']}\n",
    "    answer_comment: {row['answer_comment']}\n",
    "    \"\"\"\n",
    "    documents.append(Document(page_content=content))"
   ]
  },
  {
   "cell_type": "code",
   "execution_count": 3,
   "metadata": {},
   "outputs": [
    {
     "name": "stderr",
     "output_type": "stream",
     "text": [
      "/tmp/ipykernel_205656/3851003835.py:10: LangChainDeprecationWarning: The class `HuggingFaceEmbeddings` was deprecated in LangChain 0.2.2 and will be removed in 1.0. An updated version of the class exists in the :class:`~langchain-huggingface package and should be used instead. To use it run `pip install -U :class:`~langchain-huggingface` and import as `from :class:`~langchain_huggingface import HuggingFaceEmbeddings``.\n",
      "  embedding_model = HuggingFaceEmbeddings(\n",
      "/home/elicer/.local/lib/python3.10/site-packages/sentence_transformers/cross_encoder/CrossEncoder.py:13: TqdmExperimentalWarning: Using `tqdm.autonotebook.tqdm` in notebook mode. Use `tqdm.tqdm` instead to force console mode (e.g. in jupyter console)\n",
      "  from tqdm.autonotebook import tqdm, trange\n"
     ]
    },
    {
     "name": "stdout",
     "output_type": "stream",
     "text": [
      "저장된 FAISS 인덱스를 로드합니다...\n"
     ]
    }
   ],
   "source": [
    "# 문서 분할 및 임베딩 생성\n",
    "text_splitter = RecursiveCharacterTextSplitter(chunk_size=1000, chunk_overlap=200)\n",
    "split_docs = text_splitter.split_documents(documents)\n",
    "\n",
    "# CUDA 사용 설정\n",
    "device = 'cuda' if torch.cuda.is_available() else 'cpu'\n",
    "\n",
    "# 임베딩 모델 설정 (GPU 사용)\n",
    "embedding_model_name = 'sentence-transformers/all-MiniLM-L6-v2'\n",
    "embedding_model = HuggingFaceEmbeddings(\n",
    "    model_name=embedding_model_name,\n",
    "    model_kwargs={'device': device}\n",
    ")\n",
    "\n",
    "# FAISS 인덱스 설정\n",
    "index_path = 'faiss_index'\n",
    "\n",
    "# VectorStore 생성 또는 로드\n",
    "if os.path.exists(index_path):\n",
    "    print(\"저장된 FAISS 인덱스를 로드합니다...\")\n",
    "    vectorstore = FAISS.load_local(\n",
    "        index_path,\n",
    "        embeddings=embedding_model,\n",
    "        allow_dangerous_deserialization=True  # 여기서 True로 설정\n",
    "    )\n",
    "else:\n",
    "    print(\"FAISS 인덱스를 생성합니다...\")\n",
    "    vectorstore = FAISS.from_documents(split_docs, embedding_model)\n",
    "    vectorstore.save_local(index_path)"
   ]
  },
  {
   "cell_type": "code",
   "execution_count": 4,
   "metadata": {},
   "outputs": [],
   "source": [
    "# Retriever 생성\n",
    "retriever = vectorstore.as_retriever(search_kwargs={\"k\": 6})\n",
    "\n",
    "# 도구 함수 정의\n",
    "def parquet_search_tool(input_text):\n",
    "    docs = retriever.get_relevant_documents(input_text)\n",
    "    if docs:\n",
    "        summaries = [doc.page_content for doc in docs]\n",
    "        return '\\n\\n'.join(summaries)\n",
    "    else:\n",
    "        return \"해당하는 정보를 찾을 수 없습니다.\"\n",
    "\n",
    "# 도구 정의\n",
    "parquet_search_tool = Tool(\n",
    "    name=\"ParquetSearch\",\n",
    "    func=parquet_search_tool,\n",
    "    description=(\n",
    "        \"Use this tool to search for information about a specific person or issue from the parquet document. \"\n",
    "        \"Provides a summary of fields such as conference number,date, meeting name, generation number, committee name, agenda, law, Q&A type, context, learning context, \"\n",
    "        \"context summary, questioner, and question.\"\n",
    "    )\n",
    ")\n",
    "\n",
    "# 도구 목록 생성\n",
    "tools = [parquet_search_tool]"
   ]
  },
  {
   "cell_type": "code",
   "execution_count": 5,
   "metadata": {},
   "outputs": [
    {
     "name": "stderr",
     "output_type": "stream",
     "text": [
      "/tmp/ipykernel_205656/2021609686.py:2: LangChainDeprecationWarning: The class `ChatOpenAI` was deprecated in LangChain 0.0.10 and will be removed in 1.0. An updated version of the class exists in the :class:`~langchain-openai package and should be used instead. To use it run `pip install -U :class:`~langchain-openai` and import as `from :class:`~langchain_openai import ChatOpenAI``.\n",
      "  llm = ChatOpenAI(model_name=\"gpt-4\", temperature=0, openai_api_key=openai_api_key)\n",
      "/tmp/ipykernel_205656/2021609686.py:5: LangChainDeprecationWarning: Please see the migration guide at: https://python.langchain.com/docs/versions/migrating_memory/\n",
      "  memory = ConversationBufferMemory(memory_key=\"chat_history\", return_messages=True)\n",
      "/tmp/ipykernel_205656/2021609686.py:8: LangChainDeprecationWarning: The function `initialize_agent` was deprecated in LangChain 0.1.0 and will be removed in 1.0. Use :meth:`~Use new agent constructor methods like create_react_agent, create_json_agent, create_structured_chat_agent, etc.` instead.\n",
      "  agent = initialize_agent(\n"
     ]
    }
   ],
   "source": [
    "# LLM 정의\n",
    "llm = ChatOpenAI(model_name=\"gpt-4\", temperature=0, openai_api_key=openai_api_key)\n",
    "\n",
    "# 메모리 설정\n",
    "memory = ConversationBufferMemory(memory_key=\"chat_history\", return_messages=True)\n",
    "\n",
    "# 에이전트 초기화\n",
    "agent = initialize_agent(\n",
    "    tools,\n",
    "    llm,\n",
    "    agent=AgentType.CHAT_CONVERSATIONAL_REACT_DESCRIPTION,\n",
    "    verbose=True,\n",
    "    memory=memory,\n",
    ")\n",
    "\n",
    "# 시스템 프롬프트 설정\n",
    "agent.agent.llm_chain.prompt.messages[0].prompt.template = (\n",
    "\"Be sure to answer in Korean\"\n",
    "    \"You are an AI assistant that helps users find information about individuals or issues from the National Assembly parquet document. \"\n",
    "    \"When a user asks about a specific person or issue, you should use the JSONSearch tool to find meeting information where that person is mentioned. \"\n",
    "    \"Provide a summarized response including fields such as conference number,date, meeting name, generation number, committee name, agenda, law, Q&A type, context, learning context, context summary, questioner, and question. \"\n",
    "    \"If you cannot find the information in the JSON document, politely inform the user that the information is not available. \"\n",
    "    \"Do not mention the use of tools; just provide the necessary information.\"\n",
    ")\n",
    "\n",
    "# 에이전트와 대화하는 함수 정의\n",
    "def chat_with_agent(user_input):\n",
    "    response = agent.run(input=user_input)\n",
    "    return response"
   ]
  },
  {
   "cell_type": "code",
   "execution_count": 6,
   "metadata": {},
   "outputs": [
    {
     "name": "stderr",
     "output_type": "stream",
     "text": [
      "/tmp/ipykernel_205656/2021609686.py:28: LangChainDeprecationWarning: The method `Chain.run` was deprecated in langchain 0.1.0 and will be removed in 1.0. Use :meth:`~invoke` instead.\n",
      "  response = agent.run(input=user_input)\n"
     ]
    },
    {
     "name": "stdout",
     "output_type": "stream",
     "text": [
      "\n",
      "\n",
      "\u001b[1m> Entering new AgentExecutor chain...\u001b[0m\n",
      "\u001b[32;1m\u001b[1;3m```json\n",
      "{\n",
      "    \"action\": \"ParquetSearch\",\n",
      "    \"action_input\": \"김영삼\"\n",
      "}\n",
      "```\u001b[0m"
     ]
    },
    {
     "name": "stderr",
     "output_type": "stream",
     "text": [
      "/tmp/ipykernel_205656/1759276577.py:6: LangChainDeprecationWarning: The method `BaseRetriever.get_relevant_documents` was deprecated in langchain-core 0.1.46 and will be removed in 1.0. Use :meth:`~invoke` instead.\n",
      "  docs = retriever.get_relevant_documents(input_text)\n"
     ]
    },
    {
     "name": "stdout",
     "output_type": "stream",
     "text": [
      "\n",
      "Observation: \u001b[36;1m\u001b[1;3manswerer_name: 이희범\n",
      "    answerer_affiliation: \n",
      "    answerer_position: 2018평창동계올림픽대회및동계패럴림픽대회조직위원장\n",
      "    answer_comment: 예, 알고 있습니다.   국민안전처를 중심으로 해서 저희 조직위원회하고 통합안전망체제를 지금 하고 있고요. 몇 차례 회의도 지금 하고 있습니다.\n",
      "\n",
      "answerer_name: 김현숙\n",
      "    answerer_affiliation: 새만금개발청\n",
      "    answerer_position: 청장\n",
      "    answer_comment: 아니요, 지금 말씀을……\n",
      "\n",
      "answerer_name: 안종범\n",
      "    answerer_affiliation: 대통령비서실\n",
      "    answerer_position: 정책조정수석비서관\n",
      "    answer_comment: 제가 말씀 좀 드리겠습니다.\n",
      "\n",
      "answerer_name: 홍남기\n",
      "    answerer_affiliation: 부총리겸기획재정부\n",
      "    answerer_position: 장관\n",
      "    answer_comment: 위원님 지금 말씀 주신 대로 탄소중립은 저희가 선택할 수 있는 사안이 아니고 필수로 가야 되고요. 이것을……\n",
      "\n",
      "answerer_name: 홍남기\n",
      "    answerer_affiliation: 기획재정부\n",
      "    answerer_position: 부총리겸기획재정부장관\n",
      "    answer_comment: 예.\n",
      "\n",
      "answerer_name: 홍남기\n",
      "    answerer_affiliation: 기획재정부\n",
      "    answerer_position: 부총리겸기획재정부장관\n",
      "    answer_comment: 예.\u001b[0m\n",
      "Thought:\u001b[32;1m\u001b[1;3m```json\n",
      "{\n",
      "    \"action\": \"Final Answer\",\n",
      "    \"action_input\": \"김영삼 대통령에 대한 언급이 포함된 회의에서 다음과 같은 정보를 찾을 수 있었습니다. \\n\\n1. 이희범이라는 사람이 2018평창동계올림픽대회및동계패럴림픽대회조직위원장으로서 참여하였으며, 국민안전처를 중심으로 통합안전망체제에 대한 회의를 진행하였다고 답변하였습니다.\\n\\n2. 김현숙이라는 사람이 새만금개발청 청장으로서 참여하였습니다.\\n\\n3. 안종범이라는 사람이 대통령비서실의 정책조정수석비서관으로서 참여하였습니다.\\n\\n4. 홍남기라는 사람이 부총리겸기획재정부 장관 및 기획재정부 부총리겸기획재정부장관으로서 참여하였으며, 탄소중립에 대한 필수적인 추진을 강조하였습니다.\\n\\n하지만, 회의의 날짜, 회의 이름, 국회 대수, 안건 이름 등에 대한 정보는 찾을 수 없었습니다.\"\n",
      "}\n",
      "```\u001b[0m\n",
      "\n",
      "\u001b[1m> Finished chain.\u001b[0m\n",
      "Assistant: 김영삼 대통령에 대한 언급이 포함된 회의에서 다음과 같은 정보를 찾을 수 있었습니다. \n",
      "\n",
      "1. 이희범이라는 사람이 2018평창동계올림픽대회및동계패럴림픽대회조직위원장으로서 참여하였으며, 국민안전처를 중심으로 통합안전망체제에 대한 회의를 진행하였다고 답변하였습니다.\n",
      "\n",
      "2. 김현숙이라는 사람이 새만금개발청 청장으로서 참여하였습니다.\n",
      "\n",
      "3. 안종범이라는 사람이 대통령비서실의 정책조정수석비서관으로서 참여하였습니다.\n",
      "\n",
      "4. 홍남기라는 사람이 부총리겸기획재정부 장관 및 기획재정부 부총리겸기획재정부장관으로서 참여하였으며, 탄소중립에 대한 필수적인 추진을 강조하였습니다.\n",
      "\n",
      "하지만, 회의의 날짜, 회의 이름, 국회 대수, 안건 이름 등에 대한 정보는 찾을 수 없었습니다.\n"
     ]
    }
   ],
   "source": [
    "# 예시 질문\n",
    "user_input = \"김영삼 대통령이 언급된 회의에 대한 정보를 알려주세요. 반드시 안건 이름과 날짜, 어떤 회의였는지, 몇 대 국회였는지 알려주세요. 질문자와 답변자에 대한 정보와 어떤 안건에 대해 이야기가 오고 갔는지 대화문도 알려주세요.\"\n",
    "response = chat_with_agent(user_input)\n",
    "print(\"Assistant:\", response)"
   ]
  },
  {
   "cell_type": "code",
   "execution_count": 7,
   "metadata": {},
   "outputs": [
    {
     "name": "stdout",
     "output_type": "stream",
     "text": [
      "\n",
      "\n",
      "\u001b[1m> Entering new AgentExecutor chain...\u001b[0m\n",
      "\u001b[32;1m\u001b[1;3m```json\n",
      "{\n",
      "    \"action\": \"ParquetSearch\",\n",
      "    \"action_input\": \"안건 날짜, 국회 대수, 회의 이름\"\n",
      "}\n",
      "```\u001b[0m\n",
      "Observation: \u001b[36;1m\u001b[1;3manswerer_name: 이희범\n",
      "    answerer_affiliation: \n",
      "    answerer_position: 2018평창동계올림픽대회및동계패럴림픽대회조직위원장\n",
      "    answer_comment: 예, 알고 있습니다.   국민안전처를 중심으로 해서 저희 조직위원회하고 통합안전망체제를 지금 하고 있고요. 몇 차례 회의도 지금 하고 있습니다.\n",
      "\n",
      "answerer_name: 홍남기\n",
      "    answerer_affiliation: 기획재정부장\n",
      "    answerer_position: 부총리겸기획재정부장관\n",
      "    answer_comment: 위원님 말씀 경청하겠습니다. 유념하겠고요. 저로서는 4/4분기까지 정부가 할 수 있는 모든 수단을 동원해서 일단 저희가 약속드렸던 그런 내용들이 달성될 수 있도록 최선을 다하겠습니다.\n",
      "\n",
      "answerer_name: 조기열\n",
      "    answerer_affiliation: \n",
      "    answerer_position: 전문위원\n",
      "    answer_comment: 보고드리겠습니다.  국회법 79조의2(의안에 대한 비용추계자료 등의 제출)에 나와 있습니다. 그래서 의원 발의 법률안을 제출할 때는 비용추계서를 첨부하거나 예산정책처에 대한 비용추계요구서 둘 중 하나를 제출해야 되고요, 비용추계서는 해당 위원회의 심사 전까지 제출되어야 하는 것으로 되어 있습니다.\n",
      "\n",
      "answerer_name: 김광묵\n",
      "    answerer_affiliation: \n",
      "    answerer_position: 수석전문위원\n",
      "    answer_comment: 그렇지요. 국가공무원법 63조에 ‘품위가 손상되는 행위를 하여서는 아니 된다’라고 두 번째 줄에 되어 있기 때문에 추상적이긴 하지만 선례가 있는 문구라고 보시면 되겠습니다.\n",
      "\n",
      "answerer_name: 홍남기\n",
      "    answerer_affiliation: 부총리겸기획재정부\n",
      "    answerer_position: 장관\n",
      "    answer_comment: 위원님 지금 말씀 주신 대로 탄소중립은 저희가 선택할 수 있는 사안이 아니고 필수로 가야 되고요. 이것을……\n",
      "\n",
      "answerer_name: 박백범\n",
      "    answerer_affiliation: 교육부\n",
      "    answerer_position: 차관\n",
      "    answer_comment: 예, 그렇게 하도록 하겠습니다.\u001b[0m\n",
      "Thought:\u001b[32;1m\u001b[1;3m```json\n",
      "{\n",
      "    \"action\": \"Final Answer\",\n",
      "    \"action_input\": \"회의에 대한 정보는 다음과 같습니다. 이희범이라는 사람이 2018평창동계올림픽대회및동계패럴림픽대회조직위원장으로서 참여하였으며, 국민안전처를 중심으로 통합안전망체제에 대한 회의를 진행하였다고 답변하였습니다. 홍남기라는 사람이 부총리겸기획재정부 장관 및 기획재정부 부총리겸기획재정부장관으로서 참여하였으며, 탄소중립에 대한 필수적인 추진을 강조하였습니다. 그 외에도 조기열, 김광묵, 박백범 등이 참여하였습니다. 하지만, 회의의 날짜, 회의 이름, 국회 대수, 안건 이름 등에 대한 정보는 찾을 수 없었습니다.\"\n",
      "}\n",
      "```\u001b[0m\n",
      "\n",
      "\u001b[1m> Finished chain.\u001b[0m\n",
      "Assistant: 회의에 대한 정보는 다음과 같습니다. 이희범이라는 사람이 2018평창동계올림픽대회및동계패럴림픽대회조직위원장으로서 참여하였으며, 국민안전처를 중심으로 통합안전망체제에 대한 회의를 진행하였다고 답변하였습니다. 홍남기라는 사람이 부총리겸기획재정부 장관 및 기획재정부 부총리겸기획재정부장관으로서 참여하였으며, 탄소중립에 대한 필수적인 추진을 강조하였습니다. 그 외에도 조기열, 김광묵, 박백범 등이 참여하였습니다. 하지만, 회의의 날짜, 회의 이름, 국회 대수, 안건 이름 등에 대한 정보는 찾을 수 없었습니다.\n"
     ]
    }
   ],
   "source": [
    "# 예시 질문\n",
    "user_input = \"안건 날짜와 어떤 몇대 국회에서 열린지 어떤 회의였는지 알려줘야지.\"\n",
    "response = chat_with_agent(user_input)\n",
    "print(\"Assistant:\", response)"
   ]
  },
  {
   "cell_type": "code",
   "execution_count": null,
   "metadata": {},
   "outputs": [],
   "source": []
  }
 ],
 "metadata": {
  "kernelspec": {
   "display_name": "Python 3",
   "language": "python",
   "name": "python3"
  },
  "language_info": {
   "codemirror_mode": {
    "name": "ipython",
    "version": 3
   },
   "file_extension": ".py",
   "mimetype": "text/x-python",
   "name": "python",
   "nbconvert_exporter": "python",
   "pygments_lexer": "ipython3",
   "version": "3.10.13"
  }
 },
 "nbformat": 4,
 "nbformat_minor": 2
}
