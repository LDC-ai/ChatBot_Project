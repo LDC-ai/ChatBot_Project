{
 "cells": [
  {
   "cell_type": "code",
   "execution_count": 1,
   "metadata": {},
   "outputs": [],
   "source": [
    "import cudf\n",
    "import json\n",
    "\n",
    "# JSON 파일 경로 설정\n",
    "file_path = 'merged_data.json'\n",
    "parquet_file_path = 'merged_data.parquet'\n",
    "\n",
    "# JSON 파일을 읽어서 리스트로 변환\n",
    "with open(file_path, 'r', encoding='utf-8') as file:\n",
    "    json_data = json.load(file)\n",
    "\n",
    "# jq_schema에 맞춰 데이터를 처리\n",
    "data = []\n",
    "for item in json_data:\n",
    "    processed_item = {\n",
    "        \"filename\": item.get(\"filename\"),\n",
    "        \"date\": item.get(\"date\"),\n",
    "        \"conference_number\": item.get(\"conference_number\"),\n",
    "        \"question_number\": item.get(\"question_number\"),\n",
    "        \"meeting_name\": item.get(\"meeting_name\"),\n",
    "        \"generation_number\": item.get(\"generation_number\"),\n",
    "        \"committee_name\": item.get(\"committee_name\"),\n",
    "        \"meeting_number\": item.get(\"meeting_number\"),\n",
    "        \"session_number\": item.get(\"session_number\"),\n",
    "        \"agenda\": item.get(\"agenda\"),\n",
    "        \"law\": item.get(\"law\"),\n",
    "        \"qna_type\": item.get(\"qna_type\"),\n",
    "        \"context\": item.get(\"context\"),\n",
    "        \"context_summary_summary_q\": item.get(\"context_summary\", {}).get(\"summary_q\"),\n",
    "        \"context_summary_summary_a\": item.get(\"context_summary\", {}).get(\"summary_a\"),\n",
    "        \"questioner_name\": item.get(\"questioner_name\"),\n",
    "        \"questioner_affiliation\": item.get(\"questioner_affiliation\"),\n",
    "        \"questioner_position\": item.get(\"questioner_position\"),\n",
    "        \"question_comment\": item.get(\"question\", {}).get(\"comment\"),\n",
    "        \"question_keyword\": item.get(\"question\", {}).get(\"keyword\"),\n",
    "        \"answerer_name\": item.get(\"answerer_name\"),\n",
    "        \"answerer_affiliation\": item.get(\"answerer_affiliation\"),\n",
    "        \"answerer_position\": item.get(\"answerer_position\"),\n",
    "        \"answer_comment\": item.get(\"answer\", {}).get(\"comment\"),\n",
    "        \"answer_keyword\": item.get(\"answer\", {}).get(\"keyword\"),\n",
    "    }\n",
    "    data.append(processed_item)\n",
    "\n",
    "# GPU에서 처리하기 위해 cuDF의 DataFrame으로 변환\n",
    "df = cudf.DataFrame(data)\n",
    "\n",
    "# Parquet 파일로 저장\n",
    "df.to_parquet(parquet_file_path)\n"
   ]
  },
  {
   "cell_type": "code",
   "execution_count": null,
   "metadata": {},
   "outputs": [],
   "source": []
  }
 ],
 "metadata": {
  "kernelspec": {
   "display_name": "Python 3",
   "language": "python",
   "name": "python3"
  },
  "language_info": {
   "codemirror_mode": {
    "name": "ipython",
    "version": 3
   },
   "file_extension": ".py",
   "mimetype": "text/x-python",
   "name": "python",
   "nbconvert_exporter": "python",
   "pygments_lexer": "ipython3",
   "version": "3.10.13"
  }
 },
 "nbformat": 4,
 "nbformat_minor": 2
}
