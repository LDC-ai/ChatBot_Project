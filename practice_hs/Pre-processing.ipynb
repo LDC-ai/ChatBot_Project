{
 "cells": [
  {
   "cell_type": "code",
   "execution_count": 1,
   "metadata": {},
   "outputs": [],
   "source": [
    "import json\n",
    "import re\n",
    "\n",
    "# JSON 파일 로드\n",
    "with open('merged_data.json', 'r', encoding='utf-8') as f:\n",
    "    data = json.load(f)\n",
    "\n",
    "# 불필요한 필드 제거\n",
    "def remove_unnecessary_fields(record):\n",
    "    fields_to_remove = ['filename', 'original', 'questioner_ID', 'questioner_ISNI', 'answerer_ID', 'answerer_ISNI', 'context_learn']\n",
    "    for field in fields_to_remove:\n",
    "        record.pop(field, None)\n",
    "    return record\n",
    "\n",
    "data = [remove_unnecessary_fields(record) for record in data]\n",
    "\n",
    "# 텍스트 정제 함수 정의\n",
    "def clean_text(text):\n",
    "    if not isinstance(text, str):\n",
    "        return ''\n",
    "    # 특수 문자 제거 (한글과 공백을 제외하지 않도록 수정)\n",
    "    text = re.sub(r'[^\\w\\sㄱ-ㅎㅏ-ㅣ가-힣]', '', text)\n",
    "    # 불필요한 공백 제거\n",
    "    text = re.sub(r'\\s+', ' ', text).strip()\n",
    "    return text\n",
    "\n",
    "# 텍스트 정제 적용\n",
    "for record in data:\n",
    "    record['context'] = clean_text(record.get('context', ''))\n",
    "    # 질문과 답변의 comment 필드 처리\n",
    "    question = record.get('question', {})\n",
    "    answer = record.get('answer', {})\n",
    "    question['comment'] = clean_text(question.get('comment', ''))\n",
    "    answer['comment'] = clean_text(answer.get('comment', ''))\n",
    "    record['question'] = question\n",
    "    record['answer'] = answer\n",
    "\n",
    "# 간단한 텍스트 요약 함수 정의\n",
    "def summarize_text(text, max_sentences=3):\n",
    "    sentences = re.split(r'(?<=[.!?])\\s+', text)\n",
    "    summary = ' '.join(sentences[:max_sentences])\n",
    "    return summary\n",
    "\n",
    "# 텍스트 요약 적용\n",
    "for record in data:\n",
    "    record['context_summary'] = summarize_text(record['context'])\n",
    "\n",
    "# 전처리된 데이터를 JSON 파일로 저장\n",
    "with open('processed_data.json', 'w', encoding='utf-8') as f:\n",
    "    json.dump(data, f, ensure_ascii=False, indent=4)\n"
   ]
  },
  {
   "cell_type": "code",
   "execution_count": null,
   "metadata": {},
   "outputs": [],
   "source": []
  }
 ],
 "metadata": {
  "kernelspec": {
   "display_name": "Python 3",
   "language": "python",
   "name": "python3"
  },
  "language_info": {
   "codemirror_mode": {
    "name": "ipython",
    "version": 3
   },
   "file_extension": ".py",
   "mimetype": "text/x-python",
   "name": "python",
   "nbconvert_exporter": "python",
   "pygments_lexer": "ipython3",
   "version": "3.10.13"
  }
 },
 "nbformat": 4,
 "nbformat_minor": 2
}
