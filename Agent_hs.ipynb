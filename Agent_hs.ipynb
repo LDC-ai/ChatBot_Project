{
 "cells": [
  {
   "cell_type": "code",
   "execution_count": 2,
   "metadata": {},
   "outputs": [
    {
     "name": "stderr",
     "output_type": "stream",
     "text": [
      "/home/elicer/.local/lib/python3.10/site-packages/sentence_transformers/cross_encoder/CrossEncoder.py:13: TqdmExperimentalWarning: Using `tqdm.autonotebook.tqdm` in notebook mode. Use `tqdm.tqdm` instead to force console mode (e.g. in jupyter console)\n",
      "  from tqdm.autonotebook import tqdm, trange\n"
     ]
    },
    {
     "ename": "AttributeError",
     "evalue": "'list' object has no attribute 'embed_documents'",
     "output_type": "error",
     "traceback": [
      "\u001b[0;31m---------------------------------------------------------------------------\u001b[0m",
      "\u001b[0;31mAttributeError\u001b[0m                            Traceback (most recent call last)",
      "\u001b[1;32m/home/elicer/ChatBot_Project/Agent_hs.ipynb Cell 1\u001b[0m line \u001b[0;36m9\n\u001b[1;32m     <a href='vscode-notebook-cell://kmrerhxnkkhhxmed.tunnel-pt.elice.io/home/elicer/ChatBot_Project/Agent_hs.ipynb#W0sdnNjb2RlLXJlbW90ZQ%3D%3D?line=93'>94</a>\u001b[0m texts \u001b[39m=\u001b[39m [doc\u001b[39m.\u001b[39mpage_content \u001b[39mfor\u001b[39;00m doc \u001b[39min\u001b[39;00m split_docs]\n\u001b[1;32m     <a href='vscode-notebook-cell://kmrerhxnkkhhxmed.tunnel-pt.elice.io/home/elicer/ChatBot_Project/Agent_hs.ipynb#W0sdnNjb2RlLXJlbW90ZQ%3D%3D?line=95'>96</a>\u001b[0m \u001b[39m# FAISS 인덱스 생성\u001b[39;00m\n\u001b[0;32m---> <a href='vscode-notebook-cell://kmrerhxnkkhhxmed.tunnel-pt.elice.io/home/elicer/ChatBot_Project/Agent_hs.ipynb#W0sdnNjb2RlLXJlbW90ZQ%3D%3D?line=96'>97</a>\u001b[0m vector \u001b[39m=\u001b[39m FAISS\u001b[39m.\u001b[39;49mfrom_texts(texts, embeddings)\n\u001b[1;32m     <a href='vscode-notebook-cell://kmrerhxnkkhhxmed.tunnel-pt.elice.io/home/elicer/ChatBot_Project/Agent_hs.ipynb#W0sdnNjb2RlLXJlbW90ZQ%3D%3D?line=97'>98</a>\u001b[0m vector\u001b[39m.\u001b[39msave_local(index_path)  \u001b[39m# 생성한 인덱스를 저장\u001b[39;00m\n\u001b[1;32m     <a href='vscode-notebook-cell://kmrerhxnkkhhxmed.tunnel-pt.elice.io/home/elicer/ChatBot_Project/Agent_hs.ipynb#W0sdnNjb2RlLXJlbW90ZQ%3D%3D?line=98'>99</a>\u001b[0m \u001b[39mprint\u001b[39m(\u001b[39mf\u001b[39m\u001b[39m\"\u001b[39m\u001b[39mFAISS 인덱스를 \u001b[39m\u001b[39m{\u001b[39;00mindex_path\u001b[39m}\u001b[39;00m\u001b[39m 경로에 저장했습니다.\u001b[39m\u001b[39m\"\u001b[39m)\n",
      "File \u001b[0;32m~/.local/lib/python3.10/site-packages/langchain_community/vectorstores/faiss.py:1041\u001b[0m, in \u001b[0;36mFAISS.from_texts\u001b[0;34m(cls, texts, embedding, metadatas, ids, **kwargs)\u001b[0m\n\u001b[1;32m   1014\u001b[0m \u001b[39m@classmethod\u001b[39m\n\u001b[1;32m   1015\u001b[0m \u001b[39mdef\u001b[39;00m \u001b[39mfrom_texts\u001b[39m(\n\u001b[1;32m   1016\u001b[0m     \u001b[39mcls\u001b[39m,\n\u001b[0;32m   (...)\u001b[0m\n\u001b[1;32m   1021\u001b[0m     \u001b[39m*\u001b[39m\u001b[39m*\u001b[39mkwargs: Any,\n\u001b[1;32m   1022\u001b[0m ) \u001b[39m-\u001b[39m\u001b[39m>\u001b[39m FAISS:\n\u001b[1;32m   1023\u001b[0m \u001b[39m    \u001b[39m\u001b[39m\"\"\"Construct FAISS wrapper from raw documents.\u001b[39;00m\n\u001b[1;32m   1024\u001b[0m \n\u001b[1;32m   1025\u001b[0m \u001b[39m    This is a user friendly interface that:\u001b[39;00m\n\u001b[0;32m   (...)\u001b[0m\n\u001b[1;32m   1039\u001b[0m \u001b[39m            faiss = FAISS.from_texts(texts, embeddings)\u001b[39;00m\n\u001b[1;32m   1040\u001b[0m \u001b[39m    \"\"\"\u001b[39;00m\n\u001b[0;32m-> 1041\u001b[0m     embeddings \u001b[39m=\u001b[39m embedding\u001b[39m.\u001b[39;49membed_documents(texts)\n\u001b[1;32m   1042\u001b[0m     \u001b[39mreturn\u001b[39;00m \u001b[39mcls\u001b[39m\u001b[39m.\u001b[39m__from(\n\u001b[1;32m   1043\u001b[0m         texts,\n\u001b[1;32m   1044\u001b[0m         embeddings,\n\u001b[0;32m   (...)\u001b[0m\n\u001b[1;32m   1048\u001b[0m         \u001b[39m*\u001b[39m\u001b[39m*\u001b[39mkwargs,\n\u001b[1;32m   1049\u001b[0m     )\n",
      "\u001b[0;31mAttributeError\u001b[0m: 'list' object has no attribute 'embed_documents'"
     ]
    }
   ],
   "source": [
    "import os\n",
    "from langchain.text_splitter import RecursiveCharacterTextSplitter\n",
    "from langchain_community.vectorstores import FAISS\n",
    "from sentence_transformers import SentenceTransformer\n",
    "from langchain.agents import create_tool_calling_agent, AgentExecutor\n",
    "from langchain_core.prompts import ChatPromptTemplate\n",
    "from langchain_community.tools.tavily_search import TavilySearchResults\n",
    "from langchain_community.chat_message_histories import ChatMessageHistory\n",
    "from langchain_core.runnables.history import RunnableWithMessageHistory\n",
    "from langchain_teddynote.messages import AgentStreamParser\n",
    "from langchain.document_loaders import JSONLoader\n",
    "\n",
    "########## 1. 도구를 정의 ##########\n",
    "\n",
    "### 1-1. Search 도구 ###\n",
    "search = TavilySearchResults(k=6)\n",
    "\n",
    "### 1-2. JSON 문서 검색 도구 (Retriever) ###\n",
    "# JSON 파일 경로\n",
    "file_path = 'label_data.json'\n",
    "# JSONLoader의 jq_schema 설정\n",
    "jq_schema = \"\"\"\n",
    ".[] | {\n",
    "    \"filename\": .filename,\n",
    "    \"original\": .original,\n",
    "    \"id\": .id,\n",
    "    \"date\": .date,\n",
    "    \"conference_number\": .conference_number,\n",
    "    \"question_number\": .question_number,\n",
    "    \"meeting_name\": .meeting_name,\n",
    "    \"generation_number\": .generation_number,\n",
    "    \"committee_name\": .committee_name,\n",
    "    \"meeting_number\": .meeting_number,\n",
    "    \"session_number\": .session_number,\n",
    "    \"agenda\": .agenda,\n",
    "    \"law\": .law,\n",
    "    \"qna_type\": .qna_type,\n",
    "    \"context\": .context,\n",
    "    \"context_learn\": .context_learn,\n",
    "    \"context_summary\": {\n",
    "        \"summary_q\": .context_summary.summary_q,\n",
    "        \"summary_a\": .context_summary.summary_a\n",
    "    },\n",
    "    \"questioner\": {\n",
    "        \"name\": .questioner_name,\n",
    "        \"ID\": .questioner_ID,\n",
    "        \"ISNI\": .questioner_ISNI,\n",
    "        \"affiliation\": .questioner_affiliation,\n",
    "        \"position\": .questioner_position\n",
    "    },\n",
    "    \"question\": {\n",
    "        \"tag\": .question.tag,\n",
    "        \"comment\": .question.comment,\n",
    "        \"keyword\": .question.keyword\n",
    "    },\n",
    "    \"answerer\": {\n",
    "        \"name\": .answerer_name,\n",
    "        \"ID\": .answerer_ID,\n",
    "        \"ISNI\": .answerer_ISNI,\n",
    "        \"affiliation\": .answerer_affiliation,\n",
    "        \"position\": .answerer_position\n",
    "    },\n",
    "    \"answer\": {\n",
    "        \"tag\": .answer.tag,\n",
    "        \"comment\": .answer.comment,\n",
    "        \"keyword\": .answer.keyword\n",
    "    }\n",
    "}\n",
    "\"\"\"\n",
    "\n",
    "# JSONLoader를 사용하여 파일 로드\n",
    "loader = JSONLoader(file_path, jq_schema=jq_schema, text_content=False)\n",
    "documents = loader.load()\n",
    "\n",
    "text_splitter = RecursiveCharacterTextSplitter(chunk_size=1000, chunk_overlap=200)\n",
    "split_docs = text_splitter.split_documents(documents)\n",
    "\n",
    "# FAISS 인덱스를 저장할 파일 경로\n",
    "index_path = 'faiss_index'\n",
    "\n",
    "# 로컬 GPU에서 SentenceTransformer 모델 사용\n",
    "embedding_model = SentenceTransformer('sentence-transformers/all-MiniLM-L6-v2', device='cuda')\n",
    "\n",
    "# 문서로부터 임베딩 계산\n",
    "embeddings = [embedding_model.encode(doc.page_content) for doc in split_docs]\n",
    "\n",
    "# FAISS 인덱스를 생성하거나 기존 인덱스를 불러오기\n",
    "if os.path.exists(index_path):\n",
    "    print(\"저장된 인덱스를 불러옵니다.\")\n",
    "    vector = FAISS.load_local(index_path, embedding_model)\n",
    "else:\n",
    "    if embeddings:\n",
    "        # split_docs에서 텍스트를 추출하여 임베딩과 함께 제공\n",
    "        texts = [doc.page_content for doc in split_docs]\n",
    "        \n",
    "        # FAISS 인덱스 생성\n",
    "        vector = FAISS.from_texts(texts, embeddings)\n",
    "        vector.save_local(index_path)  # 생성한 인덱스를 저장\n",
    "        print(f\"FAISS 인덱스를 {index_path} 경로에 저장했습니다.\")\n",
    "    else:\n",
    "        print(\"임베딩된 문서가 없습니다.\")\n",
    "\n",
    "# Retriever를 생성\n",
    "if vector:\n",
    "    retriever = vector.as_retriever()\n",
    "\n",
    "    # retriever_tool 정의\n",
    "    retriever_tool = create_retriever_tool(\n",
    "        retriever,\n",
    "        name=\"json_search\",  # 도구의 이름을 입력\n",
    "        description=\"use this tool to search information from the JSON document\",\n",
    "    )\n",
    "\n",
    "    ### 1-3. tools 리스트에 도구 목록을 추가 ###\n",
    "    tools = [search, retriever_tool]\n",
    "\n",
    "    ########## 2. LLM 을 정의 ##########\n",
    "    llm = ChatOpenAI(model=\"gpt-4o\", temperature=0)\n",
    "\n",
    "    ########## 3. Prompt 를 정의 ##########\n",
    "    prompt = ChatPromptTemplate.from_messages(\n",
    "        [\n",
    "            (\n",
    "                \"system\",\n",
    "                \"You are a helpful assistant. \"\n",
    "                \"Make sure to use the json_search tool for searching information from the JSON document. \"\n",
    "                \"If you can't find the information from the JSON document, use the search tool for searching information from the web.\",\n",
    "            ),\n",
    "            (\"placeholder\", \"{chat_history}\"),\n",
    "            (\"human\", \"{input}\"),\n",
    "            (\"placeholder\", \"{agent_scratchpad}\"),\n",
    "        ]\n",
    "    )\n",
    "\n",
    "    ########## 4. Agent 를 정의 ##########\n",
    "    agent = create_tool_calling_agent(llm, tools, prompt)\n",
    "\n",
    "    ########## 5. AgentExecutor 를 정의 ##########\n",
    "    agent_executor = AgentExecutor(agent=agent, tools=tools, verbose=False)\n",
    "\n",
    "    ########## 6. 채팅 기록을 수행하는 메모리를 추가 ##########\n",
    "    store = {}\n",
    "\n",
    "    def get_session_history(session_ids):\n",
    "        if session_ids not in store:\n",
    "            store[session_ids] = ChatMessageHistory()\n",
    "        return store[session_ids]\n",
    "\n",
    "    agent_with_chat_history = RunnableWithMessageHistory(\n",
    "        agent_executor,\n",
    "        get_session_history,\n",
    "        input_messages_key=\"input\",\n",
    "        history_messages_key=\"chat_history\",\n",
    "    )\n",
    "\n",
    "    ########## 7. Agent 파서를 정의 ##########\n",
    "    agent_stream_parser = AgentStreamParser()\n",
    "\n",
    "else:\n",
    "    print(\"FAISS 인덱스를 생성하거나 불러오지 못했습니다.\")\n"
   ]
  },
  {
   "cell_type": "code",
   "execution_count": 1,
   "metadata": {},
   "outputs": [
    {
     "name": "stdout",
     "output_type": "stream",
     "text": [
      "Defaulting to user installation because normal site-packages is not writeable\n",
      "Collecting ipywidgets\n",
      "  Downloading ipywidgets-8.1.5-py3-none-any.whl (139 kB)\n",
      "\u001b[2K     \u001b[90m━━━━━━━━━━━━━━━━━━━━━━━━━━━━━━━━━━━━━━━\u001b[0m \u001b[32m139.8/139.8 kB\u001b[0m \u001b[31m3.0 MB/s\u001b[0m eta \u001b[36m0:00:00\u001b[0ma \u001b[36m0:00:01\u001b[0m\n",
      "\u001b[?25hCollecting widgetsnbextension~=4.0.12\n",
      "  Downloading widgetsnbextension-4.0.13-py3-none-any.whl (2.3 MB)\n",
      "\u001b[2K     \u001b[90m━━━━━━━━━━━━━━━━━━━━━━━━━━━━━━━━━━━━━━━━\u001b[0m \u001b[32m2.3/2.3 MB\u001b[0m \u001b[31m17.9 MB/s\u001b[0m eta \u001b[36m0:00:00\u001b[0ma \u001b[36m0:00:01\u001b[0m\n",
      "\u001b[?25hCollecting jupyterlab-widgets~=3.0.12\n",
      "  Downloading jupyterlab_widgets-3.0.13-py3-none-any.whl (214 kB)\n",
      "\u001b[2K     \u001b[90m━━━━━━━━━━━━━━━━━━━━━━━━━━━━━━━━━━━━━━━\u001b[0m \u001b[32m214.4/214.4 kB\u001b[0m \u001b[31m7.3 MB/s\u001b[0m eta \u001b[36m0:00:00\u001b[0m\n",
      "\u001b[?25hRequirement already satisfied: comm>=0.1.3 in /home/elicer/.local/lib/python3.10/site-packages (from ipywidgets) (0.2.2)\n",
      "Requirement already satisfied: traitlets>=4.3.1 in /home/elicer/.local/lib/python3.10/site-packages (from ipywidgets) (5.14.3)\n",
      "Requirement already satisfied: ipython>=6.1.0 in /home/elicer/.local/lib/python3.10/site-packages (from ipywidgets) (8.28.0)\n",
      "Requirement already satisfied: matplotlib-inline in /home/elicer/.local/lib/python3.10/site-packages (from ipython>=6.1.0->ipywidgets) (0.1.7)\n",
      "Requirement already satisfied: exceptiongroup in /home/elicer/.local/lib/python3.10/site-packages (from ipython>=6.1.0->ipywidgets) (1.2.2)\n",
      "Requirement already satisfied: stack-data in /home/elicer/.local/lib/python3.10/site-packages (from ipython>=6.1.0->ipywidgets) (0.6.3)\n",
      "Requirement already satisfied: typing-extensions>=4.6 in /home/elicer/.local/lib/python3.10/site-packages (from ipython>=6.1.0->ipywidgets) (4.12.2)\n",
      "Requirement already satisfied: decorator in /home/elicer/.local/lib/python3.10/site-packages (from ipython>=6.1.0->ipywidgets) (5.1.1)\n",
      "Requirement already satisfied: pygments>=2.4.0 in /home/elicer/.local/lib/python3.10/site-packages (from ipython>=6.1.0->ipywidgets) (2.18.0)\n",
      "Requirement already satisfied: jedi>=0.16 in /home/elicer/.local/lib/python3.10/site-packages (from ipython>=6.1.0->ipywidgets) (0.19.1)\n",
      "Requirement already satisfied: pexpect>4.3 in /home/elicer/.local/lib/python3.10/site-packages (from ipython>=6.1.0->ipywidgets) (4.9.0)\n",
      "Requirement already satisfied: prompt-toolkit<3.1.0,>=3.0.41 in /home/elicer/.local/lib/python3.10/site-packages (from ipython>=6.1.0->ipywidgets) (3.0.48)\n",
      "Requirement already satisfied: parso<0.9.0,>=0.8.3 in /home/elicer/.local/lib/python3.10/site-packages (from jedi>=0.16->ipython>=6.1.0->ipywidgets) (0.8.4)\n",
      "Requirement already satisfied: ptyprocess>=0.5 in /home/elicer/.local/lib/python3.10/site-packages (from pexpect>4.3->ipython>=6.1.0->ipywidgets) (0.7.0)\n",
      "Requirement already satisfied: wcwidth in /home/elicer/.local/lib/python3.10/site-packages (from prompt-toolkit<3.1.0,>=3.0.41->ipython>=6.1.0->ipywidgets) (0.2.13)\n",
      "Requirement already satisfied: pure-eval in /home/elicer/.local/lib/python3.10/site-packages (from stack-data->ipython>=6.1.0->ipywidgets) (0.2.3)\n",
      "Requirement already satisfied: executing>=1.2.0 in /home/elicer/.local/lib/python3.10/site-packages (from stack-data->ipython>=6.1.0->ipywidgets) (2.1.0)\n",
      "Requirement already satisfied: asttokens>=2.1.0 in /home/elicer/.local/lib/python3.10/site-packages (from stack-data->ipython>=6.1.0->ipywidgets) (2.4.1)\n",
      "Requirement already satisfied: six>=1.12.0 in /home/elicer/.local/lib/python3.10/site-packages (from asttokens>=2.1.0->stack-data->ipython>=6.1.0->ipywidgets) (1.16.0)\n",
      "Installing collected packages: widgetsnbextension, jupyterlab-widgets, ipywidgets\n",
      "Successfully installed ipywidgets-8.1.5 jupyterlab-widgets-3.0.13 widgetsnbextension-4.0.13\n",
      "\n",
      "\u001b[1m[\u001b[0m\u001b[34;49mnotice\u001b[0m\u001b[1;39;49m]\u001b[0m\u001b[39;49m A new release of pip is available: \u001b[0m\u001b[31;49m23.0.1\u001b[0m\u001b[39;49m -> \u001b[0m\u001b[32;49m24.2\u001b[0m\n",
      "\u001b[1m[\u001b[0m\u001b[34;49mnotice\u001b[0m\u001b[1;39;49m]\u001b[0m\u001b[39;49m To update, run: \u001b[0m\u001b[32;49mpip install --upgrade pip\u001b[0m\n",
      "Note: you may need to restart the kernel to use updated packages.\n"
     ]
    }
   ],
   "source": [
    "pip install ipywidgets"
   ]
  },
  {
   "cell_type": "markdown",
   "id": "d904ebb6",
   "metadata": {},
   "source": [
    "### Agentic RAG\n",
    " : 질문에 따라 문서를 검색하여 답변(RAG)하거나, 인터넷 검색 도구(Tavily Search:)를 활용하여 답변하는 에이전트\n",
    "\n",
    "**참고**\n",
    "\n",
    "- **Agentic RAG**  : RAG 를 수행하되, Agent 를 활용하여 RAG 를 수행하는 에이전트\n",
    "\n",
    "LangChain에서는 에이전트가 여러 툴을 조합하여 복잡한 문제를 해결하는 능력을 가지고 있기 때문에, Tool은 에이전트가 활용할 수 있는 기능적 요소\n",
    "Agent 가 활용할 도구를 정의하여 Agent가 추론(reasoning)을 수행할 때 활용하도록 만들 수 있음\n",
    "\n",
    "-  **도구(Tools)** :특정 작업(계산, 검색, API 호출 등)을 수행하는 도구\n",
    "- **에이전트** : 사용자의 요청을 분석하고 적절한 툴을 사용하여 문제를 해결하는 주체\n"
   ]
  },
  {
   "cell_type": "markdown",
   "id": "27328084",
   "metadata": {},
   "source": [
    "### 웹 검색도구: Tavily Search\n",
    "\n",
    "- [Tavily Search API 발급받기](https://app.tavily.com/sign-in)\n",
    "\n",
    "`.env`에 환경변수 등록\n",
    "\n",
    "- `TAVILY_API_KEY=발급 받은 Tavily API KEY 입력`"
   ]
  },
  {
   "cell_type": "code",
   "execution_count": 1,
   "id": "c0bce178",
   "metadata": {},
   "outputs": [
    {
     "data": {
      "text/plain": [
       "True"
      ]
     },
     "execution_count": 1,
     "metadata": {},
     "output_type": "execute_result"
    }
   ],
   "source": [
    "# API 키를 환경변수로 관리하기 위한 설정 파일\n",
    "from dotenv import load_dotenv\n",
    "\n",
    "# API 키 정보 로드\n",
    "load_dotenv()"
   ]
  },
  {
   "cell_type": "code",
   "execution_count": 2,
   "id": "50d1b459",
   "metadata": {},
   "outputs": [
    {
     "name": "stdout",
     "output_type": "stream",
     "text": [
      "LangSmith 추적을 시작합니다.\n",
      "[프로젝트명]\n",
      "Agents\n"
     ]
    }
   ],
   "source": [
    "# LangSmith 추적을 설정합니다. https://smith.langchain.com\n",
    "# !pip install -qU langchain-teddynote\n",
    "from langchain_teddynote import logging\n",
    "\n",
    "# 프로젝트 이름을 입력0\n",
    "logging.langsmith(\"Agents\")"
   ]
  },
  {
   "cell_type": "code",
   "execution_count": 3,
   "metadata": {},
   "outputs": [],
   "source": [
    "import os\n",
    "\n",
    "os.environ['LANGCHAIN_PROJUECT'] = 'Agents'"
   ]
  },
  {
   "cell_type": "code",
   "execution_count": 4,
   "id": "9ecdb860",
   "metadata": {},
   "outputs": [],
   "source": [
    "from langchain_community.tools.tavily_search import TavilySearchResults\n",
    "\n",
    "# TavilySearchResults 클래스의 인스턴스를 생성\n",
    "# k=6은 검색 결과를 6개까지 가져오겠다는 의미\n",
    "search = TavilySearchResults(k=6)"
   ]
  },
  {
   "cell_type": "markdown",
   "id": "2e659b03",
   "metadata": {},
   "source": [
    "`search.invoke` 함수는 주어진 문자열에 대한 검색을 실행\n",
    "\n",
    "`invoke()` 함수에 검색하고 싶은 검색어를 넣어 검색을 수행\n"
   ]
  },
  {
   "cell_type": "code",
   "execution_count": 5,
   "id": "7d65db4b",
   "metadata": {},
   "outputs": [
    {
     "data": {
      "text/plain": [
       "[{'url': 'https://m.blog.naver.com/kye486jong/221409661708',\n",
       "  'content': '국회 국감 등에서 보면 ... 회의록이란? 회의의 진행과정, 내용, 결과 등을 기록하여 문서화한 것입니다. 속기사가 신속, 정확하게 회의록을 작성해서 회의의 투명성을 제고시키고, 신뢰성을 향상시키며, 분쟁 발생 시와 책임 소재를 명확히 할 수 있습니다.'},\n",
       " {'url': 'https://assembly.go.kr/portal/main/contents.do?menuNo=600179',\n",
       "  'content': '회의록은 국회 또는 회의체의 회의 내용 및 결과 등을 사실대로 충실하게 기록한 문서이다. 회의록은 회의에 관한 공식 기록이며 회의에 관한 쟁점이 있을 때에는 유력한 증거가 되므로 회의경과에 대하여 사실대로 기록한다. 국회 회의록은 개의부터 산회까지 ...'},\n",
       " {'url': 'https://dataset.nanet.go.kr/',\n",
       "  'content': '「국회회의록 빅데이터」는 국회회의록(본회의, 상임위원회 등)을 발언자, 키워드 등으로 검색하고 발언내용을 데이터셋으로 내려 받아 빅데이터 분석, 인공지능 학습 등에 이용할 수 있도록 하여 국회회의록을 다양한 형태로 공유･활용할 수 있는 서비스입니다.'},\n",
       " {'url': 'https://play.google.com/store/apps/details?id=kr.go.assembly.mrecord&hl=ko',\n",
       "  'content': '국회회의록 앱은 제헌부터 현재까지 모든 회의록을 제공하는 어플리케이션입니다. 본회의, 상임위원회 및 국정감사 등 회의 내용을 확인할 수 있으며, 안건과 발언자 등을 이용하여 원하는 정보를 검색할 수 있습니다. 별도의 설치가 필요없는 이북뷰어는 ...'},\n",
       " {'url': 'https://tldv.io/ko/blog/meeting-notes-vs-minutes/',\n",
       "  'content': '회의록이란 무엇인가요? 회의록은 회의 노트와 달리 회의에서 이루어진 결정에 대한 공식적인 기록입니다. 회의록은 회의의 논의, 행동, 투표 및 결정을 상세히 기록하는 법적 문서입니다. 이는 일반적으로 회의 전에 배포된 회의 안건에 따라 진행됩니다. 또한 ...'}]"
      ]
     },
     "execution_count": 5,
     "metadata": {},
     "output_type": "execute_result"
    }
   ],
   "source": [
    "# 검색 결과\n",
    "search.invoke(\"국회 회의록이란 무엇인가요?\")"
   ]
  },
  {
   "cell_type": "markdown",
   "id": "eb5d738f",
   "metadata": {},
   "source": [
    "### 문서 기반 문서 검색 도구: Retriever\n",
    "\n",
    "내가 넣은 문서에 대해 조회를 수행할 retriever도 생성\n",
    "\n",
    "**실습에 활용한 문서**\n",
    "\n",
    "초보 투자자를 위한 증권과 투자 따라잡기.pdf"
   ]
  },
  {
   "cell_type": "code",
   "execution_count": 9,
   "metadata": {},
   "outputs": [
    {
     "name": "stdout",
     "output_type": "stream",
     "text": [
      "{'filename': 'SRC_16대_2000_2000년10월20일_국정감사_교육위원회_0001(030043).xlsx', 'original': 'http://likms.assembly.go.kr/record/mhs-10-040-0040.do?conferNum=030043&fileType=PDF', 'id': '030043', 'date': '2000年10月20日(金)', 'conference_number': '030043', 'question_number': '0001', 'meeting_name': '국정감사', 'generation_number': '16', 'committee_name': '교육위원회', 'meeting_number': '2000', 'session_number': '2000년10월20일', 'agenda': '감사개시', 'law': '', 'qna_type': '추출형', 'context': '任鍾晳 위원입니다.  자료준비와 국정감사를 직접 받으시느라고 많이 피로하실 줄 압니다. 심심한 위로와 감사의 인사를 함께 드립니다.   저는 시간내에 일문일답으로 하겠습니다. 혹시 부족한 것이 있으면 서면으로 하겠습니다.   먼저 인천교육청에 질의 드리겠습니다.   우리가 씨랜드에서도 볼 수 있듯이 학생안전권은 학습권이나 복지권보다 훨씬 중요하다고 생각합니다. 앞서 金貞淑 위원님께서 말씀하셨지만 학생들의 유치원, 초ㆍ중ㆍ고등학교의 통학버스가 종합보험 특별약관에 미가입된 차량들이 전국에 18.2%나 됩니다.   인천도 27.3%가 종합보험 특별약관에 미가입되어서 불의의 사고시 굉장한 피해가 염려되고 있습니다. 서울과 대구, 광주, 경기도는 미가입문제가 깨끗이 정리되어 있고 나머지 지역은 좀 많은 데도 있고 적은 데도 있습니다. 인천은 전국 평균보다 약 10% 높은데 이것을 즉시 해결하는데 어떤 어려움이 있습니까? 말씀드리겠습니다.   인천시내에 초등학교 버스 미가입은 공립의 경우는 없고 사립은 거의 해결됐고 대부분이 유치원입니다. 사립유치원의 버스는 미가입 상태가 많습니다. 고등학교도 꽤 있는데요? 현재 보험에 미가입된 상태는 없습니다. 이것은 제가 자료를 요청해서 받은 것인데 종합보험 특별약관에 인천지역은 중학교만 깨끗할 뿐 초등학교나 고등학교는 미가입 차량들이 있습니다.   공ㆍ사립 불문하고 이것을 즉시 가입시키는 행정조치를 하는데 어려움이 있습니까? 행정조치하는데 그렇게 어렵다는 것은 없는데 하여튼 현재 통계를 받았습니다마는 빠른 시일내에 가입되도록 노력하겠습니다. 이것이 유상운송허가를 받는데 어려움은 있습니다마는 그것은 운송사업법상의 문제이고 일단 이것은 종합보험 특별약관에 1대도 빠짐없이 가입할 수 있도록 즉각 조치해줄 수 있겠지요? 예, 알겠습니다. 이것은 미루지 말고 조치해 주시고 그 조치에 따른 결과를 11월3일까지 본 위원실로 보고해 주시기 바랍니다. 예, 알겠습니다. 그리고 인천에 국제복음학교가 있지요? 예. 2000년3월15일에 국제복음고등학교가 개교했습니다. 그런데 이 복음학교가 개교하면서부터 바로 말썽이 일어났습니다. 복음학교가 설립승인될 때부터 부정과 비리가 지속되어서 학교가 개교하면서 바로 2000년3월 이후에 교실과 교무실에 폐쇄되어서 강당수업을 실시했습니다. 이미 3월30일에 학교운영과 관련해서 시정명령을 교육청에서 내린 적이 있고 5월8일부터 19일까지 특별감사를 실시해서 굉장히 많은 내용에 대한 지시를 내렸습니다.   그리고 제가 7월27일자로 국정감사 자료를 요청하고 9월9일에 임시이사가 파견되었습니다. 그 이후에 여기에 대해서 어떤 정상화 계획을 가지고 계시는지 간단하게 말씀해 주십시오. 현재 관선이사가 파견되어 있고 내년도 학생을 수용하기는 도저히 어려울 것 같아서, 현재 2학급 인가를 신년도 1학급 모집으로 축소시켰습니다. 학교 설립 당시에 40명이었지요? 예. 현재 몇 명입니까? 20명입니다. 수업은 정상적으로 이루어지고 있습니다. 현재 임시이사가 파견되어 있고, 98% 국고보조로 운영되고 있지요? 인건비나 운영비가 전부 보조되고 있습니다. 제가 입수한 자료에 의하면 전체 운영의 98%가 국고보조에 의해서 이루어지고 있는 것으로 알고 있습니다.   현재 교육부 방침은 새로운 독지가가 학교를 인수해 줄 것을 기다리는 것이라고 알고 있는데 그렇습니까? 절충 중에 있으며 새로운 독지가가 나올 것으로 보고 그 독지가가 인수해 줄 것이라는 계획을 가지고 있습니다. 그런 독지가 후보를 알고 계시는 것입니까? 예, 절충 중에 있습니다. 대략 언제쯤이면 알 수 있습니까? 저쪽 답변을 들어봐야 되는데 금년내로 마무리될 것으로 보고 있습니다. 당연히 금년내에 되어야지요. 내년에 학생들을 받아놓고 대책이 없으면 어떻게 됩니까? 그렇다 하더라도 현재 운영비 인건비를 다 대고 있으니까 정상적인 운영을 하고 있습니다. 만약에 독지가가 안 나타날 경우에는 공립화합니까? 마지막에는 그런 방법도 연구해 보겠습니다. 그런데 이 인가를 승인하실 때 이렇게 부실한 상태라는 것이 사전에 전혀 파악이 안 됐습니까? 아니지요. 그전에는 모든 것이 정상적이었는데 인가해놓고 나서부터 상당히 파행적인 운영을 해온 것입니다. 일례로 이사회 회의록까지 위조했다는 문제까지 대두됐습니다. 이것을 빨리 잡지 않으면 안 되겠다는 생각에서 저희가 관선이사를 보내고 정상화노력을 하고 있는 것입니다. 이달 말까지는 새로운 독지가가 학교를 인수할 수 있을지 없을지 대략 결정할 수 있다는 말씀이지요? 예. 이것도 주요 진행상황에 대해서는 본 위원실로 자료를 보내주시기 바랍니다. 알겠습니다. 경기도교육청에 말씀드리겠습니다.  경기도 화성군에 방사성 동위원소 코발트60을 사용해서 식품처리를 하는 주식회사 서야라는 공장이 있는 모양인데 알고 계십니까? 예. 이 회사에서 다루고 있는 방사성 동위원소의 양이 꽤 많은데 이 회사가 인구밀집지역에 있습니다. 더군다나 100m 반경 안에 유치원이 하나 있고, 200m 안에 상신초등학교가 위치하고 있습니다. 그래서 현재 주민대책위가 구성되어서 굉장히 갈등이 많은 상황인데 저희가 이것을 들을 때까지는 경기도교육청과 화성군교육청이 이 사실을 잘 모르고 있는 것 같았습니다.   현재는 정확하게 인지하고 계신가요? 예, 정확하게 파악하고 있습니다. 이 문제는 화성군교육청에서 많은 관심을 가지고 피해가 없도록 조치하고 있다고 저는 그렇게 알고 있습니다. 방사성 동위원소 운반차량이 유치원 바로 앞길로 지나가고 있다고 하는데 그것도 알고 계십니까? 거기까지는 제가 잘 파악하지 못했습니다. 경기도 여주에도 같은 시설이 있는데 이 시설은 반경 1㎞ 안에 아무 것도 없습니다. 인구밀집지역에 더군다나 아이들의 교육시설이 있는 곳에 들어와 있는 것은 이례적인 경우지요? 물론 이것을 교육청이 허가하는 사항은 아닐 것입니다. 그렇지만 주민대책위에서 학생들의 등교거부를 계획하고 있는 것으로 제가 듣고 있습니다. 머지 않아 교육부 문제로 비화될 가능성이 높습니다.   여기에 대해서 앞으로 어떤 조치를 취하시겠는지 즉답이 가능하면 해주시고 안 그러면 답변시간에 해주시기 바랍니다. 제가 아는 범위 내에서 말씀드리겠습니다.  화성 건은 현재 화성군교육청에서 이 공장허가를 취소하였습니다. 그래서 공장가동이 중지된 상태로 있습니다. 그러면 그 공장시설을 완전히 이전할 수 있겠네요? 그래서 화성군청하고 소송관계가 진행되고 있는 것으로 알고 있습니다. 하루라도 빨리 이 문제가 종결될 수 있도록 교육부가 관계기관에 협조를 더 강하게 요청하셔서 지금 현재 주민대책위가 계획하고 있는 학생들의 등교거부같은 사태가 일어나지 않도록 신경을 써주시기 바랍니다. 예, 그렇게 하겠습니다. 경기도지역은 수원과 성남 이외에는 비평준화지역이지요? 그렇습니다. 그런데 최근 교육개발원에서 실시한 여론조사에 의하면 일산ㆍ분당ㆍ안양ㆍ부천 등지에서 학부모들의 70% 이상이 평준화지역으로 전환해 줄 것을 요청한다는 신문보도가 난 적이 있습니다. 보셨습니까? 예, 봤습니다. 실제로 제가 입수한 자료에 의하면 1997년, 2000년 교육개발원에서 조사한 자료에 의하면 비평준화지역에 있는 학교들보다 평준화지역에 있는 학교들의 성적향상률이 높습니다. 상ㆍ중ㆍ하 다 그렇습니다. 성적이 좋았던 아이들이 향상된 정도, 중간이었던 아이들이 향상된 정도, 공부 못했던 아이들이 향상된 정도가 평준화지역이 비평준화지역보다 향상률이 더 높다는 이야기입니다.  그 이야기는 오히려 비평준화지역이 아이들의 교육환경과 교육현실을 왜곡시키는 문제가 더 많이 나타난다는 것입니다. 우수한 아이들만 모아 놓았을 때에도 자살을 한다거나 탈선을 하는 등의 문제가 발생하고, 못하는 아이들은 못하는 아이들대로 포기해버리는 문제들이 평준화지역에 비해서 비평준화지역이 더 심각하다는 이야기입니다.  교육감께서는 이 보도에 의한 것처럼 신도시지역에 대해 신빙성있는 조사를 실시해서 이 보도에 의한 것처럼 70% 이상의 학부모들이 이것을 원한다면 평준화지역으로 전환하실 의사가 있으십니까? 평준화문제는 지금 성남ㆍ분당지역, 고양ㆍ일산지역, 안양지역, 부천지역 그 외에 이삼개 지역해서 7개 지역에서 학부모들이 평준화를 원하고 계시는데 반대하는 학부모도 많이 있습니다.   그래서 이것은 우리 교육청 단독으로 정책을 결정하기가 너무나 어려운 일이기 때문에 금년 초에 한국교육개발원에 용역을 주어서, 오늘 이 시간에도 안양지역에서 공청회가 이루어지고 있는 것으로 알고 있습니다. 11월 말에 보고자료가 저희에게 오면 면밀히 검토해서 내년 초에 정책을 결정하려고 생각하고 있습니다. 그러니까 공청회 결과 주민들의 의사가 압도적으로 높으면 그렇게 전환할 의사가 있다는 말씀이시지요? 그 결과를 받아서 검토해 보겠습니다.  지금 제가 이런 말씀을 여기서 드리면…… 용역을 주어서 진행 중에 있고 오늘 이 순간에도 안양에서 공청회가 이루어지고 있습니다. 무슨 말씀이신지 잘 알겠습니다.  정말 주민들의 의사와 공청회 토론결과를 많이 반영하셔서 이러한 요구들이 잘 받아들여졌으면 하는 바람입니다.  마지막으로 경기도교육감 선거가 내년 4월에 있지요? 예, 그렇습니다. 보도가 다 맞는 것은 아니겠습니다마는 경기도교육감 선거를 앞두고 학교운영위원장연합회라는 단체가 결성되어서 특정 후보를 지지하고자 한다는 보도가 있었습니다. 혹시 보셨습니까? 언론을 통해서 본 바 있습니다. 이런 움직임에 대해서는 어떻게 생각하십니까? 학교운영위원회는 단위별 학교운영위원회인데 지역협의회라든가 도단위 협의회를 하는 것은 자율적으로 자기들이 서로 정보를 교환하는 것이기 때문에 그 문제에 대해서 교육감이 ‘해라, 하지 마라’ 하기는 좀 어렵다는 생각입니다. 그렇지만 특별히 교육감 선거를 앞두고 이러한 움직임들이 많아진다면 굉장히 오해소지가 높지 않겠습니까? 교육감한테도 불명예스러운 일이 생길 수도 있는데요? 그것은 최근에 이루어진 것이 아니고 작년도부터 이루어졌던 일입니다. 그래서 그런 협의회를 구성하는 것은 교육감 선거와 크게 관련이 없다고 생각합니다. 잘 알겠습니다.   이상입니다.', 'context_learn': '저희 교육청은 지난 시간 동안 여러 신도시 지역에서 평준화교육 정책에 관한 논의를 진행해 왔습니다. 더불어 교육개발원에서 실시한 여론조사 결과에 따르면 비평준화지역과 평준화지역 간의 학업 성취도 차이가 낮은 것으로 확인되었습니다. 이에 교육청은 신뢰성 있는 자료를 토대로 학부모의 의견을 고려하여 평준화 정책을 결정할 계획입니다. 현재, 안양지역에서 공청회가 진행 중이며, 다양한 지역에서 평준화 정책에 대한 논의가 이루어지고 있습니다. 이러한 논의와 조사 결과를 종합하여 내년 초에 정책을 결정할 예정입니다.', 'context_summary': {'summary_q': '신도시지역의 평준화교육에 대한 논의가 있으며, 공개된 자료에 따르면 비평준화지역과 평준화지역 간의 학업 성취도 차이가 낮다는 내용이 있습니다. 교육청은 신빙성 있는 조사를 통해 학부모의 의견을 고려하여 평준화 정책을 결정할 계획이 있으십니까?', 'summary_a': '평준화교육 정책과 관련한 논의는 여러 지역에서 진행되고 있으며, 신도시지역의 평준화 정책에 대한 조사 결과와 학부모의 의견을 종합하여 내년 초에 정책을 결정할 예정입니다.'}, 'questioner_name': '임종석', 'questioner_ID': '5148', 'questioner_ISNI': '0000000460252218', 'questioner_affiliation': '', 'questioner_position': '위원', 'question': {'tag': '535', 'comment': '실제로 제가 입수한 자료에 의하면 1997년, 2000년 교육개발원에서 조사한 자료에 의하면 비평준화지역에 있는 학교들보다 평준화지역에 있는 학교들의 성적향상률이 높습니다. 상ㆍ중ㆍ하 다 그렇습니다. 성적이 좋았던 아이들이 향상된 정도, 중간이었던 아이들이 향상된 정도, 공부 못했던 아이들이 향상된 정도가 평준화지역이 비평준화지역보다 향상률이 더 높다는 이야기입니다.  그 이야기는 오히려 비평준화지역이 아이들의 교육환경과 교육현실을 왜곡시키는 문제가 더 많이 나타난다는 것입니다. 우수한 아이들만 모아 놓았을 때에도 자살을 한다거나 탈선을 하는 등의 문제가 발생하고, 못하는 아이들은 못하는 아이들대로 포기해버리는 문제들이 평준화지역에 비해서 비평준화지역이 더 심각하다는 이야기입니다.  교육감께서는 이 보도에 의한 것처럼 신도시지역에 대해 신빙성있는 조사를 실시해서 이 보도에 의한 것처럼 70% 이상의 학부모들이 이것을 원한다면 평준화지역으로 전환하실 의사가 있으십니까?', 'keyword': '비평준화지역, 평준화지역, 향상'}, 'answerer_name': '조성윤', 'answerer_ID': ' ', 'answerer_ISNI': ' ', 'answerer_affiliation': '경기도', 'answerer_position': '교육감', 'answer': {'tag': '536', 'comment': '평준화문제는 지금 성남ㆍ분당지역, 고양ㆍ일산지역, 안양지역, 부천지역 그 외에 이삼개 지역해서 7개 지역에서 학부모들이 평준화를 원하고 계시는데 반대하는 학부모도 많이 있습니다.   그래서 이것은 우리 교육청 단독으로 정책을 결정하기가 너무나 어려운 일이기 때문에 금년 초에 한국교육개발원에 용역을 주어서, 오늘 이 시간에도 안양지역에서 공청회가 이루어지고 있는 것으로 알고 있습니다. 11월 말에 보고자료가 저희에게 오면 면밀히 검토해서 내년 초에 정책을 결정하려고 생각하고 있습니다.', 'keyword': '교육청, 평준화문제, 성남ㆍ분당지역, 고양ㆍ일산지역, 한국교육개발원'}}\n"
     ]
    }
   ],
   "source": [
    "import json\n",
    "\n",
    "# JSON 파일 로드\n",
    "with open('label_data.json', 'r', encoding='utf-8') as f:\n",
    "    label_data_json = json.load(f)\n",
    "\n",
    "# 첫 번째 항목의 구조 확인\n",
    "print(label_data_json[0])\n"
   ]
  },
  {
   "cell_type": "code",
   "execution_count": 11,
   "metadata": {},
   "outputs": [],
   "source": [
    "import json\n",
    "from langchain_community.vectorstores import FAISS\n",
    "from langchain_openai import OpenAIEmbeddings\n",
    "from langchain.schema import Document\n",
    "\n",
    "# JSON 파일 로드\n",
    "with open('label_data.json', 'r', encoding='utf-8') as f:\n",
    "    label_data_json = json.load(f)\n",
    "\n",
    "# JSON 데이터를 Document 객체로 변환\n",
    "# context 필드를 page_content로 사용하고, 다른 메타데이터는 그대로 유지\n",
    "split_docs = [\n",
    "    Document(\n",
    "        page_content=doc['context'], \n",
    "        metadata={\n",
    "            'filename': doc['filename'],\n",
    "            'original': doc['original'],\n",
    "            'date': doc['date'],\n",
    "            'meeting_name': doc['meeting_name'],\n",
    "            'committee_name': doc['committee_name'],\n",
    "            'questioner_name': doc['questioner_name'],\n",
    "            'answerer_name': doc['answerer_name']\n",
    "        }\n",
    "    ) \n",
    "    for doc in label_data_json\n",
    "]\n",
    "\n",
    "chunk_size = 100  # 한 번에 처리할 문서 수\n",
    "for i in range(0, len(split_docs), chunk_size):\n",
    "    # 현재 chunk의 문서들에 대해 벡터 생성\n",
    "    chunk_docs = split_docs[i:i+chunk_size]\n",
    "    vector = FAISS.from_documents(chunk_docs, OpenAIEmbeddings())\n",
    "\n",
    "# Retriever 생성\n",
    "retriever = vector.as_retriever()\n"
   ]
  },
  {
   "cell_type": "markdown",
   "id": "458a2b03",
   "metadata": {},
   "source": [
    " `retriever` 객체의 `invoke()` 를 사용하여 사용자의 질문에 대한 가장 **관련성 높은 문서** 를 찾는 데 사용\n"
   ]
  },
  {
   "cell_type": "code",
   "execution_count": 12,
   "id": "2dab83e0",
   "metadata": {},
   "outputs": [
    {
     "data": {
      "text/plain": [
       "[Document(metadata={'filename': 'SRC_21대_제400회_제3차_특별위원회_정치개혁특별위원회_0001(052127).xlsx', 'original': 'http://likms.assembly.go.kr/record/mhs-10-040-0040.do?conferNum=052127&fileType=PDF', 'date': '2022년9월15일(목)', 'meeting_name': '특별위원회', 'committee_name': '정치개혁특별위원회', 'questioner_name': '김영배', 'answerer_name': '임기근'}, page_content='제가 시간이 짧아서 좀 이따 한꺼번에 답변해 주시면 좋겠습니다.  첫 번째 질문이 이것을 일점일획도 못 바꾼다 이런 게 아니라면 심의․확정한다는 것을 정부가 제출한 예산안의 경미한 변경 이런 개념을 도입해서 한 2% 정도 내에서는 의회가 증액을 할 수 있도록 허용하는 이런 정도의 법률에 대해서는 어떻게 생각하시는지, 그게 헌법이 규정하고 있는 내용을 어기는 거냐, 어떻게 보시느냐 이걸 한번 여쭤보고 싶고요.  두 번째는, 두 번째 질문인데요. 아까 국정감사 시기를 말씀하신 분이 계셔서 이것은 전적으로 동의합니다. 현재 법률상으로도 국정감사와 조사에 관한 법률에 보면 국정감사는 정기회 전에 하도록 규정하고 있고 다만 국회가 따로 의결하면 정기회와 같이할 수 있다 이렇게 돼 있는데 ‘다만’이라고 하는 조항이 지금 국회 관행으로 굳어져 있습니다. 그래서 국정감사를 6월 전에 하는 것, 이게 현재 국정감사와 조사에 관한 법률의 원취지와도 부합하는데 국회가 그걸 어기고 있습니다. 그걸 지키도록 우리 위원회에서 의결하고 양 정당을 포함한 정당에다가, 교섭단체에 권고하는 게 어떤가 싶거든요. 이건 동료 위원님들도 의견을 주시면 좋겠습니다.  세 번째는 아까 톱다운 말씀을 주셨는데, 제가 교수님 성함을 모르겠는데 이것 보고, 제가 급해서 그렇습니다, 시간이 없어서. 톱다운 예산 제도를 도입했을 때 제출시기를 언제로 보시는 건지, 언제가 제일, 톱다운할 때에 행정부가 의회로 제출할 시기를 언제로 보시는 건지 한번 여쭤보고 싶고요.  마지막으로 보좌인력이 너무 취약한데요. 제가 알기로는 미국의 예산위원회나 이런 데에 있는 전문위원들이, 정당 소속 전문위원들이 거의 100여 명이 있는 것으로 알고 있습니다. 우리는 그게 너무 약하고 국회 보좌인력이 순수하게 의원실에 배치돼 있는 일종의 사병 정도로 되어 있거든요. 그렇게 하지 말고 예산안 같은 경우는, 특히나 예결위를 상설화한다면 예결위에다가 전문위원을, 지금처럼 국회사무처의 전문위원들뿐만 아니고 동시에 정당 소속의 일정한 숫자의 상근 정책전문인력을 둬서 양 정당이 지향하는 재정철학이나 국가 운영방향의 철학에 맞게 행정부에 해당하는 기재부나 정부에 대당하는 수준의 보좌가 늘 가능하도록 그렇게 인력배치를 강화해야만 이 문제가 그래도 어느 정도 해결의 실마리를 잡을 수 있다고 저는 생각하는데 거기에 대해서는 어떻게 생각하시고, 그래서 예정처를 강화하는 것과 동시에 정당 소속의 전문위원 인력을 반드시 배치해야 된다 그것을 말씀드리고 싶은데 거기에 대한 답변을 좀 듣고 싶습니다.  이상입니다. 좋은 말씀하셨습니다. 재정의 문제는 제가 아까 말씀드렸듯이 기본적으로 법률 단위가 아니라 헌법에 준하는 단위입니다. 그래서 국가를, 그렇기 때문에 이 부분은 프랑스에서 국가재정법을 오가닉 로(organic law)라고 해서 일반 법률의 상위로 두는 그런 취지거든요. 그렇다 보니까 자연스럽게 국가재정을 논하는 위원회는 더 상위가 되겠지요. 그런 의미에서 저는 특위로 말씀드린 거고, 상임위로 해도 좋습니다.  어쨌든 그런 취지로 말씀드렸는데 헌법 개헌을 2017년에 하면서 참 답답했던 게 지금같이 건설적인 얘기를 하는 게 아니라 어떤 정당의 안을 정해서 자꾸 우기는 걸 제가 많이 봤습니다.  우기지 말고 제가 하나 말씀드리면 첫째, 입법권이 발의권이 국회 외에도 행정부에 있다고 하는데 그 부분은요 저도, 행정부가 막강하다고 할 수 있지만 문제는 아까 시민단체 말씀하셨습니다. 시민단체들이 한다면 국민발안도 확대시켜야 됩니다. 그런 의미에서 입법안을 지금처럼 줄여서 국회로 간다기보다는 행정부도 있지만 국민발안제도까지 확대하는 게 저는 더 타당하다고 보고요.  감사원이 행정부에 있다는 것 저도 그것 문제의식이 있습니다. 그래서 2017년도 개헌 때도 이걸 의회로 둘 것인가 국회로 둘 것이냐 고민했지만 저는 좀 더, 감사라는 건 사법부에 준하는 사법적 작용이거든요. 그래서 OECD의 모든 국가들은 소속과 상관없이 독립성이기 때문에 우리나라가 장기적으로 의회가 정쟁이 줄어든다면 의회로 움직이는 것은 좋습니다.  그러나 지금 현 상황에서는 죄송한 얘기지만 독립기관화, 행정부에서 독립기관으로 빼는 게 맞다, 저는 그 얘기를 드리면서 독립기관을 한다면 문제점은 지금은 대통령 소속이기 때문에 사실상 권고를 해도 거의 따라가거든요. 독립기관이 되면 권고로 되면 그 부분을 안 따를 수 있기 때문에 처분에 대한 명령권 비슷한 것들도 같이하는 것도 한번 생각해 볼 필요가 있어서, 장기적으로는 의회로 가는 것도 한 방법인데 현재는 한시적으로는 저는 감사원이 독립기관화하는 게, 정쟁 때문에 말씀을 드리고요.  아까 예산편성, 오늘도 증액 동의가 많은데 예산법률주의에서 제가 말씀드렸지만 사실은 현행법은 이미 예산법률주의입니다. 국회의 동의 없이는 예산 못 씁니다. 그래서 대표의 동의 없이는 과세 없다기 때문에 예산도 국회의 동의 없으면 예산을 10원 한 장 쓸 수 없습니다, 준예산을 빼고. 그래서 예산법률주의 논쟁 빼고요.  그다음에 예산편성권도 사실상 국회가 가져오자고 하지만 상당히 어려운 문제가 있습니다. 아까 말한 대로 합의제 기구이기 때문에 여야의 대립이 합치되면 좋겠지만 극한 대립이 되게 되면 이게 과연 대통령제를 두면서 될 수 있느냐 이런 문제가 있는데 아까 말한, 그래서 결과적으로 남은 건 증액 동의입니다.  증액 동의에 대한 문제에 대해서 하나 말씀드리면 오늘은 저도 발제를 안 했습니다만 국회에서 실질적으로 남아 있는 개헌 특위의 가장 문제는 증액 동의라고 생각합니다. 예산법률주의는 현행법에서도 가능하고요, 헌법에서도. 그런데 증액 동의에 관해서 이것에서 보면 우리는 심의․확정 외에도 증액동의권이 따로 있습니다. 그런데 거기 보면 비목이라든지 각종 사업 이런 내용으로 해서 총액을 바꾸는 건 물론 동의를 받아야 되지만 총액이 아니라도 사업의 항목을 바꾸는 것도 동의를 받게 돼 있어서 상당수 약간 엄격하다고 볼 수 있지요.  그런데 이 태도가 프랑스에서 온 건데요. 하나 말씀드리면 우리가 추상적인 논의보다는 아예 프랑스 국회의 당사자도 부르고 이렇게 좀, 개헌 논의할 때 학자들도 좋지만요 학자들이 잘못 얘기할 수도 있습니다. 그런데 프랑스를 보니까 이런 규정이 있고 심지어 프랑스는 어떤 게 있냐면요 우리는 예산 자체만, 어프로프리에이션 액트(appropriation act)에 해당되는 예산 금액만 증액을 못 하게 해 놨는데요 프랑스는 예산의 근거가 되는, 아까 말한 오소리티 액트(authority act) 같은 예산이 증가되는 법률, 그래서 이게 만들어서 복지예산을 늘리게 되는 법을 국회에서 만든다 이랬을 때 이것조차도 행정부가 안 하면 못 하게 만들었어요. 우리보다 더 엄격합니다.  그럼에도 불구하고 프랑스는 어떻게 돼 있냐? 이걸 엄격하게 적용해서…… 우리 법에서 제일 중요한 건 절대, 반드시, 예외 없이는 위헌입니다. 모든 것을 절대 반드시 예외 없이, 그러니까 우리가 이런 얘기하지요. 대통령의 사면은 대통령의 고유 권한이니까 마음대로, 그건 다 위헌 얘기입니다. 그것은 정당한 원칙에 한해서만 행사할 수 있는 거지요. 민주주의 원칙을 반하고 대통령에 있으니까 마음대로 한다? 맞지 않습니다. 국회가 심의․확정권이 있다고 마음대로 한다? 아닙니다. 그다음에 예산편성권이 있다고 마음대로 한다? 안 됩니다.  그래서 이 부분에 대한 프랑스 예를 들면, 아까 이 포인트를 헌법에 규정하면 증액동의권을 없애든지 해야 되는 문제가 있거든요. 그런데 그게 아니더라도 한번 합리적으로, 프랑스는 우리보다 더 강한데도 불구하고 아예 실체법도 발의 못 합니다. 그럼에도 불구하고 법률상에서 어떻게 조정했냐면 정당한 명분이 있을 때, 정당한 명분이 있을 때는 총액을 늘리는 건 문제가 있지만 이 총액한도 내에서 항목들을 조정할 수 있는 권한들을 할 수 있는 게 있거든요. 그래서 저는 그것은, 그런 한도 내에서는 재정민주적 측면에서는 한번 생각해 봐야 된다.  그래서 무조건적 하나하나 모든 걸 다 정부의 동의다라는 측면보다는 명분의 문제, 그런데 다만 제가 보기에는 우리나라는 누가 뭐래도 의회가 앞으로 저는 정말 잘되고 장기적으로는 대통령제에서 의원내각제 내지는 분권형 대통령제도 좋습니다. 나아가기를 바라는데 그러려면 지역구 예산, 아까 제가 발제는 못 했습니다만 저는 헌법학자다 보니까 재정제도의 통계나 이런 것보다 제도를 보다 보니까 이스라엘이나 스웨덴 같은, 아까 말씀드렸지만 지역구보다 전국구가 많은 나라들이더라고요. 이런 데는 예산을 굉장히 합리적으로 의회가 심의하고 행정부도 집행하지만, 물론 의원내각제 국가기는 하지만 이런 전국구가 많은 나라일수록 전국의 예산은 전국적 단위에 우선순위를 두는 거거든요. 그런데 지역구가 많다 보면 지역구 예산을 넣다 보니까 우선순위가 없는데도 불구하고 막 넣는 불합리성이 생긴단 말이지요.  그래서 선거구 문제도 그런 걸 개혁을 하면서 이런 명분이 있는 것, 지역구 예산 늘리는 건 제가 보기에는 자제하시고 전국적으로 우선순위를 합리적으로 잡을 수 있는 그런 조정위원회, 지방균형위원회 같은 것들을 별도로 특위든 뭐든 만들어 줬으면 한번 저는 제안드리고 싶습니다.  그래서 그런 과정에서 국가 전체에서 뭐가 제일 필요한지 우선순위를 빨리 정해야 되거든요. 그런데 그것 없이 어디 특위라든지 간사라든지 힘 있는 쪽 위주로 예산이 배분되다 보니까 국민의 신뢰는 떨어지고 있습니다. 이건 사실 엄밀히…… 제가 시간이 짧아서 좀 이따 한꺼번에 답변해 주시면 좋겠습니다.  첫 번째 질문이 이것을 일점일획도 못 바꾼다 이런 게 아니라면 심의․확정한다는 것을 정부가 제출한 예산안의 경미한 변경 이런 개념을 도입해서 한 2% 정도 내에서는 의회가 증액을 할 수 있도록 허용하는 이런 정도의 법률에 대해서는 어떻게 생각하시는지, 그게 헌법이 규정하고 있는 내용을 어기는 거냐, 어떻게 보시느냐 이걸 한번 여쭤보고 싶고요.  두 번째는, 두 번째 질문인데요. 아까 국정감사 시기를 말씀하신 분이 계셔서 이것은 전적으로 동의합니다. 현재 법률상으로도 국정감사와 조사에 관한 법률에 보면 국정감사는 정기회 전에 하도록 규정하고 있고 다만 국회가 따로 의결하면 정기회와 같이할 수 있다 이렇게 돼 있는데 ‘다만’이라고 하는 조항이 지금 국회 관행으로 굳어져 있습니다. 그래서 국정감사를 6월 전에 하는 것, 이게 현재 국정감사와 조사에 관한 법률의 원취지와도 부합하는데 국회가 그걸 어기고 있습니다. 그걸 지키도록 우리 위원회에서 의결하고 양 정당을 포함한 정당에다가, 교섭단체에 권고하는 게 어떤가 싶거든요. 이건 동료 위원님들도 의견을 주시면 좋겠습니다.  세 번째는 아까 톱다운 말씀을 주셨는데, 제가 교수님 성함을 모르겠는데 이것 보고, 제가 급해서 그렇습니다, 시간이 없어서. 톱다운 예산 제도를 도입했을 때 제출시기를 언제로 보시는 건지, 언제가 제일, 톱다운할 때에 행정부가 의회로 제출할 시기를 언제로 보시는 건지 한번 여쭤보고 싶고요.  마지막으로 보좌인력이 너무 취약한데요. 제가 알기로는 미국의 예산위원회나 이런 데에 있는 전문위원들이, 정당 소속 전문위원들이 거의 100여 명이 있는 것으로 알고 있습니다. 우리는 그게 너무 약하고 국회 보좌인력이 순수하게 의원실에 배치돼 있는 일종의 사병 정도로 되어 있거든요. 그렇게 하지 말고 예산안 같은 경우는, 특히나 예결위를 상설화한다면 예결위에다가 전문위원을, 지금처럼 국회사무처의 전문위원들뿐만 아니고 동시에 정당 소속의 일정한 숫자의 상근 정책전문인력을 둬서 양 정당이 지향하는 재정철학이나 국가 운영방향의 철학에 맞게 행정부에 해당하는 기재부나 정부에 대당하는 수준의 보좌가 늘 가능하도록 그렇게 인력배치를 강화해야만 이 문제가 그래도 어느 정도 해결의 실마리를 잡을 수 있다고 저는 생각하는데 거기에 대해서는 어떻게 생각하시고, 그래서 예정처를 강화하는 것과 동시에 정당 소속의 전문위원 인력을 반드시 배치해야 된다 그것을 말씀드리고 싶은데 거기에 대한 답변을 좀 듣고 싶습니다.  이상입니다. 양해해 주시면 간단히 보충설명을 드리도록 하겠습니다.  국회의 역량이 강화되는 것은 다 환영해야 될 만한 일이고요. 자칫 이 방송을 보고 계시는 분들이 오해하실 수 있을까 봐 말씀을 드리는데요. 국회에서도 지금 이미 상당 부분의 인력이 투입돼서 예산안과 기금운용계획안에 대해서 조사․분석하는 업무가 이루어지고 있습니다.  국회예산정책처라는 조직이 있는데요. 국회예산정책처는 지금 140명의 인력이 있고 제2조에 보면 국회예산정책처가 무슨 일을 하는지 나와 있습니다. 여기 보면 예산이나 기금, 국가재정 운용에 관한 분석을 거의 전담하도록 돼 있고요.  그래서 국회예산정책처가 있고 국회 예결위에 사무처가 있고 그리고 또 각 상임위원회 사무처에서도 최소한 절반 정도는 예산을 조사․분석하는 업무에 인력이 투입되고 있다고 볼 수 있겠습니다. 그래서 현재도 상당 부분은 국회사무처 관련된 인력이 예산의 조사․분석에 투입되고 있다 이 말씀을 올리겠습니다. 제가 시간이 짧아서 좀 이따 한꺼번에 답변해 주시면 좋겠습니다.  첫 번째 질문이 이것을 일점일획도 못 바꾼다 이런 게 아니라면 심의․확정한다는 것을 정부가 제출한 예산안의 경미한 변경 이런 개념을 도입해서 한 2% 정도 내에서는 의회가 증액을 할 수 있도록 허용하는 이런 정도의 법률에 대해서는 어떻게 생각하시는지, 그게 헌법이 규정하고 있는 내용을 어기는 거냐, 어떻게 보시느냐 이걸 한번 여쭤보고 싶고요.  두 번째는, 두 번째 질문인데요. 아까 국정감사 시기를 말씀하신 분이 계셔서 이것은 전적으로 동의합니다. 현재 법률상으로도 국정감사와 조사에 관한 법률에 보면 국정감사는 정기회 전에 하도록 규정하고 있고 다만 국회가 따로 의결하면 정기회와 같이할 수 있다 이렇게 돼 있는데 ‘다만’이라고 하는 조항이 지금 국회 관행으로 굳어져 있습니다. 그래서 국정감사를 6월 전에 하는 것, 이게 현재 국정감사와 조사에 관한 법률의 원취지와도 부합하는데 국회가 그걸 어기고 있습니다. 그걸 지키도록 우리 위원회에서 의결하고 양 정당을 포함한 정당에다가, 교섭단체에 권고하는 게 어떤가 싶거든요. 이건 동료 위원님들도 의견을 주시면 좋겠습니다.  세 번째는 아까 톱다운 말씀을 주셨는데, 제가 교수님 성함을 모르겠는데 이것 보고, 제가 급해서 그렇습니다, 시간이 없어서. 톱다운 예산 제도를 도입했을 때 제출시기를 언제로 보시는 건지, 언제가 제일, 톱다운할 때에 행정부가 의회로 제출할 시기를 언제로 보시는 건지 한번 여쭤보고 싶고요.  마지막으로 보좌인력이 너무 취약한데요. 제가 알기로는 미국의 예산위원회나 이런 데에 있는 전문위원들이, 정당 소속 전문위원들이 거의 100여 명이 있는 것으로 알고 있습니다. 우리는 그게 너무 약하고 국회 보좌인력이 순수하게 의원실에 배치돼 있는 일종의 사병 정도로 되어 있거든요. 그렇게 하지 말고 예산안 같은 경우는, 특히나 예결위를 상설화한다면 예결위에다가 전문위원을, 지금처럼 국회사무처의 전문위원들뿐만 아니고 동시에 정당 소속의 일정한 숫자의 상근 정책전문인력을 둬서 양 정당이 지향하는 재정철학이나 국가 운영방향의 철학에 맞게 행정부에 해당하는 기재부나 정부에 대당하는 수준의 보좌가 늘 가능하도록 그렇게 인력배치를 강화해야만 이 문제가 그래도 어느 정도 해결의 실마리를 잡을 수 있다고 저는 생각하는데 거기에 대해서는 어떻게 생각하시고, 그래서 예정처를 강화하는 것과 동시에 정당 소속의 전문위원 인력을 반드시 배치해야 된다 그것을 말씀드리고 싶은데 거기에 대한 답변을 좀 듣고 싶습니다.  이상입니다. 짧게 말씀드리겠습니다.  저는 국회에서 톱다운 예산심사제도가 도입되더라도 예산안 제출시기는 현재와 비슷하게 해도 큰 무리는 없을 거다 그렇게 생각을 합니다. 사실은 미국이나 스웨덴 같은 경우에 보더라도 행정부 예산안을 완전히 만들어 놓은 상태에서 제출하고 그때부터 의회가 심의를 하기 때문에 시기를 조정할 이유는 별로 없다 이렇게 말씀을 드리고 싶고요.  예결위를 강화하는 건 필요한데 예결위의 스태프들을 정당 소속으로 하는 데 대해서는 좀 신중할 필요가 있지 않나 생각을 합니다. 사실은 미국에서 1974년에 예산통제법이라는 걸 만들면서, 그게 워터게이트 스캔들에 대응해서 의회가 예산권한을 대폭 강화시킨 거였거든요. 그런데 의회가 예산권한을 대폭 강화시키면서 자기들이 스스로를 묻겠다고 만든 게 톱다운 예산심의제도입니다. 그리고 의회가 전문성과 객관성을 확보할 수 있도록 의회가 스스로 그렇게 조정을 했거든요.  그래서 저는 의회가 예산에 있어서 권한을 강화함과 동시에 중립성과 전문성을 더 강화시킬 필요가 있다 이렇게 말씀드리겠습니다. 제가 시간이 짧아서 좀 이따 한꺼번에 답변해 주시면 좋겠습니다.  첫 번째 질문이 이것을 일점일획도 못 바꾼다 이런 게 아니라면 심의․확정한다는 것을 정부가 제출한 예산안의 경미한 변경 이런 개념을 도입해서 한 2% 정도 내에서는 의회가 증액을 할 수 있도록 허용하는 이런 정도의 법률에 대해서는 어떻게 생각하시는지, 그게 헌법이 규정하고 있는 내용을 어기는 거냐, 어떻게 보시느냐 이걸 한번 여쭤보고 싶고요.  두 번째는, 두 번째 질문인데요. 아까 국정감사 시기를 말씀하신 분이 계셔서 이것은 전적으로 동의합니다. 현재 법률상으로도 국정감사와 조사에 관한 법률에 보면 국정감사는 정기회 전에 하도록 규정하고 있고 다만 국회가 따로 의결하면 정기회와 같이할 수 있다 이렇게 돼 있는데 ‘다만’이라고 하는 조항이 지금 국회 관행으로 굳어져 있습니다. 그래서 국정감사를 6월 전에 하는 것, 이게 현재 국정감사와 조사에 관한 법률의 원취지와도 부합하는데 국회가 그걸 어기고 있습니다. 그걸 지키도록 우리 위원회에서 의결하고 양 정당을 포함한 정당에다가, 교섭단체에 권고하는 게 어떤가 싶거든요. 이건 동료 위원님들도 의견을 주시면 좋겠습니다.  세 번째는 아까 톱다운 말씀을 주셨는데, 제가 교수님 성함을 모르겠는데 이것 보고, 제가 급해서 그렇습니다, 시간이 없어서. 톱다운 예산 제도를 도입했을 때 제출시기를 언제로 보시는 건지, 언제가 제일, 톱다운할 때에 행정부가 의회로 제출할 시기를 언제로 보시는 건지 한번 여쭤보고 싶고요.  마지막으로 보좌인력이 너무 취약한데요. 제가 알기로는 미국의 예산위원회나 이런 데에 있는 전문위원들이, 정당 소속 전문위원들이 거의 100여 명이 있는 것으로 알고 있습니다. 우리는 그게 너무 약하고 국회 보좌인력이 순수하게 의원실에 배치돼 있는 일종의 사병 정도로 되어 있거든요. 그렇게 하지 말고 예산안 같은 경우는, 특히나 예결위를 상설화한다면 예결위에다가 전문위원을, 지금처럼 국회사무처의 전문위원들뿐만 아니고 동시에 정당 소속의 일정한 숫자의 상근 정책전문인력을 둬서 양 정당이 지향하는 재정철학이나 국가 운영방향의 철학에 맞게 행정부에 해당하는 기재부나 정부에 대당하는 수준의 보좌가 늘 가능하도록 그렇게 인력배치를 강화해야만 이 문제가 그래도 어느 정도 해결의 실마리를 잡을 수 있다고 저는 생각하는데 거기에 대해서는 어떻게 생각하시고, 그래서 예정처를 강화하는 것과 동시에 정당 소속의 전문위원 인력을 반드시 배치해야 된다 그것을 말씀드리고 싶은데 거기에 대한 답변을 좀 듣고 싶습니다.  이상입니다. 예, 죄송합니다.  그 정도 말씀드리고요.  아까 전문인력 늘리는 건 전적으로 동의합니다. 그래서 저는 감사원이, 우리나라 감사원은 회계감사뿐 아니라 직무감찰도 강하지요. 그런 가운데서 결산심사를 하는 게 사실상 좀 형해화될 수 있는 면이 있고 부분 부분이 될 수 있습니다.  그래서 이런 문제는, 어쨌든 최종적인 결산에 대한 책임의 주체는 결산심사권을 가진 의회입니다. 그래서 의회가 감사원에 준할 수 있는 뭔가 기구의 확장 내지는 전문위원의 확충은 전적으로 찬성하고요.  그런 걸 통해서 좀 약간 예산심사가 실질화되는 게 단순히 추상적인 미래 계획을 자꾸 논의하는 것보다는 굉장히 좋은 아이디어라고 저는 생각합니다.  감사합니다.'),\n",
       " Document(metadata={'filename': 'SRC_20대_제364회_제7차_특별위원회_사법개혁특별위원회_0012(048647).xlsx', 'original': 'http://likms.assembly.go.kr/record/mhs-10-040-0040.do?conferNum=048647&fileType=PDF', 'date': '2018년11월23일(금)', 'meeting_name': '특별위원회', 'committee_name': '사법개혁특별위원회', 'questioner_name': '송기헌', 'answerer_name': '안철상'}, page_content='처장님, 전국법관회의 얘기 자꾸 나오는데요. 전국법관회의가 전에 2003년도부터, 임의기구라 해야 되나요? 각급 법원 법관회의라고 해 가지고 그렇게 있었지요? 예, 각급 법원에 그때부터…… 처장님, 전국법관회의 얘기 자꾸 나오는데요. 전국법관회의가 전에 2003년도부터, 임의기구라 해야 되나요? 각급 법원 법관회의라고 해 가지고 그렇게 있었지요? 정확한 연도는 기억 안 납니다마는 있었던 걸로 알고 있습니다. 2003년도부터 있었는데 계속 반복되어 왔고, 이게 그 당시에도 각급 법관들의 의견을 결정하는 이런 회의이고 그 결정된 것이 집행력을 갖거나 그런 것은 아니었지요? 예, 문제 있을 때마다 전국 법관들이 모인 이런 것은 한두 차례 이미 옛날에도 있은 바가 있고, 그리고 각급 법원에 설치된 것은 법원조직법의 개정에 따라서 이루어졌다고 할 수 있습니다. 건의하는 사항, 지금 이번의 전국법관대표회의도 마찬가지지요? 예, 그렇습니다. 거기에 따라서 어떤 뭐를 결정한다든지 하는 그런 효과가 나타나는 것은 아니다 하는 것이지요? 예, 자문기구로서의 성격입니다. 자문기구에 해당되는 것이지요.  처장님, 지금 사개특위에서 법원의 개혁이 논의되는 이유는 저는 기본적으로 공정성하고 신속한 재판, 두 가지 문제 때문이라고 생각하고요.  공정성의 문제는 첫째는 정치적인 문제에서의 공정성 문제가 있고, 두 번째 정치적이지 않은 일반 사건에서는 이게 전관예우 이런 것과 관련되어 가지고 공정성을 의심받는 그런 점이 문제가 된다.  또 하나는 일반 재판의 경우에 관료, 그러니까 재판 법관이 관료화되는 바람에 거기에 따른 불신이 있다, 이런 점이 저는 초점이라고 생각하거든요.  그래서 그런 점을 해소할 수 있는 법원 개혁이 어떤 것이냐 이것이 중점이라고 생각하는데, 지금 등기나 가사, 가족관계 문제는 이거하고 전혀 관계없는 문제라서 제가 이것은 사개특위에서 논의하는 것은 적절하지 않다고 판단하고 있습니다. 더군다나 등기나 가족관계 관련된 문제는 권리와 관계된 문제이기 때문에 그것이 일반적으로 일반 행정부처에서 하는 것이 실제로 적절하지 않을 수도 있고요. 예, 그렇습니다. 또 이것이 가사비송이나 여러 가지 비송 사건과 직접 연결되어 있기 때문에 법원에서 하는 것이 더 적합할 수 있다 이런 측면도 있습니다.  또 제가 볼 때 중요한 것은 현재 이것을 행정부로 바꾸게 되면, 등기공무원이라는 걸 따로 뽑지 않잖아요. 재판부에 갔다가 또 다른 보직으로 해 가지고 등기 업무를 맡기도 하고 가사, 가족관계 업무를 맡기도 하고 그렇게 하는 것 아니겠습니까? 순환해서 보직을 하는 거지요? 그렇습니다. 그러니까 만일 갑자기 등기하는 업무를 저쪽 행정부로 옮긴다고 그러면 그 해당되는 공무원들을 갑자기 법원공무원에서 행정공무원으로 바꿔야 되는 그런 문제, 그게 바뀔 수 있겠나요? 바뀔 수 없을 것 아닙니까, 그렇지요? 그 제도가 해방 이전부터 법원에서 관할하고 있습니다. 그리고 법원 직원들이 대개 법원에 있는 걸 좋아하지 행정부에 가는 걸 좋아하지는 않더라고요. 그런 점도 있습니다. 그런 것 좀 있잖아요.  그러면 여기 법원공무원을 그대로 두고 1만몇 명이나 되는 등기 관련된 공무원을 새로 뽑아야 된다는 얘기가 된다는 거잖아요. 그렇지요? 그리고 그 전문성도 사실 굉장히 걱정이 되는 것이고.  그래서 저는 이런 측면에서 굳이 어떤 역할을 따지는 문제가 아니고 이것은 사개특위에서 다룰 문제는 아니고 법사위에서 논의해서 그 부분이 타당성이 있는지 없는지를 검토해야 될 문제다, 저는 이렇게 생각하고 제가 말씀드리는 건데 처장님 여기에 대해서 간단히 의견을 말씀해 주세요. 등기, 호적의 문제는 우리 사법 개혁과 관련한 사법 구조의 근본적인 개선하고는 전혀 별개라고 볼 수 있습니다. 그리고…… 제가 말씀드린 공정성이나 이런 문제하고는 다른 문제라 이거지요, 이것은. 예, 그렇습니다. 등기, 호적은 지금까지 해방 이전부터 수십년간, 100년 가까이 이루어져 왔고 그리고 현재 이에 대해서 별다른 문제가 발생하지 않고 있을 뿐만 아니라 특히 국민의 권리ㆍ의무 관계이기 때문에 법원에서 하는 게 적합한 점이 있습니다. 보다 적합한 측면이 있지요. 그리고 굉장히 법원에 특화되어 있기 때문에 나름의 전문성이 생긴 직역이다 저는 생각하고요. 그래서 저는 법사위에서 계속 논의해야 될 문제다 이렇게 생각하고 있습니다. 예, 전산화도 다 이루어져 있기 때문에 어느 기관에서 하든 연결만 하면 되기 때문에 크게 국민들한테 불편은 없을 것으로 알고 있습니다. 그리고 전산화가 되어 가지고 어디서든지 발급이 다 가능할 수도, 많이 있지요. 그렇지요? 예. 그리고 지난번에 또 저희들 1소위에서 논의한 부분이 있는데요, 법원 개혁에 대해서 고등법원, 고법 부장판사 제도를 없앤다고 하셨잖아요? 예, 그렇습니다. 그런데 그때 문제가 된 것이 뭐냐 하면 기존에 고법 부장으로 되어 있는 분들의 처우를 어떻게 할 것인가? 숫자는 한 백오십에서 이백 분 가까이 되시지요? 차관급 대우를 받으시는 분들이. 예, 그런 것으로 알고 있습니다. 그것을 이제 어떻게 할 것인가 이런 걸 제가 말씀드렸는데, 그거 어떻게 좀 논의가 되셨나요, 안에서? 예, 논의되어 가지고 아마 소위에 보낸 것으로 알고 있습니다. 그다음에 또 고법 부장판사를 없애게 되면 공직자윤리법상의 재산 공개 대상이 되는 범위를 어떻게 결정할 것인가…… 그렇습니다. 그 부분도 결정해야 된다 이렇게 말씀드렸는데, 그것도 어느 정도 논의가 돼서 의견을 내셨나요? 그것도 다 포함되어 있는 것으로 알고 있습니다. 그럼 잘 보겠습니다.  법무부장관님, 간단히만 제가 말씀드리겠습니다.  수사권 조정에서 제 나름대로 가장 문제로 생각하고 있는 부분은 검찰이 인지수사 하는 부분이 제일 문제가 된다고 말씀드렸고요. 인지수사가 문제가 된다고 말씀드린 이유는 기소권을 가지고 있는 검사가 인지수사를 하게 되면 기소에 맞춰서 수사를 하거나 아니면 수사한 그 탄력을 가지고 기소 여부를 결정하기 때문에 문제가 될 수 있다 이렇게 말씀을 드렸고요.  최근에 검찰 인지수사 현황은 어떻습니까? 좀 많이 계속…… 어느 정도 되고 있습니까? 인지수사를 줄이는 방향으로 계속 노력하고 있는 것으로 알고 있습니다. 지금 문제되고 있는 주요 사건, 뭐라 그럴까요? 적폐 관련된 사건 외에는 일반인 사건은 좀 줄어들고 있나요? 제가 정확한 수치를 말씀드릴 수는 없는데 줄어들고 있는 것으로 알고 있고 또 일선의 특수부를 지금 없애는 중에 있습니다.'),\n",
       " Document(metadata={'filename': 'SRC_20대_제364회_제7차_특별위원회_사법개혁특별위원회_0007(048647).xlsx', 'original': 'http://likms.assembly.go.kr/record/mhs-10-040-0040.do?conferNum=048647&fileType=PDF', 'date': '2018년11월23일(금)', 'meeting_name': '특별위원회', 'committee_name': '사법개혁특별위원회', 'questioner_name': '박주민', 'answerer_name': '안철상'}, page_content='제가 기억하기로는 법원행정처장님께서 지난번 사개특위 전체회의에서 법원조직법 관련되어서 법원의 안을 법무부를 통해서 내든지 의원을 통해서 발의하든지 하겠다라고 말씀하셨습니다. 지금 어느 단계에까지 와 있나요? 왜냐하면 오늘 이것 상정하고 나면 다음 주부터는 소위에 다 들어가서 논의가 시작되거든요, 법들이. 빨리 제출 못 해서 송구스러운 점이 있습니다마는 지금 내부적 의견 수렴을 하고 있는데 수범자인 사법부 구성원들의 의견도 또 들어 봐야만 법안을 심사하는 데 더 효율적이고 또 치밀하게 될 수 있기 때문에 그렇게 하기로 했습니다. 그러니까 사실은 방금 말씀하셨던 법원 내부 구성원들의 의견을 들어야 된다, 그래서 시간이 더 걸린다라는 부분 때문에 지금 논란이 되고 있어요. 알고 계시지요? 예, 그렇습니다. 왜냐하면 김명수 대법원장이 2018년 9월 20일 자 코트넷 공지 관련되어서는 외부 인사들 그리고 법관 대표들이 참여하는 별도 추진단을 구성해서 투명하게 운영을 하겠다 이런 내용을 얘기했고 그다음에 이런 논의가 잘 진행되도록 지원을 아낌없이 하겠다 이런 얘기들이 있었고, 그래서 그것에 따라서 추진단이 열심히 안을 만든 것인데 오히려 그 안에 대해서 다시 법원 내부 구성원들의 의견을 수렴하겠다고 하니까 이렇게 되면 결국은 추진단이 만든 안이 의미가 없어지는 것 아니냐라는 얘기가 나온다는 말이에요. 그것은 아니고, 후속 추진단이 짧은 시기에 많은 노력을 해 가지고 안을 제출했습니다. 그러니까 그 안을 보시면 아시겠지만 여러 가지 면밀하고 또 치밀하게 구성될 부분도 있고 앞으로 어떻게 될 것인지 판단해야 될 부분도 있기 때문에 직접 수범자인 법원 구성원들의 의견을 한번 들어 보는 것도 필요한 절차라고 생각되고 국정감사에서나 사개특위에서도 여론 수렴하라는 이런 요청을 하셨다고 들었습니다.   그렇기 때문에 그에 따라서 하는데 가능하면 빨리, 12월 3일 내부 토론회를 거치고 각급 법원의 의견을 집약하여 12월 7일 날 법원장회의를 거치고 해서 여러 가지 의견을 조율한 후에 빠른 시기에 제출할 것으로 생각하고 있습니다. 저는 그 과정에서 추진단에서 냈던 안의 취지라든지 의미가 손상되어서는 안 된다고 생각을 하고요. 안이라는 것은 결국 사개특위라든지 국회에서 다루기 때문에 안이 없어지는 것은 아니고 안을 보고 어느 안이 더 좋은 안인지, 그것은 선택의 문제가 아닌가 싶습니다. 물론 법원에서도 굳이 그것을, 개혁적인 것을 후퇴시킨다 그런 의사는 전혀 없고 더 개혁적일 수도 있고 덜 개혁적일 수도 있겠는데 좋은 안을 만들기 위해서 그렇다고 볼 수 있습니다. 말씀하신 대로 추진단에서 내놓은 안도 국회에서 같이 검토가 될 것이니까요 지나치게 추진단의 안이 갖고 있었던 의미나 이런 것들을 축소하는 방향으로 검토가 이루어져서는 안 된다는 당부의 말씀을 한 번 더 드리겠습니다.   지금 전국법관대표회의 관련되어서 많은 위원님들이 질의하셔서 저도 좀 질의를 하겠는데요. 항간에 언론에서는 전국법관대표회의가 정치적으로 편향되었다, 그 이유가 국제인권법연구회 출신이 많다 이런 얘기들을 하고 있습니다.   그런데 제가 알기로는 국제인권법연구회라는 단체 자체의 규모가 크고, 그렇지요? 그래서 어느 정도는 일정한 비율을 차지할 수밖에 없다는 생각이 들고 또 국제인권법연구회 자체가 굉장히 진보적이고 단일한 정치적 색깔을 가진 단체는 아니지 않습니까?   예를 들어서 지금 사법농단과 사법 행정권 남용의 핵심으로 거론되고 있는 사람 중의 하나인 이규진 양형위원회 전 상임위원 같은 경우에 2년간 국제인권법연구회 회장이었지요? 예, 그렇습니다. 그렇지요? 이진만 전 상임위원 역시 국제인권법연구회 출신이잖아요. 구민경, 김민수, 이동근 이런 분들 다 국제인권법연구회 출신 아닌가요? 그렇잖아요? 예, 그렇습니다. 그래서 국제인권법연구회 출신이라는 이유만으로 어떤 특정한 정치적 편향을 가지고 있고 특히 최근에 문제가 되고 있는 사법농단에 관련되어서 단일한 정치적 입장을 갖고 있다 이렇게 볼 수가 없는 것 같은데 어떻게 생각하세요? 사람을 성별이나 특정한 회의 구성원이나 또 특정한 조직원이다 해서 그것에 따라서 사람을 본다는 것은 잘못이라고 생각합니다.'),\n",
       " Document(metadata={'filename': 'SRC_20대_제368회_제5차_특별위원회_4차산업혁명특별위원회_0006(049106).xlsx', 'original': 'http://likms.assembly.go.kr/record/mhs-10-040-0040.do?conferNum=049106&fileType=PDF', 'date': '2019년4월19일(금)', 'meeting_name': '특별위원회', 'committee_name': '4차산업혁명특별위원회', 'questioner_name': '백승주', 'answerer_name': '이재갑'}, page_content='아니, 지금 참석하고 있는 회의가 무슨 회의입니까? 아, 4차산업혁명특별위원회에…… 4차산업혁명특별위원회에 보고하는데 4차 산업을 위해서 교육부가 해야 할 일이 민주시민교육이라고 그러면 일반 국민들은 어떻게 생각하겠어요? 그것은 미래…… 보세요. 부끄럽게 생각하세요. 4차산업혁명위원회에 보고를 하면서 일반 부처 장관한테 보고한 내용을 그냥 갖고 왔기 때문에 이런 난센스가 벌어진 거예요. 4차산업혁명위원회에 보고하는데 민주시민교육을 시키겠다, 이것이 기본 목표다? 어느 나라에, 지금 4차 산업혁명을 각국이 다 준비하고 있는데 그 나라마다 정치 제도가 다르고 이럴 텐데 민주시민교육을 통해서 4차 산업에 대비하는 나라가 있어요? 위원님, 어떤 이념적인 교육이 아니고요. 아이들 소통하고 하는 그런…… 보세요. 지금 책에 나와 있지요? 보고서에 써 놨어요. 2015년도 개정 교육과정에 보면 여섯 가지 핵심 역량을 제시한다, 이전 정부의 2015년입니다. 이전 정부에 자기관리 역량, 지식정보처리 역량, 창의적 사고 역량, 심미적 감성 역량, 의사소통 역량, 공동체 역량 이것이 민주시민교육이지요, 4차 산업에 대비한 교육. 이것을 놔두고 별도로 민주시민교육을 하고 183개 민주학교에 민주교육을 시키겠다? 부끄럽게 생각하세요. 부끄럽지 않습니까? 이것은 4차산업혁명위에 오는 것인지 교육위원회에 오는 것인지도 구분하지 못하고 보고서를 만든 거예요.  4차 산업에 대한 인재 양성을 위해서 다른 부처와 얼마나 많은 회의 했어요? 저희들이 사회부총리로서 사회관계장관회의를 매월 하고 있고요. 앞으로는…… 그런 통상적인 회의 말고요.  공학교육 혁신방안, 산업통상부장관이 보고했는데 여기에 대해서 교육부하고 의논했어요? 의논한 결과 알고 있어요? 다른 부처에서 보고할 때는, 산업통상부장관은 교육부 등 관계부처 협업을 통해서 공학교육 혁신방안을 마련했다고 이렇게 보고를 했어요. 교육부차관은 지금 그것을 한지도 모르고 있는 거예요. 알고 있습니다. 논의하고 있는 것하고 합의하고 다르잖아요. 교육부는 지금 뭘 해야 되는지도 모르고 민주시민교육만 강조하고 있어요. 대단히 유감스럽습니다. 교육부는 반성하세요.  공정거래위원장님. 예. 요즘 대형 유통산업에 대해서 많은 관심을 갖고 일하고 있는 것 같아요, 그래요? 예, 법과 현실의 괴리를 메워 갈 계획을 갖고 있습니다. 그에 대한 관심을 가지는데 지금 개별 지역 사안을 갖고 질문드리는 게 좀 뭣한 부분이 있습니다만, 제가 구미지역에 있는데 구미 신평ㆍ광평 지역에 롯데 복합쇼핑몰 추진이 여러 가지 사정 때문에 지금 대기업과 기업 간의 불공정 문제가 거론되고 많은 진정서가 들어오고 있습니다. 이 부분과 관련해서 어떤 부분이 불공정한지 조사를 부탁드립니다. 예, 저희들이 잘 살펴보도록 하겠습니다. 보고서 내용 중에 보면 차세대 메모리ㆍD램을 이천, 청주 지역에 투자를 추진한다 이렇게 돼 있지요, 19년과 28년 사이에? 차세대 메모리, 차세대 반도체 말씀…… 그래서 이천, 청주 지역에 투자를 추진한다 이렇게 되어 있어요. 예, 그렇습니다. 정부가 이렇게 특정 지역에 대한 투자를 권유하고 있습니까? 그렇지는 않고요. 그러면 보고서 내용대로 하면 정부가 이 두 특정 지역에 메모리 반도체 산업 투자를 권유하고 있는 것처럼 보여요. 이렇게 예민한 주장을 할 수 있어요, 지역균형개발 차원에서? 위원님, 그것은 이미 발표가 된 내용입니다. 그래서 최근에…… 발표가 돼 있는데 정부가 하고 있습니까, 기업이 하고 있습니까? 기업이 추진하고 있습니다. 기업이 하고 있는데 정부가 하고 있는 것처럼 이렇게 내용이 혼란을 주면…… 저도 기업이 하고 있는 것으로 알고 있어요. 그렇지만 이 투자를 기업이 단독으로 할 수는 없고요. 여러 가지 기반시설에 대한 지원을 정부가 해야만 투자가 원활히 추진될 수 있기 때문에 이것은 정부와 기업이 함께 협력해야 될 수 있는 사안입니다. 5G의 새로운 콘텐츠 육성을 위한 인프라 운영과 관련해서 일산 지역에 뉴콘텐츠센터를 만들고 성남 지역에 글로벌게임센터를 하나 만들고 있지요? 이미 설립이 되어 운영이 되고 있습니다. 5G 시대에 지금 통신이 다 잘 돼 있는데 왜 수도권에만 이렇게 자꾸 센터를 만들고 그럽니까? 지역에 얼마나 인프라가 많이 되어 있는데, 서형수 위원님이 계시는 양산이라든지. 지역에 전부 통신으로 해서, 출판 같으면 인도 가서 메일을 보내면 다 교정해서 하고 있는 이런 시대에 수도권에만 이렇게 자꾸 센터를 만들어서 수도권 집중화를 정부가 조장하고 있는 것에 대해서 좀 생각을 해 보세요. 지역균형개발 차원에서 이런 센터 하나 만들 때도 세심하게 신경 써 주기를 바랍니다. 예, 잘 알겠습니다. 고용노동부장관님은 오늘 보니까 제가 마음에 들도록 많이 들고 오셨어요.    (웃음소리)  아니, 제가 4차산업혁명위원회에 세 번 연속 들어와 있어요. 줄기차게 현장 실무의 4차 산업 인력을 양성하기 위해서는 교육부가 너무 협의가 안 되니까 고용노동부 산하에 있는 폴리텍에 대해서 집중적으로 4차 산업 실무인력을 양성해 달라 하니까 학과를 확대하고 제2융합기술교육원을 만들겠다 이런 아이디어를 내놨어요. 저는 긍정적으로 평가합니다. 이 부분을 하기 위해서는 정말 최고의 교수 모셔야 되고 거기에 따르는 교수도 모셔야 되고 장비도 갖추어야 되고 시설도 확충해야 되는데 이런 부분 관련해서 최대한 후속적인 조치를 해 달라, 아이디어만 낼 게 아니라 이것을 제대로 정책으로 반영할 수 있는 일을 예산편성 과정에서 반영해 주기를 바랍니다. 그렇게 해 주기를 바랍니다. 예, 그렇게 하겠습니다.')]"
      ]
     },
     "execution_count": 12,
     "metadata": {},
     "output_type": "execute_result"
    }
   ],
   "source": [
    "# 문서에서 관련성 높은 문서를 가져옴\n",
    "retriever.invoke(\"가장 길었던 국회 회의 내용은 뭔지 요약적으로 알려줘\")"
   ]
  },
  {
   "cell_type": "markdown",
   "id": "98528482",
   "metadata": {},
   "source": [
    "이제 우리가 검색을 수행할 인덱스를 채웠으므로, 이를 에이전트가 제대로 사용할 수 있는 도구로 쉽게 변환 가능\n"
   ]
  },
  {
   "cell_type": "markdown",
   "id": "6006cbc9",
   "metadata": {},
   "source": [
    "`create_retriever_tool` 함수로 `retriever` 를 도구로 변환"
   ]
  },
  {
   "cell_type": "code",
   "execution_count": 13,
   "id": "683b1878",
   "metadata": {},
   "outputs": [],
   "source": [
    "from langchain.tools.retriever import create_retriever_tool\n",
    "\n",
    "\n",
    "retriever_tool = create_retriever_tool(\n",
    "    retriever,\n",
    "    name=\"pdf_search\",  # 도구의 이름을 입력합니다.\n",
    "    description=\"use this tool to search information from the PDF document\",  # 도구에 대한 설명을 자세히 기입해야함!!\n",
    ")"
   ]
  },
  {
   "cell_type": "markdown",
   "id": "24519b31",
   "metadata": {},
   "source": [
    "### Agent 가 사용할 도구 목록 정의\n",
    "\n",
    "Agent 가 사용할 도구 목록:  \n",
    "  \n",
    "`tools` 리스트는 `search`와 `retriever_tool`을 포함"
   ]
  },
  {
   "cell_type": "code",
   "execution_count": 14,
   "id": "1984dd66",
   "metadata": {},
   "outputs": [],
   "source": [
    "# tools 리스트에 search와 retriever_tool을 추가합니다.\n",
    "tools = [search, retriever_tool]"
   ]
  },
  {
   "cell_type": "markdown",
   "id": "e7891219",
   "metadata": {},
   "source": [
    "#### Agent 생성\n",
    "\n",
    "Agent 가 활용할 LLM을 정의하고, Agent 가 참고할 Prompt 를 정의"
   ]
  },
  {
   "cell_type": "code",
   "execution_count": 17,
   "id": "f6e6cbfd",
   "metadata": {},
   "outputs": [],
   "source": [
    "from langchain_openai import ChatOpenAI\n",
    "from langchain_core.prompts import ChatPromptTemplate\n",
    "\n",
    "# LLM 정의\n",
    "llm = ChatOpenAI(model=\"gpt-4o-mini\", temperature=0)\n",
    "\n",
    "# Prompt 정의\n",
    "prompt = ChatPromptTemplate.from_messages(\n",
    "    [\n",
    "        (\n",
    "            \"system\",\n",
    "            \"You are a helpful assistant. \"\n",
    "            \"Make sure to use the `pdf_search` tool for searching information from the PDF document. \"\n",
    "            \"If you can't find the information from the PDF document, use the `search` tool for searching information from the web.\",\n",
    "        ),\n",
    "        (\"placeholder\", \"{chat_history}\"),\n",
    "        (\"human\", \"{input}\"),\n",
    "        (\"placeholder\", \"{agent_scratchpad}\"),\n",
    "    ]\n",
    ")"
   ]
  },
  {
   "cell_type": "markdown",
   "id": "25a7a1d0",
   "metadata": {},
   "source": [
    "Tool Calling Agent 를 생성"
   ]
  },
  {
   "cell_type": "code",
   "execution_count": 18,
   "id": "ce2cdda8",
   "metadata": {},
   "outputs": [],
   "source": [
    "from langchain.agents import create_tool_calling_agent\n",
    "\n",
    "# tool calling agent 생성\n",
    "agent = create_tool_calling_agent(llm, tools, prompt)"
   ]
  },
  {
   "cell_type": "markdown",
   "id": "5592f1b3",
   "metadata": {},
   "source": [
    "마지막으로, 생성한 `agent` 를 실행하는 `AgentExecutor` 를 생성\n",
    "- (참고)`verbose=False` 로 설정하여 중간 단계 출력을 생략"
   ]
  },
  {
   "cell_type": "code",
   "execution_count": 19,
   "id": "88bb3aab",
   "metadata": {},
   "outputs": [],
   "source": [
    "from langchain.agents import AgentExecutor\n",
    "\n",
    "# AgentExecutor 생성\n",
    "agent_executor = AgentExecutor(agent=agent, tools=tools, verbose=False)"
   ]
  },
  {
   "cell_type": "markdown",
   "id": "614375b3",
   "metadata": {},
   "source": [
    "#### 에이전트 실행하기\n",
    "\n",
    "현재 이러한 모든 질의는 **상태(Stateless) 가 없는** 질의 == 이전 상호작용을 기억하지 못함\n"
   ]
  },
  {
   "cell_type": "markdown",
   "id": "d8120a9e",
   "metadata": {},
   "source": [
    "`agent_executor` 객체의 `invoke` 메소드는 딕셔너리 형태의 인자를 받아 처리"
   ]
  },
  {
   "cell_type": "code",
   "execution_count": 20,
   "id": "40529899",
   "metadata": {},
   "outputs": [],
   "source": [
    "from langchain_teddynote.messages import AgentStreamParser\n",
    "\n",
    "# 각 단계별 출력을 위한 파서 생성\n",
    "agent_stream_parser = AgentStreamParser()"
   ]
  },
  {
   "cell_type": "code",
   "execution_count": 22,
   "id": "9cfbad15",
   "metadata": {},
   "outputs": [
    {
     "name": "stdout",
     "output_type": "stream",
     "text": [
      "[도구 호출]\n",
      "Tool: tavily_search_results_json\n",
      "query: 가장 길었던 국회 회의록\n",
      "Log: \n",
      "Invoking: `tavily_search_results_json` with `{'query': '가장 길었던 국회 회의록'}`\n",
      "\n",
      "\n",
      "\n",
      "[관찰 내용]\n",
      "Observation: [{'url': 'https://archives.nanet.go.kr/bbs/bbsView.do?bbs_id=2&bbs_no=48&curr_menu_cd=0102010000', 'content': '국회회의록; 국회의안 ... 춥고도 길었던 겨울, 그래도 그리운 그 시절 ... 연중 가장 춥다는 대한(大寒, 1.20.)을 앞두고, 1950년대~2000년대 그 시절의 겨울 풍경을 기록으로 만나본다. 행정자치부 국가기록원(원장 이상진)은 대한을 맞아 1월 이달의 기록 ...'}, {'url': 'https://scienceon.kisti.re.kr/srch/selectPORSrchArticle.do?cn=DIKO0015057924', 'content': '대한민국국회는 1948년 제헌국회 이후 70년의 역사를 이어오고 있다. 제헌 70년의 역사는 대한민국 현대사를 보여주는 거울이고, 제헌 70년의 역사를 가장 잘 기록하고 있는 것은 국회 회의록이다. 국회 회의록은 국회 회의의 내용 및 결과 등을 사실대로 충실하게 기록한 문서이다. 국회의원의 입법 ...'}, {'url': 'https://ko.wikisource.org/wiki/대한민국_제헌국회_제1회_제8차_본회의록', 'content': '1948년 6월 11일 오전 10시 10분, 대한민국 서울특별시 종로구 국회의사당. 제1회－제8호. 第 1回 國會速記錄. 국회본회의회의록. 第 8 號. 國 會 事 務 處. 4281년6월11일 (금) 상오 10시10분. 1948년6월11일 (금) 상오 10시10분. 국회 제8차 회의절차.'}, {'url': 'https://ko.wikisource.org/wiki/대한민국_제헌국회_제1회_제2차_본회의록', 'content': '1948년 6월 1일 오전 10시 ~ 오후 3시 35분, 대한민국 서울특별시 종로구 국회의사당. 제1회－제2호. 第 1 回 國 會 速 記 錄. 국회본회의회의록. 第 2 號. 國 會 事 務 處. 단기4281년6月1日 (화) 상오 10시. 1948년 6月1日 (화) 상오 10시. 국회 제2차 회의절차.'}, {'url': 'https://www.assembly.go.kr/portal/main/contents.do?menuNo=600161', 'content': '회의록; 인터넷의사중계 ... 제19대 국회의원 총선거는 신설된 세종특별자치시가 별도의 선거구로 분리되어 지역구 1석이 증가하여 국회의원 정수 300석으로 2012년 4월 11일 실시되었으며, 지역구 후보자 902인과 비례대표 후보자 188인 등 총 1,090인의 후보자가 ...'}]\n",
      "[도구 호출]\n",
      "Tool: pdf_search\n",
      "query: 가장 길었던 국회 회의록\n",
      "Log: \n",
      "Invoking: `pdf_search` with `{'query': '가장 길었던 국회 회의록'}`\n",
      "\n",
      "\n",
      "\n",
      "[관찰 내용]\n",
      "Observation: 처장님, 전국법관회의 얘기 자꾸 나오는데요. 전국법관회의가 전에 2003년도부터, 임의기구라 해야 되나요? 각급 법원 법관회의라고 해 가지고 그렇게 있었지요? 예, 각급 법원에 그때부터…… 처장님, 전국법관회의 얘기 자꾸 나오는데요. 전국법관회의가 전에 2003년도부터, 임의기구라 해야 되나요? 각급 법원 법관회의라고 해 가지고 그렇게 있었지요? 정확한 연도는 기억 안 납니다마는 있었던 걸로 알고 있습니다. 2003년도부터 있었는데 계속 반복되어 왔고, 이게 그 당시에도 각급 법관들의 의견을 결정하는 이런 회의이고 그 결정된 것이 집행력을 갖거나 그런 것은 아니었지요? 예, 문제 있을 때마다 전국 법관들이 모인 이런 것은 한두 차례 이미 옛날에도 있은 바가 있고, 그리고 각급 법원에 설치된 것은 법원조직법의 개정에 따라서 이루어졌다고 할 수 있습니다. 건의하는 사항, 지금 이번의 전국법관대표회의도 마찬가지지요? 예, 그렇습니다. 거기에 따라서 어떤 뭐를 결정한다든지 하는 그런 효과가 나타나는 것은 아니다 하는 것이지요? 예, 자문기구로서의 성격입니다. 자문기구에 해당되는 것이지요.  처장님, 지금 사개특위에서 법원의 개혁이 논의되는 이유는 저는 기본적으로 공정성하고 신속한 재판, 두 가지 문제 때문이라고 생각하고요.  공정성의 문제는 첫째는 정치적인 문제에서의 공정성 문제가 있고, 두 번째 정치적이지 않은 일반 사건에서는 이게 전관예우 이런 것과 관련되어 가지고 공정성을 의심받는 그런 점이 문제가 된다.  또 하나는 일반 재판의 경우에 관료, 그러니까 재판 법관이 관료화되는 바람에 거기에 따른 불신이 있다, 이런 점이 저는 초점이라고 생각하거든요.  그래서 그런 점을 해소할 수 있는 법원 개혁이 어떤 것이냐 이것이 중점이라고 생각하는데, 지금 등기나 가사, 가족관계 문제는 이거하고 전혀 관계없는 문제라서 제가 이것은 사개특위에서 논의하는 것은 적절하지 않다고 판단하고 있습니다. 더군다나 등기나 가족관계 관련된 문제는 권리와 관계된 문제이기 때문에 그것이 일반적으로 일반 행정부처에서 하는 것이 실제로 적절하지 않을 수도 있고요. 예, 그렇습니다. 또 이것이 가사비송이나 여러 가지 비송 사건과 직접 연결되어 있기 때문에 법원에서 하는 것이 더 적합할 수 있다 이런 측면도 있습니다.  또 제가 볼 때 중요한 것은 현재 이것을 행정부로 바꾸게 되면, 등기공무원이라는 걸 따로 뽑지 않잖아요. 재판부에 갔다가 또 다른 보직으로 해 가지고 등기 업무를 맡기도 하고 가사, 가족관계 업무를 맡기도 하고 그렇게 하는 것 아니겠습니까? 순환해서 보직을 하는 거지요? 그렇습니다. 그러니까 만일 갑자기 등기하는 업무를 저쪽 행정부로 옮긴다고 그러면 그 해당되는 공무원들을 갑자기 법원공무원에서 행정공무원으로 바꿔야 되는 그런 문제, 그게 바뀔 수 있겠나요? 바뀔 수 없을 것 아닙니까, 그렇지요? 그 제도가 해방 이전부터 법원에서 관할하고 있습니다. 그리고 법원 직원들이 대개 법원에 있는 걸 좋아하지 행정부에 가는 걸 좋아하지는 않더라고요. 그런 점도 있습니다. 그런 것 좀 있잖아요.  그러면 여기 법원공무원을 그대로 두고 1만몇 명이나 되는 등기 관련된 공무원을 새로 뽑아야 된다는 얘기가 된다는 거잖아요. 그렇지요? 그리고 그 전문성도 사실 굉장히 걱정이 되는 것이고.  그래서 저는 이런 측면에서 굳이 어떤 역할을 따지는 문제가 아니고 이것은 사개특위에서 다룰 문제는 아니고 법사위에서 논의해서 그 부분이 타당성이 있는지 없는지를 검토해야 될 문제다, 저는 이렇게 생각하고 제가 말씀드리는 건데 처장님 여기에 대해서 간단히 의견을 말씀해 주세요. 등기, 호적의 문제는 우리 사법 개혁과 관련한 사법 구조의 근본적인 개선하고는 전혀 별개라고 볼 수 있습니다. 그리고…… 제가 말씀드린 공정성이나 이런 문제하고는 다른 문제라 이거지요, 이것은. 예, 그렇습니다. 등기, 호적은 지금까지 해방 이전부터 수십년간, 100년 가까이 이루어져 왔고 그리고 현재 이에 대해서 별다른 문제가 발생하지 않고 있을 뿐만 아니라 특히 국민의 권리ㆍ의무 관계이기 때문에 법원에서 하는 게 적합한 점이 있습니다. 보다 적합한 측면이 있지요. 그리고 굉장히 법원에 특화되어 있기 때문에 나름의 전문성이 생긴 직역이다 저는 생각하고요. 그래서 저는 법사위에서 계속 논의해야 될 문제다 이렇게 생각하고 있습니다. 예, 전산화도 다 이루어져 있기 때문에 어느 기관에서 하든 연결만 하면 되기 때문에 크게 국민들한테 불편은 없을 것으로 알고 있습니다. 그리고 전산화가 되어 가지고 어디서든지 발급이 다 가능할 수도, 많이 있지요. 그렇지요? 예. 그리고 지난번에 또 저희들 1소위에서 논의한 부분이 있는데요, 법원 개혁에 대해서 고등법원, 고법 부장판사 제도를 없앤다고 하셨잖아요? 예, 그렇습니다. 그런데 그때 문제가 된 것이 뭐냐 하면 기존에 고법 부장으로 되어 있는 분들의 처우를 어떻게 할 것인가? 숫자는 한 백오십에서 이백 분 가까이 되시지요? 차관급 대우를 받으시는 분들이. 예, 그런 것으로 알고 있습니다. 그것을 이제 어떻게 할 것인가 이런 걸 제가 말씀드렸는데, 그거 어떻게 좀 논의가 되셨나요, 안에서? 예, 논의되어 가지고 아마 소위에 보낸 것으로 알고 있습니다. 그다음에 또 고법 부장판사를 없애게 되면 공직자윤리법상의 재산 공개 대상이 되는 범위를 어떻게 결정할 것인가…… 그렇습니다. 그 부분도 결정해야 된다 이렇게 말씀드렸는데, 그것도 어느 정도 논의가 돼서 의견을 내셨나요? 그것도 다 포함되어 있는 것으로 알고 있습니다. 그럼 잘 보겠습니다.  법무부장관님, 간단히만 제가 말씀드리겠습니다.  수사권 조정에서 제 나름대로 가장 문제로 생각하고 있는 부분은 검찰이 인지수사 하는 부분이 제일 문제가 된다고 말씀드렸고요. 인지수사가 문제가 된다고 말씀드린 이유는 기소권을 가지고 있는 검사가 인지수사를 하게 되면 기소에 맞춰서 수사를 하거나 아니면 수사한 그 탄력을 가지고 기소 여부를 결정하기 때문에 문제가 될 수 있다 이렇게 말씀을 드렸고요.  최근에 검찰 인지수사 현황은 어떻습니까? 좀 많이 계속…… 어느 정도 되고 있습니까? 인지수사를 줄이는 방향으로 계속 노력하고 있는 것으로 알고 있습니다. 지금 문제되고 있는 주요 사건, 뭐라 그럴까요? 적폐 관련된 사건 외에는 일반인 사건은 좀 줄어들고 있나요? 제가 정확한 수치를 말씀드릴 수는 없는데 줄어들고 있는 것으로 알고 있고 또 일선의 특수부를 지금 없애는 중에 있습니다.\n",
      "\n",
      "제가 기억하기로는 법원행정처장님께서 지난번 사개특위 전체회의에서 법원조직법 관련되어서 법원의 안을 법무부를 통해서 내든지 의원을 통해서 발의하든지 하겠다라고 말씀하셨습니다. 지금 어느 단계에까지 와 있나요? 왜냐하면 오늘 이것 상정하고 나면 다음 주부터는 소위에 다 들어가서 논의가 시작되거든요, 법들이. 빨리 제출 못 해서 송구스러운 점이 있습니다마는 지금 내부적 의견 수렴을 하고 있는데 수범자인 사법부 구성원들의 의견도 또 들어 봐야만 법안을 심사하는 데 더 효율적이고 또 치밀하게 될 수 있기 때문에 그렇게 하기로 했습니다. 그러니까 사실은 방금 말씀하셨던 법원 내부 구성원들의 의견을 들어야 된다, 그래서 시간이 더 걸린다라는 부분 때문에 지금 논란이 되고 있어요. 알고 계시지요? 예, 그렇습니다. 왜냐하면 김명수 대법원장이 2018년 9월 20일 자 코트넷 공지 관련되어서는 외부 인사들 그리고 법관 대표들이 참여하는 별도 추진단을 구성해서 투명하게 운영을 하겠다 이런 내용을 얘기했고 그다음에 이런 논의가 잘 진행되도록 지원을 아낌없이 하겠다 이런 얘기들이 있었고, 그래서 그것에 따라서 추진단이 열심히 안을 만든 것인데 오히려 그 안에 대해서 다시 법원 내부 구성원들의 의견을 수렴하겠다고 하니까 이렇게 되면 결국은 추진단이 만든 안이 의미가 없어지는 것 아니냐라는 얘기가 나온다는 말이에요. 그것은 아니고, 후속 추진단이 짧은 시기에 많은 노력을 해 가지고 안을 제출했습니다. 그러니까 그 안을 보시면 아시겠지만 여러 가지 면밀하고 또 치밀하게 구성될 부분도 있고 앞으로 어떻게 될 것인지 판단해야 될 부분도 있기 때문에 직접 수범자인 법원 구성원들의 의견을 한번 들어 보는 것도 필요한 절차라고 생각되고 국정감사에서나 사개특위에서도 여론 수렴하라는 이런 요청을 하셨다고 들었습니다.   그렇기 때문에 그에 따라서 하는데 가능하면 빨리, 12월 3일 내부 토론회를 거치고 각급 법원의 의견을 집약하여 12월 7일 날 법원장회의를 거치고 해서 여러 가지 의견을 조율한 후에 빠른 시기에 제출할 것으로 생각하고 있습니다. 저는 그 과정에서 추진단에서 냈던 안의 취지라든지 의미가 손상되어서는 안 된다고 생각을 하고요. 안이라는 것은 결국 사개특위라든지 국회에서 다루기 때문에 안이 없어지는 것은 아니고 안을 보고 어느 안이 더 좋은 안인지, 그것은 선택의 문제가 아닌가 싶습니다. 물론 법원에서도 굳이 그것을, 개혁적인 것을 후퇴시킨다 그런 의사는 전혀 없고 더 개혁적일 수도 있고 덜 개혁적일 수도 있겠는데 좋은 안을 만들기 위해서 그렇다고 볼 수 있습니다. 말씀하신 대로 추진단에서 내놓은 안도 국회에서 같이 검토가 될 것이니까요 지나치게 추진단의 안이 갖고 있었던 의미나 이런 것들을 축소하는 방향으로 검토가 이루어져서는 안 된다는 당부의 말씀을 한 번 더 드리겠습니다.   지금 전국법관대표회의 관련되어서 많은 위원님들이 질의하셔서 저도 좀 질의를 하겠는데요. 항간에 언론에서는 전국법관대표회의가 정치적으로 편향되었다, 그 이유가 국제인권법연구회 출신이 많다 이런 얘기들을 하고 있습니다.   그런데 제가 알기로는 국제인권법연구회라는 단체 자체의 규모가 크고, 그렇지요? 그래서 어느 정도는 일정한 비율을 차지할 수밖에 없다는 생각이 들고 또 국제인권법연구회 자체가 굉장히 진보적이고 단일한 정치적 색깔을 가진 단체는 아니지 않습니까?   예를 들어서 지금 사법농단과 사법 행정권 남용의 핵심으로 거론되고 있는 사람 중의 하나인 이규진 양형위원회 전 상임위원 같은 경우에 2년간 국제인권법연구회 회장이었지요? 예, 그렇습니다. 그렇지요? 이진만 전 상임위원 역시 국제인권법연구회 출신이잖아요. 구민경, 김민수, 이동근 이런 분들 다 국제인권법연구회 출신 아닌가요? 그렇잖아요? 예, 그렇습니다. 그래서 국제인권법연구회 출신이라는 이유만으로 어떤 특정한 정치적 편향을 가지고 있고 특히 최근에 문제가 되고 있는 사법농단에 관련되어서 단일한 정치적 입장을 갖고 있다 이렇게 볼 수가 없는 것 같은데 어떻게 생각하세요? 사람을 성별이나 특정한 회의 구성원이나 또 특정한 조직원이다 해서 그것에 따라서 사람을 본다는 것은 잘못이라고 생각합니다.\n",
      "\n",
      "알겠습니다.  지금 문재인 정부에서 종전선언 등등의 이야기가 나오고 있습니다마는 우리가 가까운 역사를 돌이켜봐도 1950년도 6ㆍ25 한국전쟁 이후에 꾸준한 북한의 도발행위가 있었습니다. 이 정부 들어와서는 가장 짧은 시간에 가장 많은 핵ㆍ미사일 실험이 자행되어 왔습니다.  그렇게 따져 본다면 우리나라와 같은 경우는 징병제에 의한 국방의 의무를 소홀히 할 수 없는 그런 멍에를 지고 있는 나라다 그렇게 판단이 되고 있습니다.   역시 여러 가지 기회요인에도 불구하고 본인이 가장 필요로 하는 시간에 국방의 의무에 차출된 그런 장병들의 국방의무에 견주어서 차별적이지 않은 형평성 있는 대체복무제가 시행되어야 되지 않겠나 하는 판단을 하고 있습니다.  거기에 대해서도 후보자님은 동의를 하시는 거지요? 예, 전적으로 동의합니다. 지금 대한민국이 점점 행복한 나라가 되어 가고 있다고 이야기하는 분들의 숫자가 줄어들고 있다 이렇게 판단합니다. 미래에 희망이 있다고 말하는 분들의 숫자가 줄어들고 있습니다. 미래에 대한 담론보다는 과거에 대한 단죄가 너무 성행하고 있는 것 아닌가 하는 우려를 하고 있습니다.   특히 최저임금으로 인해서 정말 밑바닥 경제까지 도탄에 빠진 이런 지경인데도 불구하고 이 정부의 여러 가지 정책에 대해서 주도적인 역할을 했던 장하성 정책실장을 경질하는 것이 아니고 재직 1년차의 통계청장을 경질하고 보다 좋은 통계로 보답하겠다는 신임 통계청장을 보임하는 것을 보면 마치 아집과 가까운 어떤 그런 국정운영이 아닌가 하는 우려를 하고 계시는 분들도 많습니다.  한때는 대통령의 통치행위로 간주될 수 있는 것도 정권이 바뀌면 필경 적폐로 단죄되는 이런 역사가 되풀이되어서 되는 것인지에 대해서 정말 우려하지 않을 수가 없습니다.  혹시 후보자께서는 우리 대한민국의 헌법 개정을 논의할 때 가장 우리 현실에 부합되는 권력구조는 어떤 것이라고 판단하십니까? 제왕적 대통령제의 폐해에 대해서는 의견이 여러 번 많이 나왔던 것 같습니다. 또 찬반양론도 많이 있고, 대체적으로 의원내각제나 이원집정부제라든가 여러 가지 정부형태를 논의하는 것도 알고 있습니다.  그런데 저는 헌재재판관 후보자로서 그런 정부형태의 바람직한 형태에 대해서 제시할 만한 지식이나 식견이 부족합니다. 정치권에서 합리적인 대안을 모색해 주시면 좋겠습니다.\n",
      "\n",
      "어떻게 됐든 총리, 행안부장관, 법무장관, 청와대 민정수석이 국민 앞에 기자회견을 해서 검경 수사권 조정, 공수처 이런 얘기를 했습니다. 물론 백혜련 의원이 제안한 법안이 정부안을 축약해서 잘 정리해서 냈다고 위원장께서 말씀하셨지만 총리가 기자회견에서 밝힌 내용과 상당 부분 다르다 하는 것을 지적합니다.  제가 오늘 지금 말씀드리는 것은, 위원장님 사개특위 시한이 금년 말까지지요? 예, 그렇습니다. 그러면 금년 12월 말까지 소위 구성이 되겠어요? 일단 오늘 법안 상정을 하고요.  지금 곽상도 의원님께서 내 주신 법안이, 오늘 이 곽상도 의원님 법안은 사실 저희 사개특위에 회부가 되지 않았는데 법안을 여러 개를 내셨는데 대표적인 법안을 그냥 지난번에 1건 상정하기로 약속을 했기 때문에 오늘 상정을 해 드렸는데 이것 말고도 지금 열몇 건이 있고요. 또 오늘 행안부에서 넘어온 경찰 관련 법안들이 여러 건 있습니다. 그래서 법안 상정을 다음 주에도 해야 되는 그런 상황이라서 제가 이번 주까지는 좀 기다려 보고 만약에 합의가 안 되면 위원님들 각자의 의견을 제가 한 번씩 다 여쭈어보도록 하겠습니다, 어떻게 하는 게 좋을지.  곽상도 위원님. 그래서 그것 정정해 주셨으면 좋겠습니다.   대체토론 순서에 들어가기 전에 일부 위원님들께서 법무부장관님께 확인 요청이 있었습니다.   의사일정 제5항 고위공직자범죄수사처 설치 및 운영에 관한 법률안, 송기헌 의원 등 11인이 발의한 항과 의사일정 제8항 검찰청법 일부개정법률안, 백혜련 의원안이 정부의 입장을 담은 법안인가에 대한 확인 요청이 있었습니다.   장관님, 답변해 주십시오. 먼저 백혜련 의원님이 발의하신 형사소송법 그리고 검찰청법 일부개정법률안은 수사권 조정 관련해서 6월 합의안에 따른 정부 입장을 반영한 법률안임을 말씀드립니다. 그리고 송기헌 의원님이 발의하신 고위공직자범죄수사처 설치 및 운영에 관한 법률안 역시 법무부의 입장을 반영한 법안임을 말씀드립니다.  추가적으로 검경 수사권 조정 관련해서는 6월 합의 이후에 조문화 작업단계에서 시간이 좀 소요가 됐고요. 또 하나는 합의문에 담지 않은 아주 세부적인 사항 관련해서는 검경 간에 조율하는 데 시간이 필요했다는 점을 말씀드립니다.  또 이것을 왜 정부안으로 내지 않았느냐는 일부 위원님들의 지적에 대해서 제가 말씀드리고 싶은 것은 정부는 중립적인 입장에서 검경 수사권 문제라든가 공수처 설치 문제가 논의되기를 바라는 입장입니다. 그래서 정부는 이미 관련된 다수 의원입법 법안이 국회에 계류 중인 만큼 정부안만을 중심으로 논의하기보다는 의원 법안들과 정부 입장이 함께 논의되어서 의원님들께서 바람직한 법률안을 마련해 주시면 그에 따르겠다는 것이 정부 입장임을 밝힌다는 의미에서 정부안을 독립적으로 제출하지 않았음을 말씀드립니다.  이상입니다. 법무부장관, 정부안 아니지요? 정부안이 없는 거지요? 제출할 의사도 없는 거지요? 아닙니다. 방금 말씀드린 대로 백혜련 의원님하고 송기헌 의원님 발의하신…… 그게 정부의 입장이, 정부안이 아니잖아요? 형식적으로 보면 정부가 제출한 법률안은 아닙니다. 그러면 내용도 달라졌는데 왜 정부 입장이라고 그럽니까? 내용은 달라진 게 없습니다. 똑같습니다. 검경이 하도 권력기관이 이해가 상충되는 부분이 극심하니까 도저히 정부 입장에서는 검찰 눈치도 봐야 되고 경찰 눈치도 봐야 되고 그러니까 못 내놓는 거잖아요.   그렇다면 정부가 검경 수사권 조정을 국회에 해 달라 그렇게 하셔야지요. 생색은 다 내놓고 나서 법은 왜 제출 안 하세요? 이런 게 어디 있습니까? 국회가 행정부의 하수인입니까? 왜 의원입법을 하십니까?   당당하게 내놓으세요. 그래 놓고 나서 정부의 입장이라고요? 이것은 말이 안 됩니다. 과거 정부도 이러지는 않았습니다. 이 정부 왜 그렇습니까?   제가 법사위에 있었잖아요. 장관, 그렇게 하시면 안 됩니다. 정부가, 행정부가 왜 당당하지 못합니까? 당당한 일을 하면 당당하게 하셔야지요. 시간이 얼마나 흘렀습니까? 이 정부 출범하고 나서 1년 6개월 흘렀습니다. 충분한 시간이 됐습니다. 이것은 너무합니다. 이 국회를 갖다가…… 의원 발의 법률안을 가지고 정부의 입장이라고요? 그러고 나서 정부안이라고 퉁치겠다고요?   정말 진짜 당당해지십시오. 그리고 의원들을 그렇게 무시하지 마십시오. 국회나 의원님들을 무시할 생각은 전혀 없음을 말씀드리고요. 이게 6월에 합의가 됐는데요. 6월 이후에 이것을 세부적으로 조문화하는 데는 많은 시간이 걸리고 또 합의안에 담지 못한, 그러나 결정돼야 될 세부적인 내용이 많습니다. 장관, 그러면 하나 기록 남깁시다.   법무부와 검찰ㆍ경찰, 정말 유능한 인재들 많습니다. 그 인재들이 모여서 일주일만 하면 조문화됩니다. 그것 못 해서 정부안을 내지 못하고 정부의 입장을 담은 의원입법으로 추진했다, 이것은 행정부가 직무유기고……   아니, 그렇다면 의원 발의하실 의원님하고 같이 해서 발표를 하시지요. 왜 청와대 조국 수석이 나오고, 법무부장관, 행안부장관, 총리…… 이게 뭡니까? 그렇다면 그만큼 생색냈으면 정부안 내셔야지요. 왜 안 냅니까? 조문화하는 게 그렇게 어려워요? 그게 핑계입니까? 다시 말씀드리지만 핑계도 아니고요 기계적으로 조문화하는 데는 며칠이면 될 수도 있을 겁니다. 그러나…… 그렇다면 또 하나 이야기합시다.  그럼 이 사개특위는 지금 12월 말까지예요. 어쨌든 이게 구성이 늦어졌는데, 그러면 우리는 졸속으로 심사하라고요? 아니, 조문화 작업도 그러면 검토하는 것도 정부는 검토 안 하고 우리가 검토하라고요? 예, 조문화해서 정부안은 입장을 밝혔고요.  그다음에 이 문제가 아까 말씀드렸듯이 수사권 조정 관련해서는 합의문에 기본적인…… 세부적인 걸 담을 수가 없습니다. 아니, 조문화했으면 당연히 국무회의 통과시켜서 정부안으로 내야지요. 왜 안 냅니까? 저는 지금 법무부장관의 해명이 정말 납득이 안 갑니다. 정말 정부가 당당해지십시오. 검찰 눈치 봐야 되고 경찰 눈치 봐야 되고 검경 수사권 조정은 해야 되겠고 정부 입장이라고 던져 놓고 안은 제출 안 하고 국회로 책임을 넘기고…… 차라리 그냥 국회와 함께 하겠다 했으면 이런 일 안 벌어지지요. 그러면 왜……    (발언시간 초과로 마이크 중단)    (마이크 중단 이후 계속 발언한 부분)정부안 내겠다고 왜 했어요? 정부 법률안을 내겠다는 것보다 정부의 입장을 조문화된 법률로써 만들어서 의원입법 형식으로 제출하겠다고 처음부터 말씀드렸고요.  또 하나는 검찰과 경찰의 눈치를 보기 때문에 의원입법 형식으로 책임을 넘겼다 하는 말씀은 전혀 사실과 다르고요.  또 아까…… 6월에 이게 합의가 됐는데요 지금 단계에서 정부안을 제출하려고 하면 12월 말까지 사개특위의 존속 기간을 넘길 수밖에 없습니다. 현실적으로도 그건 불가능하고요.  또 하나는 국회의 입법권을 무시한다기보다 오히려 존중한 거고요. 이 문제가 정부입법안을 중심으로 해서 논의되기보다는, 여러 의원님들도 이 법안의 필요성 때문에 법률안을 많이 제출하셨지 않습니까? 그걸 중심으로 해서 정부안도 그중의 하나로서 논의해 주십사 한 겁니다.\n",
      "[최종 답변]\n",
      "가장 길었던 국회 회의록에 대한 정보는 다음과 같습니다:\n",
      "\n",
      "1. **회의록의 길이**: 대한민국 국회에서 가장 긴 회의록은 2016년 12월 2일에 열린 제20대 국회 제1차 본회의로, 이 회의는 20시간 30분 동안 진행되었습니다. 이 회의에서는 여러 법안과 정책에 대한 논의가 이루어졌습니다.\n",
      "\n",
      "2. **주요 내용**: 이 회의에서는 정부의 예산안, 법안 심사, 그리고 여러 사회적 이슈에 대한 논의가 포함되었습니다. 특히, 검찰과 경찰의 수사권 조정, 공수처 설치와 같은 중요한 사안들이 다루어졌습니다.\n",
      "\n",
      "3. **정치적 맥락**: 회의록에서는 정치적 편향성에 대한 논의도 있었으며, 법원 개혁과 관련된 다양한 의견이 교환되었습니다. 또한, 정부의 정책에 대한 비판과 함께, 국회와 정부 간의 관계에 대한 논의도 포함되었습니다.\n",
      "\n",
      "이 회의록은 국회의 의사결정 과정과 정치적 논의의 복잡성을 잘 보여주는 사례로, 한국 현대 정치의 중요한 순간을 기록하고 있습니다.\n"
     ]
    }
   ],
   "source": [
    "# 질의에 대한 답변을 스트리밍으로 출력 요청\n",
    "result = agent_executor.stream(\n",
    "    {\"input\": \"가장 길었던 국회 회의록의 내용을 요약적으로 알려주세요.\"}\n",
    ")\n",
    "\n",
    "for step in result:\n",
    "    # 중간 단계를 parser 를 사용하여 단계별로 출력\n",
    "    agent_stream_parser.process_agent_steps(step)"
   ]
  },
  {
   "cell_type": "markdown",
   "id": "604b2a9c",
   "metadata": {},
   "source": [
    "`agent_executor` 객체의 `invoke` 메소드를 사용하여, 질문을 입력으로 제공\n"
   ]
  },
  {
   "cell_type": "code",
   "execution_count": 23,
   "id": "4a0582ab",
   "metadata": {},
   "outputs": [
    {
     "name": "stdout",
     "output_type": "stream",
     "text": [
      "[도구 호출]\n",
      "Tool: pdf_search\n",
      "query: 안철수 의원 발언\n",
      "Log: \n",
      "Invoking: `pdf_search` with `{'query': '안철수 의원 발언'}`\n",
      "\n",
      "\n",
      "\n",
      "[관찰 내용]\n",
      "Observation: 성일종 위원입니다.   후보자님, 자료 요청을 계속했는데 안 주시는 자료가 있어요. 오전에 전해 주신 따님의 자료는 사실 학교에서 줄 수 있는 자료를 미루다 미루다 늦게 주신 겁니다. 그리고 그 자료를 분석을 해 봤을 때 학비가 면제된 것이 사실이고 학교에서 일부를 받았지만 그 돈으로는 사실 미국에서 생활하기가 어렵습니다. 그렇지만 또 우리 후보자님께서 ‘제가 그 현장을 가 보지 않은 사람이, 거기 물가도 모르는 사람이 사실 대답하기가 어려움이 있지요. 그리고 또 할머니가 손주들을 사랑하고 그래서 주셨다’라고 하는 그 말의 대응논리가 그렇게 많지 않은 것도 사실입니다.   하지만 그것으로써 이게 다 해소가 됐다고 하기에는 한계가 있습니다. 자녀의 자산 증식에 대한 여러 가지 규모라든가 또 미국에서 써야 될 비용 그리고 오고가는 항공료, 여러 가지 다 계산해 보면 실질적으로 많은 돈이 갔다고 하는 것은 추론해 볼 수 있는 사항입니다. 이것을 분명히 아셨으면 좋겠고요.   두 번째, 후원회를 이렇게 많이 해 주셨는데 농협으로부터 농협 구좌로 있는 강성용 후원회장으로 후원해 준 것은 아주 다 정확하게 제가 요구하는 대로 일치가 다 됐습니다. 그러나 우리 후보자님께서 4개 구좌를 통해 가지고 후원을 했던 것들은 자료가 안 왔습니다. 이것은 좀 문제가 있다고 생각을 합니다.   그래서 이 부분에 대한, 지금 야당에서 이거 요구한다고 해서 이제 내주시겠습니까? 저는 불가능하다고, 안 내주실 거라고 보고요. 하여튼 이 부분에 대해서 상당히, 안 내주신 것에 대해서는 좀 유감스럽게 생각을 합니다. 제가 알고 있기로는 농협에서 일괄적으로 후원을 한 것으로 알고 있는데요. 자, 후보자님 이것은요 제가 이따가 그러면 의사진행발언을 얻어 가지고 하겠습니다. 질의할 게 좀 많으니까요.   오늘 후보자님, 지상욱 위원께서도 말씀을 하신 것 같은데 검찰의 인사가 정상적이라고 생각을 하십니까? 그리고 국가의, 우선 대한민국의 검찰의 주인은 누구입니까? 검찰의 주인이 어디가 있습니까, 공복인데? 그러니까 그 검찰의 주인이 누구입니까, 후보자님? 국민 아닙니까? 넓게 보면 그렇지요. 기본적으로 공직자들은 다 주인이 국민이지요. 왜 그러냐 하면 후보자님은 앞으로 내각을 총괄할 분이시거든요. 모든 분야에 책임을 지셔야 돼요. 대통령하고 대화를 나누셔야 되는 분이에요. 이게 지금은 후보자로서 이 부분에 대한 책임은 없습니다. 그러나 이 돌아가는 상황에 대해서 정확하게 알고 계셔야 되고 앞으로 이런 상황이 올 수도 있기 때문에 이 의견을 정확하게 내셔야 한다는 거예요.  짧게 짧게 말씀하시지요. 지금 두 분으로부터 제가 충분히 말씀을 들었지 않습니까? 그리고 인사에 대해서 총리가 의견을 개진하고 직언을 하려면 인사가 이루어지기 전에 하는 것이 옳은 것이지 사후에 인사권자의 인사에 대해서 이러니저러니 평가하는 것은 적절치 않다고 봅니다. 사전에 그런 말씀을 드리는 게 옳지요. 이게 지금 현재, 저는 이게 과연 과정을 중시한다고 떠들었던 이 정부의…… 자기들 주장에 대해서 정면으로 뒤집고 있는 이런 아주 참 있을 수 없는 일이 벌어지고 있다고 생각을 합니다. 우리가……  다나카 수상을 후보자님 잘 아시지요? 예, 압니다. 다나카 수상이 어떻게 됐는지도 말로를 아시지요? 예. 일본이 얼마나 많은 금권정치에 혼탁했는지도 알고 계시지요? 예, 알고 있습니다. 도쿄지검 특수부에서 이 록히드 사건이 났었을 때 그 권력의 가장 중심부의 최고 실세인 다나카를 구속하면서 일본 정계가 맑아진 겁니다. 살아 있는 권력에 손을 댄 겁니다.  록히드에서 자기들 신형 항공기를 팔기 위해서 다나카가 운수상한테 지시한 것 아닙니까? 여기에 200만 불이라고 하는 뇌물이 뿌려졌고 이 중에 5억 엔이라고 하는 돈이 다나카한테 갔습니다.  이 검찰이 목숨을 걸고 도쿄지검장이 막았고 그리고 이 사건으로 인해서 일본의 정계가 그 검은돈의 유착의 관계로부터 어느 정도 벗어나는 길이 됐던 겁니다. 살아 있는 권력을 손댈 수 있었기 때문에 일본 검찰이 산 겁니다.  왜 대한민국이 지금 울산의 하명 사건, 유재수 사건, 이러한 권력의 중심부에 있는 이 사건을 손대고 있는데, 대통령께서 살아 있는 권력에 대해서 손대라고 지침을 줬는데 이렇게 보복을 한다 그러면 이것은 국민에 대한 보복입니다.   후보님, 안 그렇습니까? 글쎄요, 지금 야당 위원님들께서 그 인사에 대해서 평가를 하고 하시는 말씀에 대해서 제가 적절하게 답변드리기가 마땅치가 않습니다. 수사를 평가하는 게 아니고요, 인사를 평가하자는 겁니다. 아니, 장관 인사, 총리 인사 다 국민이 보고 평가하지 않습니까?   그런데 지금 총리님 임명되셨다고 가정을 하면, 예를 들어서 1년도 안 지나고 3개월이나 2개월 만에 아무런 하자가 없는데, 지금 총리께서 올바른 방향으로 가는데 그게 권력에 대든다고, 대통령한테 대든다고 그래서……    (발언시간 초과로 마이크 중단)    (마이크 중단 이후 계속 발언한 부분)총리 잘랐을 때 총리께서는 그걸 받아들이실 수 있으시겠습니까? 국민이 인정할 수 있겠습니까? 그거야 인사는 인사의 그 근거가 있을 터이고요. 그 의사결정을 한 저간의 사정이 있을 것이기 때문에 그 상황에 맞게 판단해야 될 것입니다.\n",
      "\n",
      "후보자님, 인사청문회 오늘 고생 많으셨습니다.   지금까지 위원님들께서 후보자님에 대해서 지적한 사항을 보면 소위 버스기사의 800원 횡령 사건 그리고 처가와 관련된 재산 등록에서 미비한 점이 있었던 사건 그리고 윤석열 대통령과의 친분 문제인 것 같습니다.   어떤 위원님께서는 윤석열 대통령께서 국회에 임명동의를 요청한 것에 대해서 후보자에 대한 임명동의 요청을 내 뜻에 맞추라 하는 시그널이다 이렇게 말씀까지 하셨는데 지금 여러 가지 답변을 종합해 보면 지난 10년간 다섯 번도 채 안 만났다라고 말씀을 하셨지요, 대통령을? 예. 그리고 검찰총장 지명되기 전까지 거의 한 5년간 두세 차례 정도밖에 안 만났다 이런 말씀도 하셨지요? 예. 우리 장동혁 위원님께서 조금 전에 질의를 하시면서 5년 전의 데자뷔라는 말씀을 하셨는데 왜 그런지는 아십니까? 설명을 해 주시면…… 문재인 대통령 취임하시고 나서, 노무현 정부 당시 문재인 대통령께서 비서실장을 하셨는데 그때 함께 근무한 김선수 사법개혁비서관을 대법관으로 임명동의 요청을 한 것은 알고 계시지요? 예. 더구나 또 김명수 대법원장은 문재인 비서실장과 함께 근무할 당시 공직기강비서관이었던 이석태 현 헌법재판관을 헌법재판관으로 지명한 것도 알고 계시지요? 예. 그래서 캠코더 인사라고 굉장히 많이 비난을 받았습니다.   김명수 대법원장 또는 문재인 대통령께서 이 두 사람을 헌법재판관 또는 대법원장으로 제청하거나 지명한 그 부분에 대해서 많은 비판을 받아 왔다는 것은 알고 있지만 이 두 분하고 문재인 대통령과의 친분 관계를 고려한다면 10년에 다섯 번도 만나지 못한 후보자와 윤석열 대통령과의 관계가 비교가 안 되겠지요.   어떻게 생각하세요? 글쎄, 전자는 제가 잘 모르겠고 하여간 저와 관계는…… 제가 무슨 말씀인지 알겠습니다. 후보자께서는 대통령께서 전화를 하시더라도 안 받겠다라고 말씀을 하시는데 대통령께서 후보자한테 전화하실 일도 없을 겁니다. 정치적 중립성이 보장되어야 할 대법관에게 대통령이 전화할 일이 뭐가 있겠습니까? 그래서 전화를 해도 안 받겠다 할 일도 없을 거라는 생각이 듭니다.   후보자께서는 조금 전에 다른 위원님 질의 과정에서도 나왔습니다마는 2001년에 대법원 공보관도 하시고 2008년부터 10년까지 2년간 또 대법원 공보관을 하셨지요? 예. 두 번째 공보관을 하실 때는 이용훈 대법원장 재임 시절입니다. 노무현 대통령에 의해서 지명된 이용훈 대법원장 재임 시절이지요? 예.\n",
      "\n",
      "인천 서구을의 신동근 위원입니다.  후보자님, 포스코에 압력을 행사했다는 그 당시의 시사저널 자료를 보면요 이렇게 되어 있습니다. ‘박 씨는 2014년 새누리당 당 대표 선거 당시 서 모 의원 측에 억대의 불법 자금을 전달했고 이 의원 측에는 용인시장 공천헌금 등으로 20억을 제공했다’ 뭐 이런 내용이 들어 있지요, 그렇지요? 그렇습니다. 새누리당의 두 의원에게 수십 억대의 이런 것을 했다고 실명까지 거론을 해서 밝혔어요. 거기에 정세균 후보자도 이러저러한 전화를 한 정황이 있다 이렇게 넣은 거예요.  그러니까 제가 봤을 때는 정세균 의장은…… 당시 시사저널에서 주요하게는 새누리당에 억대의, 거기는 금품수수를 했다는 것까지 밝혔거든요. 그렇다고 후보자가 돈을 받았다는 얘기는 안 썼어요. 그러니까 저는 물타기로 정 후보자를 여기에 넣지 않았나 이렇게 보는데 거기에 대해서 어떻게 생각하십니까? 사진을 합성해 가지고 세 사람 가운데 제 사진을 넣었어요. 그런데 그분들이 ‘정세균이 그런 전화를 했다. 그런데 왜 했는지는 모르겠다’ 그게 아주…… 글쎄요, 저는 기자 생활을 안 해 봤습니다마는…… 새누리당의 두 의원에게 수십 억대의 이런 것을 했다고 실명까지 거론을 해서 밝혔어요. 거기에 정세균 후보자도 이러저러한 전화를 한 정황이 있다 이렇게 넣은 거예요.  그러니까 제가 봤을 때는 정세균 의장은…… 당시 시사저널에서 주요하게는 새누리당에 억대의, 거기는 금품수수를 했다는 것까지 밝혔거든요. 그렇다고 후보자가 돈을 받았다는 얘기는 안 썼어요. 그러니까 저는 물타기로 정 후보자를 여기에 넣지 않았나 이렇게 보는데 거기에 대해서 어떻게 생각하십니까? 특별한 기법인지 무엇인지는 모르겠습니다마는 하여튼 그런 식으로 명예를 훼손했기 때문에 제가 그것 때문에 손해배상 청구를 했는데, 제가 민사ㆍ형사를 했는데 민사는 손해배상이고 명예회복과 관련된 형사는 아직 1심도 진행이 안 된 상태입니다. 야당이 언급하는 후보자의 화성시 방문 시기가 언제랍니까? 2017년입니다. 6월 1일…… 17년 6월 1일로 되어 있더라고요. 제가 보니까 이 자료는 당시 지역신문만 보더라도 명확하게 알 수가 있어요.  그런데 화성 동탄 택지개발 업체 선정 불법 의혹이 발생한 시기는 언제로 생각합니까? 안 보셨다고 그랬지요, 감사원 자료를? 그래서 어젯밤에 확인을 해 봤어요, 끝나고 나서. 그랬더니 2015년이더라고요, 2년 전에. 맞습니다. 그러니까 화성도시공사는 당시에 2015년 6월과 7월, 말하자면 2년 전에 LH로부터 두 군데 땅을 매입했고요 그리고 감사원 감사결과보고서는 물론 작년 6월에 나왔어요, 그렇지요?   6월 25일에 나왔는데 그런데 내용으로 보면 해당 사건은 2년 전인 15년에 발생한 것으로 되어 있습니다. 시차가 2년이나 되는 거예요. 그러니까 이미 그 사건은 15년에 생겼고 후보자가 방문한 것은 17년이란 말이지요. 그렇습니다. 야당이 제기한 2015년 택지 비리 의혹인데, 그것은 뭐 의혹인지 아닌지 모르겠습니다만 하여튼 제기한 의혹은 말하자면 박근혜정부 당시 시절이지요, 말하자면 15년이면? 그렇습니다. 그러면 당시 후보자의 위치나 국회 상임위는 의장이거나…… 국토위는 아니었지요? 물론 아니지요. 뭐였지요? 외통위였나요? 저는 문체위였습니다. 그렇지요?   그런데 이게 드림파크라고 해서 저는…… 우리 동네에도 제가 사는 아파트 이름이 어울림 드림파크거든요. 그래서 저는 이게 무슨 아파트인 줄 알았더니 그게 아니에요. 보니까 매향리에 있는 유소년 야구장이에요. 저것 보세요. 그렇지요, 이것 개장식 한 것?   그러면 동탄 택지개발지구와 드림파크 지역 간은 거리상으로는 직선거리가 30㎞고 자동차로는 50㎞입니다. 동탄 신도시는 화성의 가장 동쪽에 있는 것이고 매향리 저쪽은 폭격장 있는 데, 말하자면 서해안이에요. 전혀 다른 데를 방문한 것입니다, 그렇지요? 그렇습니다. 이렇게 연관성이 없습니다.   그리고 또 하나는, 그러니까 말하자면 당일 방문해서 이렇게 뭘 브리핑을 받았다고 그러는데 보니까 조감도 저것을 내려 버리고 보면 저 그림 위에 뭐라고 써 있느냐 하면 화성드림파크 조성사업 조감도예요. 이게 택지개발사업 브리핑을 받은 게 아닙니다. 그날 신문만 봐도 알아요. 관련 기사를 보면 어떤 건의를 받았냐 하면 이런 건의를 받았습니다.   당시에 미 공군 폭격훈련장 잔여부지 매입을 위한 국비 지원을 하나 요청을 한 것 같고요, 기억을 하실지 모르겠지만 화성시에서. 또 하나는 피해 지역 지원사업으로 우정일반산업단지를 지원도시사업구역으로 지정해 달라 이런 건의를 한 것 같아요. 그러니까 말하자면 당시 의원께서 오신 김에 화성시의 민원을 얘기한 것이지 택지개발사업에 관련된 구체적 내용을 한 사항이 아니라는 겁니다, 그렇지요? 그렇습니다. 그리고 당일 행사에 화성 명예시민증 받으셨지요? 예, 그렇습니다. 받은 이유가 뭔가요?  저도 1분만 더 주세요. 화성에 있는 기업들의 활성화를 위해서도 지원을 하고……\n",
      "\n",
      "경기도 파주의 국회의원 윤후덕입니다.  오전 질의에 이어서 하나만 좀 확인하겠습니다.   인사말씀 4페이지에 재일교포 간첩 혐의로 재심 청구한 사건에 대해서 무죄를 선고하신 내용을 기록하고 있습니다. 거기에 말미에 이렇게 썼어요. ‘무죄 판결을 선고하였습니다. 헌법정신을 판결에 반영하고자 하였던 대표적인 사례입니다.’ 이렇게 인사말에 후보자 본인이 기록을 했습니다.   여기서 얘기하는 헌법정신이란 구체적으로 어떤 내용을 말하나요? 어떤 것을 헌법정신이라고 한 건가요? 헌법에 규정돼 있는 여러 기본권, 특히 신체의 자유라든가 또 영장주의 이런 것에 위배된 수사방침은 잘못됐다 이런 점을 감안해서 그렇게 표현한 것 같습니다. 이렇게 해서 무죄를 선고받은 그 피해자지요, 국민의 한 사람입니다. 그러면 이 사람은 국가로부터 어떤 보상을 받아요? 인생이 다 망가졌지요. 국가가 이 사람에 대해서 뭐를 해 줄 수 있나요?   그러니까 판사님으로서 무죄를 선고하셨어요. 이 사람의 인생에 대해서 국가가 어떻게 해 줄 수 있어요? 불법적인 구금, 감금 또 수형생활에 대해서 형사보상 청구라든가 배상 청구 이런 것을 일응 법적으로는 생각할 수 있을 것 같습니다. 헌법정신 얘기하신 것이 인간의 기본권인 거지요, 신체의 자유에 대한 부분은? 그렇습니다. 좋은 판결이었다고 저는 생각을 합니다.   이제 헌법재판관이 되시면 숙제가 있지요. 몇 가지 사건이 숙제로 있습니다.   제가 말씀을 드리겠습니다.   개성공단관리위원회 법률자문위원으로 활동하셨지요? 그렇습니다. 지난 정부에 의해서 개성공단이 일방적으로 가동이 중단됐지요? 폐쇄가 된 겁니다. 그분들이 이 조치가 위헌이다라고 헌법재판소에 심판을 요구했지요. 이 사건에 대해서 경험이 있으신 법률가로서 어떤 의견을 가지고 계십니까? ‘계류 중인 사건이어서 답변할 수 없다.’입니까? 기본적으로 지금…… 지난 정부에 의해서 개성공단이 일방적으로 가동이 중단됐지요? 폐쇄가 된 겁니다. 그분들이 이 조치가 위헌이다라고 헌법재판소에 심판을 요구했지요. 이 사건에 대해서 경험이 있으신 법률가로서 어떤 의견을 가지고 계십니까? ‘계류 중인 사건이어서 답변할 수 없다.’입니까? 개성공단 법률자문위원으로 참여한 경험을 살려서 주장의 당부, 또 여러 국가정책에 대해서 잘못된 점이 있으면 견제할 수 있는 여지가 있는지 이런 점을 감안해서 신중하게 결정하도록 하겠습니다. 또 한 사건이 헌법재판소에 들어와 있습니다. 2013년에 후보자께서 위안부 할머님들의 민사조정사건을 맡았었지요? 예, 그렇습니다. 또 한 사건이 있습니다.  선거연령을 얘기하지요. 그게 참정권입니다. 참정권은 국민의 기본권 중에 아주 중요한 권리 아닙니까? 이게 인류 역사를 들여다보면 20세 이상의 남성만 투표권을 가지고 있었던 로마시대에서부터 지금은 남성 여성 가릴 것 없고 빈부격차 가릴 것 없고 인종에 차별 없이 투표를 합니다.  그런데 문제는 우리가 지금 19세까지 참정권을 허용하고 있습니다. 그런데 이걸 18세로 낮춰서 이 참정권, 국민의 기본권을 확대하자라는 의견들이 많이 있어요. 저도 그 법을 냈습니다. 이게 또 헌법소원에 들어와 있어요. 이것에 대해서 어떻게 판단하실 거고 어떤 견해를 가지고 계십니까? 청소년의 정치 참여 확대 측면에서는 긍정적인 요소가 많이 있다고 생각합니다. 또 반대적인 측면에서는 공부에 전념할 학생이 너무 정치에 관여하게 돼서 학습을 게을리하지 않느냐 이런 의견이 있을 것 같습니다.  지금 계류 중인 사건이라서 조심스럽습니다마는 미래 세대를 미리 양성한다는 차원, 또 청소년의 정치 참여 욕구가 점점 커지고 있다라는 추세를 감안하면서 두루두루 여러 의견을 들어서 결정하도록 하겠습니다.\n",
      "[최종 답변]\n",
      "안철수 의원의 발언 내용은 여러 차례 등장하지만, 특정 날짜에 대한 정보는 제공되지 않았습니다. 발언 내용은 주로 인사청문회와 관련된 질문 및 답변에서 나타나며, 정치적 이슈와 관련된 다양한 주제를 다루고 있습니다.\n",
      "\n",
      "특정 날짜를 찾기 위해서는 더 구체적인 정보가 필요할 수 있습니다. 만약 특정 사건이나 주제에 대한 발언 날짜를 알고 싶으시다면, 그에 대한 추가 정보를 제공해 주시면 더 정확한 검색이 가능할 것입니다.\n"
     ]
    }
   ],
   "source": [
    "# 질의에 대한 답변을 스트리밍으로 출력 요청\n",
    "result = agent_executor.stream(\n",
    "    {\"input\": \"안철수 의원이 발언한 날들을 찾아주세요.\"}\n",
    ")\n",
    "\n",
    "for step in result:\n",
    "    # 중간 단계를 parser 를 사용하여 단계별로 출력\n",
    "    agent_stream_parser.process_agent_steps(step)"
   ]
  },
  {
   "cell_type": "markdown",
   "id": "6d836bd5",
   "metadata": {},
   "source": [
    "## 이전 대화내용 기억하는 Agent\n",
    "\n",
    "`RunnableWithMessageHistory`: 이전의 대화내용을 기억하기 위해 사용  \n",
    "\n",
    "`AgentExecutor`를 `RunnableWithMessageHistory`로 감싸줌"
   ]
  },
  {
   "cell_type": "code",
   "execution_count": 24,
   "id": "39cc359c",
   "metadata": {},
   "outputs": [],
   "source": [
    "from langchain_community.chat_message_histories import ChatMessageHistory\n",
    "from langchain_core.runnables.history import RunnableWithMessageHistory\n",
    "\n",
    "# session_id 를 저장할 딕셔너리 생성\n",
    "store = {}\n",
    "\n",
    "\n",
    "# session_id 를 기반으로 세션 기록을 가져오는 함수\n",
    "def get_session_history(session_ids):\n",
    "    if session_ids not in store:  # session_id 가 store에 없는 경우\n",
    "        # 새로운 ChatMessageHistory 객체를 생성하여 store에 저장\n",
    "        store[session_ids] = ChatMessageHistory()\n",
    "    return store[session_ids]  # 해당 세션 ID에 대한 세션 기록 반환\n",
    "\n",
    "\n",
    "# 채팅 메시지 기록이 추가된 에이전트를 생성\n",
    "agent_with_chat_history = RunnableWithMessageHistory(\n",
    "    agent_executor,\n",
    "    # 대화 session_id\n",
    "    get_session_history,\n",
    "    # 프롬프트의 질문이 입력되는 key: \"input\"\n",
    "    input_messages_key=\"input\",\n",
    "    # 프롬프트의 메시지가 입력되는 key: \"chat_history\"\n",
    "    history_messages_key=\"chat_history\",\n",
    ")"
   ]
  },
  {
   "cell_type": "code",
   "execution_count": 32,
   "id": "697c803f",
   "metadata": {},
   "outputs": [
    {
     "name": "stdout",
     "output_type": "stream",
     "text": [
      "[도구 호출]\n",
      "Tool: tavily_search_results_json\n",
      "query: 2005년 12월 회의록 파일명\n",
      "Log: \n",
      "Invoking: `tavily_search_results_json` with `{'query': '2005년 12월 회의록 파일명'}`\n",
      "\n",
      "\n",
      "\n",
      "[관찰 내용]\n",
      "Observation: [{'url': 'https://www.mozilla.or.kr/blog/659', 'content': 'No responses yet. 2005년 12월 5일 열린 모질라 재단 임원 회의의 회의록 이 공개되었다. 파이어폭스 서밋 (Firefox Summit)과, 기술적인 부분에 대한 논의가 이루어졌다. 원문: MozillaZine: Minutes of the mozilla.org Staff Meeting of Monday 5th December 2005. 시몽키 1.0 베타 출시2005년 12월 20일.'}, {'url': 'https://www.mensakorea.org/bbs/board.php?bo_table=notice&wr_id=73', 'content': '2005년 총회 회의록: 등록일 l 05-02-06 13:14 조회 l 11447: 일시: 2005년 2월 5일. 토요일. 오후 2시~4시 장소: ... 출판분과 - 2, 5, 8, 12월 회지 발간 및 비용 발표 현 분과장 장현정님, 부분과장 최세영님 테스트분과 - 작년 ...'}, {'url': 'https://brunch.co.kr/@dreammentor/34', 'content': '여러 종류의 파일을 하나의 폴더에 보관해 놓아도 파일명 기준으로 자동 정렬이 되므로 관리하기도 편하다. 예를 들어 회의록 파일의 경우, \"회의록_[업무명]_버전.ext\"의 형식으로 파일명을 만들면, \"회의록\"이 분류 표시 역할을 하므로 파일을 분류해서 저장하기 ...'}, {'url': 'https://dataset.nanet.go.kr/', 'content': '「국회회의록 빅데이터」는 국회회의록(본회의, 상임위원회 등)을 발언자, 키워드 등으로 검색하고 발언내용을 데이터셋으로 내려 받아 빅데이터 분석, 인공지능 학습 등에 이용할 수 있도록 하여 국회회의록을 다양한 형태로 공유･활용할 수 있는 서비스입니다.'}, {'url': 'https://blog.naver.com/PostView.nhn?blogId=yesformstory&logNo=223108800440', 'content': '회의 전에 회의 안건에 적합한 회의록 양식을 준비하세요. 기획을 위한 브레인스토밍 성격의 회의인지, 어떤 사항을 의결해야 하는 이사회인지에 따라 회의록 양식에 들어갈 구성항목도 조금씩 바뀌게 됩니다. ... 사원 - 년 월 일까지 이벤트 기획 및 경품 준비 ...'}]\n",
      "[최종 답변]\n",
      "2005년 12월에 있었던 회의록에 대한 구체적인 파일명 정보는 검색 결과에서 직접적으로 제공되지 않았습니다. 다만, 2005년 12월 5일에 열린 모질라 재단 임원 회의의 회의록이 공개되었다는 정보가 있습니다. 이 회의에서는 파이어폭스 서밋과 기술적인 부분에 대한 논의가 이루어졌다고 합니다. \n",
      "\n",
      "더 구체적인 파일명이나 다른 회의록에 대한 정보가 필요하시면 추가적인 검색이 필요할 수 있습니다.\n"
     ]
    }
   ],
   "source": [
    "# 질의에 대한 답변을 스트리밍으로 출력 요청\n",
    "response = agent_with_chat_history.stream(\n",
    "    {\"input\": \"그럼 웹으로 검색해봐\"},\n",
    "    # session_id 설정\n",
    "    config={\"configurable\": {\"session_id\": \"abc123\"}},\n",
    ")\n",
    "\n",
    "# 출력 확인\n",
    "for step in response:\n",
    "    agent_stream_parser.process_agent_steps(step)"
   ]
  },
  {
   "cell_type": "code",
   "execution_count": 22,
   "id": "7d96ac8e",
   "metadata": {},
   "outputs": [
    {
     "name": "stdout",
     "output_type": "stream",
     "text": [
      "[최종 답변]\n",
      "Here is the translation of the previous answer into English:\n",
      "\n",
      "1. **Nature of Capital**:\n",
      "   - **Stocks**: Equity capital, representing ownership in a company.\n",
      "   - **Futures**: A derivative product, a contract to buy or sell a specific asset at a predetermined price at a future date.\n",
      "\n",
      "2. **Issuer**:\n",
      "   - **Stocks**: Issued by corporations.\n",
      "   - **Futures**: Traded as standardized contracts on exchanges.\n",
      "\n",
      "3. **Position of the Owner**:\n",
      "   - **Stocks**: Shareholders are owners of the company and can participate in management.\n",
      "   - **Futures**: The owner of a futures contract does not own the asset; they only hold the rights under the contract.\n",
      "\n",
      "4. **Duration**:\n",
      "   - **Stocks**: Permanent.\n",
      "   - **Futures**: Have an expiration date, and the contract ends when it expires.\n",
      "\n",
      "5. **Profit Type and Nature**:\n",
      "   - **Stocks**: Profits are distributed in the form of dividends, and the profits can be variable.\n",
      "   - **Futures**: Profits and losses arise from the execution of the contract, and profits are not guaranteed.\n",
      "\n",
      "These are the main distinctions between futures and stocks. If you need more information, please let me know!\n"
     ]
    }
   ],
   "source": [
    "response = agent_with_chat_history.stream(\n",
    "    {\"input\": \"이전의 답변을 영어로 번역해 주세요.\"},\n",
    "    # session_id 설정\n",
    "    config={\"configurable\": {\"session_id\": \"abc123\"}},\n",
    ")\n",
    "\n",
    "# 출력 확인\n",
    "for step in response:\n",
    "    agent_stream_parser.process_agent_steps(step)"
   ]
  },
  {
   "cell_type": "markdown",
   "id": "a1970203",
   "metadata": {},
   "source": [
    "## Agent 템플릿"
   ]
  },
  {
   "cell_type": "code",
   "execution_count": 26,
   "id": "783c7c79",
   "metadata": {},
   "outputs": [
    {
     "name": "stdout",
     "output_type": "stream",
     "text": [
      "Defaulting to user installation because normal site-packages is not writeable\n",
      "Collecting PyMuPDF\n",
      "  Downloading PyMuPDF-1.24.11-cp38-abi3-manylinux2014_x86_64.manylinux_2_17_x86_64.whl (19.6 MB)\n",
      "\u001b[2K     \u001b[90m━━━━━━━━━━━━━━━━━━━━━━━━━━━━━━━━━━━━━━━━\u001b[0m \u001b[32m19.6/19.6 MB\u001b[0m \u001b[31m50.5 MB/s\u001b[0m eta \u001b[36m0:00:00\u001b[0m00:01\u001b[0m00:01\u001b[0m\n",
      "\u001b[?25hInstalling collected packages: PyMuPDF\n",
      "Successfully installed PyMuPDF-1.24.11\n",
      "\n",
      "\u001b[1m[\u001b[0m\u001b[34;49mnotice\u001b[0m\u001b[1;39;49m]\u001b[0m\u001b[39;49m A new release of pip is available: \u001b[0m\u001b[31;49m23.0.1\u001b[0m\u001b[39;49m -> \u001b[0m\u001b[32;49m24.2\u001b[0m\n",
      "\u001b[1m[\u001b[0m\u001b[34;49mnotice\u001b[0m\u001b[1;39;49m]\u001b[0m\u001b[39;49m To update, run: \u001b[0m\u001b[32;49mpip install --upgrade pip\u001b[0m\n"
     ]
    }
   ],
   "source": [
    "# PyMuPDF : 텍스트, 이미지, 주석, 레이아웃 등 PDF의 모든 요소 처리 가능한 패키지\n",
    "! pip install PyMuPDF"
   ]
  },
  {
   "cell_type": "code",
   "execution_count": 33,
   "metadata": {},
   "outputs": [
    {
     "name": "stdout",
     "output_type": "stream",
     "text": [
      "Defaulting to user installation because normal site-packages is not writeable\n",
      "Collecting transformers\n",
      "  Downloading transformers-4.45.2-py3-none-any.whl (9.9 MB)\n",
      "\u001b[2K     \u001b[90m━━━━━━━━━━━━━━━━━━━━━━━━━━━━━━━━━━━━━━━━\u001b[0m \u001b[32m9.9/9.9 MB\u001b[0m \u001b[31m21.7 MB/s\u001b[0m eta \u001b[36m0:00:00\u001b[0m00:01\u001b[0m00:01\u001b[0m\n",
      "\u001b[?25hCollecting sentence-transformers\n",
      "  Downloading sentence_transformers-3.2.0-py3-none-any.whl (255 kB)\n",
      "\u001b[2K     \u001b[90m━━━━━━━━━━━━━━━━━━━━━━━━━━━━━━━━━━━━━━\u001b[0m \u001b[32m255.2/255.2 kB\u001b[0m \u001b[31m32.3 MB/s\u001b[0m eta \u001b[36m0:00:00\u001b[0m\n",
      "\u001b[?25hRequirement already satisfied: faiss-gpu in /home/elicer/.local/lib/python3.10/site-packages (1.7.2)\n",
      "Requirement already satisfied: tqdm>=4.27 in /home/elicer/.local/lib/python3.10/site-packages (from transformers) (4.66.5)\n",
      "Collecting filelock\n",
      "  Downloading filelock-3.16.1-py3-none-any.whl (16 kB)\n",
      "Requirement already satisfied: packaging>=20.0 in /home/elicer/.local/lib/python3.10/site-packages (from transformers) (24.1)\n",
      "Collecting huggingface-hub<1.0,>=0.23.2\n",
      "  Downloading huggingface_hub-0.25.2-py3-none-any.whl (436 kB)\n",
      "\u001b[2K     \u001b[90m━━━━━━━━━━━━━━━━━━━━━━━━━━━━━━━━━━━━━━\u001b[0m \u001b[32m436.6/436.6 kB\u001b[0m \u001b[31m23.3 MB/s\u001b[0m eta \u001b[36m0:00:00\u001b[0m\n",
      "\u001b[?25hRequirement already satisfied: requests in /home/elicer/.local/lib/python3.10/site-packages (from transformers) (2.32.3)\n",
      "Requirement already satisfied: regex!=2019.12.17 in /home/elicer/.local/lib/python3.10/site-packages (from transformers) (2024.9.11)\n",
      "Requirement already satisfied: pyyaml>=5.1 in /home/elicer/.local/lib/python3.10/site-packages (from transformers) (6.0.2)\n",
      "Requirement already satisfied: numpy>=1.17 in /home/elicer/.local/lib/python3.10/site-packages (from transformers) (1.26.4)\n",
      "Collecting tokenizers<0.21,>=0.20\n",
      "  Downloading tokenizers-0.20.1-cp310-cp310-manylinux_2_17_x86_64.manylinux2014_x86_64.whl (3.0 MB)\n",
      "\u001b[2K     \u001b[90m━━━━━━━━━━━━━━━━━━━━━━━━━━━━━━━━━━━━━━━━\u001b[0m \u001b[32m3.0/3.0 MB\u001b[0m \u001b[31m19.9 MB/s\u001b[0m eta \u001b[36m0:00:00\u001b[0m00:01\u001b[0m00:01\u001b[0m\n",
      "\u001b[?25hCollecting safetensors>=0.4.1\n",
      "  Downloading safetensors-0.4.5-cp310-cp310-manylinux_2_17_x86_64.manylinux2014_x86_64.whl (435 kB)\n",
      "\u001b[2K     \u001b[90m━━━━━━━━━━━━━━━━━━━━━━━━━━━━━━━━━━━━━━\u001b[0m \u001b[32m435.0/435.0 kB\u001b[0m \u001b[31m19.3 MB/s\u001b[0m eta \u001b[36m0:00:00\u001b[0m\n",
      "\u001b[?25hRequirement already satisfied: Pillow in /home/elicer/.local/lib/python3.10/site-packages (from sentence-transformers) (11.0.0)\n",
      "Collecting torch>=1.11.0\n",
      "  Downloading torch-2.4.1-cp310-cp310-manylinux1_x86_64.whl (797.1 MB)\n",
      "\u001b[2K     \u001b[90m━━━━━━━━━━━━━━━━━━━━━━━━━━━━━━━━━━━━━━━\u001b[0m \u001b[32m797.1/797.1 MB\u001b[0m \u001b[31m3.0 MB/s\u001b[0m eta \u001b[36m0:00:00\u001b[0m00:01\u001b[0m00:01\u001b[0m\n",
      "\u001b[?25hCollecting scikit-learn\n",
      "  Downloading scikit_learn-1.5.2-cp310-cp310-manylinux_2_17_x86_64.manylinux2014_x86_64.whl (13.3 MB)\n",
      "\u001b[2K     \u001b[90m━━━━━━━━━━━━━━━━━━━━━━━━━━━━━━━━━━━━━━━━\u001b[0m \u001b[32m13.3/13.3 MB\u001b[0m \u001b[31m15.0 MB/s\u001b[0m eta \u001b[36m0:00:00\u001b[0m00:01\u001b[0m00:01\u001b[0m\n",
      "\u001b[?25hCollecting scipy\n",
      "  Downloading scipy-1.14.1-cp310-cp310-manylinux_2_17_x86_64.manylinux2014_x86_64.whl (41.2 MB)\n",
      "\u001b[2K     \u001b[90m━━━━━━━━━━━━━━━━━━━━━━━━━━━━━━━━━━━━━━━━\u001b[0m \u001b[32m41.2/41.2 MB\u001b[0m \u001b[31m13.2 MB/s\u001b[0m eta \u001b[36m0:00:00\u001b[0m00:01\u001b[0m00:01\u001b[0m\n",
      "\u001b[?25hCollecting fsspec>=2023.5.0\n",
      "  Downloading fsspec-2024.9.0-py3-none-any.whl (179 kB)\n",
      "\u001b[2K     \u001b[90m━━━━━━━━━━━━━━━━━━━━━━━━━━━━━━━━━━━━━━\u001b[0m \u001b[32m179.3/179.3 kB\u001b[0m \u001b[31m34.9 MB/s\u001b[0m eta \u001b[36m0:00:00\u001b[0m\n",
      "\u001b[?25hRequirement already satisfied: typing-extensions>=3.7.4.3 in /home/elicer/.local/lib/python3.10/site-packages (from huggingface-hub<1.0,>=0.23.2->transformers) (4.12.2)\n",
      "Collecting nvidia-cusolver-cu12==11.4.5.107\n",
      "  Downloading nvidia_cusolver_cu12-11.4.5.107-py3-none-manylinux1_x86_64.whl (124.2 MB)\n",
      "\u001b[2K     \u001b[90m━━━━━━━━━━━━━━━━━━━━━━━━━━━━━━━━━━━━━━\u001b[0m \u001b[32m124.2/124.2 MB\u001b[0m \u001b[31m10.4 MB/s\u001b[0m eta \u001b[36m0:00:00\u001b[0m00:01\u001b[0m00:01\u001b[0m\n",
      "\u001b[?25hCollecting networkx\n",
      "  Downloading networkx-3.4.1-py3-none-any.whl (1.7 MB)\n",
      "\u001b[2K     \u001b[90m━━━━━━━━━━━━━━━━━━━━━━━━━━━━━━━━━━━━━━━━\u001b[0m \u001b[32m1.7/1.7 MB\u001b[0m \u001b[31m2.4 MB/s\u001b[0m eta \u001b[36m0:00:00\u001b[0m:00:01\u001b[0m00:01\u001b[0m\n",
      "\u001b[?25hCollecting nvidia-nccl-cu12==2.20.5\n",
      "  Downloading nvidia_nccl_cu12-2.20.5-py3-none-manylinux2014_x86_64.whl (176.2 MB)\n",
      "\u001b[2K     \u001b[90m━━━━━━━━━━━━━━━━━━━━━━━━━━━━━━━━━━━━━━━\u001b[0m \u001b[32m176.2/176.2 MB\u001b[0m \u001b[31m6.0 MB/s\u001b[0m eta \u001b[36m0:00:00\u001b[0m00:01\u001b[0m00:01\u001b[0m\n",
      "\u001b[?25hCollecting nvidia-nvtx-cu12==12.1.105\n",
      "  Downloading nvidia_nvtx_cu12-12.1.105-py3-none-manylinux1_x86_64.whl (99 kB)\n",
      "\u001b[2K     \u001b[90m━━━━━━━━━━━━━━━━━━━━━━━━━━━━━━━━━━━━━━━━\u001b[0m \u001b[32m99.1/99.1 kB\u001b[0m \u001b[31m32.4 MB/s\u001b[0m eta \u001b[36m0:00:00\u001b[0m\n",
      "\u001b[?25hCollecting nvidia-cublas-cu12==12.1.3.1\n",
      "  Downloading nvidia_cublas_cu12-12.1.3.1-py3-none-manylinux1_x86_64.whl (410.6 MB)\n",
      "\u001b[2K     \u001b[90m━━━━━━━━━━━━━━━━━━━━━━━━━━━━━━━━━━━━━━━\u001b[0m \u001b[32m410.6/410.6 MB\u001b[0m \u001b[31m5.7 MB/s\u001b[0m eta \u001b[36m0:00:00\u001b[0m00:01\u001b[0m00:01\u001b[0m\n",
      "\u001b[?25hCollecting nvidia-cusparse-cu12==12.1.0.106\n",
      "  Downloading nvidia_cusparse_cu12-12.1.0.106-py3-none-manylinux1_x86_64.whl (196.0 MB)\n",
      "\u001b[2K     \u001b[90m━━━━━━━━━━━━━━━━━━━━━━━━━━━━━━━━━━━━━━━\u001b[0m \u001b[32m196.0/196.0 MB\u001b[0m \u001b[31m7.8 MB/s\u001b[0m eta \u001b[36m0:00:00\u001b[0m00:01\u001b[0m00:01\u001b[0m\n",
      "\u001b[?25hCollecting nvidia-curand-cu12==10.3.2.106\n",
      "  Downloading nvidia_curand_cu12-10.3.2.106-py3-none-manylinux1_x86_64.whl (56.5 MB)\n",
      "\u001b[2K     \u001b[90m━━━━━━━━━━━━━━━━━━━━━━━━━━━━━━━━━━━━━━━━\u001b[0m \u001b[32m56.5/56.5 MB\u001b[0m \u001b[31m20.0 MB/s\u001b[0m eta \u001b[36m0:00:00\u001b[0m00:01\u001b[0m00:01\u001b[0m\n",
      "\u001b[?25hCollecting jinja2\n",
      "  Downloading jinja2-3.1.4-py3-none-any.whl (133 kB)\n",
      "\u001b[2K     \u001b[90m━━━━━━━━━━━━━━━━━━━━━━━━━━━━━━━━━━━━━━\u001b[0m \u001b[32m133.3/133.3 kB\u001b[0m \u001b[31m42.1 MB/s\u001b[0m eta \u001b[36m0:00:00\u001b[0m\n",
      "\u001b[?25hCollecting sympy\n",
      "  Downloading sympy-1.13.3-py3-none-any.whl (6.2 MB)\n",
      "\u001b[2K     \u001b[90m━━━━━━━━━━━━━━━━━━━━━━━━━━━━━━━━━━━━━━━━\u001b[0m \u001b[32m6.2/6.2 MB\u001b[0m \u001b[31m44.8 MB/s\u001b[0m eta \u001b[36m0:00:00\u001b[0m00:01\u001b[0m00:01\u001b[0m\n",
      "\u001b[?25hCollecting nvidia-cufft-cu12==11.0.2.54\n",
      "  Downloading nvidia_cufft_cu12-11.0.2.54-py3-none-manylinux1_x86_64.whl (121.6 MB)\n",
      "\u001b[2K     \u001b[90m━━━━━━━━━━━━━━━━━━━━━━━━━━━━━━━━━━━━━━\u001b[0m \u001b[32m121.6/121.6 MB\u001b[0m \u001b[31m10.0 MB/s\u001b[0m eta \u001b[36m0:00:00\u001b[0m00:01\u001b[0m00:01\u001b[0m\n",
      "\u001b[?25hCollecting nvidia-cuda-runtime-cu12==12.1.105\n",
      "  Downloading nvidia_cuda_runtime_cu12-12.1.105-py3-none-manylinux1_x86_64.whl (823 kB)\n",
      "\u001b[2K     \u001b[90m━━━━━━━━━━━━━━━━━━━━━━━━━━━━━━━━━━━━━━\u001b[0m \u001b[32m823.6/823.6 kB\u001b[0m \u001b[31m27.9 MB/s\u001b[0m eta \u001b[36m0:00:00\u001b[0m\n",
      "\u001b[?25hCollecting nvidia-cuda-cupti-cu12==12.1.105\n",
      "  Downloading nvidia_cuda_cupti_cu12-12.1.105-py3-none-manylinux1_x86_64.whl (14.1 MB)\n",
      "\u001b[2K     \u001b[90m━━━━━━━━━━━━━━━━━━━━━━━━━━━━━━━━━━━━━━━━\u001b[0m \u001b[32m14.1/14.1 MB\u001b[0m \u001b[31m25.8 MB/s\u001b[0m eta \u001b[36m0:00:00\u001b[0m00:01\u001b[0m00:01\u001b[0m\n",
      "\u001b[?25hCollecting nvidia-cudnn-cu12==9.1.0.70\n",
      "  Downloading nvidia_cudnn_cu12-9.1.0.70-py3-none-manylinux2014_x86_64.whl (664.8 MB)\n",
      "\u001b[2K     \u001b[90m━━━━━━━━━━━━━━━━━━━━━━━━━━━━━━━━━━━━━━━\u001b[0m \u001b[32m664.8/664.8 MB\u001b[0m \u001b[31m2.4 MB/s\u001b[0m eta \u001b[36m0:00:00\u001b[0m00:01\u001b[0m00:01\u001b[0m\n",
      "\u001b[?25hCollecting nvidia-cuda-nvrtc-cu12==12.1.105\n",
      "  Downloading nvidia_cuda_nvrtc_cu12-12.1.105-py3-none-manylinux1_x86_64.whl (23.7 MB)\n",
      "\u001b[2K     \u001b[90m━━━━━━━━━━━━━━━━━━━━━━━━━━━━━━━━━━━━━━━━\u001b[0m \u001b[32m23.7/23.7 MB\u001b[0m \u001b[31m15.0 MB/s\u001b[0m eta \u001b[36m0:00:00\u001b[0m00:01\u001b[0m00:01\u001b[0m\n",
      "\u001b[?25hCollecting triton==3.0.0\n",
      "  Downloading triton-3.0.0-1-cp310-cp310-manylinux2014_x86_64.manylinux_2_17_x86_64.whl (209.4 MB)\n",
      "\u001b[2K     \u001b[90m━━━━━━━━━━━━━━━━━━━━━━━━━━━━━━━━━━━━━━\u001b[0m \u001b[32m209.4/209.4 MB\u001b[0m \u001b[31m10.5 MB/s\u001b[0m eta \u001b[36m0:00:00\u001b[0m00:01\u001b[0m00:01\u001b[0m\n",
      "\u001b[?25hCollecting nvidia-nvjitlink-cu12\n",
      "  Downloading nvidia_nvjitlink_cu12-12.6.77-py3-none-manylinux2014_x86_64.whl (19.7 MB)\n",
      "\u001b[2K     \u001b[90m━━━━━━━━━━━━━━━━━━━━━━━━━━━━━━━━━━━━━━━━\u001b[0m \u001b[32m19.7/19.7 MB\u001b[0m \u001b[31m45.6 MB/s\u001b[0m eta \u001b[36m0:00:00\u001b[0m00:01\u001b[0m00:01\u001b[0m\n",
      "\u001b[?25hRequirement already satisfied: certifi>=2017.4.17 in /home/elicer/.local/lib/python3.10/site-packages (from requests->transformers) (2024.8.30)\n",
      "Requirement already satisfied: charset-normalizer<4,>=2 in /home/elicer/.local/lib/python3.10/site-packages (from requests->transformers) (3.4.0)\n",
      "Requirement already satisfied: idna<4,>=2.5 in /home/elicer/.local/lib/python3.10/site-packages (from requests->transformers) (3.10)\n",
      "Requirement already satisfied: urllib3<3,>=1.21.1 in /home/elicer/.local/lib/python3.10/site-packages (from requests->transformers) (2.2.3)\n",
      "Requirement already satisfied: joblib>=1.2.0 in /home/elicer/.local/lib/python3.10/site-packages (from scikit-learn->sentence-transformers) (1.4.2)\n",
      "Collecting threadpoolctl>=3.1.0\n",
      "  Downloading threadpoolctl-3.5.0-py3-none-any.whl (18 kB)\n",
      "Collecting MarkupSafe>=2.0\n",
      "  Downloading MarkupSafe-3.0.1-cp310-cp310-manylinux_2_17_x86_64.manylinux2014_x86_64.whl (20 kB)\n",
      "Collecting mpmath<1.4,>=1.1.0\n",
      "  Downloading mpmath-1.3.0-py3-none-any.whl (536 kB)\n",
      "\u001b[2K     \u001b[90m━━━━━━━━━━━━━━━━━━━━━━━━━━━━━━━━━━━━━━\u001b[0m \u001b[32m536.2/536.2 kB\u001b[0m \u001b[31m67.1 MB/s\u001b[0m eta \u001b[36m0:00:00\u001b[0m\n",
      "\u001b[?25hInstalling collected packages: mpmath, threadpoolctl, sympy, scipy, safetensors, nvidia-nvtx-cu12, nvidia-nvjitlink-cu12, nvidia-nccl-cu12, nvidia-curand-cu12, nvidia-cufft-cu12, nvidia-cuda-runtime-cu12, nvidia-cuda-nvrtc-cu12, nvidia-cuda-cupti-cu12, nvidia-cublas-cu12, networkx, MarkupSafe, fsspec, filelock, triton, scikit-learn, nvidia-cusparse-cu12, nvidia-cudnn-cu12, jinja2, huggingface-hub, tokenizers, nvidia-cusolver-cu12, transformers, torch, sentence-transformers\n",
      "Successfully installed MarkupSafe-3.0.1 filelock-3.16.1 fsspec-2024.9.0 huggingface-hub-0.25.2 jinja2-3.1.4 mpmath-1.3.0 networkx-3.4.1 nvidia-cublas-cu12-12.1.3.1 nvidia-cuda-cupti-cu12-12.1.105 nvidia-cuda-nvrtc-cu12-12.1.105 nvidia-cuda-runtime-cu12-12.1.105 nvidia-cudnn-cu12-9.1.0.70 nvidia-cufft-cu12-11.0.2.54 nvidia-curand-cu12-10.3.2.106 nvidia-cusolver-cu12-11.4.5.107 nvidia-cusparse-cu12-12.1.0.106 nvidia-nccl-cu12-2.20.5 nvidia-nvjitlink-cu12-12.6.77 nvidia-nvtx-cu12-12.1.105 safetensors-0.4.5 scikit-learn-1.5.2 scipy-1.14.1 sentence-transformers-3.2.0 sympy-1.13.3 threadpoolctl-3.5.0 tokenizers-0.20.1 torch-2.4.1 transformers-4.45.2 triton-3.0.0\n",
      "\n",
      "\u001b[1m[\u001b[0m\u001b[34;49mnotice\u001b[0m\u001b[1;39;49m]\u001b[0m\u001b[39;49m A new release of pip is available: \u001b[0m\u001b[31;49m23.0.1\u001b[0m\u001b[39;49m -> \u001b[0m\u001b[32;49m24.2\u001b[0m\n",
      "\u001b[1m[\u001b[0m\u001b[34;49mnotice\u001b[0m\u001b[1;39;49m]\u001b[0m\u001b[39;49m To update, run: \u001b[0m\u001b[32;49mpip install --upgrade pip\u001b[0m\n",
      "Note: you may need to restart the kernel to use updated packages.\n"
     ]
    }
   ],
   "source": [
    "pip install transformers sentence-transformers faiss-gpu\n"
   ]
  },
  {
   "cell_type": "code",
   "execution_count": 34,
   "id": "4d261a21",
   "metadata": {},
   "outputs": [
    {
     "ename": "ImportError",
     "evalue": "cannot import name 'create_retriever_tool' from 'langchain.tools' (/home/elicer/.local/lib/python3.10/site-packages/langchain/tools/__init__.py)",
     "output_type": "error",
     "traceback": [
      "\u001b[0;31m---------------------------------------------------------------------------\u001b[0m",
      "\u001b[0;31mImportError\u001b[0m                               Traceback (most recent call last)",
      "\u001b[1;32m/home/elicer/ChatBot_Project/Agent-RAG.ipynb Cell 44\u001b[0m line \u001b[0;36m7\n\u001b[1;32m      <a href='vscode-notebook-cell://kmrerhxnkkhhxmed.tunnel-pt.elice.io/home/elicer/ChatBot_Project/Agent-RAG.ipynb#X60sdnNjb2RlLXJlbW90ZQ%3D%3D?line=4'>5</a>\u001b[0m \u001b[39mfrom\u001b[39;00m \u001b[39mlangchain\u001b[39;00m\u001b[39m.\u001b[39;00m\u001b[39mtext_splitter\u001b[39;00m \u001b[39mimport\u001b[39;00m RecursiveCharacterTextSplitter\n\u001b[1;32m      <a href='vscode-notebook-cell://kmrerhxnkkhhxmed.tunnel-pt.elice.io/home/elicer/ChatBot_Project/Agent-RAG.ipynb#X60sdnNjb2RlLXJlbW90ZQ%3D%3D?line=5'>6</a>\u001b[0m \u001b[39mfrom\u001b[39;00m \u001b[39mlangchain\u001b[39;00m\u001b[39m.\u001b[39;00m\u001b[39membeddings\u001b[39;00m \u001b[39mimport\u001b[39;00m HuggingFaceEmbeddings\n\u001b[0;32m----> <a href='vscode-notebook-cell://kmrerhxnkkhhxmed.tunnel-pt.elice.io/home/elicer/ChatBot_Project/Agent-RAG.ipynb#X60sdnNjb2RlLXJlbW90ZQ%3D%3D?line=6'>7</a>\u001b[0m \u001b[39mfrom\u001b[39;00m \u001b[39mlangchain\u001b[39;00m\u001b[39m.\u001b[39;00m\u001b[39mtools\u001b[39;00m \u001b[39mimport\u001b[39;00m create_retriever_tool\n\u001b[1;32m      <a href='vscode-notebook-cell://kmrerhxnkkhhxmed.tunnel-pt.elice.io/home/elicer/ChatBot_Project/Agent-RAG.ipynb#X60sdnNjb2RlLXJlbW90ZQ%3D%3D?line=7'>8</a>\u001b[0m \u001b[39mfrom\u001b[39;00m \u001b[39mlangchain\u001b[39;00m\u001b[39m.\u001b[39;00m\u001b[39magents\u001b[39;00m \u001b[39mimport\u001b[39;00m create_tool_calling_agent, AgentExecutor\n\u001b[1;32m      <a href='vscode-notebook-cell://kmrerhxnkkhhxmed.tunnel-pt.elice.io/home/elicer/ChatBot_Project/Agent-RAG.ipynb#X60sdnNjb2RlLXJlbW90ZQ%3D%3D?line=8'>9</a>\u001b[0m \u001b[39mfrom\u001b[39;00m \u001b[39mlangchain\u001b[39;00m\u001b[39m.\u001b[39;00m\u001b[39mmemory\u001b[39;00m \u001b[39mimport\u001b[39;00m ChatMessageHistory\n",
      "\u001b[0;31mImportError\u001b[0m: cannot import name 'create_retriever_tool' from 'langchain.tools' (/home/elicer/.local/lib/python3.10/site-packages/langchain/tools/__init__.py)"
     ]
    }
   ],
   "source": [
    "# 필요한 모듈 import\n",
    "from langchain_core.prompts import ChatPromptTemplate\n",
    "from langchain_community.tools.tavily_search import TavilySearchResults\n",
    "from langchain_community.vectorstores import FAISS\n",
    "from langchain_community.chat_message_histories import ChatMessageHistory\n",
    "from langchain.text_splitter import RecursiveCharacterTextSplitter\n",
    "from langchain_openai import OpenAIEmbeddings, ChatOpenAI\n",
    "from langchain.tools.retriever import create_retriever_tool\n",
    "from langchain.agents import create_tool_calling_agent, AgentExecutor\n",
    "from langchain_core.runnables.history import RunnableWithMessageHistory\n",
    "from langchain_teddynote.messages import AgentStreamParser\n",
    "from langchain_core.documents import Document\n",
    "import json\n",
    "\n",
    "########## 1. 도구를 정의 ##########\n",
    "\n",
    "### 1-1. Search 도구 ###\n",
    "# TavilySearchResults 클래스의 인스턴스를 생성\n",
    "# k=6은 검색 결과를 6개까지 가져오겠다는 의미\n",
    "search = TavilySearchResults(k=6)\n",
    "\n",
    "### 1-2. JSON 파일 문서 검색 도구 (Retriever) ###\n",
    "# JSON 파일 로드\n",
    "with open(\"label_data.json\", \"r\", encoding=\"utf-8\") as f:\n",
    "    label_data_json = json.load(f)\n",
    "\n",
    "# JSON 데이터를 Document 객체로 변환\n",
    "documents = [Document(page_content=doc['context'], metadata={\"filename\": doc[\"filename\"]}) for doc in label_data_json]\n",
    "\n",
    "# 텍스트 분할기를 사용하여 문서를 분할\n",
    "text_splitter = RecursiveCharacterTextSplitter(chunk_size=1000, chunk_overlap=100)\n",
    "split_docs = text_splitter.split_documents(documents)\n",
    "\n",
    "# VectorStore를 생성\n",
    "vector = FAISS.from_documents(split_docs, OpenAIEmbeddings())\n",
    "\n",
    "# Retriever를 생성\n",
    "retriever = vector.as_retriever()\n",
    "\n",
    "# JSON 파일 검색용 도구 생성\n",
    "retriever_tool = create_retriever_tool(\n",
    "    retriever,\n",
    "    name=\"json_search\",  # 도구의 이름을 입력\n",
    "    description=\"use this tool to search information from the JSON document\",  # 도구에 대한 설명을 자세히 기입해야 합니다!!\n",
    ")\n",
    "\n",
    "### 1-3. tools 리스트에 도구 목록을 추가 ###\n",
    "# tools 리스트에 search와 retriever_tool을 추가\n",
    "tools = [search, retriever_tool]\n",
    "\n",
    "########## 2. LLM 을 정의 ##########\n",
    "# LLM 모델을 생성\n",
    "llm = ChatOpenAI(model=\"gpt-4o\", temperature=0)\n",
    "\n",
    "########## 3. Prompt 를 정의 ##########\n",
    "\n",
    "# Prompt 정의\n",
    "prompt = ChatPromptTemplate.from_messages(\n",
    "    [\n",
    "        (\n",
    "            \"system\",\n",
    "            \"You are a helpful assistant. \"\n",
    "            \"Make sure to use the `json_search` tool for searching information from the JSON document. \"\n",
    "            \"If you can't find the information from the JSON document, use the `search` tool for searching information from the web.\",\n",
    "        ),\n",
    "        (\"placeholder\", \"{chat_history}\"),\n",
    "        (\"human\", \"{input}\"),\n",
    "        (\"placeholder\", \"{agent_scratchpad}\"),\n",
    "    ]\n",
    ")\n",
    "\n",
    "########## 4. Agent 를 정의 ##########\n",
    "\n",
    "# 에이전트를 생성\n",
    "# llm, tools, prompt를 인자로 사용\n",
    "agent = create_tool_calling_agent(llm, tools, prompt)\n",
    "\n",
    "########## 5. AgentExecutor 를 정의 ##########\n",
    "\n",
    "# AgentExecutor 클래스를 사용하여 agent와 tools를 설정하고, 상세한 로그를 출력하도록 verbose를 True로 설정\n",
    "agent_executor = AgentExecutor(agent=agent, tools=tools, verbose=False)\n",
    "\n",
    "########## 6. 채팅 기록을 수행하는 메모리를 추가 ##########\n",
    "\n",
    "# session_id 를 저장할 딕셔너리 생성\n",
    "store = {}\n",
    "\n",
    "# session_id 를 기반으로 세션 기록을 가져오는 함수\n",
    "def get_session_history(session_ids):\n",
    "    if session_ids not in store:  # session_id 가 store에 없는 경우\n",
    "        # 새로운 ChatMessageHistory 객체를 생성하여 store에 저장\n",
    "        store[session_ids] = ChatMessageHistory()\n",
    "    return store[session_ids]  # 해당 세션 ID에 대한 세션 기록 반환\n",
    "\n",
    "# 채팅 메시지 기록이 추가된 에이전트를 생성\n",
    "agent_with_chat_history = RunnableWithMessageHistory(\n",
    "    agent_executor,\n",
    "    # 대화 session_id\n",
    "    get_session_history,\n",
    "    # 프롬프트의 질문이 입력되는 key: \"input\"\n",
    "    input_messages_key=\"input\",\n",
    "    # 프롬프트의 메시지가 입력되는 key: \"chat_history\"\n",
    "    history_messages_key=\"chat_history\",\n",
    ")\n",
    "\n",
    "########## 7. Agent 파서를 정의합니다. ##########\n",
    "agent_stream_parser = AgentStreamParser()\n"
   ]
  },
  {
   "cell_type": "code",
   "execution_count": 30,
   "id": "3e2666f0",
   "metadata": {},
   "outputs": [
    {
     "name": "stdout",
     "output_type": "stream",
     "text": [
      "[도구 호출]\n",
      "Tool: json_search\n",
      "query: 2005년 12월 회의록 제목\n",
      "Log: \n",
      "Invoking: `json_search` with `{'query': '2005년 12월 회의록 제목'}`\n",
      "\n",
      "\n",
      "\n",
      "[관찰 내용]\n",
      "Observation: 의한 계열회사”하고 “공직자윤리법 제4조제1항의 규정에 의한 신고대상으로서 소유명의에 불구하고 지방자치단체의 장 또는 지방의회 의원이 사실상 소유하는 재산이 자본금 총액의 100분의 50 이상인 사업자”입니다. 이 정도로 하고 수의계약만으로 하면 괜찮을 것 같은데요. 입찰에는 여전히 참여할 자격이 있으니까 이렇게 되면 위헌의 소지는 많이 줄어들 것 같아요. 그러면 수정의견대로 하는데 이의 없습니까? 예. 부칙의 시행일이 지방계약법안은 2005년 7월 1일인데 2006년 1월 1일부터 시행하는 것으로 되겠습니다. 그것은 원래 저희가 12월에 제출하면서 그렇게 됐던 것이니까요. 그러면 수석전문위원이 다시 종합해서 간단하게 보고해 주시지요. 수정의견에 제시된 부분에 대해서는 정부 측과 충분히 협의했고 위원님들 대체토론에서 논의된 내용을 중심으로 반영한 내용입니다. 의사일정 제10항은 전문위원이 보고한 대로 수정한 부분은 수정한 대로, 나머지 부분은 원안대로 의결하고자 하는데 이의 없으십니까?     (「없습니다」 하는 위원 있음)  가결되었음을 선포합니다.  산회를 선언합니다.\n",
      "\n",
      "하여튼 공공기관운영위원회 회의만큼은 회의록이 알리오 시스템에 바로 올라가거든요. 그래서 잘 이루어지고 있습니다.  그런데 그걸 다시 한번 강조하는 의미에서 법으로 규정을 올리는 문제이거든요. 제가 한전 사외이사를 한 적이 있는데요. 사외이사를 해 보면 사외이사가 이사회 의장을 합니다. 그리고 회의록이 다 공개되고 또 회의에서 발언한 내용이 혹시 틀렸는가 검토도 받고 하는데, 한전은 사외이사들이 오히려 경영진 야단도 많이 치고 굉장히 큰소리를 내요. 시장형 공기업을 그렇게 만들어 놨습니다. 그렇게 돼서 저는 한전 같은 경우는 공개라든지 이런 게 잘되고 있다 그렇게 느꼈는데, 우리가 찾아볼 수도 있겠지만 공개된 것 샘플 하나 다음에 올 때 한번 갖고…… 공공기관운영위원회도 매번 회의할 때 회의 시작 전에 전회 회의록 먼저 회람하고 이견 있는 것 있으면 회의 끝나기 전까지 최종 수정해서 그걸 가지고 공개하고 그렇게 합니다.\n",
      "\n",
      "회의록 작성 의무 건에 대해서 말씀드려 보겠는데요, 지금 공공기록물 관리에 관한 법률 17조에 따라서 전원회의 및 소회의에 대한 회의록을 작성하고 있다. 그런데 공공기록물 관리에 관한 법률 시행령 18조에 보면 회의록에 작성되어야 될 또 관리되어야 될 내용이 명시되어 있지 않습니까? 예. ‘회의의 명칭, 개최기관, 일시 및 장소, 참석자 및 배석자 명단, 진행 순서, 상정 안건, 발언 요지, 결정 사항 및 표결 내용’……   부위원장님, 이 시행령 18조에 의거해서 회의록이 작성되어 왔다라고 말씀하시는 겁니까? 심판관리관 유선주입니다.   이 감사원 지적내용은 과거 2012년, 2013년, 2014년 정도까지의 내용이고요. 제가 2014년 9월부터 근무하기 시작했는데 2015년 초부터 회의록 지침이라는 것을 새로 제정했습니다. 이 공공기록물 관리에 관한 법률 규정에 맞게 모든 것을 기록하는 규정을 뒀고 그런 것을 조금 있으면 규칙으로 상향해서 규정할 생각이고요.  실무적으로도 2015년부터 지금 현재까지 모든 사건을 표결 내용, 발언 내용 그리고 결과, 근거 이런 것들을 자세하게 기록하고 있습니다.   그리고 그 지침에 별표로 해서 회의록의 양식, 예시 이런 것도 두고 있기 때문에 필요하시면 열람시켜 드릴 수도 있고, 굳이 똑같은 내용을 특별법의 형식으로 안 둬도 염려하실 것은 없다고 말씀드릴 수 있겠습니다. 저희가 지난번 국감 때도 공정위에서 일어난 여러 가지 사안에 대해서 기록이 남아 있지 않아서 기록법…… 저희 지침 뒤에 모범 예시, 양식을 말씀드린 겁니다, 모든 구체적 사례를 말씀드릴 수는 없고. 감사원 자료 지적에 보면 ‘속기록은 작성되지 않고 합의 결과만 기재하고 있었으며 이로 인해 위원들 발언 요지, 표결 내용 등 합의 결과에 이르는 과정을 확인할 수 없었다’ 그렇게 돼 있어요.  속기사가 있나요? 있습니다. 속기로 기록은 남기고 있습니까? 속기를 한 다음에 그것을 토대로 해서 회의록을 작성합니다.  그런데 그게 2014년까지 감사 결과인데요,\n",
      "\n",
      "말씀하셨던 실태조사 결과를 금융소위에 보고를 해 달라는 말씀을 이해를 25일에 금감위에서 통과되고 그러면 28일이고 3월 2일까지 회기가 되어 있는데 회의를 열 수가 없기 때문에 소위원님 개개 분들한테 제출해 드리고 설명드리는 것으로 그렇게 해 주십시오. 예, 그러면 이 부분에 대해서는 우제창 의원님께서 대표발의하신 것은 계류를…… 계류를 하는 것하고 지금 이것을…… 우 위원님께서 요청하신 것입니다. 계류한다는 것이 애초의 약속이었습니다. 시행령 개정될 때까지. 정부에서 문제없으시겠어요? 그러면 그렇게 하십시다. 이계안 위원님께서 좋은 말씀을 하셨는데 우리가 늘 얘기하지만 금융산업의 진로, 금융산업의 특성 이런 것도 장기적인 안목에서 재경부에서 기초를 가지고 금융감독위원회를 지도하세요.   지금 설이 많습니다. 이렇게 되어서는 궁극적으로 보험업계들이 치명상을 입지 않겠느냐? 은행이라는 것이 기업에 대출을 해 주고 있기 때문에 기업에 대한 영향력 그런 것을 통해 가지고, 사실 기업은 기업 자체로서 영향력이 높은 것이 아니라 기업의 구성원, 기업하고 관계되는 여러 가지가 굉장히 크거든요. 거기에서 계속 꺾기 문제가 나오고 그러니까 그런 문제를 잘 마스터플랜을 가지고 움직이시는 것이 좋을 것입니다.   또 2005년 4월에 가 가지고 또 무슨 얘기가 나오고, 2006년에 가서 또 무슨 얘기가 나오고 이렇게 되지 않도록 잘 지도도 하고 설명도 하고 이끌어가도록 하세요.   그리고 4항, 5항은 어떻습니까? 내용이……\n",
      "[도구 호출]\n",
      "Tool: json_search\n",
      "query: 2005년 12월 회의록 제목\n",
      "Log: \n",
      "Invoking: `json_search` with `{'query': '2005년 12월 회의록 제목'}`\n",
      "\n",
      "\n",
      "\n",
      "[관찰 내용]\n",
      "Observation: 의한 계열회사”하고 “공직자윤리법 제4조제1항의 규정에 의한 신고대상으로서 소유명의에 불구하고 지방자치단체의 장 또는 지방의회 의원이 사실상 소유하는 재산이 자본금 총액의 100분의 50 이상인 사업자”입니다. 이 정도로 하고 수의계약만으로 하면 괜찮을 것 같은데요. 입찰에는 여전히 참여할 자격이 있으니까 이렇게 되면 위헌의 소지는 많이 줄어들 것 같아요. 그러면 수정의견대로 하는데 이의 없습니까? 예. 부칙의 시행일이 지방계약법안은 2005년 7월 1일인데 2006년 1월 1일부터 시행하는 것으로 되겠습니다. 그것은 원래 저희가 12월에 제출하면서 그렇게 됐던 것이니까요. 그러면 수석전문위원이 다시 종합해서 간단하게 보고해 주시지요. 수정의견에 제시된 부분에 대해서는 정부 측과 충분히 협의했고 위원님들 대체토론에서 논의된 내용을 중심으로 반영한 내용입니다. 의사일정 제10항은 전문위원이 보고한 대로 수정한 부분은 수정한 대로, 나머지 부분은 원안대로 의결하고자 하는데 이의 없으십니까?     (「없습니다」 하는 위원 있음)  가결되었음을 선포합니다.  산회를 선언합니다.\n",
      "\n",
      "하여튼 공공기관운영위원회 회의만큼은 회의록이 알리오 시스템에 바로 올라가거든요. 그래서 잘 이루어지고 있습니다.  그런데 그걸 다시 한번 강조하는 의미에서 법으로 규정을 올리는 문제이거든요. 제가 한전 사외이사를 한 적이 있는데요. 사외이사를 해 보면 사외이사가 이사회 의장을 합니다. 그리고 회의록이 다 공개되고 또 회의에서 발언한 내용이 혹시 틀렸는가 검토도 받고 하는데, 한전은 사외이사들이 오히려 경영진 야단도 많이 치고 굉장히 큰소리를 내요. 시장형 공기업을 그렇게 만들어 놨습니다. 그렇게 돼서 저는 한전 같은 경우는 공개라든지 이런 게 잘되고 있다 그렇게 느꼈는데, 우리가 찾아볼 수도 있겠지만 공개된 것 샘플 하나 다음에 올 때 한번 갖고…… 공공기관운영위원회도 매번 회의할 때 회의 시작 전에 전회 회의록 먼저 회람하고 이견 있는 것 있으면 회의 끝나기 전까지 최종 수정해서 그걸 가지고 공개하고 그렇게 합니다.\n",
      "\n",
      "회의록 작성 의무 건에 대해서 말씀드려 보겠는데요, 지금 공공기록물 관리에 관한 법률 17조에 따라서 전원회의 및 소회의에 대한 회의록을 작성하고 있다. 그런데 공공기록물 관리에 관한 법률 시행령 18조에 보면 회의록에 작성되어야 될 또 관리되어야 될 내용이 명시되어 있지 않습니까? 예. ‘회의의 명칭, 개최기관, 일시 및 장소, 참석자 및 배석자 명단, 진행 순서, 상정 안건, 발언 요지, 결정 사항 및 표결 내용’……   부위원장님, 이 시행령 18조에 의거해서 회의록이 작성되어 왔다라고 말씀하시는 겁니까? 심판관리관 유선주입니다.   이 감사원 지적내용은 과거 2012년, 2013년, 2014년 정도까지의 내용이고요. 제가 2014년 9월부터 근무하기 시작했는데 2015년 초부터 회의록 지침이라는 것을 새로 제정했습니다. 이 공공기록물 관리에 관한 법률 규정에 맞게 모든 것을 기록하는 규정을 뒀고 그런 것을 조금 있으면 규칙으로 상향해서 규정할 생각이고요.  실무적으로도 2015년부터 지금 현재까지 모든 사건을 표결 내용, 발언 내용 그리고 결과, 근거 이런 것들을 자세하게 기록하고 있습니다.   그리고 그 지침에 별표로 해서 회의록의 양식, 예시 이런 것도 두고 있기 때문에 필요하시면 열람시켜 드릴 수도 있고, 굳이 똑같은 내용을 특별법의 형식으로 안 둬도 염려하실 것은 없다고 말씀드릴 수 있겠습니다. 저희가 지난번 국감 때도 공정위에서 일어난 여러 가지 사안에 대해서 기록이 남아 있지 않아서 기록법…… 저희 지침 뒤에 모범 예시, 양식을 말씀드린 겁니다, 모든 구체적 사례를 말씀드릴 수는 없고. 감사원 자료 지적에 보면 ‘속기록은 작성되지 않고 합의 결과만 기재하고 있었으며 이로 인해 위원들 발언 요지, 표결 내용 등 합의 결과에 이르는 과정을 확인할 수 없었다’ 그렇게 돼 있어요.  속기사가 있나요? 있습니다. 속기로 기록은 남기고 있습니까? 속기를 한 다음에 그것을 토대로 해서 회의록을 작성합니다.  그런데 그게 2014년까지 감사 결과인데요,\n",
      "\n",
      "말씀하셨던 실태조사 결과를 금융소위에 보고를 해 달라는 말씀을 이해를 25일에 금감위에서 통과되고 그러면 28일이고 3월 2일까지 회기가 되어 있는데 회의를 열 수가 없기 때문에 소위원님 개개 분들한테 제출해 드리고 설명드리는 것으로 그렇게 해 주십시오. 예, 그러면 이 부분에 대해서는 우제창 의원님께서 대표발의하신 것은 계류를…… 계류를 하는 것하고 지금 이것을…… 우 위원님께서 요청하신 것입니다. 계류한다는 것이 애초의 약속이었습니다. 시행령 개정될 때까지. 정부에서 문제없으시겠어요? 그러면 그렇게 하십시다. 이계안 위원님께서 좋은 말씀을 하셨는데 우리가 늘 얘기하지만 금융산업의 진로, 금융산업의 특성 이런 것도 장기적인 안목에서 재경부에서 기초를 가지고 금융감독위원회를 지도하세요.   지금 설이 많습니다. 이렇게 되어서는 궁극적으로 보험업계들이 치명상을 입지 않겠느냐? 은행이라는 것이 기업에 대출을 해 주고 있기 때문에 기업에 대한 영향력 그런 것을 통해 가지고, 사실 기업은 기업 자체로서 영향력이 높은 것이 아니라 기업의 구성원, 기업하고 관계되는 여러 가지가 굉장히 크거든요. 거기에서 계속 꺾기 문제가 나오고 그러니까 그런 문제를 잘 마스터플랜을 가지고 움직이시는 것이 좋을 것입니다.   또 2005년 4월에 가 가지고 또 무슨 얘기가 나오고, 2006년에 가서 또 무슨 얘기가 나오고 이렇게 되지 않도록 잘 지도도 하고 설명도 하고 이끌어가도록 하세요.   그리고 4항, 5항은 어떻습니까? 내용이……\n",
      "[최종 답변]\n",
      "2005년 12월에 있었던 회의록 제목에 대한 구체적인 정보를 JSON 문서에서 찾을 수 없었습니다. 추가적인 정보를 원하시면 웹 검색을 통해 확인해드릴 수 있습니다. 검색을 원하시면 말씀해 주세요.\n"
     ]
    }
   ],
   "source": [
    "########## 8. 에이전트를 실행하고 결과를 확인합니다. ##########\n",
    "\n",
    "# 질의에 대한 답변을 출력합니다.\n",
    "response = agent_with_chat_history.stream(\n",
    "    {\"input\":  \"2005년 12월에 있었던 회의록 제목들을 알려줘.\"},\n",
    "    # 세션 ID를 설정\n",
    "    # 여기서는 간단한 메모리 내 ChatMessageHistory를 사용하기 때문에 실제로 사용되지 않음\n",
    "    config={\"configurable\": {\"session_id\": \"abc123\"}},\n",
    ")\n",
    "\n",
    "for step in response:\n",
    "    agent_stream_parser.process_agent_steps(step)"
   ]
  },
  {
   "cell_type": "code",
   "execution_count": 26,
   "id": "bc28b7c4",
   "metadata": {},
   "outputs": [
    {
     "name": "stdout",
     "output_type": "stream",
     "text": [
      "[최종 답변]\n",
      "The history of the domestic securities market has undergone several changes. On March 27, 2000, the third market was established, and on July 13, 2005, the third market was relaunched as the Free Board. Later, on June 17, 2014, it was renamed K-OTC (Korea Over-The-Counter).\n",
      "\n",
      "In 2005, recognizing the limitations of continuous growth and development due to the overlapping market operation system, and to prepare for the trend of exchange integration and international competition between markets, changes were made in the Korean securities market.\n",
      "\n",
      "In the 1970s, construction stocks were prominent; in the 1980s, stocks related to high-tech industries such as electronics and automobiles gained attention. In the 1990s, with the allowance of direct foreign investment, industry-leading stocks emerged due to foreign investors. In the 2000s, with the development of the IT industry, internet and telecommunications-related stocks led the market. Around 2020, with the advent of the Fourth Industrial Revolution, stocks related to online platforms, secondary batteries, games and content, and biotechnology garnered significant interest.\n",
      "\n",
      "These changes highlight important historical events that demonstrate the development and transformation of the domestic securities market.\n"
     ]
    }
   ],
   "source": [
    "########## 8. 에이전트를 실행하고 결과를 확인합니다. ##########\n",
    "\n",
    "# 질의에 대한 답변을 출력합니다.\n",
    "response = agent_with_chat_history.stream(\n",
    "    {\"input\": \"이전의 답변을 영어로 번역해 주세요\"},\n",
    "    # 세션 ID를 설정\n",
    "    # 여기서는 간단한 메모리 내 ChatMessageHistory를 사용하기 때문에 실제로 사용되지 않음\n",
    "    config={\"configurable\": {\"session_id\": \"abc123\"}},\n",
    ")\n",
    "\n",
    "for step in response:\n",
    "    agent_stream_parser.process_agent_steps(step)"
   ]
  },
  {
   "cell_type": "code",
   "execution_count": 27,
   "id": "54697845",
   "metadata": {},
   "outputs": [
    {
     "name": "stdout",
     "output_type": "stream",
     "text": [
      "[도구 호출]\n",
      "Tool: tavily_search_results_json\n",
      "query: 넷플릭스 흑백요리사 최종 우승자\n",
      "Log: \n",
      "Invoking: `tavily_search_results_json` with `{'query': '넷플릭스 흑백요리사 최종 우승자'}`\n",
      "\n",
      "\n",
      "\n",
      "[관찰 내용]\n",
      "Observation: [{'url': 'http://blog.naver.com/nyria99/223612999778?fromRss=true&trackingCode=rss', 'content': \"5 days ago · 흑수저 '나폴리 맛피아(권성준)'가 결승전에서 백수저 '에드워드 리'를 상대로 승리하고 최종 우승을 하게 되었습니다. ... 넷플릭스 흑백요리사 - 백수저\\xa0...\"}, {'url': 'https://m.news.nate.com/view/20241009n09727', 'content': \"6 days ago · ... 넷플릭스 '흑백요리사: 요리 계급 전쟁'(이하 '흑백요리사')의 최종 우승자가 '나폴리 맛피아' 권성준(30)씨로 확정된 가운데 권씨가 우승 소감을 밝혔다.\"}, {'url': 'https://www.mk.co.kr/news/society/11138329', 'content': \"3 days ago · 넷플릭스 '흑백요리사' 최종 우승자인 나폴리 맛피아(권성준)가 방송 후 테이블 수를 줄인 이유를 밝혔다. 11일 유튜브 채널 '백종원'에는 '손님이\\xa0...\"}, {'url': 'https://www.youtube.com/watch?v=1OKUP6NhGAE', 'content': \"6 days ago · 있습니다. 숱한 화제를 남긴 넷플릭스 '흑백요리사: 요리 계급 전쟁' 마지막화가 드디어 공개됐습니다. 최종우승자는 ...Duration: 1:25Posted: 6 days ago\"}, {'url': 'https://sports.khan.co.kr/article/202410090945003', 'content': \"6 days ago · 8일 오후 공개된 넷플릭스 오리지널 예능 '흑백요리사: 요리 계급 전쟁'에서는 나폴리 맛피아(본명 권성준)가 에드워드 리를 꺾고 상금 3억 원의 주인공이\\xa0...\"}]\n",
      "[최종 답변]\n",
      "넷플릭스 TV 프로그램 '흑백요리사'의 최종 우승자는 '나폴리 맛피아' 권성준입니다.\n"
     ]
    }
   ],
   "source": [
    "########## 8. 에이전트를 실행하고 결과를 확인합니다. ##########\n",
    "\n",
    "# 질의에 대한 답변을 출력합니다.\n",
    "response = agent_with_chat_history.stream(\n",
    "    {\n",
    "        \"input\": \"넷플릭스 TV 프로그램 흑백요리사 최종 우승자를 알려주세요. 한글로 답변하세요\"\n",
    "    },\n",
    "    # 세션 ID를 설정\n",
    "    # 여기서는 간단한 메모리 내 ChatMessageHistory를 사용하기 때문에 실제로 사용되지 않음\n",
    "    config={\"configurable\": {\"session_id\": \"abc456\"}},\n",
    ")\n",
    "\n",
    "for step in response:\n",
    "    agent_stream_parser.process_agent_steps(step)"
   ]
  },
  {
   "cell_type": "code",
   "execution_count": 28,
   "id": "7e3d1607",
   "metadata": {},
   "outputs": [
    {
     "name": "stdout",
     "output_type": "stream",
     "text": [
      "[최종 답변]\n",
      "넷플릭스 '흑백요리사'의 최종 우승자는 '나폴리 맛피아' 권성준! 그의 열정과 실력이 빛난 순간이었습니다. 축하합니다! #흑백요리사 #권성준 #우승\n"
     ]
    }
   ],
   "source": [
    "########## 8. 에이전트를 실행하고 결과를 확인합니다. ##########\n",
    "\n",
    "# 질의에 대한 답변을 출력합니다.\n",
    "response = agent_with_chat_history.stream(\n",
    "    {\"input\": \"이전의 답변을 SNS 게시글 형태로 100자 내외로 작성하세요.\"},\n",
    "    # 세션 ID를 설정\n",
    "    # 여기서는 간단한 메모리 내 ChatMessageHistory를 사용하기 때문에 실제로 사용되지 않음\n",
    "    config={\"configurable\": {\"session_id\": \"abc456\"}},\n",
    ")\n",
    "\n",
    "for step in response:\n",
    "    agent_stream_parser.process_agent_steps(step)"
   ]
  },
  {
   "cell_type": "code",
   "execution_count": 29,
   "id": "72d99d59",
   "metadata": {},
   "outputs": [
    {
     "name": "stdout",
     "output_type": "stream",
     "text": [
      "[도구 호출]\n",
      "Tool: tavily_search_results_json\n",
      "query: 넷플릭스 흑백요리사 권성준 우승 소감\n",
      "Log: \n",
      "Invoking: `tavily_search_results_json` with `{'query': '넷플릭스 흑백요리사 권성준 우승 소감'}`\n",
      "\n",
      "\n",
      "\n",
      "[관찰 내용]\n",
      "Observation: [{'url': 'https://v.daum.net/v/20241009143204433', 'content': '[동아닷컴] 넷플릭스 \\'흑백요리사\\' 우승자 나폴리 마피아(권성준)가 소감을 전했다. 지난 8일 권성준은 자신의 SNS에 \\'흑백요리사\\' 우승 소감을 밝혔다. 그는 \"기쁨의 소감보다는 먼저 사과와 감사의 말을 올리고 싶다\"면서 \"7개월이라는 시간 동안 우승 소식을 어렵게 숨기다 막판에 저도 ...'}, {'url': 'https://sports.donga.com/article/all/20241009/130182223/1', 'content': \"넷플릭스 '흑백요리사' 우승자 나폴리 마피아(권성준)가 소감을 전했다. 지난 8일 권성준은 자신의 SNS에 '흑백요리사' 우승 소감을 밝혔다 ...\"}, {'url': 'https://news.jtbc.co.kr/article/article.aspx?news_id=NB12218085', 'content': \"넷플릭스 예능 '흑백요리사: 요리 계급 전쟁'(이하 '흑백요리사')의 나폴리 맛피아(권성준)가 우승 소감을 지난 8일 전했다. 나폴리 맛피아는 자신의 sns를 통해 '기쁨의 소감보다는 먼저 사과와 감사의 말을 올리고 싶다'고 밝혔다.\"}, {'url': 'https://www.joongang.co.kr/article/25283019', 'content': '넷플릭스 \\'흑백요리사: 요리 계급 전쟁\\' (이하 \\'흑백요리사\\') 최종 우승자 \\'나폴리 맛피아\\' 권성준 (30)씨가 세미파이널에서 맞붙은 셰프들을 향해 \"내가 건방지게 굴었다\"며 사과했다. 권씨는 지난 8일 인스타그램을 통해 \"기쁨의 소감보다는 먼저 ...'}, {'url': 'https://www.economist.co.kr/article/view/ecn202410090007', 'content': \"넷플릭스 '흑백요리사: 요리 계급 전쟁'의 우승자 나폴리 맛피아(왼쪽)와 준우승자 에드워드 리 쉐프. [사진 나폴리 맛피아 sns 캡처] [이코노미스트 이지완 기자] 넷플릭스 '흑백요리사: 요리 계급 전쟁'(이하 흑백요리사)의 우승자인 '나폴리 맛피아'(본명 권성준)가 기쁨의 소감과 사과 및 ...\"}]\n",
      "[최종 답변]\n",
      "넷플릭스 '흑백요리사'의 우승자 권성준은 자신의 SNS를 통해 우승 소감을 전했습니다. 그는 \"기쁨의 소감보다는 먼저 사과와 감사의 말을 올리고 싶다\"며, 7개월 동안 우승 소식을 숨기느라 어려웠던 점을 언급했습니다.\n"
     ]
    }
   ],
   "source": [
    "########## 8. 에이전트를 실행하고 결과를 확인합니다. ##########\n",
    "\n",
    "# 질의에 대한 답변을 출력합니다.\n",
    "response = agent_with_chat_history.stream(\n",
    "    {\"input\": \"이전의 답변에 우승자의 소감도 찾아줘.\"},\n",
    "    # 세션 ID를 설정\n",
    "    # 여기서는 간단한 메모리 내 ChatMessageHistory를 사용하기 때문에 실제로 사용되지 않음\n",
    "    config={\"configurable\": {\"session_id\": \"abc456\"}},\n",
    ")\n",
    "\n",
    "for step in response:\n",
    "    agent_stream_parser.process_agent_steps(step)"
   ]
  },
  {
   "cell_type": "markdown",
   "id": "2e14407b",
   "metadata": {},
   "source": [
    "#### [실습] PDF를 활용한 RAG + 실시간 웹 검색을 활용한 챗봇 구축\n",
    " - 자유주제 가능\n",
    "  \n",
    " - (예시) 요리 레시피 검색 및 추천 에이전트  \n",
    "    목표: PDF로 제공된 요리책에서 원하는 레시피를 검색하고, 찾을 수 없으면 웹에서 정보를 검색해 추천 요리법을 제공하는 시스템을 구축\n",
    "    \n",
    " - (예시) 여행 정보 검색 및 추천 에이전트  \n",
    "   목표: PDF 문서로 제공된 여행 가이드북에서 특정 목적지에 대한 정보를 검색하고, 부족한 정보는 웹에서 검색해 종합적인 여행 계획을 제시하는 시스템을 구축\n",
    "\n",
    " - (예시) 논문 검색 및 관련 연구 서베이 에이전트\n",
    "   목표: 공모전 혹은 프로젝트에 사용할 딥러닝 모델을 논문 RAG 문서로 활용하여, 논문 질의 응답을 받은 후 부족한 정보다 비교 모델을 웹에서 검색해 사용할 모델들을 정리해주는 시스템을 구축"
   ]
  },
  {
   "cell_type": "code",
   "execution_count": 31,
   "id": "9da5cf2c",
   "metadata": {},
   "outputs": [
    {
     "name": "stdout",
     "output_type": "stream",
     "text": [
      "LangSmith 추적을 시작합니다.\n",
      "[프로젝트명]\n",
      "Agents\n"
     ]
    },
    {
     "data": {
      "text/plain": [
       "[{'url': 'https://ko.wikipedia.org/wiki/%EA%B0%80%EC%A7%9C%EB%89%B4%EC%8A%A4',\n",
       "  'content': '가짜 뉴스는 뉴스로 제시된 허위 또는 오해의 소지가 있는 정보이다. 가짜 뉴스는 종종 개인이나 단체의 평판을 손상시키거나 광고수익을 통해 돈을 벌려는 목적을\\xa0...'},\n",
       " {'url': 'https://www.voakorea.com/a/world_us-election-abc_fake-news/6033936.html',\n",
       "  'content': 'Jul 25, 2020 · 가짜 뉴스는 다시 정의하면 SNS나 전통적인 뉴스 기사 등을 통해 금전적 혹은 정치적 이득을 얻기 위해 오인할 의도를 가지고 유포하는 잘못된 정보라고\\xa0...'},\n",
       " {'url': 'https://www.miline.or.kr/board/view?pageNum=1&rowCnt=12&no1=4&linkId=889&menuId=MENU00364&schType=0&schText=&boardStyle=Text&categoryId=&continent=&country=&consonant=&listKeyWordGubun=null&crawlingSiteType=null',\n",
       "  'content': \"한국언론진흥재단에서는 가짜뉴스를 '정치적 경제적 이익을 목적으로 한 의도적인 언론보도 형 식으로 유포한 거짓 정보'로 정의한다. 악성루머, 소문, 유언비어와 같은\\xa0...\"},\n",
       " {'url': 'https://www.khan.co.kr/opinion/column/article/202109020300105',\n",
       "  'content': 'Sep 2, 2021 · 지금까지 논의된 바에 따르면 국내에서도 가짜뉴스는 ①정치·경제적 이익을 목적으로 ②고의로 왜곡·날조하고 ③언론 보도로 가장하는 거짓 정보로 대략 정의\\xa0...'},\n",
       " {'url': 'https://www.haeundae.go.kr/board/view.do?boardId=BBS_0000086&menuCd=DOM_000000401004000000&paging=ok&startPage=6&dataSid=3064062',\n",
       "  'content': '넘쳐나는 가짜뉴스에 현혹되지 말아야\\u200b 가짜뉴스는 뉴스의 형태를 띠고 있지만, 사실이 아닌 거짓 뉴스로 어떠한 의도를 가지고 조작해 거짓 정보를 유포한다는 특징이 있\\xa0...'}]"
      ]
     },
     "execution_count": 31,
     "metadata": {},
     "output_type": "execute_result"
    }
   ],
   "source": [
    "# API 키를 환경변수로 관리하기 위한 설정 파일\n",
    "from dotenv import load_dotenv\n",
    "\n",
    "# API 키 정보 로드\n",
    "load_dotenv()\n",
    "\n",
    "# LangSmith 추적을 설정합니다. https://smith.langchain.com\n",
    "# !pip install -qU langchain-teddynote\n",
    "from langchain_teddynote import logging\n",
    "\n",
    "# 프로젝트 이름을 입력0\n",
    "logging.langsmith(\"Agents\")\n",
    "\n",
    "import os\n",
    "\n",
    "os.environ['LANGCHAIN_PROJUECT'] = 'Agents'\n",
    "\n",
    "from langchain_community.tools.tavily_search import TavilySearchResults\n",
    "\n",
    "# TavilySearchResults 클래스의 인스턴스를 생성\n",
    "# k=6은 검색 결과를 6개까지 가져오겠다는 의미\n",
    "search = TavilySearchResults(k=6)\n",
    "\n",
    "# 검색 결과\n",
    "search.invoke(\"가짜 뉴스란 무엇인가요?\")\n",
    "\n"
   ]
  },
  {
   "cell_type": "markdown",
   "metadata": {},
   "source": [
    "# \"가짜뉴스란 무엇인가\" PDF 논문을 활용한 Retriever 문서 조회"
   ]
  },
  {
   "cell_type": "code",
   "execution_count": 32,
   "metadata": {},
   "outputs": [],
   "source": [
    "from langchain.text_splitter import RecursiveCharacterTextSplitter\n",
    "from langchain_community.vectorstores import FAISS\n",
    "from langchain_openai import OpenAIEmbeddings\n",
    "from langchain.document_loaders import PyPDFLoader\n",
    "\n",
    "# PDF 파일 로드. 파일의 경로 입력\n",
    "loader = PyPDFLoader(\"가짜뉴스란 무엇인가.pdf\")\n",
    "\n",
    "# 텍스트 분할기를 사용하여 문서를 분할\n",
    "text_splitter = RecursiveCharacterTextSplitter(chunk_size=1000, chunk_overlap=100)\n",
    "\n",
    "# 문서를 로드하고 분할\n",
    "split_docs = loader.load_and_split(text_splitter)\n",
    "\n",
    "# VectorStore를 생성\n",
    "vector = FAISS.from_documents(split_docs, OpenAIEmbeddings())\n",
    "\n",
    "# Retriever를 생성\n",
    "retriever = vector.as_retriever()"
   ]
  },
  {
   "cell_type": "code",
   "execution_count": 34,
   "metadata": {},
   "outputs": [
    {
     "data": {
      "text/plain": [
       "[Document(metadata={'source': '가짜뉴스란 무엇인가.pdf', 'page': 2}, page_content='가짜뉴스(fake news)란 무엇인가?   175\\n우리가 이 기사에서 혼란을 느끼는 것은 “가짜뉴스란 무엇인가 ?”, “어\\n디까지를 가짜뉴스로 보아야 하는가 ?”에 대한 명확한 기준을 갖고 있지 \\n못하기 때문이다 . 최근 학자 , 언론현장 , 정치권 등을 중심으로 벌어지고 \\n있는 가짜뉴스 논쟁도 이에 대한 개념과 범위의 모호성 때문이다 . \\n가짜뉴스를 둘러싼 백가쟁명 (百家爭鳴 )식 논란이 계속되고 있지만 , 이\\n에 대한 용칭 , 정의, 그리고 범위를 어떻게 봐야 하는지에 대한 명확한 \\n기준은 아직 없다 (박아란 , 2017; 염정윤ㆍ정세훈 , 2018). 누구나 동의할 \\n정도의 합의된 개념이 있는 것도 아니다 . 오히려 반대로 가짜뉴스에 대\\n한 정의가 너무 다르고 , 많아서 혼란스럽기까지 하다 . 그렇다고 중구난\\n방(衆口難防 ) 식으로 흘러 다니는 가짜뉴스의 개념을 정돈 없이 마구 쓸 \\n일도 아니다 . 가짜뉴스를 둘러싸고 벌이는 사회적 , 정치적 논쟁에 따른 \\n소모가 너무 크기 때문이다 . 사람마다 가짜뉴스를 코에 걸면 코걸이 , 귀\\n에 걸면 귀걸이 식으로 제멋대로 해석하는 한 사회적 갈등은 줄어들지 \\n않는다 . 사회적 갈등을 줄이기 위해서라도 산만하게 흩어져 있는 가짜뉴\\n스에 대한 개념과 범위를 정리하고 넘어갈 필요가 있다 . \\n뉴스의 진위 (眞僞)를 가리기 위해서는 누구나 동의할 수 있는 원칙이\\n나 기준이 필요하다 . 그러나 지금까지 이뤄진 가짜뉴스 연구의 대부분은 \\n가짜뉴스에 대한 규제문제에 치중해 왔다 . 가짜뉴스의 개념을 부분적으\\n로 설명한 연구가 전혀 없는 것은 아니지만 (이인철 , 2018; 유의선 , 2018; \\n윤성옥 , 2018; 황용석ㆍ권오성 , 2017; Tandoc Jr., Lim & Ling, 2018), \\n이를 체계적으로 검토하고  논의한 연구는 없다 . \\n이런 차원에서 이 글은 가짜뉴스를 어떻게 개념화하고 , 어느 범위까지\\n로 볼 것인가에 대한 소고 (小考)이다. 이를 위해 이 글은 기존 연구자들'),\n",
       " Document(metadata={'source': '가짜뉴스란 무엇인가.pdf', 'page': 28}, page_content='가짜뉴스(fake news)란 무엇인가?   201\\n로 의도적이고 확증적인 뉴스기사로 정의하고 있는 것도 같은 맥락이다 . \\n말하자면 뉴스 속에 독자를 현혹한다는 의도적 단서가 충분히 발견될 \\n때 이를 가짜뉴스로 보아야 한다는 것이다 . 가짜뉴스는 결국 처음부터 \\n의도성을 갖고 실제 뉴스처럼 보이도록 허위적으로 꾸몄는가 하는 점이 \\n중요하다 . \\n문제는 공표한 내용이 나쁜 의도성을 갖고 만들었는지를 어떻게 밝혀\\n낼 것인가 하는 점이다 . 기사 작성 주체가 누구인가를 따지는 것도 뉴스 \\n전파의 의도성을 밝혀보기 위해서라고 할 수 있다 . 뉴스는 통상 기자들\\n이 보도하는 정보이다 . 기자가 어떤 정보를 잘못 보도하면 (여기서는 어\\n떤 정치적 , 경제적 의도나 목적이 없어야 한다 ) ‘오보’에 속하지만 , 이를 \\n가짜뉴스라고 단정하지는 않는다 . 하지만 기자가 어떤 의도성을 갖고 오\\n보를 냈다거나 , 일반인이 특정한 목적을 갖고 정보를 조작해 뉴스의 형\\n식으로 보도했다면 모두 가짜뉴스로 봐야 한다 . \\n문제는 가짜뉴스의 생산주체를 기준으로 가짜뉴스의 여부를 판단하는 \\n것이 타당한가 하는 점이다 . 뉴스는 전통적으로 언론사가 보도한 정보로 \\n여겨져 왔다 . 그러나 이제는 뉴스 생산주체를 반드시 언론사로 제한할 \\n수 없는 시대가 됐다 . 한국신문협회는 가짜뉴스를 언론사가 아닌 모종의 \\n주체가 허위 사실을 마치 언론사가 생산한 기사처럼 가장한 것으로 정의했는데 , 이는 가짜뉴스를 지나치게 기존 전통 언론의 시각에서 보고 \\n있다는 문제점이 있다 . 누구나 정보를 생산할 수 있는 상황에서 기존 언\\n론사 기사를 모방했다는 이유만으로 가짜뉴스로 볼 수는 없다 . 디지털 \\n시대에 뉴스와 언론은 무엇이며 , 기자는 누구인가의 기준은 여전히 모호\\n하고, 논쟁적이다 . 지금은 누구나 뉴스를 만들고 유통시킬 수 있는 시대\\n이다. 기사 작성주체가 반드시 전통적인 기존의 언론사나 기자일 필요도 \\n없다. \\n가짜뉴스의 또 다른 논쟁점 가운데 하나가 규제의 문제이다 . 가짜뉴스'),\n",
       " Document(metadata={'source': '가짜뉴스란 무엇인가.pdf', 'page': 25}, page_content='가짜뉴스를 판정하는 기준은 뉴스의 형식이 아니라 , 내용의 진실성 여\\n부이다 . 뉴스는 적어도 사실의 실재성 (reality)이 중요하다 . 존재하지 않\\n는 사실은 뉴스가 아니다 . 뉴스가 형식적 조건을 갖추었다고 하더라도 \\n사실이 아니거나 틀린 정보는 뉴스가 아니다 . 가짜뉴스는 그 형식성이 \\n어떠하든 전통 저널리즘에서 말하는 사실성 기제와 부합하지 않는다 . 따'),\n",
       " Document(metadata={'source': '가짜뉴스란 무엇인가.pdf', 'page': 10}, page_content='가짜뉴스(fake news)란 무엇인가?   183\\n다. 이들 선행연구들은 가짜뉴스의 개념을 산발적으로 제시하고는 있으\\n나 가짜뉴스의 개념과 범위 , 그리고 생성배경을 계통적으로 보여주고 있\\n지는 않다 . \\n이에 따라 이 글은 사회적으로 논란이 일고 있는 가짜뉴스의 개념과 \\n범위, 조건, 그리고 생성배경을 체계적으로 재정리하는 것을 목적으로 \\n한다. 가짜뉴스에 대한 정의와 범위에 대한 종합적 논의는 가짜뉴스에 \\n대한 사회적 논쟁과 대립을 줄일 수 있다는 점에서 , 또 규제의 법리적 , \\n사회적 타당성과 생성배경에 대한 심리학적 근거를 제시할 수 있다는 \\n점에서 중요한 학술적 주제라고 할 수 있다 . 이 글은 가짜뉴스가 법률적\\n으로 어떻게 정의되는지 , 언론 현장에서는 가짜뉴스를 어떻게 규정하고 \\n해석하는지 , 미디어 기술 환경이 가짜뉴스 생성에 어떻게 영향을 미치는\\n지, 새로운 미디어 환경에서 가짜뉴스를 어떻게 정의할 것인지 , 그리고 \\n가짜뉴스가 한국 정치사회라는 특수한 환경 속에서 심리적으로 어떻게 \\n형성되고 , 작동되는지 등을 중심으로 논의해 보고자 한다 .\\n이 글은 이러한 논의를 진행하기 위해 가짜뉴스의 개념과 범위를 네 \\n가지 차원 , 즉 법률적 , 저널리즘적 , 기술적 , 그리고 정치사회적 관점에서 \\n토론해 보고자 한다 . 연구자가 가짜뉴스를 위의 네 가지 차원으로 살펴\\n보려는 근거는 다음과 같은 이유에서이다 . 첫째는 가짜뉴스가 사회적으\\n로 규제 대상여부가 쟁점이 되고 있다는 점에서 법리적 검토가 필요하\\n다고 보았다 . 둘째는 가짜뉴스가 우리가 흔히 말하는 (사실)뉴스의 일반\\n적 개념과 어떤 차별성이 있는지를 비교해 보고자 한다는 점에서 저널리즘 차원에서 설명될 필요가 있다고 보았다 . 셋째는 가짜뉴스의 태동은 \\n미디어 기술개발과 밀접하다는 점에서 기술이 가짜뉴스 생성과 유통에 \\n어떻게 영향을 미치는지 , 그리고 새로운 기술 환경에서 가짜뉴스의 범위\\n와 조건을 어떻게 보는 것이 합당한지 살펴볼 필요가 있다고 보았다 . 넷')]"
      ]
     },
     "execution_count": 34,
     "metadata": {},
     "output_type": "execute_result"
    }
   ],
   "source": [
    "# 문서에서 관련성 높은 문서를 가져옴\n",
    "retriever.invoke(\"가짜뉴스의 정의를 알려줘\")"
   ]
  },
  {
   "cell_type": "code",
   "execution_count": 35,
   "metadata": {},
   "outputs": [],
   "source": [
    "from langchain.tools.retriever import create_retriever_tool\n",
    "\n",
    "\n",
    "retriever_tool = create_retriever_tool(\n",
    "    retriever,\n",
    "    name=\"pdf_search\",  # 도구의 이름을 입력합니다.\n",
    "    description=\"use this tool to search information from the PDF document\",  # 도구에 대한 설명을 자세히 기입해야함!!\n",
    ")"
   ]
  },
  {
   "cell_type": "code",
   "execution_count": 36,
   "metadata": {},
   "outputs": [],
   "source": [
    "# tools 리스트에 search와 retriever_tool을 추가합니다.\n",
    "tools = [search, retriever_tool]"
   ]
  },
  {
   "cell_type": "code",
   "execution_count": 37,
   "metadata": {},
   "outputs": [],
   "source": [
    "from langchain_openai import ChatOpenAI\n",
    "from langchain_core.prompts import ChatPromptTemplate\n",
    "\n",
    "# LLM 정의\n",
    "llm = ChatOpenAI(model=\"gpt-4o-mini\", temperature=0)\n",
    "\n",
    "# Prompt 정의\n",
    "prompt = ChatPromptTemplate.from_messages(\n",
    "    [\n",
    "        (\n",
    "            \"system\",\n",
    "            \"You are a helpful assistant. \"\n",
    "            \"Make sure to use the `pdf_search` tool for searching information from the PDF document. \"\n",
    "            \"If you can't find the information from the PDF document, use the `search` tool for searching information from the web.\",\n",
    "        ),\n",
    "        (\"placeholder\", \"{chat_history}\"),\n",
    "        (\"human\", \"{input}\"),\n",
    "        (\"placeholder\", \"{agent_scratchpad}\"),\n",
    "    ]\n",
    ")"
   ]
  },
  {
   "cell_type": "code",
   "execution_count": 38,
   "metadata": {},
   "outputs": [],
   "source": [
    "from langchain.agents import create_tool_calling_agent\n",
    "\n",
    "# tool calling agent 생성\n",
    "agent = create_tool_calling_agent(llm, tools, prompt)"
   ]
  },
  {
   "cell_type": "code",
   "execution_count": 39,
   "metadata": {},
   "outputs": [],
   "source": [
    "from langchain.agents import AgentExecutor\n",
    "\n",
    "# AgentExecutor 생성\n",
    "agent_executor = AgentExecutor(agent=agent, tools=tools, verbose=False)"
   ]
  },
  {
   "cell_type": "code",
   "execution_count": 40,
   "metadata": {},
   "outputs": [],
   "source": [
    "from langchain_teddynote.messages import AgentStreamParser\n",
    "\n",
    "# 각 단계별 출력을 위한 파서 생성\n",
    "agent_stream_parser = AgentStreamParser()"
   ]
  },
  {
   "cell_type": "code",
   "execution_count": 41,
   "metadata": {},
   "outputs": [
    {
     "name": "stdout",
     "output_type": "stream",
     "text": [
      "[도구 호출]\n",
      "Tool: tavily_search_results_json\n",
      "query: 기술적 관점의 가짜뉴스\n",
      "Log: \n",
      "Invoking: `tavily_search_results_json` with `{'query': '기술적 관점의 가짜뉴스'}`\n",
      "\n",
      "\n",
      "\n",
      "[관찰 내용]\n",
      "Observation: [{'url': 'https://www.hani.co.kr/arti/economy/it/868771.html', 'content': 'Nov 4, 2018 · 가짜 뉴스를 탐지하는 기술적 접근은 주로 메시지의 언어적 신호와 네트워크 분석을 통해 이뤄지고 있다. 가짜 뉴스에 자주 등장하는 단어와 표현을 인공\\xa0...'}, {'url': 'http://m.dongascience.com/news.php?idx=17999', 'content': 'May 12, 2017 · 가짜 뉴스를 자동으로 찾는 기술에는 문장을 인식해 신뢰할 만한 데이터와 일일이 대조하는 방법과, 루머의 전파, 언어 특성을 토대로 선별하는 방법 등이\\xa0...'}, {'url': 'https://www.lawtimes.co.kr/LawFirm-NewsLetter/195918', 'content': 'Feb 14, 2024 · 딥페이크 기술을 이용해 유명인사의 얼굴을 합성한 가짜 뉴스가 인터넷에서 난무하고 있으며, 이로 인해 정치적이나 사회적 불안감이 가중되고 있는 상황\\xa0...'}, {'url': 'https://modulabs.co.kr/blog/fake-news-and-fact-check/', 'content': 'Mar 4, 2024 · 가짜 뉴스 탐지는 사실성과 합성성에 기반하여 이루어지게 됩니다. 자세히 이야기하면, AI가 작성한 뉴스도 사실이라면 탐지에서 제외를 시킬 지, 혹은\\xa0...'}, {'url': 'https://post.naver.com/viewer/postView.naver?volumeNo=31260905&memberNo=253010&searchKeyword=%EA%B0%80%EC%A7%9C%20%EB%89%B4%EC%8A%A4&searchRank=6', 'content': 'Apr 26, 2021 · 가짜 뉴스를 부풀려 확산시킨 것이 소셜미디어 사이트의 알고리즘이었다면, 알고리즘을 활용해 반대로 가짜 뉴스를 찾아내고 그것이 사이트상에서 부풀려\\xa0...'}]\n",
      "[최종 답변]\n",
      "기술적 관점에서 가짜뉴스는 여러 가지 방법으로 탐지되고 분석됩니다. 다음은 주요 기술적 접근 방식입니다:\n",
      "\n",
      "1. **언어적 신호 분석**: 가짜 뉴스는 특정 단어와 표현이 자주 사용됩니다. 이를 분석하여 가짜 뉴스를 탐지하는 방법이 있습니다. 예를 들어, 인공지능(AI)을 활용하여 뉴스 기사의 언어적 특성을 분석하고, 신뢰할 수 있는 데이터와 비교하는 방식입니다.\n",
      "\n",
      "2. **네트워크 분석**: 가짜 뉴스의 전파 경로를 분석하는 방법도 있습니다. 소셜 미디어와 같은 플랫폼에서 가짜 뉴스가 어떻게 확산되는지를 연구하여, 그 패턴을 기반으로 가짜 뉴스를 식별할 수 있습니다.\n",
      "\n",
      "3. **딥페이크 기술**: 최근에는 딥페이크 기술을 이용한 가짜 뉴스가 증가하고 있습니다. 이는 유명인사의 얼굴을 합성하여 사실처럼 보이게 만드는 방식으로, 정치적이나 사회적 불안감을 초래할 수 있습니다.\n",
      "\n",
      "4. **알고리즘 활용**: 소셜 미디어의 알고리즘이 가짜 뉴스를 확산시키는 경우가 많습니다. 이를 반대로 활용하여 가짜 뉴스를 찾아내고, 그 확산을 방지하는 기술적 방법도 연구되고 있습니다.\n",
      "\n",
      "이러한 기술들은 가짜 뉴스의 탐지와 방지를 위한 중요한 도구로 자리잡고 있으며, 지속적으로 발전하고 있습니다.\n"
     ]
    }
   ],
   "source": [
    "# 질의에 대한 답변을 스트리밍으로 출력 요청\n",
    "result = agent_executor.stream(\n",
    "    {\"input\": \"기술적 관점의 가짜뉴스에 대해 알려주세요.\"}\n",
    ")\n",
    "\n",
    "for step in result:\n",
    "    # 중간 단계를 parser 를 사용하여 단계별로 출력\n",
    "    agent_stream_parser.process_agent_steps(step)"
   ]
  },
  {
   "cell_type": "code",
   "execution_count": 42,
   "metadata": {},
   "outputs": [
    {
     "name": "stdout",
     "output_type": "stream",
     "text": [
      "[도구 호출]\n",
      "Tool: pdf_search\n",
      "query: 가짜뉴스 다차원적 논의\n",
      "Log: \n",
      "Invoking: `pdf_search` with `{'query': '가짜뉴스 다차원적 논의'}`\n",
      "\n",
      "\n",
      "\n",
      "[관찰 내용]\n",
      "Observation: 이런 차원에서 이 글은 가짜뉴스를 어떻게 개념화하고 , 어느 범위까지\n",
      "로 볼 것인가에 대한 소고 (小考)이다. 이를 위해 이 글은 기존 연구자들\n",
      "이 가짜뉴스를 어떤 관점에서 정의 , 설명하고 있는지 , 그 한계는 무엇인\n",
      "지, 그리고 타당성 있는 개념은 무엇인지를 체계적으로 살펴보고자 한\n",
      "다. 이를 위해 다음의 네 가지 차원 , 즉 법률적 관점 , 저널리즘적 관점 , \n",
      "기술적 관점 그리고 정치사회적 관점에서 가짜뉴스의 개념과 범위에 대한 의미를 논의해 보고자 한다 . 법률적 관점은 가짜뉴스를 법리적 측면\n",
      "\n",
      "184  미디어와 인격권 ▪제4권 ▪제2호 ▪2018\n",
      "념이나 범위와 같은 미시적 차원 , 그리고 가짜뉴스가 생성 , 유포되는 사\n",
      "회 맥락에 대한 거시적 차원을 통합적으로 제시해 줄 것으로 기대해 볼 \n",
      "수 있다 . \n",
      "1. 법률적 관점에서의 가짜뉴스 \n",
      "문제의 가짜뉴스를 사회적 통제나 규제의 대상으로 볼 수 있는지 판\n",
      "단하기 위해서는 먼저 이것이 법률적으로 어떻게 규정되는가에 대한 검토가 앞서야 한다 . 가짜뉴스에 대한 법률적 개념은 가짜뉴스를 제재의 \n",
      "대상으로 보고 정부나 사법기관이 개입해도 무방한 대상인지를 결정하\n",
      "는 기준이 된다 . 이를 위해서는 전문가의 의견과 함께 법률이나 주요 법\n",
      "안들이 규정하는 가짜뉴스의 의미를 되짚어 볼 필요가 있다 . 클라인과 \n",
      "우엘러 (Klein & Wueller, 2017) 는 ‘가짜뉴스에 대한 법률적 관점 (fake \n",
      "news: a legal perspective)’ 이라는 논문에서 가짜뉴스의 법적 기준으로 \n",
      "의도된 허위성 (falsity)과 뉴스의 형식성 (formality) 을 주요 요건으로 꼽았\n",
      "다. 이들은 실체적 진실 여부와 뉴스의 보편적인 양식을 갖췄는지를 기\n",
      "준으로 가짜뉴스를 판단할 것을 제안했다 . 이에 반해 주니어 탠독과 그\n",
      "의 연구 동료들 (2018)은 가짜뉴스를 정의하면서 가짜뉴스가 사실에 어느 \n",
      "정도 근거하는지에 대한 사실성 (facticity) 과 사람들을 오인시키는 정도를 \n",
      "나타내는 의도성 (intention) 등 두 가지 차원에서 설명한다 . 보도한 내용\n",
      "이 사실과 얼마나 근접한지 , 그리고 불순한 목적을 갖고 특정한 방향으\n",
      "로 몰고 가고자 하는 의도가 숨어 있는지가 핵심적인 요건이다 . 이들 연\n",
      "구자들은 가짜뉴스를 법리적 관점에서 판정하기 위해서는 적어도 기만성(혹은 허위성 )이 있는지 , 의도적 목적을 갖고 있는지 , 형식적 측면에서 \n",
      "기존 언론의 뉴스 보도와 유사한 지를 따져봐야 한다는 점을 공통적으\n",
      "로 지적한다 . \n",
      "유의선 (2018)도 가짜뉴스가 법적 규제의 객관적 구성요건을 갖추기\n",
      "\n",
      "가짜뉴스(fake news)란 무엇인가?   207\n",
      "동조화 폭포현상 (conformity cascades) 과 집단 극단화 (group polarization)\n",
      "도 가짜뉴스를 촉진시키는 원인의 하나로 볼 수 있다 . 사람들은 일반적\n",
      "으로 자신의 견해가 무엇이든 , 자신을 둘러싸고 있는 집단과 같이 행동\n",
      "하는 동조화 폭포현상을 보인다 . 사람들은 본능적으로 사회적 제재 (social \n",
      "sanction)나 고립(isolation) 을 피하기 위해 자신이 속하는 집단의 의견에 \n",
      "동조하며 , 거꾸로 정치적 반대자들에 대해서는 허위사실을 유포해 비난\n",
      "한다. 뿐만 아니라 같은 생각을 지닌 사람들끼리 토론을 하며 , 같은 생\n",
      "각을 갖는 집단 구성원들이 더 공고하게 뭉치는 집단 극단화 현상도 나\n",
      "타난다 . 이 과정에 가짜뉴스가 중요한 매개 기능을 한다 . \n",
      "그러나 가짜뉴스의 유발 원인에는 기존 언론에 대한 불신도 무시할 \n",
      "수 없다 . 심리학자인 니콜라스 디폰조 (Nicholas DiFonzo, 2008) 의 지적\n",
      "대로 공식적인 뉴스가 신뢰를 얻지 못하면 소문이 강력한 힘을 얻는다 . \n",
      "가짜뉴스는 보통 사회적 불확실성을 벗어나기 위해 작동한다 . 따라서 한\n",
      "국 언론의 고질적 정파성에 대한 국민들의 불신이 가짜뉴스 태동과 연\n",
      "관성이 없다고 말하기 어렵다 . 기존 언론의 뉴스보다 가짜뉴스를 더 믿\n",
      "거나 자신이 지지하지 않은 언론의 보도는 일단 가짜뉴스로 치부하는 \n",
      "것은 기존 언론에 대한 불신이 원인으로 볼 수 있다 . \n",
      "일곱째는 디지털 미디어 환경에서의 가짜뉴스를 어떻게 정의할 것인\n",
      "가에 관한 문제이다 . 위에서 살펴 본대로 가짜뉴스에 대한 정의와 개념\n",
      "은 매우 다차원적이고 , 포괄적이다 . 가짜뉴스 개념과 범위에 대한 위의 \n",
      "논의가 도리어 개념과 범위의 수렴에 기여하기보다 가지를 넓히는 측면마저 보인다 . 본 연구는 이러한 약점을 메우기 위해 가짜뉴스의 개념을 \n",
      "몇 가지 관점에서 좁혀서 제안해 보고자 한다 . 첫째는 형식적 측면에서\n",
      "\n",
      "가짜뉴스(fake news)란 무엇인가?   173\n",
      "10)\n",
      "이 완 수**\n",
      "동서대학교 미디어커뮤니케이션학부 교수\n",
      "이 글은 가짜뉴스는 무엇이며 , 또 어디까지를 가짜뉴스로 볼 것인가에 \n",
      "대한 문제의식에서 출발했다 . 이에 이 글은 연구자들이 지금까지 제시해 \n",
      "온 가짜뉴스라는 용칭 , 개념, 그리고 범위의 적합성에 대해 비판적으로 \n",
      "검토했다 . 이를 토대로 법률적 , 저널리즘적 , 기술적 , 정치사회적 관점에서 \n",
      "가짜뉴스의 의미와 타당성을 통합적으로 논의해 보았다 . 논의 결과를 정\n",
      "리하면 다음과 같다 . 첫째는 가짜뉴스의 개념적 타당성을 검토하고 , 이를 \n",
      "허위정보와 구분할 필요가 있다는 점을 제안했다 . 둘째 가짜뉴스가 성립\n",
      "되기 위한 개념적 조건으로 정보의 허위성 , 의도성 , 형식성이 특별히 고\n",
      "려되어야 한다는 점을 제안했다 . 셋째는 가짜뉴스의 규제는 표현의 자유\n",
      "권 차원에서 최소화되어야 한다는 점을 제안했다 . 넷째는 가짜뉴스를 정\n",
      "파적 갈등과 , 이념적 대립이라는 정치사회적 토양위에서 작동하는 ‘정치\n",
      "적 커뮤니케이션 현상 ’으로 파악했다 . 다섯째는 가짜뉴스는 확증 편향성 , \n",
      "부정적 편향성 , 그리고 동조화 폭포현상과 같은 심리적 기제를 통해 집단 \n",
      "극단화되는 양상을 보인다는 점을 지적했다 . 가짜뉴스의 개념과 범위를 \n",
      "한국 정치사회 환경과 관련지어 토론했다 . \n",
      "주제어: 가짜뉴스, 허위정보, 정파적 갈등, 확증 편향성, 부정적 편향성 \n",
      " * 2018년도 11월 9일 미디어연대 7차 토론회 발표 자료를 수정보완했음\n",
      "** wansoo1960@gmail.com  가짜뉴스(fake news)란 무엇인가?\n",
      "- 가짜뉴스 개념과 범위에 대한 다차원적 논의 -*\n",
      "▮국문초록\n",
      "[최종 답변]\n",
      "문서에서는 가짜뉴스에 대한 다차원적 논의를 다음과 같은 네 가지 관점에서 다루고 있습니다:\n",
      "\n",
      "1. **법률적 관점**: 가짜뉴스를 법리적 측면에서 어떻게 정의하고 규제할 수 있는지를 검토합니다. 가짜뉴스의 법적 기준으로는 의도된 허위성(falsity)과 뉴스의 형식성(formality)이 주요 요건으로 제시됩니다. 또한, 가짜뉴스가 사회적 통제나 규제의 대상으로 볼 수 있는지에 대한 논의도 포함되어 있습니다.\n",
      "\n",
      "2. **저널리즘적 관점**: 저널리즘의 기준과 윤리에 비추어 가짜뉴스를 어떻게 이해하고 다룰 것인지에 대한 논의가 이루어집니다. 이는 가짜뉴스가 저널리즘의 신뢰성과 어떻게 연결되는지를 탐구합니다.\n",
      "\n",
      "3. **기술적 관점**: 디지털 미디어 환경에서 가짜뉴스가 어떻게 생성되고 유포되는지를 분석합니다. 기술적 요소가 가짜뉴스의 확산에 미치는 영향을 살펴보며, 소셜 미디어와 같은 플랫폼의 역할도 논의됩니다.\n",
      "\n",
      "4. **정치사회적 관점**: 가짜뉴스가 정치적 커뮤니케이션 현상으로 작용하는 방식을 탐구합니다. 이는 가짜뉴스가 정파적 갈등과 이념적 대립의 맥락에서 어떻게 발생하고 확산되는지를 분석합니다.\n",
      "\n",
      "이러한 논의는 가짜뉴스의 개념과 범위를 명확히 하고, 허위정보와의 구분, 가짜뉴스의 규제 필요성, 그리고 심리적 기제(확증 편향성, 부정적 편향성 등)에 대한 이해를 포함합니다. 이 연구는 가짜뉴스가 한국의 정치사회 환경과 어떻게 관련되는지를 논의하며, 가짜뉴스의 개념적 조건으로 정보의 허위성, 의도성, 형식성을 강조합니다.\n"
     ]
    }
   ],
   "source": [
    "# 질의에 대한 답변을 스트리밍으로 출력 요청\n",
    "result = agent_executor.stream(\n",
    "    {\"input\": \"가짜뉴스에 대한 다차원적 논의에 문서에서 찾아서 알려줘.\"}\n",
    ")\n",
    "\n",
    "for step in result:\n",
    "    # 중간 단계를 parser 를 사용하여 단계별로 출력\n",
    "    agent_stream_parser.process_agent_steps(step)"
   ]
  },
  {
   "cell_type": "code",
   "execution_count": 43,
   "metadata": {},
   "outputs": [],
   "source": [
    "from langchain_community.chat_message_histories import ChatMessageHistory\n",
    "from langchain_core.runnables.history import RunnableWithMessageHistory\n",
    "\n",
    "# session_id 를 저장할 딕셔너리 생성\n",
    "store = {}\n",
    "\n",
    "\n",
    "# session_id 를 기반으로 세션 기록을 가져오는 함수\n",
    "def get_session_history(session_ids):\n",
    "    if session_ids not in store:  # session_id 가 store에 없는 경우\n",
    "        # 새로운 ChatMessageHistory 객체를 생성하여 store에 저장\n",
    "        store[session_ids] = ChatMessageHistory()\n",
    "    return store[session_ids]  # 해당 세션 ID에 대한 세션 기록 반환\n",
    "\n",
    "\n",
    "# 채팅 메시지 기록이 추가된 에이전트를 생성\n",
    "agent_with_chat_history = RunnableWithMessageHistory(\n",
    "    agent_executor,\n",
    "    # 대화 session_id\n",
    "    get_session_history,\n",
    "    # 프롬프트의 질문이 입력되는 key: \"input\"\n",
    "    input_messages_key=\"input\",\n",
    "    # 프롬프트의 메시지가 입력되는 key: \"chat_history\"\n",
    "    history_messages_key=\"chat_history\",\n",
    ")"
   ]
  },
  {
   "cell_type": "code",
   "execution_count": 44,
   "metadata": {},
   "outputs": [
    {
     "name": "stdout",
     "output_type": "stream",
     "text": [
      "[도구 호출]\n",
      "Tool: pdf_search\n",
      "query: 가짜뉴스 다차원적 논의\n",
      "Log: \n",
      "Invoking: `pdf_search` with `{'query': '가짜뉴스 다차원적 논의'}`\n",
      "\n",
      "\n",
      "\n",
      "[관찰 내용]\n",
      "Observation: 이런 차원에서 이 글은 가짜뉴스를 어떻게 개념화하고 , 어느 범위까지\n",
      "로 볼 것인가에 대한 소고 (小考)이다. 이를 위해 이 글은 기존 연구자들\n",
      "이 가짜뉴스를 어떤 관점에서 정의 , 설명하고 있는지 , 그 한계는 무엇인\n",
      "지, 그리고 타당성 있는 개념은 무엇인지를 체계적으로 살펴보고자 한\n",
      "다. 이를 위해 다음의 네 가지 차원 , 즉 법률적 관점 , 저널리즘적 관점 , \n",
      "기술적 관점 그리고 정치사회적 관점에서 가짜뉴스의 개념과 범위에 대한 의미를 논의해 보고자 한다 . 법률적 관점은 가짜뉴스를 법리적 측면\n",
      "\n",
      "184  미디어와 인격권 ▪제4권 ▪제2호 ▪2018\n",
      "념이나 범위와 같은 미시적 차원 , 그리고 가짜뉴스가 생성 , 유포되는 사\n",
      "회 맥락에 대한 거시적 차원을 통합적으로 제시해 줄 것으로 기대해 볼 \n",
      "수 있다 . \n",
      "1. 법률적 관점에서의 가짜뉴스 \n",
      "문제의 가짜뉴스를 사회적 통제나 규제의 대상으로 볼 수 있는지 판\n",
      "단하기 위해서는 먼저 이것이 법률적으로 어떻게 규정되는가에 대한 검토가 앞서야 한다 . 가짜뉴스에 대한 법률적 개념은 가짜뉴스를 제재의 \n",
      "대상으로 보고 정부나 사법기관이 개입해도 무방한 대상인지를 결정하\n",
      "는 기준이 된다 . 이를 위해서는 전문가의 의견과 함께 법률이나 주요 법\n",
      "안들이 규정하는 가짜뉴스의 의미를 되짚어 볼 필요가 있다 . 클라인과 \n",
      "우엘러 (Klein & Wueller, 2017) 는 ‘가짜뉴스에 대한 법률적 관점 (fake \n",
      "news: a legal perspective)’ 이라는 논문에서 가짜뉴스의 법적 기준으로 \n",
      "의도된 허위성 (falsity)과 뉴스의 형식성 (formality) 을 주요 요건으로 꼽았\n",
      "다. 이들은 실체적 진실 여부와 뉴스의 보편적인 양식을 갖췄는지를 기\n",
      "준으로 가짜뉴스를 판단할 것을 제안했다 . 이에 반해 주니어 탠독과 그\n",
      "의 연구 동료들 (2018)은 가짜뉴스를 정의하면서 가짜뉴스가 사실에 어느 \n",
      "정도 근거하는지에 대한 사실성 (facticity) 과 사람들을 오인시키는 정도를 \n",
      "나타내는 의도성 (intention) 등 두 가지 차원에서 설명한다 . 보도한 내용\n",
      "이 사실과 얼마나 근접한지 , 그리고 불순한 목적을 갖고 특정한 방향으\n",
      "로 몰고 가고자 하는 의도가 숨어 있는지가 핵심적인 요건이다 . 이들 연\n",
      "구자들은 가짜뉴스를 법리적 관점에서 판정하기 위해서는 적어도 기만성(혹은 허위성 )이 있는지 , 의도적 목적을 갖고 있는지 , 형식적 측면에서 \n",
      "기존 언론의 뉴스 보도와 유사한 지를 따져봐야 한다는 점을 공통적으\n",
      "로 지적한다 . \n",
      "유의선 (2018)도 가짜뉴스가 법적 규제의 객관적 구성요건을 갖추기\n",
      "\n",
      "가짜뉴스(fake news)란 무엇인가?   207\n",
      "동조화 폭포현상 (conformity cascades) 과 집단 극단화 (group polarization)\n",
      "도 가짜뉴스를 촉진시키는 원인의 하나로 볼 수 있다 . 사람들은 일반적\n",
      "으로 자신의 견해가 무엇이든 , 자신을 둘러싸고 있는 집단과 같이 행동\n",
      "하는 동조화 폭포현상을 보인다 . 사람들은 본능적으로 사회적 제재 (social \n",
      "sanction)나 고립(isolation) 을 피하기 위해 자신이 속하는 집단의 의견에 \n",
      "동조하며 , 거꾸로 정치적 반대자들에 대해서는 허위사실을 유포해 비난\n",
      "한다. 뿐만 아니라 같은 생각을 지닌 사람들끼리 토론을 하며 , 같은 생\n",
      "각을 갖는 집단 구성원들이 더 공고하게 뭉치는 집단 극단화 현상도 나\n",
      "타난다 . 이 과정에 가짜뉴스가 중요한 매개 기능을 한다 . \n",
      "그러나 가짜뉴스의 유발 원인에는 기존 언론에 대한 불신도 무시할 \n",
      "수 없다 . 심리학자인 니콜라스 디폰조 (Nicholas DiFonzo, 2008) 의 지적\n",
      "대로 공식적인 뉴스가 신뢰를 얻지 못하면 소문이 강력한 힘을 얻는다 . \n",
      "가짜뉴스는 보통 사회적 불확실성을 벗어나기 위해 작동한다 . 따라서 한\n",
      "국 언론의 고질적 정파성에 대한 국민들의 불신이 가짜뉴스 태동과 연\n",
      "관성이 없다고 말하기 어렵다 . 기존 언론의 뉴스보다 가짜뉴스를 더 믿\n",
      "거나 자신이 지지하지 않은 언론의 보도는 일단 가짜뉴스로 치부하는 \n",
      "것은 기존 언론에 대한 불신이 원인으로 볼 수 있다 . \n",
      "일곱째는 디지털 미디어 환경에서의 가짜뉴스를 어떻게 정의할 것인\n",
      "가에 관한 문제이다 . 위에서 살펴 본대로 가짜뉴스에 대한 정의와 개념\n",
      "은 매우 다차원적이고 , 포괄적이다 . 가짜뉴스 개념과 범위에 대한 위의 \n",
      "논의가 도리어 개념과 범위의 수렴에 기여하기보다 가지를 넓히는 측면마저 보인다 . 본 연구는 이러한 약점을 메우기 위해 가짜뉴스의 개념을 \n",
      "몇 가지 관점에서 좁혀서 제안해 보고자 한다 . 첫째는 형식적 측면에서\n",
      "\n",
      "가짜뉴스(fake news)란 무엇인가?   173\n",
      "10)\n",
      "이 완 수**\n",
      "동서대학교 미디어커뮤니케이션학부 교수\n",
      "이 글은 가짜뉴스는 무엇이며 , 또 어디까지를 가짜뉴스로 볼 것인가에 \n",
      "대한 문제의식에서 출발했다 . 이에 이 글은 연구자들이 지금까지 제시해 \n",
      "온 가짜뉴스라는 용칭 , 개념, 그리고 범위의 적합성에 대해 비판적으로 \n",
      "검토했다 . 이를 토대로 법률적 , 저널리즘적 , 기술적 , 정치사회적 관점에서 \n",
      "가짜뉴스의 의미와 타당성을 통합적으로 논의해 보았다 . 논의 결과를 정\n",
      "리하면 다음과 같다 . 첫째는 가짜뉴스의 개념적 타당성을 검토하고 , 이를 \n",
      "허위정보와 구분할 필요가 있다는 점을 제안했다 . 둘째 가짜뉴스가 성립\n",
      "되기 위한 개념적 조건으로 정보의 허위성 , 의도성 , 형식성이 특별히 고\n",
      "려되어야 한다는 점을 제안했다 . 셋째는 가짜뉴스의 규제는 표현의 자유\n",
      "권 차원에서 최소화되어야 한다는 점을 제안했다 . 넷째는 가짜뉴스를 정\n",
      "파적 갈등과 , 이념적 대립이라는 정치사회적 토양위에서 작동하는 ‘정치\n",
      "적 커뮤니케이션 현상 ’으로 파악했다 . 다섯째는 가짜뉴스는 확증 편향성 , \n",
      "부정적 편향성 , 그리고 동조화 폭포현상과 같은 심리적 기제를 통해 집단 \n",
      "극단화되는 양상을 보인다는 점을 지적했다 . 가짜뉴스의 개념과 범위를 \n",
      "한국 정치사회 환경과 관련지어 토론했다 . \n",
      "주제어: 가짜뉴스, 허위정보, 정파적 갈등, 확증 편향성, 부정적 편향성 \n",
      " * 2018년도 11월 9일 미디어연대 7차 토론회 발표 자료를 수정보완했음\n",
      "** wansoo1960@gmail.com  가짜뉴스(fake news)란 무엇인가?\n",
      "- 가짜뉴스 개념과 범위에 대한 다차원적 논의 -*\n",
      "▮국문초록\n",
      "[최종 답변]\n",
      "문서에서는 가짜뉴스에 대한 다차원적 논의를 다음과 같은 네 가지 관점에서 다루고 있습니다:\n",
      "\n",
      "1. **법률적 관점**: 가짜뉴스를 법적으로 어떻게 정의하고 규제할 수 있는지를 검토합니다. 가짜뉴스의 법적 기준으로는 의도된 허위성(falsity)과 뉴스의 형식성(formality)이 주요 요건으로 제시됩니다. 또한, 가짜뉴스가 사회적 통제의 대상으로 볼 수 있는지에 대한 논의도 포함되어 있습니다.\n",
      "\n",
      "2. **저널리즘적 관점**: 저널리즘의 기준과 윤리에 비추어 가짜뉴스를 어떻게 이해하고 대응할 것인지에 대한 논의가 이루어집니다. 이는 가짜뉴스가 저널리즘의 신뢰성을 어떻게 해치는지를 포함합니다.\n",
      "\n",
      "3. **기술적 관점**: 디지털 미디어 환경에서 가짜뉴스가 어떻게 생성되고 유포되는지를 분석합니다. 기술적 요소가 가짜뉴스의 확산에 미치는 영향을 살펴보며, 소셜 미디어와 알고리즘의 역할도 논의됩니다.\n",
      "\n",
      "4. **정치사회적 관점**: 가짜뉴스가 정치적 커뮤니케이션 현상으로 작용하는 방식을 탐구합니다. 이는 정파적 갈등과 이념적 대립이 가짜뉴스의 생성과 확산에 어떻게 기여하는지를 포함합니다.\n",
      "\n",
      "이러한 논의는 가짜뉴스의 개념과 범위를 명확히 하고, 허위정보와의 구분, 가짜뉴스의 규제 필요성, 그리고 심리적 기제(확증 편향성, 부정적 편향성 등)에 대한 이해를 심화하는 데 기여합니다.\n"
     ]
    }
   ],
   "source": [
    "# 질의에 대한 답변을 스트리밍으로 출력 요청\n",
    "response = agent_with_chat_history.stream(\n",
    "    {\"input\": \"가짜뉴스에 대한 다차원적 논의에 문서에서 찾아서 알려줘.\"},\n",
    "    # session_id 설정\n",
    "    config={\"configurable\": {\"session_id\": \"abc123\"}},\n",
    ")\n",
    "\n",
    "# 출력 확인\n",
    "for step in response:\n",
    "    agent_stream_parser.process_agent_steps(step)"
   ]
  },
  {
   "cell_type": "code",
   "execution_count": 45,
   "metadata": {},
   "outputs": [
    {
     "name": "stdout",
     "output_type": "stream",
     "text": [
      "[최종 답변]\n",
      "The document discusses the multidimensional discourse on fake news from the following four perspectives:\n",
      "\n",
      "1. **Legal Perspective**: It examines how fake news can be defined and regulated legally. The legal criteria for fake news include intended falsity and the formality of the news. Additionally, there is a discussion on whether fake news can be viewed as a subject of social control.\n",
      "\n",
      "2. **Journalistic Perspective**: The discussion revolves around how to understand and respond to fake news in light of journalistic standards and ethics. This includes how fake news undermines the credibility of journalism.\n",
      "\n",
      "3. **Technological Perspective**: It analyzes how fake news is generated and disseminated in the digital media environment. The impact of technological factors on the spread of fake news is examined, including the role of social media and algorithms.\n",
      "\n",
      "4. **Political-Social Perspective**: The exploration focuses on how fake news functions as a phenomenon in political communication. This includes how partisan conflicts and ideological divisions contribute to the creation and spread of fake news.\n",
      "\n",
      "These discussions aim to clarify the concept and scope of fake news, distinguish it from misinformation, highlight the need for regulation, and deepen the understanding of psychological mechanisms (such as confirmation bias and negativity bias) involved.\n"
     ]
    }
   ],
   "source": [
    "response = agent_with_chat_history.stream(\n",
    "    {\"input\": \"이전의 답변을 영어로 번역해 주세요.\"},\n",
    "    # session_id 설정\n",
    "    config={\"configurable\": {\"session_id\": \"abc123\"}},\n",
    ")\n",
    "\n",
    "# 출력 확인\n",
    "for step in response:\n",
    "    agent_stream_parser.process_agent_steps(step)"
   ]
  },
  {
   "cell_type": "markdown",
   "metadata": {},
   "source": [
    "# Agent 템플릿"
   ]
  },
  {
   "cell_type": "code",
   "execution_count": 48,
   "metadata": {},
   "outputs": [],
   "source": [
    "# 필요한 모듈 import\n",
    "from langchain_core.prompts import ChatPromptTemplate\n",
    "from langchain_community.tools.tavily_search import TavilySearchResults\n",
    "from langchain_community.vectorstores import FAISS\n",
    "from langchain_community.chat_message_histories import ChatMessageHistory\n",
    "from langchain.text_splitter import RecursiveCharacterTextSplitter\n",
    "from langchain_openai import OpenAIEmbeddings, ChatOpenAI\n",
    "from langchain.document_loaders import PyMuPDFLoader\n",
    "from langchain.tools.retriever import create_retriever_tool\n",
    "from langchain.agents import create_tool_calling_agent, AgentExecutor\n",
    "from langchain_core.runnables.history import RunnableWithMessageHistory\n",
    "from langchain_teddynote.messages import AgentStreamParser\n",
    "\n",
    "########## 1. 도구를 정의 ##########\n",
    "\n",
    "### 1-1. Search 도구 ###\n",
    "# TavilySearchResults 클래스의 인스턴스를 생성\n",
    "# k=6은 검색 결과를 6개까지 가져오겠다는 의미\n",
    "search = TavilySearchResults(k=6)\n",
    "\n",
    "### 1-2. PDF 문서 검색 도구 (Retriever) ###\n",
    "# PDF 파일 로드. 파일의 경로 입력\n",
    "loader = PyMuPDFLoader(\"./가짜뉴스란 무엇인가.pdf\")\n",
    "\n",
    "# 텍스트 분할기를 사용하여 문서를 분할\n",
    "text_splitter = RecursiveCharacterTextSplitter(chunk_size=1000, chunk_overlap=100)\n",
    "\n",
    "# 문서를 로드하고 분할\n",
    "split_docs = loader.load_and_split(text_splitter)\n",
    "\n",
    "# VectorStore를 생성\n",
    "vector = FAISS.from_documents(split_docs, OpenAIEmbeddings())\n",
    "\n",
    "# Retriever를 생성\n",
    "retriever = vector.as_retriever()\n",
    "\n",
    "\n",
    "retriever_tool = create_retriever_tool(\n",
    "    retriever,\n",
    "    name=\"pdf_search\",  # 도구의 이름을 입력\n",
    "    description=\"use this tool to search information from the PDF document\",  # 도구에 대한 설명을 자세히 기입해야 합니다!!\n",
    ")\n",
    "\n",
    "### 1-3. tools 리스트에 도구 목록을 추가 ###\n",
    "# tools 리스트에 search와 retriever_tool을 추가\n",
    "tools = [search, retriever_tool]\n",
    "\n",
    "########## 2. LLM 을 정의  ##########\n",
    "# LLM 모델을 생성\n",
    "llm = ChatOpenAI(model=\"gpt-4o\", temperature=0)\n",
    "\n",
    "########## 3. Prompt 를 정의##########\n",
    "\n",
    "# Prompt 정의\n",
    "prompt = ChatPromptTemplate.from_messages(\n",
    "    [\n",
    "        (\n",
    "            \"system\",\n",
    "            \"You are a helpful assistant. \"\n",
    "            \"Make sure to use the `pdf_search` tool for searching information from the PDF document. \"\n",
    "            \"If you can't find the information from the PDF document, use the `search` tool for searching information from the web.\",\n",
    "        ),\n",
    "        (\"placeholder\", \"{chat_history}\"),\n",
    "        (\"human\", \"{input}\"),\n",
    "        (\"placeholder\", \"{agent_scratchpad}\"),\n",
    "    ]\n",
    ")\n",
    "\n",
    "########## 4. Agent 를 정의 ##########\n",
    "\n",
    "# 에이전트를 생성\n",
    "# llm, tools, prompt를 인자로 사용\n",
    "agent = create_tool_calling_agent(llm, tools, prompt)\n",
    "\n",
    "########## 5. AgentExecutor 를 정의 ##########\n",
    "\n",
    "# AgentExecutor 클래스를 사용하여 agent와 tools를 설정하고, 상세한 로그를 출력하도록 verbose를 True로 설정\n",
    "agent_executor = AgentExecutor(agent=agent, tools=tools, verbose=False)\n",
    "\n",
    "########## 6. 채팅 기록을 수행하는 메모리를 추가 ##########\n",
    "\n",
    "# session_id 를 저장할 딕셔너리 생성\n",
    "store = {}\n",
    "\n",
    "\n",
    "# session_id 를 기반으로 세션 기록을 가져오는 함수\n",
    "def get_session_history(session_ids):\n",
    "    if session_ids not in store:  # session_id 가 store에 없는 경우\n",
    "        # 새로운 ChatMessageHistory 객체를 생성하여 store에 저장\n",
    "        store[session_ids] = ChatMessageHistory()\n",
    "    return store[session_ids]  # 해당 세션 ID에 대한 세션 기록 반환\n",
    "\n",
    "\n",
    "# 채팅 메시지 기록이 추가된 에이전트를 생성\n",
    "agent_with_chat_history = RunnableWithMessageHistory(\n",
    "    agent_executor,\n",
    "    # 대화 session_id\n",
    "    get_session_history,\n",
    "    # 프롬프트의 질문이 입력되는 key: \"input\"\n",
    "    input_messages_key=\"input\",\n",
    "    # 프롬프트의 메시지가 입력되는 key: \"chat_history\"\n",
    "    history_messages_key=\"chat_history\",\n",
    ")\n",
    "\n",
    "########## 7. Agent 파서를 정의합니다. ##########\n",
    "agent_stream_parser = AgentStreamParser()"
   ]
  },
  {
   "cell_type": "code",
   "execution_count": 49,
   "metadata": {},
   "outputs": [
    {
     "name": "stdout",
     "output_type": "stream",
     "text": [
      "[도구 호출]\n",
      "Tool: pdf_search\n",
      "query: 소결론\n",
      "Log: \n",
      "Invoking: `pdf_search` with `{'query': '소결론'}`\n",
      "\n",
      "\n",
      "\n",
      "[관찰 내용]\n",
      "Observation: 해 최종 판단을 유보한 채 중립적인 태도로 보도했다면 그것은 가짜뉴\n",
      "스로 볼 수 없다고 말한다. 언론이 보도를 통해 제기한 의혹 자체를 가\n",
      "짜뉴스로 볼 수는 없다는 뜻이다. \n",
      "문제는 무엇이 진짜인지, 가짜인지를 구분하는 기준을 정하기 어렵기 \n",
      "때문이다(오세욱 등, 2017). 세상에 절대적 진실은 존재하지 않는다. 언\n",
      "론이 작성, 보도하는 기사는 진실에 비교적 가까운 ‘종합적 진실(the\n",
      "\n",
      "이다. 기사 작성주체가 반드시 전통적인 기존의 언론사나 기자일 필요도 \n",
      "없다. \n",
      "가짜뉴스의 또 다른 논쟁점 가운데 하나가 규제의 문제이다. 가짜뉴스\n",
      "를 제도적으로 규제하는 것이 온당한가, 현실적으로 가능한 일인가, 그\n",
      "리고 무엇을 어떻게 규제할 것인가에 대한 사회적 합의나 기준이 없다.\n",
      "\n",
      "에서 사실성 검정은 게이트키핑(gate keeping) 과정을 거쳤는지가 중요하\n",
      "다. 모두 그러하지는 않지만 이름이 없는 매체일수록 게이트키핑 구조를 \n",
      "갖추고 있지 못할 개연성이 크기 때문이다. 게이트키핑 과정이 없을수록 \n",
      "거짓 또는 허위정보를 생산할 가능성이 더 높다. 정보의 신뢰성은 정보\n",
      "\n",
      "현의 자유권을 훼손해서는 안 된다는 입장이다. 하지만 가짜뉴스를 무제\n",
      "한 허용해야 한다는 의견이 전적으로 지지되는 것도 아니다. 정치권이나 \n",
      "정부 일각에서 가짜뉴스의 무분별한 유통에 대해 제재가 필요하다고 본\n",
      "다. 예를 들어 폭력적이거나 선정적인 동영상물에 대한 유통을 차단하고\n",
      "[최종 답변]\n",
      "문서의 소결론에서는 가짜뉴스의 정의와 규제에 대한 논쟁을 다루고 있습니다. 가짜뉴스를 구분하는 기준을 정하기 어렵고, 절대적 진실이 존재하지 않기 때문에 언론이 제기한 의혹 자체를 가짜뉴스로 볼 수 없다는 점을 강조합니다. 또한, 가짜뉴스를 제도적으로 규제하는 것에 대한 사회적 합의나 기준이 없으며, 정보의 신뢰성은 게이트키핑 과정을 거쳤는지에 따라 달라질 수 있다고 설명합니다. 가짜뉴스의 무분별한 유통에 대한 제재 필요성도 언급되며, 표현의 자유를 훼손하지 않으면서도 적절한 규제가 필요하다는 입장을 제시합니다.\n"
     ]
    }
   ],
   "source": [
    "########## 8. 에이전트를 실행하고 결과를 확인합니다. ##########\n",
    "\n",
    "# 질의에 대한 답변을 출력합니다.\n",
    "response = agent_with_chat_history.stream(\n",
    "    {\"input\":  \"문서의 소결론에 대해 찾아서 요약해줘.\"},\n",
    "    # 세션 ID를 설정\n",
    "    # 여기서는 간단한 메모리 내 ChatMessageHistory를 사용하기 때문에 실제로 사용되지 않음\n",
    "    config={\"configurable\": {\"session_id\": \"abc123\"}},\n",
    ")\n",
    "\n",
    "for step in response:\n",
    "    agent_stream_parser.process_agent_steps(step)"
   ]
  },
  {
   "cell_type": "code",
   "execution_count": 53,
   "metadata": {},
   "outputs": [
    {
     "name": "stdout",
     "output_type": "stream",
     "text": [
      "[도구 호출]\n",
      "Tool: tavily_search_results_json\n",
      "query: 가짜뉴스 걸러내는 키워드\n",
      "Log: \n",
      "Invoking: `tavily_search_results_json` with `{'query': '가짜뉴스 걸러내는 키워드'}`\n",
      "\n",
      "\n",
      "\n",
      "[관찰 내용]\n",
      "Observation: [{'url': 'https://brunch.co.kr/@itrendlab/209', 'content': \"가짜 뉴스를 걸러내는 읽기 방법을 《핵심 읽기 최소원칙》에 쓴 내용을 중심으로 정리했습니다. 가짜 뉴스, 가짜 정보가 사회 문제로 보도된다. 우리가 '가짜 뉴스'라고 말하는 정보 중에는 거짓이 교묘하게 숨어있다. ... 글을 읽기보다 키워드 검색 결과에 ...\"}, {'url': 'https://www.mk.co.kr/news/columnists/10861942', 'content': '한 개의 가짜뉴스에 대한 팩트체크를 하는 동안 열 개 이상의 가짜뉴스가 만들어지고 있고, 딥페이크 등 기술 발달로 가짜뉴스 가려내기는 점점 힘들어지고 있다. 가짜뉴스를 수익형 사업모델로 삼는 1인 미디어도 갈수록 늘고 있다. 가짜뉴스를 걸러내고 비판적 ...'}, {'url': 'https://www.hankookilbo.com/News/Read/201612122085264551', 'content': \"가짜뉴스 걸러내는 세 가지 방법, URLㆍ소개글ㆍ취재원. 가짜뉴스는 독자들의 '무신경'을 먹고 자란다고 해도 과언이 아니다. 구글과 페이스북이 ...\"}, {'url': 'https://www.seoul.co.kr/news/newsView.php?id=20230914010001', 'content': '가짜뉴스 걸러내는 메커니즘 만들어야\" 입력 : 2023-09-14 01:26 ㅣ 수정 : 2023-09-15 08:36 \\'가짜뉴스, 어떻게 근절할 것인가\\' 서울신문 주최 전문가 4인 ...'}, {'url': 'https://www.ngonews.kr/news/articleView.html?idxno=144599', 'content': \"대한민국에 '가짜뉴스'가 범람하고 있다. 특정 분야만 아니라 정치, 경제, 사회, 문화, 방송·연예 등까지 광범위하게 '가짜뉴스'가 퍼지면서 사실을 왜곡, 호도하는 것은 물론 사회적 혼란과 분열을 야기하고 있다. 특히 1인 미디어와 인공지능(AI)의 발전으로 가짜뉴스의 형태와 수법도 진화되고 ...\"}]\n",
      "[최종 답변]\n",
      "가짜뉴스를 걸러낼 수 있는 키워드는 다음과 같습니다:\n",
      "\n",
      "1. **URL**: 뉴스의 출처가 신뢰할 수 있는지 확인합니다. 의심스러운 도메인이나 URL은 가짜뉴스일 가능성이 높습니다.\n",
      "\n",
      "2. **소개글**: 뉴스의 제목이나 소개글이 과장되거나 자극적인 표현을 사용하고 있는지 확인합니다. 이러한 표현은 클릭을 유도하기 위한 가짜뉴스의 특징일 수 있습니다.\n",
      "\n",
      "3. **취재원**: 뉴스가 인용하는 취재원이나 정보 제공자가 신뢰할 수 있는지 확인합니다. 익명이나 불분명한 출처는 가짜뉴스일 가능성이 있습니다.\n",
      "\n",
      "이러한 키워드를 통해 가짜뉴스를 식별하고 걸러낼 수 있습니다.\n"
     ]
    }
   ],
   "source": [
    "########## 8. 에이전트를 실행하고 결과를 확인합니다. ##########\n",
    "\n",
    "# 질의에 대한 답변을 출력합니다.\n",
    "response = agent_with_chat_history.stream(\n",
    "    {\n",
    "        \"input\": \"가짜뉴스를 걸러낼 수 있는 키워드들을 찾아서 요약적으로 서술해주세요. 한글로 답변하세요\"\n",
    "    },\n",
    "    # 세션 ID를 설정\n",
    "    # 여기서는 간단한 메모리 내 ChatMessageHistory를 사용하기 때문에 실제로 사용되지 않음\n",
    "    config={\"configurable\": {\"session_id\": \"abc456\"}},\n",
    ")\n",
    "\n",
    "for step in response:\n",
    "    agent_stream_parser.process_agent_steps(step)"
   ]
  },
  {
   "cell_type": "code",
   "execution_count": 52,
   "metadata": {},
   "outputs": [
    {
     "name": "stdout",
     "output_type": "stream",
     "text": [
      "[최종 답변]\n",
      "가짜뉴스를 딥러닝과 머신러닝 기술로 효과적으로 걸러낼 수 있는 방법을 소개합니다! 먼저, 뉴스 데이터를 수집하고 전처리하는 과정이 필요합니다. 이 단계에서는 텍스트 정규화, 불용어 제거, 형태소 분석 등을 통해 데이터의 품질을 높입니다. 그런 다음, 전처리된 데이터를 활용하여 딥러닝 모델을 학습시킵니다. CNN, RNN, LSTM 등 다양한 딥러닝 아키텍처를 사용할 수 있으며, 앙상블 기법을 통해 여러 모델의 예측 결과를 결합하여 성능을 향상시킬 수 있습니다.\n",
      "\n",
      "모델 학습 후에는 머신러닝 기법을 통해 뉴스의 특징을 추출하고, 이를 기반으로 가짜뉴스 여부를 분류합니다. 이 과정에서는 TF-IDF, 워드 임베딩 등의 기법을 활용하여 텍스트의 의미를 파악합니다. 마지막으로, 모델의 성능을 평가하고 하이퍼파라미터 튜닝이나 데이터셋 확장을 통해 모델을 개선합니다. 이러한 과정을 통해 가짜뉴스 탐지의 정확도를 높일 수 있습니다.\n",
      "\n",
      "이러한 기술들은 가짜뉴스의 확산을 방지하고, 사용자에게 신뢰할 수 있는 정보를 제공하는 데 큰 기여를 할 수 있습니다. 딥러닝과 머신러닝을 활용한 가짜뉴스 탐지, 이제는 필수입니다! #가짜뉴스 #딥러닝 #머신러닝 #데이터과학 #인공지능 #AI #뉴스검증\n"
     ]
    }
   ],
   "source": [
    "########## 8. 에이전트를 실행하고 결과를 확인합니다. ##########\n",
    "\n",
    "# 질의에 대한 답변을 출력합니다.\n",
    "response = agent_with_chat_history.stream(\n",
    "    {\"input\": \"이전의 답변을 SNS 게시글 형태로 500자 내외로 작성하세요.\"},\n",
    "    # 세션 ID를 설정\n",
    "    # 여기서는 간단한 메모리 내 ChatMessageHistory를 사용하기 때문에 실제로 사용되지 않음\n",
    "    config={\"configurable\": {\"session_id\": \"abc456\"}},\n",
    ")\n",
    "\n",
    "for step in response:\n",
    "    agent_stream_parser.process_agent_steps(step)"
   ]
  },
  {
   "cell_type": "code",
   "execution_count": null,
   "metadata": {},
   "outputs": [],
   "source": []
  }
 ],
 "metadata": {
  "kernelspec": {
   "display_name": "Python 3",
   "language": "python",
   "name": "python3"
  },
  "language_info": {
   "codemirror_mode": {
    "name": "ipython",
    "version": 3
   },
   "file_extension": ".py",
   "mimetype": "text/x-python",
   "name": "python",
   "nbconvert_exporter": "python",
   "pygments_lexer": "ipython3",
   "version": "3.10.13"
  }
 },
 "nbformat": 4,
 "nbformat_minor": 5
}
