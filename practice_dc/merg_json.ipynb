{
 "cells": [
  {
   "cell_type": "code",
   "execution_count": null,
   "metadata": {},
   "outputs": [],
   "source": [
    "#테스트 코드입니다."
   ]
  },
  {
   "cell_type": "code",
   "execution_count": 2,
   "metadata": {},
   "outputs": [
    {
     "name": "stdout",
     "output_type": "stream",
     "text": [
      "국정감사 디렉토리의 모든 JSON 파일이 성공적으로 병합되었습니다: 국정감사.json\n",
      "본회의 디렉토리의 모든 JSON 파일이 성공적으로 병합되었습니다: 본회의.json\n",
      "소위원회 디렉토리의 모든 JSON 파일이 성공적으로 병합되었습니다: 소위원회.json\n",
      "예산결산특별위원회 디렉토리의 모든 JSON 파일이 성공적으로 병합되었습니다: 예산결산특별위원회.json\n",
      "특별위원회 디렉토리의 모든 JSON 파일이 성공적으로 병합되었습니다: 특별위원회.json\n"
     ]
    }
   ],
   "source": [
    "import os\n",
    "import json\n",
    "\n",
    "# 데이터가 들어있는 폴더 경로\n",
    "root_dir = '../project/Sample/labeling'\n",
    "\n",
    "# 최상위 디렉토리별로 JSON 파일 병합\n",
    "merged_data = {}\n",
    "\n",
    "# 폴더 구조를 따라가며 각 최상위 디렉토리의 json 파일들을 읽어들임\n",
    "for dirpath, dirnames, filenames in os.walk(root_dir):\n",
    "    # 현재 디렉토리의 JSON 파일 목록\n",
    "    json_files = [f for f in filenames if f.endswith('.json')]\n",
    "\n",
    "    # 최상위 디렉토리 이름을 추출\n",
    "    relative_dir = os.path.relpath(dirpath, root_dir)\n",
    "    if os.path.dirname(relative_dir) == '':\n",
    "        # 최상위 디렉토리에서는 건너뜀\n",
    "        continue\n",
    "\n",
    "    top_level_dir = relative_dir.split(os.sep)[0]\n",
    "\n",
    "    if json_files:\n",
    "        if top_level_dir not in merged_data:\n",
    "            merged_data[top_level_dir] = []  # 새로운 리스트 생성\n",
    "        \n",
    "        for filename in json_files:\n",
    "            file_path = os.path.join(dirpath, filename)\n",
    "            with open(file_path, 'r', encoding='utf-8') as f:\n",
    "                try:\n",
    "                    # 각 JSON 파일을 읽어서 리스트에 추가\n",
    "                    data = json.load(f)\n",
    "                    merged_data[top_level_dir].append(data)\n",
    "                except json.JSONDecodeError as e:\n",
    "                    print(f\"Error decoding JSON from file {file_path}: {e}\")\n",
    "\n",
    "# 최상위 디렉토리 이름으로 병합된 데이터 저장\n",
    "for top_level_dir, data in merged_data.items():\n",
    "    merged_file_path = f\"{top_level_dir}.json\"  # 현재 작업 디렉토리에 저장\n",
    "    with open(merged_file_path, 'w', encoding='utf-8') as f:\n",
    "        json.dump(data, f, ensure_ascii=False, indent=4)\n",
    "    print(f\"{top_level_dir} 디렉토리의 모든 JSON 파일이 성공적으로 병합되었습니다: {merged_file_path}\")\n"
   ]
  },
  {
   "cell_type": "code",
   "execution_count": null,
   "metadata": {},
   "outputs": [],
   "source": []
  }
 ],
 "metadata": {
  "kernelspec": {
   "display_name": "Python 3",
   "language": "python",
   "name": "python3"
  },
  "language_info": {
   "codemirror_mode": {
    "name": "ipython",
    "version": 3
   },
   "file_extension": ".py",
   "mimetype": "text/x-python",
   "name": "python",
   "nbconvert_exporter": "python",
   "pygments_lexer": "ipython3",
   "version": "3.10.13"
  }
 },
 "nbformat": 4,
 "nbformat_minor": 2
}
