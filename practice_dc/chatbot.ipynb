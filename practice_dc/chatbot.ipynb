{
 "cells": [
  {
   "cell_type": "code",
   "execution_count": 2,
   "metadata": {},
   "outputs": [
    {
     "name": "stdout",
     "output_type": "stream",
     "text": [
      "Defaulting to user installation because normal site-packages is not writeable\n",
      "Collecting python-dotenv\n",
      "  Downloading python_dotenv-1.0.1-py3-none-any.whl (19 kB)\n",
      "Installing collected packages: python-dotenv\n",
      "Successfully installed python-dotenv-1.0.1\n",
      "\n",
      "\u001b[1m[\u001b[0m\u001b[34;49mnotice\u001b[0m\u001b[1;39;49m]\u001b[0m\u001b[39;49m A new release of pip is available: \u001b[0m\u001b[31;49m23.0.1\u001b[0m\u001b[39;49m -> \u001b[0m\u001b[32;49m24.2\u001b[0m\n",
      "\u001b[1m[\u001b[0m\u001b[34;49mnotice\u001b[0m\u001b[1;39;49m]\u001b[0m\u001b[39;49m To update, run: \u001b[0m\u001b[32;49mpip install --upgrade pip\u001b[0m\n"
     ]
    }
   ],
   "source": [
    "!pip install python-dotenv"
   ]
  },
  {
   "cell_type": "code",
   "execution_count": 5,
   "metadata": {},
   "outputs": [
    {
     "name": "stdout",
     "output_type": "stream",
     "text": [
      "\n",
      "\u001b[1m[\u001b[0m\u001b[34;49mnotice\u001b[0m\u001b[1;39;49m]\u001b[0m\u001b[39;49m A new release of pip is available: \u001b[0m\u001b[31;49m23.0.1\u001b[0m\u001b[39;49m -> \u001b[0m\u001b[32;49m24.2\u001b[0m\n",
      "\u001b[1m[\u001b[0m\u001b[34;49mnotice\u001b[0m\u001b[1;39;49m]\u001b[0m\u001b[39;49m To update, run: \u001b[0m\u001b[32;49mpip install --upgrade pip\u001b[0m\n"
     ]
    }
   ],
   "source": [
    "!pip install -qU langchain-teddynote"
   ]
  },
  {
   "cell_type": "code",
   "execution_count": 10,
   "metadata": {},
   "outputs": [
    {
     "name": "stdout",
     "output_type": "stream",
     "text": [
      "Defaulting to user installation because normal site-packages is not writeable\n",
      "Requirement already satisfied: langchain in /home/elicer/.local/lib/python3.10/site-packages (0.3.3)\n",
      "Requirement already satisfied: langchain-openai in /home/elicer/.local/lib/python3.10/site-packages (0.2.2)\n",
      "Requirement already satisfied: requests<3,>=2 in /home/elicer/.local/lib/python3.10/site-packages (from langchain) (2.32.3)\n",
      "Requirement already satisfied: langchain-text-splitters<0.4.0,>=0.3.0 in /home/elicer/.local/lib/python3.10/site-packages (from langchain) (0.3.0)\n",
      "Requirement already satisfied: tenacity!=8.4.0,<9.0.0,>=8.1.0 in /home/elicer/.local/lib/python3.10/site-packages (from langchain) (8.5.0)\n",
      "Requirement already satisfied: langchain-core<0.4.0,>=0.3.10 in /home/elicer/.local/lib/python3.10/site-packages (from langchain) (0.3.10)\n",
      "Requirement already satisfied: async-timeout<5.0.0,>=4.0.0 in /home/elicer/.local/lib/python3.10/site-packages (from langchain) (4.0.3)\n",
      "Requirement already satisfied: SQLAlchemy<3,>=1.4 in /home/elicer/.local/lib/python3.10/site-packages (from langchain) (2.0.36)\n",
      "Requirement already satisfied: pydantic<3.0.0,>=2.7.4 in /home/elicer/.local/lib/python3.10/site-packages (from langchain) (2.9.2)\n",
      "Requirement already satisfied: numpy<2,>=1 in /home/elicer/.local/lib/python3.10/site-packages (from langchain) (1.26.4)\n",
      "Requirement already satisfied: langsmith<0.2.0,>=0.1.17 in /home/elicer/.local/lib/python3.10/site-packages (from langchain) (0.1.135)\n",
      "Requirement already satisfied: aiohttp<4.0.0,>=3.8.3 in /home/elicer/.local/lib/python3.10/site-packages (from langchain) (3.10.10)\n",
      "Requirement already satisfied: PyYAML>=5.3 in /home/elicer/.local/lib/python3.10/site-packages (from langchain) (6.0.2)\n",
      "Requirement already satisfied: tiktoken<1,>=0.7 in /home/elicer/.local/lib/python3.10/site-packages (from langchain-openai) (0.8.0)\n",
      "Requirement already satisfied: openai<2.0.0,>=1.40.0 in /home/elicer/.local/lib/python3.10/site-packages (from langchain-openai) (1.51.2)\n",
      "Requirement already satisfied: frozenlist>=1.1.1 in /home/elicer/.local/lib/python3.10/site-packages (from aiohttp<4.0.0,>=3.8.3->langchain) (1.4.1)\n",
      "Requirement already satisfied: multidict<7.0,>=4.5 in /home/elicer/.local/lib/python3.10/site-packages (from aiohttp<4.0.0,>=3.8.3->langchain) (6.1.0)\n",
      "Requirement already satisfied: attrs>=17.3.0 in /home/elicer/.local/lib/python3.10/site-packages (from aiohttp<4.0.0,>=3.8.3->langchain) (24.2.0)\n",
      "Requirement already satisfied: aiohappyeyeballs>=2.3.0 in /home/elicer/.local/lib/python3.10/site-packages (from aiohttp<4.0.0,>=3.8.3->langchain) (2.4.3)\n",
      "Requirement already satisfied: aiosignal>=1.1.2 in /home/elicer/.local/lib/python3.10/site-packages (from aiohttp<4.0.0,>=3.8.3->langchain) (1.3.1)\n",
      "Requirement already satisfied: yarl<2.0,>=1.12.0 in /home/elicer/.local/lib/python3.10/site-packages (from aiohttp<4.0.0,>=3.8.3->langchain) (1.15.3)\n",
      "Requirement already satisfied: jsonpatch<2.0,>=1.33 in /home/elicer/.local/lib/python3.10/site-packages (from langchain-core<0.4.0,>=0.3.10->langchain) (1.33)\n",
      "Requirement already satisfied: packaging<25,>=23.2 in /home/elicer/.local/lib/python3.10/site-packages (from langchain-core<0.4.0,>=0.3.10->langchain) (24.1)\n",
      "Requirement already satisfied: typing-extensions>=4.7 in /home/elicer/.local/lib/python3.10/site-packages (from langchain-core<0.4.0,>=0.3.10->langchain) (4.12.2)\n",
      "Requirement already satisfied: httpx<1,>=0.23.0 in /home/elicer/.local/lib/python3.10/site-packages (from langsmith<0.2.0,>=0.1.17->langchain) (0.27.2)\n",
      "Requirement already satisfied: orjson<4.0.0,>=3.9.14 in /home/elicer/.local/lib/python3.10/site-packages (from langsmith<0.2.0,>=0.1.17->langchain) (3.10.7)\n",
      "Requirement already satisfied: requests-toolbelt<2.0.0,>=1.0.0 in /home/elicer/.local/lib/python3.10/site-packages (from langsmith<0.2.0,>=0.1.17->langchain) (1.0.0)\n",
      "Requirement already satisfied: anyio<5,>=3.5.0 in /home/elicer/.local/lib/python3.10/site-packages (from openai<2.0.0,>=1.40.0->langchain-openai) (4.6.2.post1)\n",
      "Requirement already satisfied: sniffio in /home/elicer/.local/lib/python3.10/site-packages (from openai<2.0.0,>=1.40.0->langchain-openai) (1.3.1)\n",
      "Requirement already satisfied: tqdm>4 in /home/elicer/.local/lib/python3.10/site-packages (from openai<2.0.0,>=1.40.0->langchain-openai) (4.66.5)\n",
      "Requirement already satisfied: jiter<1,>=0.4.0 in /home/elicer/.local/lib/python3.10/site-packages (from openai<2.0.0,>=1.40.0->langchain-openai) (0.6.1)\n",
      "Requirement already satisfied: distro<2,>=1.7.0 in /home/elicer/.local/lib/python3.10/site-packages (from openai<2.0.0,>=1.40.0->langchain-openai) (1.9.0)\n",
      "Requirement already satisfied: pydantic-core==2.23.4 in /home/elicer/.local/lib/python3.10/site-packages (from pydantic<3.0.0,>=2.7.4->langchain) (2.23.4)\n",
      "Requirement already satisfied: annotated-types>=0.6.0 in /home/elicer/.local/lib/python3.10/site-packages (from pydantic<3.0.0,>=2.7.4->langchain) (0.7.0)\n",
      "Requirement already satisfied: certifi>=2017.4.17 in /home/elicer/.local/lib/python3.10/site-packages (from requests<3,>=2->langchain) (2024.8.30)\n",
      "Requirement already satisfied: urllib3<3,>=1.21.1 in /home/elicer/.local/lib/python3.10/site-packages (from requests<3,>=2->langchain) (2.2.3)\n",
      "Requirement already satisfied: charset-normalizer<4,>=2 in /home/elicer/.local/lib/python3.10/site-packages (from requests<3,>=2->langchain) (3.4.0)\n",
      "Requirement already satisfied: idna<4,>=2.5 in /home/elicer/.local/lib/python3.10/site-packages (from requests<3,>=2->langchain) (3.10)\n",
      "Requirement already satisfied: greenlet!=0.4.17 in /home/elicer/.local/lib/python3.10/site-packages (from SQLAlchemy<3,>=1.4->langchain) (3.1.1)\n",
      "Requirement already satisfied: regex>=2022.1.18 in /home/elicer/.local/lib/python3.10/site-packages (from tiktoken<1,>=0.7->langchain-openai) (2024.9.11)\n",
      "Requirement already satisfied: exceptiongroup>=1.0.2 in /home/elicer/.local/lib/python3.10/site-packages (from anyio<5,>=3.5.0->openai<2.0.0,>=1.40.0->langchain-openai) (1.2.2)\n",
      "Requirement already satisfied: httpcore==1.* in /home/elicer/.local/lib/python3.10/site-packages (from httpx<1,>=0.23.0->langsmith<0.2.0,>=0.1.17->langchain) (1.0.6)\n",
      "Requirement already satisfied: h11<0.15,>=0.13 in /home/elicer/.local/lib/python3.10/site-packages (from httpcore==1.*->httpx<1,>=0.23.0->langsmith<0.2.0,>=0.1.17->langchain) (0.14.0)\n",
      "Requirement already satisfied: jsonpointer>=1.9 in /home/elicer/.local/lib/python3.10/site-packages (from jsonpatch<2.0,>=1.33->langchain-core<0.4.0,>=0.3.10->langchain) (3.0.0)\n",
      "Requirement already satisfied: propcache>=0.2.0 in /home/elicer/.local/lib/python3.10/site-packages (from yarl<2.0,>=1.12.0->aiohttp<4.0.0,>=3.8.3->langchain) (0.2.0)\n",
      "\n",
      "\u001b[1m[\u001b[0m\u001b[34;49mnotice\u001b[0m\u001b[1;39;49m]\u001b[0m\u001b[39;49m A new release of pip is available: \u001b[0m\u001b[31;49m23.0.1\u001b[0m\u001b[39;49m -> \u001b[0m\u001b[32;49m24.2\u001b[0m\n",
      "\u001b[1m[\u001b[0m\u001b[34;49mnotice\u001b[0m\u001b[1;39;49m]\u001b[0m\u001b[39;49m To update, run: \u001b[0m\u001b[32;49mpip install --upgrade pip\u001b[0m\n"
     ]
    }
   ],
   "source": [
    "!pip install langchain langchain-openai"
   ]
  },
  {
   "cell_type": "code",
   "execution_count": 11,
   "metadata": {},
   "outputs": [
    {
     "name": "stdout",
     "output_type": "stream",
     "text": [
      "Defaulting to user installation because normal site-packages is not writeable\n",
      "Collecting langchain_community\n",
      "  Downloading langchain_community-0.3.2-py3-none-any.whl (2.4 MB)\n",
      "\u001b[2K     \u001b[90m━━━━━━━━━━━━━━━━━━━━━━━━━━━━━━━━━━━━━━━━\u001b[0m \u001b[32m2.4/2.4 MB\u001b[0m \u001b[31m24.4 MB/s\u001b[0m eta \u001b[36m0:00:00\u001b[0ma \u001b[36m0:00:01\u001b[0m\n",
      "\u001b[?25hRequirement already satisfied: langchain<0.4.0,>=0.3.3 in /home/elicer/.local/lib/python3.10/site-packages (from langchain_community) (0.3.3)\n",
      "Collecting dataclasses-json<0.7,>=0.5.7\n",
      "  Downloading dataclasses_json-0.6.7-py3-none-any.whl (28 kB)\n",
      "Requirement already satisfied: langsmith<0.2.0,>=0.1.125 in /home/elicer/.local/lib/python3.10/site-packages (from langchain_community) (0.1.135)\n",
      "Requirement already satisfied: aiohttp<4.0.0,>=3.8.3 in /home/elicer/.local/lib/python3.10/site-packages (from langchain_community) (3.10.10)\n",
      "Requirement already satisfied: requests<3,>=2 in /home/elicer/.local/lib/python3.10/site-packages (from langchain_community) (2.32.3)\n",
      "Requirement already satisfied: tenacity!=8.4.0,<9.0.0,>=8.1.0 in /home/elicer/.local/lib/python3.10/site-packages (from langchain_community) (8.5.0)\n",
      "Requirement already satisfied: SQLAlchemy<3,>=1.4 in /home/elicer/.local/lib/python3.10/site-packages (from langchain_community) (2.0.36)\n",
      "Requirement already satisfied: numpy<2,>=1 in /home/elicer/.local/lib/python3.10/site-packages (from langchain_community) (1.26.4)\n",
      "Collecting pydantic-settings<3.0.0,>=2.4.0\n",
      "  Downloading pydantic_settings-2.5.2-py3-none-any.whl (26 kB)\n",
      "Requirement already satisfied: langchain-core<0.4.0,>=0.3.10 in /home/elicer/.local/lib/python3.10/site-packages (from langchain_community) (0.3.10)\n",
      "Requirement already satisfied: PyYAML>=5.3 in /home/elicer/.local/lib/python3.10/site-packages (from langchain_community) (6.0.2)\n",
      "Requirement already satisfied: attrs>=17.3.0 in /home/elicer/.local/lib/python3.10/site-packages (from aiohttp<4.0.0,>=3.8.3->langchain_community) (24.2.0)\n",
      "Requirement already satisfied: yarl<2.0,>=1.12.0 in /home/elicer/.local/lib/python3.10/site-packages (from aiohttp<4.0.0,>=3.8.3->langchain_community) (1.15.3)\n",
      "Requirement already satisfied: async-timeout<5.0,>=4.0 in /home/elicer/.local/lib/python3.10/site-packages (from aiohttp<4.0.0,>=3.8.3->langchain_community) (4.0.3)\n",
      "Requirement already satisfied: frozenlist>=1.1.1 in /home/elicer/.local/lib/python3.10/site-packages (from aiohttp<4.0.0,>=3.8.3->langchain_community) (1.4.1)\n",
      "Requirement already satisfied: multidict<7.0,>=4.5 in /home/elicer/.local/lib/python3.10/site-packages (from aiohttp<4.0.0,>=3.8.3->langchain_community) (6.1.0)\n",
      "Requirement already satisfied: aiosignal>=1.1.2 in /home/elicer/.local/lib/python3.10/site-packages (from aiohttp<4.0.0,>=3.8.3->langchain_community) (1.3.1)\n",
      "Requirement already satisfied: aiohappyeyeballs>=2.3.0 in /home/elicer/.local/lib/python3.10/site-packages (from aiohttp<4.0.0,>=3.8.3->langchain_community) (2.4.3)\n",
      "Collecting typing-inspect<1,>=0.4.0\n",
      "  Downloading typing_inspect-0.9.0-py3-none-any.whl (8.8 kB)\n",
      "Collecting marshmallow<4.0.0,>=3.18.0\n",
      "  Downloading marshmallow-3.22.0-py3-none-any.whl (49 kB)\n",
      "\u001b[2K     \u001b[90m━━━━━━━━━━━━━━━━━━━━━━━━━━━━━━━━━━━━━━━━\u001b[0m \u001b[32m49.3/49.3 kB\u001b[0m \u001b[31m18.3 MB/s\u001b[0m eta \u001b[36m0:00:00\u001b[0m\n",
      "\u001b[?25hRequirement already satisfied: pydantic<3.0.0,>=2.7.4 in /home/elicer/.local/lib/python3.10/site-packages (from langchain<0.4.0,>=0.3.3->langchain_community) (2.9.2)\n",
      "Requirement already satisfied: langchain-text-splitters<0.4.0,>=0.3.0 in /home/elicer/.local/lib/python3.10/site-packages (from langchain<0.4.0,>=0.3.3->langchain_community) (0.3.0)\n",
      "Requirement already satisfied: packaging<25,>=23.2 in /home/elicer/.local/lib/python3.10/site-packages (from langchain-core<0.4.0,>=0.3.10->langchain_community) (24.1)\n",
      "Requirement already satisfied: typing-extensions>=4.7 in /home/elicer/.local/lib/python3.10/site-packages (from langchain-core<0.4.0,>=0.3.10->langchain_community) (4.12.2)\n",
      "Requirement already satisfied: jsonpatch<2.0,>=1.33 in /home/elicer/.local/lib/python3.10/site-packages (from langchain-core<0.4.0,>=0.3.10->langchain_community) (1.33)\n",
      "Requirement already satisfied: requests-toolbelt<2.0.0,>=1.0.0 in /home/elicer/.local/lib/python3.10/site-packages (from langsmith<0.2.0,>=0.1.125->langchain_community) (1.0.0)\n",
      "Requirement already satisfied: httpx<1,>=0.23.0 in /home/elicer/.local/lib/python3.10/site-packages (from langsmith<0.2.0,>=0.1.125->langchain_community) (0.27.2)\n",
      "Requirement already satisfied: orjson<4.0.0,>=3.9.14 in /home/elicer/.local/lib/python3.10/site-packages (from langsmith<0.2.0,>=0.1.125->langchain_community) (3.10.7)\n",
      "Requirement already satisfied: python-dotenv>=0.21.0 in /home/elicer/.local/lib/python3.10/site-packages (from pydantic-settings<3.0.0,>=2.4.0->langchain_community) (1.0.1)\n",
      "Requirement already satisfied: urllib3<3,>=1.21.1 in /home/elicer/.local/lib/python3.10/site-packages (from requests<3,>=2->langchain_community) (2.2.3)\n",
      "Requirement already satisfied: charset-normalizer<4,>=2 in /home/elicer/.local/lib/python3.10/site-packages (from requests<3,>=2->langchain_community) (3.4.0)\n",
      "Requirement already satisfied: certifi>=2017.4.17 in /home/elicer/.local/lib/python3.10/site-packages (from requests<3,>=2->langchain_community) (2024.8.30)\n",
      "Requirement already satisfied: idna<4,>=2.5 in /home/elicer/.local/lib/python3.10/site-packages (from requests<3,>=2->langchain_community) (3.10)\n",
      "Requirement already satisfied: greenlet!=0.4.17 in /home/elicer/.local/lib/python3.10/site-packages (from SQLAlchemy<3,>=1.4->langchain_community) (3.1.1)\n",
      "Requirement already satisfied: anyio in /home/elicer/.local/lib/python3.10/site-packages (from httpx<1,>=0.23.0->langsmith<0.2.0,>=0.1.125->langchain_community) (4.6.2.post1)\n",
      "Requirement already satisfied: sniffio in /home/elicer/.local/lib/python3.10/site-packages (from httpx<1,>=0.23.0->langsmith<0.2.0,>=0.1.125->langchain_community) (1.3.1)\n",
      "Requirement already satisfied: httpcore==1.* in /home/elicer/.local/lib/python3.10/site-packages (from httpx<1,>=0.23.0->langsmith<0.2.0,>=0.1.125->langchain_community) (1.0.6)\n",
      "Requirement already satisfied: h11<0.15,>=0.13 in /home/elicer/.local/lib/python3.10/site-packages (from httpcore==1.*->httpx<1,>=0.23.0->langsmith<0.2.0,>=0.1.125->langchain_community) (0.14.0)\n",
      "Requirement already satisfied: jsonpointer>=1.9 in /home/elicer/.local/lib/python3.10/site-packages (from jsonpatch<2.0,>=1.33->langchain-core<0.4.0,>=0.3.10->langchain_community) (3.0.0)\n",
      "Requirement already satisfied: pydantic-core==2.23.4 in /home/elicer/.local/lib/python3.10/site-packages (from pydantic<3.0.0,>=2.7.4->langchain<0.4.0,>=0.3.3->langchain_community) (2.23.4)\n",
      "Requirement already satisfied: annotated-types>=0.6.0 in /home/elicer/.local/lib/python3.10/site-packages (from pydantic<3.0.0,>=2.7.4->langchain<0.4.0,>=0.3.3->langchain_community) (0.7.0)\n",
      "Collecting mypy-extensions>=0.3.0\n",
      "  Downloading mypy_extensions-1.0.0-py3-none-any.whl (4.7 kB)\n",
      "Requirement already satisfied: propcache>=0.2.0 in /home/elicer/.local/lib/python3.10/site-packages (from yarl<2.0,>=1.12.0->aiohttp<4.0.0,>=3.8.3->langchain_community) (0.2.0)\n",
      "Requirement already satisfied: exceptiongroup>=1.0.2 in /home/elicer/.local/lib/python3.10/site-packages (from anyio->httpx<1,>=0.23.0->langsmith<0.2.0,>=0.1.125->langchain_community) (1.2.2)\n",
      "Installing collected packages: mypy-extensions, marshmallow, typing-inspect, pydantic-settings, dataclasses-json, langchain_community\n",
      "Successfully installed dataclasses-json-0.6.7 langchain_community-0.3.2 marshmallow-3.22.0 mypy-extensions-1.0.0 pydantic-settings-2.5.2 typing-inspect-0.9.0\n",
      "\n",
      "\u001b[1m[\u001b[0m\u001b[34;49mnotice\u001b[0m\u001b[1;39;49m]\u001b[0m\u001b[39;49m A new release of pip is available: \u001b[0m\u001b[31;49m23.0.1\u001b[0m\u001b[39;49m -> \u001b[0m\u001b[32;49m24.2\u001b[0m\n",
      "\u001b[1m[\u001b[0m\u001b[34;49mnotice\u001b[0m\u001b[1;39;49m]\u001b[0m\u001b[39;49m To update, run: \u001b[0m\u001b[32;49mpip install --upgrade pip\u001b[0m\n"
     ]
    }
   ],
   "source": [
    "!pip install langchain_community"
   ]
  },
  {
   "cell_type": "code",
   "execution_count": 2,
   "metadata": {},
   "outputs": [
    {
     "name": "stdout",
     "output_type": "stream",
     "text": [
      "Defaulting to user installation because normal site-packages is not writeable\n",
      "Collecting faiss-gpu\n",
      "  Downloading faiss_gpu-1.7.2-cp310-cp310-manylinux_2_17_x86_64.manylinux2014_x86_64.whl (85.5 MB)\n",
      "\u001b[2K     \u001b[90m━━━━━━━━━━━━━━━━━━━━━━━━━━━━━━━━━━━━━━━━\u001b[0m \u001b[32m85.5/85.5 MB\u001b[0m \u001b[31m8.5 MB/s\u001b[0m eta \u001b[36m0:00:00\u001b[0m:00:01\u001b[0m00:01\u001b[0m\n",
      "\u001b[?25hInstalling collected packages: faiss-gpu\n",
      "Successfully installed faiss-gpu-1.7.2\n",
      "\n",
      "\u001b[1m[\u001b[0m\u001b[34;49mnotice\u001b[0m\u001b[1;39;49m]\u001b[0m\u001b[39;49m A new release of pip is available: \u001b[0m\u001b[31;49m23.0.1\u001b[0m\u001b[39;49m -> \u001b[0m\u001b[32;49m24.2\u001b[0m\n",
      "\u001b[1m[\u001b[0m\u001b[34;49mnotice\u001b[0m\u001b[1;39;49m]\u001b[0m\u001b[39;49m To update, run: \u001b[0m\u001b[32;49mpip install --upgrade pip\u001b[0m\n"
     ]
    }
   ],
   "source": [
    "!pip install faiss-gpu"
   ]
  },
  {
   "cell_type": "code",
   "execution_count": 5,
   "metadata": {},
   "outputs": [
    {
     "name": "stdout",
     "output_type": "stream",
     "text": [
      "Defaulting to user installation because normal site-packages is not writeable\n",
      "\u001b[31mERROR: Could not find a version that satisfies the requirement langchain.document (from versions: none)\u001b[0m\u001b[31m\n",
      "\u001b[0m\u001b[31mERROR: No matching distribution found for langchain.document\u001b[0m\u001b[31m\n",
      "\u001b[0m\n",
      "\u001b[1m[\u001b[0m\u001b[34;49mnotice\u001b[0m\u001b[1;39;49m]\u001b[0m\u001b[39;49m A new release of pip is available: \u001b[0m\u001b[31;49m23.0.1\u001b[0m\u001b[39;49m -> \u001b[0m\u001b[32;49m24.2\u001b[0m\n",
      "\u001b[1m[\u001b[0m\u001b[34;49mnotice\u001b[0m\u001b[1;39;49m]\u001b[0m\u001b[39;49m To update, run: \u001b[0m\u001b[32;49mpip install --upgrade pip\u001b[0m\n"
     ]
    }
   ],
   "source": [
    "!pip install langchain.document"
   ]
  },
  {
   "cell_type": "code",
   "execution_count": 10,
   "metadata": {},
   "outputs": [
    {
     "name": "stdout",
     "output_type": "stream",
     "text": [
      "Defaulting to user installation because normal site-packages is not writeable\n",
      "Collecting jq\n",
      "  Downloading jq-1.8.0-cp310-cp310-manylinux_2_17_x86_64.manylinux2014_x86_64.whl (737 kB)\n",
      "\u001b[2K     \u001b[90m━━━━━━━━━━━━━━━━━━━━━━━━━━━━━━━━━━━━━━\u001b[0m \u001b[32m737.4/737.4 kB\u001b[0m \u001b[31m15.9 MB/s\u001b[0m eta \u001b[36m0:00:00\u001b[0ma \u001b[36m0:00:01\u001b[0m\n",
      "\u001b[?25hInstalling collected packages: jq\n",
      "Successfully installed jq-1.8.0\n",
      "\n",
      "\u001b[1m[\u001b[0m\u001b[34;49mnotice\u001b[0m\u001b[1;39;49m]\u001b[0m\u001b[39;49m A new release of pip is available: \u001b[0m\u001b[31;49m23.0.1\u001b[0m\u001b[39;49m -> \u001b[0m\u001b[32;49m24.2\u001b[0m\n",
      "\u001b[1m[\u001b[0m\u001b[34;49mnotice\u001b[0m\u001b[1;39;49m]\u001b[0m\u001b[39;49m To update, run: \u001b[0m\u001b[32;49mpip install --upgrade pip\u001b[0m\n"
     ]
    }
   ],
   "source": [
    "!pip install jq"
   ]
  },
  {
   "cell_type": "code",
   "execution_count": 6,
   "metadata": {},
   "outputs": [
    {
     "data": {
      "text/plain": [
       "True"
      ]
     },
     "execution_count": 6,
     "metadata": {},
     "output_type": "execute_result"
    }
   ],
   "source": [
    "# API 키를 환경변수로 관리하기 위한 설정 파일\n",
    "from dotenv import load_dotenv\n",
    "\n",
    "# API 키 정보 로드\n",
    "load_dotenv()"
   ]
  },
  {
   "cell_type": "code",
   "execution_count": 7,
   "metadata": {},
   "outputs": [
    {
     "name": "stdout",
     "output_type": "stream",
     "text": [
      "LangSmith 추적을 시작합니다.\n",
      "[프로젝트명]\n",
      "ChatBot_Project\n"
     ]
    }
   ],
   "source": [
    "# LangSmith 추적을 설정합니다. https://smith.langchain.com\n",
    "# !pip install -qU langchain-teddynote\n",
    "from langchain_teddynote import logging\n",
    "\n",
    "# 프로젝트 이름을 입력\n",
    "logging.langsmith(\"ChatBot_Project\")"
   ]
  },
  {
   "cell_type": "code",
   "execution_count": 8,
   "metadata": {},
   "outputs": [],
   "source": [
    "import os\n",
    "\n",
    "os.environ['LANGCHAIN_PROJECT'] = 'ChatBot_Project'"
   ]
  },
  {
   "cell_type": "code",
   "execution_count": 31,
   "metadata": {},
   "outputs": [],
   "source": [
    "# 필요한 모듈 import\n",
    "from langchain_core.prompts import ChatPromptTemplate\n",
    "from langchain_community.tools.tavily_search import TavilySearchResults\n",
    "from langchain_community.vectorstores import FAISS\n",
    "from langchain_community.chat_message_histories import ChatMessageHistory\n",
    "from langchain.text_splitter import RecursiveCharacterTextSplitter\n",
    "from langchain_openai import OpenAIEmbeddings, ChatOpenAI\n",
    "from langchain.document_loaders import PyMuPDFLoader\n",
    "from langchain.tools.retriever import create_retriever_tool\n",
    "from langchain.agents import create_tool_calling_agent, AgentExecutor\n",
    "from langchain_core.runnables.history import RunnableWithMessageHistory\n",
    "from langchain_teddynote.messages import AgentStreamParser\n",
    "from langchain.document_loaders import JSONLoader\n",
    "\n",
    "# 나머지 코드는 동일하게 유지\n",
    "\n",
    "\n",
    "########## 1. 도구를 정의 ##########\n",
    "\n",
    "### 1-1. Search 도구 ###\n",
    "search = TavilySearchResults(k=6)\n",
    "\n",
    "### 1-2. JSON 문서 검색 도구 (Retriever) ###\n",
    "# JSON 파일 경로\n",
    "file_path = 'merged_data.json'\n",
    "# JSONLoader의 jq_schema 설정\n",
    "jq_schema = \"\"\"\n",
    ".[] | {\n",
    "    \"filename\": .filename,\n",
    "    \"original\": .original,\n",
    "    \"id\": .id,\n",
    "    \"date\": .date,\n",
    "    \"conference_number\": .conference_number,\n",
    "    \"question_number\": .question_number,\n",
    "    \"meeting_name\": .meeting_name,\n",
    "    \"generation_number\": .generation_number,\n",
    "    \"committee_name\": .committee_name,\n",
    "    \"meeting_number\": .meeting_number,\n",
    "    \"session_number\": .session_number,\n",
    "    \"agenda\": .agenda,\n",
    "    \"law\": .law,\n",
    "    \"qna_type\": .qna_type,\n",
    "    \"context\": .context,\n",
    "    \"context_learn\": .context_learn,\n",
    "    \"context_summary\": {\n",
    "        \"summary_q\": .context_summary.summary_q,\n",
    "        \"summary_a\": .context_summary.summary_a\n",
    "    },\n",
    "    \"questioner\": {\n",
    "        \"name\": .questioner_name,\n",
    "        \"ID\": .questioner_ID,\n",
    "        \"ISNI\": .questioner_ISNI,\n",
    "        \"affiliation\": .questioner_affiliation,\n",
    "        \"position\": .questioner_position\n",
    "    },\n",
    "    \"question\": {\n",
    "        \"tag\": .question.tag,\n",
    "        \"comment\": .question.comment,\n",
    "        \"keyword\": .question.keyword\n",
    "    },\n",
    "    \"answerer\": {\n",
    "        \"name\": .answerer_name,\n",
    "        \"ID\": .answerer_ID,\n",
    "        \"ISNI\": .answerer_ISNI,\n",
    "        \"affiliation\": .answerer_affiliation,\n",
    "        \"position\": .answerer_position\n",
    "    },\n",
    "    \"answer\": {\n",
    "        \"tag\": .answer.tag,\n",
    "        \"comment\": .answer.comment,\n",
    "        \"keyword\": .answer.keyword\n",
    "    }\n",
    "}\n",
    "\"\"\"\n",
    "\n",
    "# JSONLoader를 사용하여 파일 로드\n",
    "loader = JSONLoader(file_path, jq_schema=jq_schema, text_content=False)  # text_content=False 설정\n",
    "documents = loader.load()\n",
    "\n",
    "# 텍스트 분할기를 사용하여 문서를 분할\n",
    "text_splitter = RecursiveCharacterTextSplitter(chunk_size=1000, chunk_overlap=100)\n",
    "\n",
    "# 문서를 로드하고 분할\n",
    "split_docs = loader.load_and_split(text_splitter)\n",
    "\n",
    "# VectorStore를 생성\n",
    "vector = FAISS.from_documents(split_docs, OpenAIEmbeddings())\n",
    "\n",
    "# Retriever를 생성\n",
    "retriever = vector.as_retriever()\n",
    "\n",
    "# retriever_tool 정의\n",
    "retriever_tool = create_retriever_tool(\n",
    "    retriever,\n",
    "    name=\"json_search\",  # 도구의 이름을 입력\n",
    "    description=\"use this tool to search information from the JSON document\",\n",
    ")\n",
    "\n",
    "### 1-3. tools 리스트에 도구 목록을 추가 ###\n",
    "tools = [search, retriever_tool]\n",
    "\n",
    "########## 2. LLM 을 정의 ##########\n",
    "llm = ChatOpenAI(model=\"gpt-4o\", temperature=0)\n",
    "\n",
    "########## 3. Prompt 를 정의 ##########\n",
    "prompt = ChatPromptTemplate.from_messages(\n",
    "    [\n",
    "        (\n",
    "            \"system\",\n",
    "            \"You are a helpful assistant. \"\n",
    "            \"Make sure to use the `json_search` tool for searching information from the JSON document. \"\n",
    "            \"If you can't find the information from the JSON document, use the `search` tool for searching information from the web.\",\n",
    "        ),\n",
    "        (\"placeholder\", \"{chat_history}\"),\n",
    "        (\"human\", \"{input}\"),\n",
    "        (\"placeholder\", \"{agent_scratchpad}\"),\n",
    "    ]\n",
    ")\n",
    "\n",
    "########## 4. Agent 를 정의 ##########\n",
    "agent = create_tool_calling_agent(llm, tools, prompt)\n",
    "\n",
    "########## 5. AgentExecutor 를 정의 ##########\n",
    "agent_executor = AgentExecutor(agent=agent, tools=tools, verbose=False)\n",
    "\n",
    "########## 6. 채팅 기록을 수행하는 메모리를 추가 ##########\n",
    "store = {}\n",
    "\n",
    "def get_session_history(session_ids):\n",
    "    if session_ids not in store:\n",
    "        store[session_ids] = ChatMessageHistory()\n",
    "    return store[session_ids]\n",
    "\n",
    "agent_with_chat_history = RunnableWithMessageHistory(\n",
    "    agent_executor,\n",
    "    get_session_history,\n",
    "    input_messages_key=\"input\",\n",
    "    history_messages_key=\"chat_history\",\n",
    ")\n",
    "\n",
    "########## 7. Agent 파서를 정의 ##########\n",
    "agent_stream_parser = AgentStreamParser()\n"
   ]
  },
  {
   "cell_type": "code",
   "execution_count": 53,
   "metadata": {},
   "outputs": [
    {
     "name": "stdout",
     "output_type": "stream",
     "text": [
      "[도구 호출]\n",
      "Tool: json_search\n",
      "query: 2001년 6월 11일 회의 주제\n",
      "Log: \n",
      "Invoking: `json_search` with `{'query': '2001년 6월 11일 회의 주제'}`\n",
      "\n",
      "\n",
      "\n",
      "[관찰 내용]\n",
      "Observation: {\"filename\": \"SRC_16\\ub300_2001_2001\\ub14409\\uc6d414\\uc77c_\\uad6d\\uc815\\uac10\\uc0ac_\\uacfc\\ud559\\uae30\\uc220\\uc815\\ubcf4\\ud1b5\\uc2e0\\uc704\\uc6d0\\ud68c_0001(029903).xlsx\", \"original\": \"http://likms.assembly.go.kr/record/mhs-10-040-0040.do?conferNum=029903&fileType=PDF\", \"id\": \"029903\", \"date\": \"2001\\u5e749\\u670814\\u65e5(\\u91d1)\", \"conference_number\": \"029903\", \"question_number\": \"0001\", \"meeting_name\": \"\\uad6d\\uc815\\uac10\\uc0ac\", \"generation_number\": \"16\", \"committee_name\": \"\\uacfc\\ud559\\uae30\\uc220\\uc815\\ubcf4\\ud1b5\\uc2e0\\uc704\\uc6d0\\ud68c\", \"meeting_number\": \"2001\", \"session_number\": \"2001\\ub14409\\uc6d414\\uc77c\", \"agenda\": \"\\uac10\\uc0ac\\uac1c\\uc2dc\", \"law\": \"\", \"qna_type\": \"\\ucd94\\ucd9c\\ud615\", \"context\": \"\\uc218\\uace0 \\ub9ce\\uc73c\\uc2ed\\ub2c8\\ub2e4.    9\\uc6d4 4\\uc77c\\uc774\\ub2c8\\uae4c \\uc9c0\\uae08\\ubd80\\ud130 \\uc5f4\\ud758 \\uc804\\uc5d0 \\uc606\\uc5d0 \\uacc4\\uc2dc\\ub294 \\u91d1\\u69ae\\u6625 \\uc704\\uc6d0\\uc774 \\uc8fc\\uad00\\ub418\\uc5b4\\uac00\\uc9c0\\uace0 \\uc6d4\\uc131\\uc6d0\\uc804\\ubd80\\uc9c0\n",
      "\n",
      "\\ub0ae\\ucd94\\ub294 \\uac83\\uc774 \\uc138\\uacc4\\uc801\\uc778 \\ud14c\\ub9c8\\uac00 \\ub418\\uace0 \\uc788\\uc2b5\\ub2c8\\ub2e4. \\uadf8\\ub798\\uc11c \\ubbf8\\uad6d \\uac19\\uc740 \\uacbd\\uc6b0\\uc5d0 2001\\ub144\\ub3c4\\ubd80\\ud130 \\ubd80\\uc2dc \\ub300\\ud1b5\\ub839\\uc774 \\ub300\\uae30\\uc804\\ub825\\uc744 1W \\uc774\\ud558\\ub85c \\ud558\\ub294 \\ub300\\ud1b5\\ub839\\ub839\\uc744 \\ub9cc\\ub4e4\\uc5c8\\uc2b5\\ub2c8\\ub2e4. 1\\uc640\\ud2b8\\ub839\\uc774\\ub77c\\uace0 \\ub9cc\\ub4e4\\uc5b4\\uc11c \\uc120\\ud3ec\\ub97c \\ud588\\uace0 \\uc77c\\ubcf8\\ub3c4 \\uc804\\uc790\\uc0b0\\uc5c5\\uc9c4\\ud765\\ud68c\\uc5d0\\uc11c 2001\\ub144\\ub3c4\\uc5d0 2003\\ub144\\uae4c\\uc9c0 \\ubaa8\\ub4e0 \\uc804\\uc790\\uc81c\\ud488\\uc5d0 \\ub300\\ud574\\uc11c 1W \\ub2ec\\uc131\\uc744 \\ud558\\uc790\\uace0 \\uc120\\uc5b8\\ud588\\uc2b5\\ub2c8\\ub2e4. \\uc880 \\ub4a4\\ub2a6\\uc740 \\uac10\\uc774 \\uc788\\uc2b5\\ub2c8\\ub2e4\\ub9c8\\ub294 \\uc6b0\\ub9ac\\ub098\\ub77c\\ub294 2005\\ub144 7\\uc6d4\\uc5d0\\uc57c 1W \\ub2ec\\uc131\\uc744 \\uc704\\ud55c \\uad6d\\uac00 \\ub85c\\ub4dc\\ub9f5 \\u2018Standby Korea \\ucf54\\ub9ac\\uc544 2010\\u2019\\uc744\n",
      "\n",
      "{\"filename\": \"SRC_16\\ub300_2000_2000\\ub14411\\uc6d403\\uc77c_\\uad6d\\uc815\\uac10\\uc0ac_\\ud1b5\\uc77c\\uc678\\uad50\\ud1b5\\uc0c1\\uc704\\uc6d0\\ud68c_0001(029595).xlsx\", \"original\": \"http://likms.assembly.go.kr/record/mhs-10-040-0040.do?conferNum=029595&fileType=PDF\", \"id\": \"029595\", \"date\": \"2000\\u5e7411\\u67083\\u65e5(\\u91d1)\", \"conference_number\": \"029595\", \"question_number\": \"0001\", \"meeting_name\": \"\\uad6d\\uc815\\uac10\\uc0ac\", \"generation_number\": \"16\", \"committee_name\": \"\\ud1b5\\uc77c\\uc678\\uad50\\ud1b5\\uc0c1\\uc704\\uc6d0\\ud68c\", \"meeting_number\": \"2000\", \"session_number\": \"2000\\ub14411\\uc6d403\\uc77c\", \"agenda\": \"\\uac10\\uc0ac\\uac1c\\uc2dc\", \"law\": \"\", \"qna_type\": \"\\ucd94\\ucd9c\\ud615\", \"context\": \"\\uadf8 \\ub2f5\\ubcc0 \\uc774\\uc804\\uc5d0 SOFA \\uad00\\ub828\\ud574\\uc11c \\uc81c\\uac00 \\ubb3c\\uc5b4 \\ubcf4\\uc558\\ub358 \\ubb38\\uc81c\\uc758 \\ud575\\uc2ec\\uc740 \\ubbf8\\uad6d \\ucabd\\uc5d0\\uc11c\\ub3c4 \\ubb3c\\ub860 \\ud658\\uacbd\\ubb38\\uc81c\\ub97c \\ubb34\\uc2dc\\ud558\\ub294 \\uac83 \\uac19\\uc9c0\\ub294\n",
      "\n",
      "{\"filename\": \"SRC_21\\ub300_2020_2020\\ub14410\\uc6d412\\uc77c_\\uad6d\\uc815\\uac10\\uc0ac_\\ud658\\uacbd\\ub178\\ub3d9\\uc704\\uc6d0\\ud68c_0009(050329).xlsx\", \"original\": \"http://likms.assembly.go.kr/record/mhs-10-040-0040.do?conferNum=050329&fileType=PDF\", \"id\": \"050329\", \"date\": \"2020\\ub14410\\uc6d412\\uc77c(\\uc6d4)\", \"conference_number\": \"050329\", \"question_number\": \"0009\", \"meeting_name\": \"\\uad6d\\uc815\\uac10\\uc0ac\", \"generation_number\": \"21\", \"committee_name\": \"\\ud658\\uacbd\\ub178\\ub3d9\\uc704\\uc6d0\\ud68c\", \"meeting_number\": \"2020\", \"session_number\": \"2020\\ub14410\\uc6d412\\uc77c\", \"agenda\": \"\\uac10\\uc0ac\\uac1c\\uc2dc\", \"law\": \"\", \"qna_type\": \"\\ucd94\\ucd9c\\ud615\", \"context\": \"\\ub300\\uc804 \\ub3d9\\uad6c \\ucd9c\\uc2e0 \\uc7a5\\ucca0\\ubbfc\\uc785\\ub2c8\\ub2e4. \\uc800\\ud76c \\ud658\\ub178\\uc704\\uc5d0\\uc11c \\uae30\\uc0c1\\uccad \\uad00\\ub828\\ub41c \\uc0b0\\ud558\\uae30\\uad00 \\uc911\\uc5d0 \\ub9ce\\uc774 \\ub2e4\\ub8e8\\uc5b4\\uc9c4 \\ub370\\uac00 APEC\\uae30\\ud6c4\\uc13c\\ud130\\uc77c \\uac83 \\uac19\\uc544\\uc11c \\uc81c\\uac00\n",
      "[최종 답변]\n",
      "2001년 6월 11일에 있었던 회의의 주제는 \"국정감사\"입니다. 이 회의는 과학기술정보통신위원회에서 진행되었습니다.\n"
     ]
    }
   ],
   "source": [
    "########## 8. 에이전트를 실행하고 결과를 확인합니다. ##########\n",
    "\n",
    "# 질의에 대한 답변을 출력합니다.\n",
    "response = agent_with_chat_history.stream(\n",
    "    {\"input\":  \"2001년 6월 11일에 있었던 회의의 주제는 뭐야?\"},\n",
    "    # 세션 ID를 설정\n",
    "    # 여기서는 간단한 메모리 내 ChatMessageHistory를 사용하기 때문에 실제로 사용되지 않음\n",
    "    config={\"configurable\": {\"session_id\": \"abc123\"}},\n",
    ")\n",
    "\n",
    "for step in response:\n",
    "    agent_stream_parser.process_agent_steps(step)"
   ]
  },
  {
   "cell_type": "code",
   "execution_count": null,
   "metadata": {},
   "outputs": [],
   "source": []
  }
 ],
 "metadata": {
  "kernelspec": {
   "display_name": "Python 3",
   "language": "python",
   "name": "python3"
  },
  "language_info": {
   "codemirror_mode": {
    "name": "ipython",
    "version": 3
   },
   "file_extension": ".py",
   "mimetype": "text/x-python",
   "name": "python",
   "nbconvert_exporter": "python",
   "pygments_lexer": "ipython3",
   "version": "3.10.13"
  }
 },
 "nbformat": 4,
 "nbformat_minor": 2
}
