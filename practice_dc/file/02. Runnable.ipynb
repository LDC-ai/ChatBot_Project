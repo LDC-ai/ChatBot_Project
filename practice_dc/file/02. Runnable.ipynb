{
 "cells": [
  {
   "cell_type": "code",
   "execution_count": 1,
   "metadata": {},
   "outputs": [
    {
     "data": {
      "text/plain": [
       "True"
      ]
     },
     "execution_count": 1,
     "metadata": {},
     "output_type": "execute_result"
    }
   ],
   "source": [
    "# .env 파일을 읽어서 환경변수로 설정\n",
    "from dotenv import load_dotenv\n",
    "\n",
    "# 토큰 정보로드\n",
    "load_dotenv()"
   ]
  },
  {
   "cell_type": "code",
   "execution_count": 2,
   "metadata": {},
   "outputs": [
    {
     "name": "stdout",
     "output_type": "stream",
     "text": [
      "[LANGCHAIN_PROJECT]\n",
      "Runnable\n"
     ]
    }
   ],
   "source": [
    "#API KEY 저장을 위한 os 라이브러리 호출\n",
    "import os\n",
    "\n",
    "os.environ['LANGCHAIN_PROJECT'] = 'Runnable'\n",
    "print(f\"[LANGCHAIN_PROJECT]\\n{os.environ['LANGCHAIN_PROJECT']}\")"
   ]
  },
  {
   "cell_type": "code",
   "execution_count": 3,
   "metadata": {},
   "outputs": [
    {
     "name": "stdout",
     "output_type": "stream",
     "text": [
      "LangSmith 추적을 시작합니다.\n",
      "[프로젝트명]\n",
      "Runnable\n"
     ]
    }
   ],
   "source": [
    "# LangSmith 추적을 설정합니다. https://smith.langchain.com\n",
    "# !pip install -qU langchain-teddynote\n",
    "from langchain_teddynote import logging\n",
    "\n",
    "# 프로젝트 이름을 입력합니다.\n",
    "logging.langsmith(\"Runnable\")"
   ]
  },
  {
   "cell_type": "markdown",
   "metadata": {},
   "source": [
    "## Langchain에서 데이터를 효과적으로 전달하는 방법\n",
    "1. RunnablePassthrough\n",
    "2. RunnableParallel\n",
    "3. RunnableLambda"
   ]
  },
  {
   "cell_type": "markdown",
   "metadata": {},
   "source": [
    "\n",
    "### 1. `RunnablePassthrough`: 데이터를 그대로 넘겨(통과시켜)주는 역할"
   ]
  },
  {
   "cell_type": "code",
   "execution_count": 4,
   "metadata": {},
   "outputs": [
    {
     "data": {
      "text/plain": [
       "PromptTemplate(input_variables=['word'], input_types={}, partial_variables={}, template='{word}를 영어로?')\n",
       "| ChatOpenAI(client=<openai.resources.chat.completions.Completions object at 0x7f263ecbd060>, async_client=<openai.resources.chat.completions.AsyncCompletions object at 0x7f263ecbf160>, root_client=<openai.OpenAI object at 0x7f2664188f10>, root_async_client=<openai.AsyncOpenAI object at 0x7f263ecbd0c0>, temperature=0.0, model_kwargs={}, openai_api_key=SecretStr('**********'))"
      ]
     },
     "execution_count": 4,
     "metadata": {},
     "output_type": "execute_result"
    }
   ],
   "source": [
    "from langchain_core.prompts import PromptTemplate\n",
    "from langchain_openai import ChatOpenAI\n",
    "\n",
    "\n",
    "# prompt 와 llm 을 생성합니다.\n",
    "prompt = PromptTemplate.from_template(\"{word}를 영어로?\")\n",
    "llm = ChatOpenAI(temperature=0)\n",
    "\n",
    "# chain 을 생성합니다.\n",
    "chain = prompt | llm\n",
    "chain"
   ]
  },
  {
   "cell_type": "markdown",
   "metadata": {},
   "source": [
    "chain 을 `invoke()` 하여 실행할 때는 입력 데이터의 타입은 ***딕셔너리***"
   ]
  },
  {
   "cell_type": "code",
   "execution_count": 5,
   "metadata": {},
   "outputs": [
    {
     "data": {
      "text/plain": [
       "AIMessage(content='apple', additional_kwargs={'refusal': None}, response_metadata={'token_usage': {'completion_tokens': 1, 'prompt_tokens': 15, 'total_tokens': 16, 'completion_tokens_details': {'audio_tokens': None, 'reasoning_tokens': 0}, 'prompt_tokens_details': {'audio_tokens': None, 'cached_tokens': 0}}, 'model_name': 'gpt-3.5-turbo-0125', 'system_fingerprint': None, 'finish_reason': 'stop', 'logprobs': None}, id='run-ab2c658b-b372-4038-bb63-d3f8ef5cde4d-0', usage_metadata={'input_tokens': 15, 'output_tokens': 1, 'total_tokens': 16, 'input_token_details': {'cache_read': 0}, 'output_token_details': {'reasoning': 0}})"
      ]
     },
     "execution_count": 5,
     "metadata": {},
     "output_type": "execute_result"
    }
   ],
   "source": [
    "# chain 을 실행합니다.\n",
    "chain.invoke({\"word\": '사과'})"
   ]
  },
  {
   "cell_type": "markdown",
   "metadata": {},
   "source": [
    "But, 1개의 변수만 템플릿에 포함하고 있다면, 값만 전달하는 것도 가능"
   ]
  },
  {
   "cell_type": "code",
   "execution_count": 6,
   "metadata": {},
   "outputs": [
    {
     "data": {
      "text/plain": [
       "AIMessage(content='apple', additional_kwargs={'refusal': None}, response_metadata={'token_usage': {'completion_tokens': 1, 'prompt_tokens': 15, 'total_tokens': 16, 'completion_tokens_details': {'audio_tokens': None, 'reasoning_tokens': 0}, 'prompt_tokens_details': {'audio_tokens': None, 'cached_tokens': 0}}, 'model_name': 'gpt-3.5-turbo-0125', 'system_fingerprint': None, 'finish_reason': 'stop', 'logprobs': None}, id='run-89e8faca-fb40-4f40-9e96-66f0a0fa51e7-0', usage_metadata={'input_tokens': 15, 'output_tokens': 1, 'total_tokens': 16, 'input_token_details': {'cache_read': 0}, 'output_token_details': {'reasoning': 0}})"
      ]
     },
     "execution_count": 6,
     "metadata": {},
     "output_type": "execute_result"
    }
   ],
   "source": [
    "# chain 을 실행합니다.\n",
    "chain.invoke('사과')"
   ]
  },
  {
   "cell_type": "code",
   "execution_count": 7,
   "metadata": {},
   "outputs": [
    {
     "data": {
      "text/plain": [
       "AIMessage(content='Artificial Intelligence (AI)', additional_kwargs={'refusal': None}, response_metadata={'token_usage': {'completion_tokens': 6, 'prompt_tokens': 17, 'total_tokens': 23, 'completion_tokens_details': {'audio_tokens': None, 'reasoning_tokens': 0}, 'prompt_tokens_details': {'audio_tokens': None, 'cached_tokens': 0}}, 'model_name': 'gpt-3.5-turbo-0125', 'system_fingerprint': None, 'finish_reason': 'stop', 'logprobs': None}, id='run-1ac3cc99-5891-4f9e-9c79-4f89cb008bf1-0', usage_metadata={'input_tokens': 17, 'output_tokens': 6, 'total_tokens': 23, 'input_token_details': {'cache_read': 0}, 'output_token_details': {'reasoning': 0}})"
      ]
     },
     "execution_count": 7,
     "metadata": {},
     "output_type": "execute_result"
    }
   ],
   "source": [
    "from langchain_core.runnables import RunnablePassthrough\n",
    "\n",
    "# RunnablePassthrough 는 runnable 객체이며, runnable 객체는 invoke() 메소드를 사용하여 별도 실행이 가능\n",
    "# RunnablePassthrough()를 사용하여 체인 구성\n",
    "runnable_chain = {\"word\": RunnablePassthrough()} | prompt | ChatOpenAI()\n",
    "\n",
    "# dict 값이 RunnablePassthrough() 로 변경됨\n",
    "runnable_chain.invoke('인공지능')"
   ]
  },
  {
   "cell_type": "markdown",
   "metadata": {},
   "source": [
    "### 2. `RunnableParallel`: 여러 작업을 동시에(병렬)로 처리하도록 도와주는 도구"
   ]
  },
  {
   "cell_type": "code",
   "execution_count": 8,
   "metadata": {},
   "outputs": [],
   "source": [
    "from langchain_core.runnables import RunnableParallel\n",
    "\n",
    "chain1 = (\n",
    "    {\"country\": RunnablePassthrough()}\n",
    "    | PromptTemplate.from_template(\"{country} 의 수도는?\")\n",
    "    | ChatOpenAI()\n",
    ")\n",
    "chain2 = (\n",
    "    {\"country\": RunnablePassthrough()}\n",
    "    | PromptTemplate.from_template(\"{country} 의 면적은?\")\n",
    "    | ChatOpenAI()\n",
    ")"
   ]
  },
  {
   "cell_type": "code",
   "execution_count": 9,
   "metadata": {},
   "outputs": [
    {
     "data": {
      "text/plain": [
       "{'capital': AIMessage(content='대한민국의 수도는 서울입니다.', additional_kwargs={'refusal': None}, response_metadata={'token_usage': {'completion_tokens': 15, 'prompt_tokens': 19, 'total_tokens': 34, 'completion_tokens_details': {'audio_tokens': None, 'reasoning_tokens': 0}, 'prompt_tokens_details': {'audio_tokens': None, 'cached_tokens': 0}}, 'model_name': 'gpt-3.5-turbo-0125', 'system_fingerprint': None, 'finish_reason': 'stop', 'logprobs': None}, id='run-b87f0402-9e88-4ffe-8d20-f1f863565eb5-0', usage_metadata={'input_tokens': 19, 'output_tokens': 15, 'total_tokens': 34, 'input_token_details': {'cache_read': 0}, 'output_token_details': {'reasoning': 0}}),\n",
       " 'area': AIMessage(content='대한민국의 면적은 약 100,363km² 입니다.', additional_kwargs={'refusal': None}, response_metadata={'token_usage': {'completion_tokens': 22, 'prompt_tokens': 20, 'total_tokens': 42, 'completion_tokens_details': {'audio_tokens': None, 'reasoning_tokens': 0}, 'prompt_tokens_details': {'audio_tokens': None, 'cached_tokens': 0}}, 'model_name': 'gpt-3.5-turbo-0125', 'system_fingerprint': None, 'finish_reason': 'stop', 'logprobs': None}, id='run-ff3dd542-72ef-49a4-bcb0-4f00e953916e-0', usage_metadata={'input_tokens': 20, 'output_tokens': 22, 'total_tokens': 42, 'input_token_details': {'cache_read': 0}, 'output_token_details': {'reasoning': 0}})}"
      ]
     },
     "execution_count": 9,
     "metadata": {},
     "output_type": "execute_result"
    }
   ],
   "source": [
    "combined_chain = RunnableParallel(capital=chain1, area=chain2)\n",
    "combined_chain.invoke(\"대한민국\")"
   ]
  },
  {
   "cell_type": "markdown",
   "metadata": {},
   "source": [
    "### 3. `RunnableLambda`: 사용자 정의 함수 매핑하도록 도와주는 도구\n"
   ]
  },
  {
   "cell_type": "code",
   "execution_count": 11,
   "metadata": {},
   "outputs": [],
   "source": [
    "from langchain_core.output_parsers import StrOutputParser\n",
    "from langchain_core.prompts import PromptTemplate\n",
    "from langchain_openai import ChatOpenAI\n",
    "from datetime import datetime\n",
    "from langchain_core.runnables import RunnableLambda, RunnablePassthrough\n",
    "\n",
    "def concat_output(text):\n",
    "    return text['capital'].content + ' ' + text['area'].content"
   ]
  },
  {
   "cell_type": "code",
   "execution_count": 13,
   "metadata": {},
   "outputs": [
    {
     "data": {
      "text/plain": [
       "AIMessage(content='대한민국의 수도는 서울입니다. 🇰🇷 대한민국의 면적은 약 100,363.4 km²에 달합니다. 🌏✨', additional_kwargs={'refusal': None}, response_metadata={'token_usage': {'completion_tokens': 33, 'prompt_tokens': 48, 'total_tokens': 81, 'completion_tokens_details': {'audio_tokens': None, 'reasoning_tokens': 0}, 'prompt_tokens_details': {'audio_tokens': None, 'cached_tokens': 0}}, 'model_name': 'gpt-4o-mini-2024-07-18', 'system_fingerprint': 'fp_e2bde53e6e', 'finish_reason': 'stop', 'logprobs': None}, id='run-afd75a3a-f0d7-4abe-b6f8-5c72a77b9b82-0', usage_metadata={'input_tokens': 48, 'output_tokens': 33, 'total_tokens': 81, 'input_token_details': {'cache_read': 0}, 'output_token_details': {'reasoning': 0}})"
      ]
     },
     "execution_count": 13,
     "metadata": {},
     "output_type": "execute_result"
    }
   ],
   "source": [
    "final_chain = (combined_chain\n",
    "            | {'info': RunnableLambda(concat_output)} \n",
    "            | PromptTemplate.from_template(\"{info}의 내용을 자연스럽게 다듬고, 이모지를 넣어줘.\")\n",
    "            | ChatOpenAI(model='gpt-4o-mini'))\n",
    "\n",
    "final_chain.invoke(\"대한민국\")"
   ]
  },
  {
   "cell_type": "code",
   "execution_count": 14,
   "metadata": {},
   "outputs": [
    {
     "data": {
      "text/plain": [
       "'Oct-14'"
      ]
     },
     "execution_count": 14,
     "metadata": {},
     "output_type": "execute_result"
    }
   ],
   "source": [
    "from langchain_core.output_parsers import StrOutputParser\n",
    "from langchain_core.prompts import PromptTemplate\n",
    "from langchain_openai import ChatOpenAI\n",
    "from datetime import datetime\n",
    "\n",
    "\n",
    "def get_today(a):\n",
    "    # 오늘 날짜를 가져오기\n",
    "    return datetime.today().strftime(\"%b-%d\")\n",
    "\n",
    "\n",
    "# 오늘 날짜를 출력\n",
    "get_today(None)"
   ]
  },
  {
   "cell_type": "code",
   "execution_count": 15,
   "metadata": {},
   "outputs": [],
   "source": [
    "from langchain_core.runnables import RunnableLambda, RunnablePassthrough\n",
    "\n",
    "# prompt 와 llm 을 생성합니다.\n",
    "prompt = PromptTemplate.from_template(\n",
    "    \"{today} 가 생일인 대한민국 유명인 {n} 명을 나열하세요. 생년월일을 표기해 주세요.\"\n",
    ")\n",
    "llm = ChatOpenAI(temperature=0, model_name=\"gpt-4o-mini\")\n",
    "\n",
    "# chain 을 생성합니다.\n",
    "chain = (\n",
    "    {\"today\": RunnableLambda(get_today), \"n\": RunnablePassthrough()}\n",
    "    | prompt\n",
    "    | llm\n",
    "    | StrOutputParser()\n",
    ")"
   ]
  },
  {
   "cell_type": "code",
   "execution_count": 16,
   "metadata": {},
   "outputs": [
    {
     "name": "stdout",
     "output_type": "stream",
     "text": [
      "다음은 10월 14일에 생일인 대한민국의 유명인 3명입니다:\n",
      "\n",
      "1. **이정재** - 1973년 10월 14일\n",
      "2. **김장훈** - 1971년 10월 14일\n",
      "3. **이상민** - 1973년 10월 14일\n",
      "\n",
      "이 외에도 다른 유명인들이 있을 수 있습니다.\n"
     ]
    }
   ],
   "source": [
    "# 출력\n",
    "print(chain.invoke(3))"
   ]
  },
  {
   "cell_type": "markdown",
   "metadata": {},
   "source": [
    "### [실습] Runnnable 세가지를 적절히 사용하여 챗봇 생성\n",
    "\n",
    "- 위 코드를 활용하여 아래 내용에 맞게 작성하시요.\n",
    "- RunnableParallel 사용\n",
    "    - chain1 : `{food}` 재료로 만들 수 있는 메인 디시를 묻는 체인\n",
    "    - chain2 : `{food}` 재료로 만들 수 있는 후식 디저트를 묻는 체인\n",
    "- RunnableLambda 사용\n",
    "    - 두 체인의 결과 값 이어 붙이기 -> `{info}`\n",
    "    - `{info}`를 바탕으로 이모지를 사용하여 우리 음식점 메뉴 추천 홍보문구를 작성해주는 템플릿\n"
   ]
  },
  {
   "cell_type": "code",
   "execution_count": 26,
   "metadata": {},
   "outputs": [
    {
     "name": "stdout",
     "output_type": "stream",
     "text": [
      "- 메인 요리 : 🥘 양파볶음밥 - 고소한 양파의 풍미가 가득 담긴 볶음밥! 🍚 한 입 먹으면 입안 가득 행복이 퍼져요! 😊  \n",
      "- 디저트 : 🍰 양파 케이크 - 양파의 새로운 변신! 달콤하고 부드러운 케이크가 당신의 미각을 사로잡습니다! 🍮✨  \n",
      "\n",
      "- 메인 요리 : 🍟 양파튀김 - 바삭바삭한 양파튀김, 겉은 바삭하고 속은 촉촉! 간편하게 즐기는 최고의 간식! 😋  \n",
      "- 디저트 : 🥧 양파 타르트 - 달콤한 양파의 맛이 조화를 이루는 타르트! 한 조각으로 행복한 시간! 🌟  \n",
      "\n",
      "- 메인 요리 : 🍲 양파스프 - 깊고 진한 맛의 양파스프, 따뜻하게 몸을 녹여주는 최고의 선택! ☕❤️  \n",
      "- 디저트 : 🍦 양파 아이스크림 - 신선한 양파로 만든 특별한 아이스크림! 색다른 맛의 여행을 떠나보세요! 🌈🍧\n"
     ]
    }
   ],
   "source": [
    "from langchain_core.runnables import RunnableParallel, RunnablePassthrough, RunnableLambda\n",
    "from langchain_core.prompts import PromptTemplate\n",
    "from langchain_openai import ChatOpenAI\n",
    "\n",
    "# 첫 번째 체인: 재료로 만들 수 있는 메인 디시를 묻는 체인\n",
    "chain1 = (\n",
    "    {\"fordish\": RunnablePassthrough(), 'n':RunnablePassthrough()}\n",
    "    | PromptTemplate.from_template(\"{fordish}로(으로) 만들 수 있는 메인 요리 {n}가지는?\")\n",
    "    | ChatOpenAI()\n",
    ")\n",
    "\n",
    "# 두 번째 체인: 재료로 만들 수 있는 후식 디저트를 묻는 체인\n",
    "chain2 = (\n",
    "    {\"fordish\": RunnablePassthrough(), 'n':RunnablePassthrough()}\n",
    "    | PromptTemplate.from_template(\"{fordish}로(으로) 만들 수 있는 디저트 {n}가지는?\")\n",
    "    | ChatOpenAI()\n",
    ")\n",
    "\n",
    "# print(chain1.invoke({'fordish':'양파', 'n':3}))\n",
    "# print(chain2.invoke({'fordish':'양파', 'n':3}))\n",
    "\n",
    "# 두 체인을 병렬로 실행\n",
    "combined_chain = RunnableParallel(maindish=chain1, dessert=chain2)\n",
    "\n",
    "# 두 체인의 결과를 이어 붙이는 함수\n",
    "def concat_food_info(text):\n",
    "    return text['maindish'].content + ' ' + text['dessert'].content\n",
    "\n",
    "# {info}를 바탕으로 이모지를 사용하여 우리 음식점 메뉴 추천 홍보문구를 작성해주는 템플릿\n",
    "prompt = \"\"\"\n",
    "{info}를 바탕으로 이모지를 사용하여 우리 음식점을 소개하는 것처럼 각 메뉴마다 추천 홍보문구를 작성해줘.\n",
    "\n",
    "#FORMAT:\n",
    "- 메인 요리 :\n",
    "- 디저트 :\n",
    "\"\"\"\n",
    "\n",
    "# 최종 체인은 두 체인의 결과를 이어 붙이고 우리 가게 홍보 문구를 생성하는 작업\n",
    "final_chain = (combined_chain\n",
    "            | {'info': RunnableLambda(concat_food_info)} \n",
    "            | PromptTemplate.from_template(prompt)\n",
    "            | ChatOpenAI(model='gpt-4o-mini')\n",
    "            | StrOutputParser())\n",
    "            \n",
    "\n",
    "# 사용자가 생성할 메뉴의 개수를 입력받아 처리\n",
    "final_output = final_chain.invoke({'fordish':'양파', 'n':3})\n",
    "\n",
    "# 결과 출력\n",
    "print(final_output)\n"
   ]
  },
  {
   "cell_type": "code",
   "execution_count": null,
   "metadata": {},
   "outputs": [],
   "source": [
    "final_output"
   ]
  }
 ],
 "metadata": {
  "kernelspec": {
   "display_name": "Python 3",
   "language": "python",
   "name": "python3"
  },
  "language_info": {
   "codemirror_mode": {
    "name": "ipython",
    "version": 3
   },
   "file_extension": ".py",
   "mimetype": "text/x-python",
   "name": "python",
   "nbconvert_exporter": "python",
   "pygments_lexer": "ipython3",
   "version": "3.10.13"
  }
 },
 "nbformat": 4,
 "nbformat_minor": 2
}
