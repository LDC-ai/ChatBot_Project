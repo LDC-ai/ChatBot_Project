{
 "cells": [
  {
   "cell_type": "markdown",
   "metadata": {},
   "source": [
    "## LangChain Expression Language(LCEL)\n",
    "\n",
    "https://python.langchain.com/v0.1/docs/expression_language/why/\n",
    "\n",
    "### 기본 구조: 프롬프트 + 모델 + 출력 파서\n"
   ]
  },
  {
   "cell_type": "code",
   "execution_count": 2,
   "metadata": {},
   "outputs": [
    {
     "name": "stdout",
     "output_type": "stream",
     "text": [
      "Defaulting to user installation because normal site-packages is not writeable\n",
      "Collecting python-dotenv\n",
      "  Downloading python_dotenv-1.0.1-py3-none-any.whl (19 kB)\n",
      "Installing collected packages: python-dotenv\n",
      "Successfully installed python-dotenv-1.0.1\n",
      "\n",
      "\u001b[1m[\u001b[0m\u001b[34;49mnotice\u001b[0m\u001b[1;39;49m]\u001b[0m\u001b[39;49m A new release of pip is available: \u001b[0m\u001b[31;49m23.0.1\u001b[0m\u001b[39;49m -> \u001b[0m\u001b[32;49m24.2\u001b[0m\n",
      "\u001b[1m[\u001b[0m\u001b[34;49mnotice\u001b[0m\u001b[1;39;49m]\u001b[0m\u001b[39;49m To update, run: \u001b[0m\u001b[32;49mpip install --upgrade pip\u001b[0m\n"
     ]
    }
   ],
   "source": [
    "!pip install python-dotenv"
   ]
  },
  {
   "cell_type": "code",
   "execution_count": 8,
   "metadata": {},
   "outputs": [
    {
     "data": {
      "text/plain": [
       "True"
      ]
     },
     "execution_count": 8,
     "metadata": {},
     "output_type": "execute_result"
    }
   ],
   "source": [
    "# API KEY를 환경변수로 관리하기 위한 설정 파일\n",
    "from dotenv import load_dotenv\n",
    "\n",
    "# API KEY 정보로드\n",
    "load_dotenv()"
   ]
  },
  {
   "cell_type": "code",
   "execution_count": 9,
   "metadata": {},
   "outputs": [
    {
     "name": "stdout",
     "output_type": "stream",
     "text": [
      "[LANGCHAIN_PROJECT]\n",
      "LCEL\n"
     ]
    }
   ],
   "source": [
    "#API KEY 저장을 위한 os 라이브러리 호출\n",
    "import os\n",
    "\n",
    "os.environ['LANGCHAIN_PROJECT'] = 'LCEL'\n",
    "print(f\"[LANGCHAIN_PROJECT]\\n{os.environ['LANGCHAIN_PROJECT']}\")"
   ]
  },
  {
   "cell_type": "code",
   "execution_count": 6,
   "metadata": {},
   "outputs": [
    {
     "name": "stdout",
     "output_type": "stream",
     "text": [
      "\n",
      "\u001b[1m[\u001b[0m\u001b[34;49mnotice\u001b[0m\u001b[1;39;49m]\u001b[0m\u001b[39;49m A new release of pip is available: \u001b[0m\u001b[31;49m23.0.1\u001b[0m\u001b[39;49m -> \u001b[0m\u001b[32;49m24.2\u001b[0m\n",
      "\u001b[1m[\u001b[0m\u001b[34;49mnotice\u001b[0m\u001b[1;39;49m]\u001b[0m\u001b[39;49m To update, run: \u001b[0m\u001b[32;49mpip install --upgrade pip\u001b[0m\n"
     ]
    }
   ],
   "source": [
    "!pip install -qU langchain-teddynote"
   ]
  },
  {
   "cell_type": "code",
   "execution_count": 10,
   "metadata": {},
   "outputs": [
    {
     "name": "stdout",
     "output_type": "stream",
     "text": [
      "LangSmith 추적을 시작합니다.\n",
      "[프로젝트명]\n",
      "LCEL\n"
     ]
    }
   ],
   "source": [
    "# LangSmith 추적을 설정합니다. https://smith.langchain.com\n",
    "# !pip install -qU langchain-teddynote\n",
    "from langchain_teddynote import logging\n",
    "\n",
    "# 프로젝트 이름을 입력합니다.\n",
    "logging.langsmith(\"LCEL\")"
   ]
  },
  {
   "cell_type": "markdown",
   "metadata": {},
   "source": [
    "### 프롬프트 템플릿의 활용\n",
    "\n",
    "`PromptTemplate`\n",
    "\n",
    "- 사용자의 입력 변수를 사용하여 완전한 프롬프트 문자열을 만드는 데 사용되는 템플릿\n",
    "  - `template`: 템플릿 문자열. 문자열 내에서 중괄호 `{}`는 변수를 나타냄\n",
    "  - `input_variables`: 중괄호 안에 들어갈 변수의 이름을 리스트로 정의함\n",
    "\n",
    "`input_variables`\n",
    "\n",
    "- input_variables는 PromptTemplate에서 사용되는 변수의 이름을 정의하는 리스트"
   ]
  },
  {
   "cell_type": "code",
   "execution_count": 11,
   "metadata": {},
   "outputs": [],
   "source": [
    "from langchain_teddynote.messages import stream_response  # 스트리밍 출력\n",
    "from langchain_core.prompts import PromptTemplate"
   ]
  },
  {
   "cell_type": "markdown",
   "metadata": {},
   "source": [
    "`from_template()` 메소드를 사용하여 PromptTemplate 객체 생성\n"
   ]
  },
  {
   "cell_type": "code",
   "execution_count": 12,
   "metadata": {},
   "outputs": [
    {
     "data": {
      "text/plain": [
       "PromptTemplate(input_variables=['country'], input_types={}, partial_variables={}, template='{country}의 수도는 어디인가요?')"
      ]
     },
     "execution_count": 12,
     "metadata": {},
     "output_type": "execute_result"
    }
   ],
   "source": [
    "# template 정의\n",
    "template = \"{country}의 수도는 어디인가요?\"\n",
    "\n",
    "# from_template 메소드를 이용하여 PromptTemplate 객체 생성\n",
    "prompt_template = PromptTemplate.from_template(template)\n",
    "prompt_template"
   ]
  },
  {
   "cell_type": "code",
   "execution_count": 13,
   "metadata": {},
   "outputs": [
    {
     "data": {
      "text/plain": [
       "'대한민국의 수도는 어디인가요?'"
      ]
     },
     "execution_count": 13,
     "metadata": {},
     "output_type": "execute_result"
    }
   ],
   "source": [
    "# prompt 생성\n",
    "prompt = prompt_template.format(country=\"대한민국\")\n",
    "prompt"
   ]
  },
  {
   "cell_type": "code",
   "execution_count": 14,
   "metadata": {},
   "outputs": [
    {
     "data": {
      "text/plain": [
       "'미국의 수도는 어디인가요?'"
      ]
     },
     "execution_count": 14,
     "metadata": {},
     "output_type": "execute_result"
    }
   ],
   "source": [
    "# prompt 생성\n",
    "prompt = prompt_template.format(country=\"미국\")\n",
    "prompt"
   ]
  },
  {
   "cell_type": "code",
   "execution_count": 16,
   "metadata": {},
   "outputs": [
    {
     "name": "stdout",
     "output_type": "stream",
     "text": [
      "Defaulting to user installation because normal site-packages is not writeable\n",
      "Requirement already satisfied: langchain in /home/elicer/.local/lib/python3.10/site-packages (0.3.3)\n",
      "Collecting langchain-openai\n",
      "  Downloading langchain_openai-0.2.2-py3-none-any.whl (49 kB)\n",
      "\u001b[2K     \u001b[90m━━━━━━━━━━━━━━━━━━━━━━━━━━━━━━━━━━━━━━━━\u001b[0m \u001b[32m49.7/49.7 kB\u001b[0m \u001b[31m1.9 MB/s\u001b[0m eta \u001b[36m0:00:00\u001b[0m\n",
      "\u001b[?25hRequirement already satisfied: SQLAlchemy<3,>=1.4 in /home/elicer/.local/lib/python3.10/site-packages (from langchain) (2.0.35)\n",
      "Requirement already satisfied: numpy<2,>=1 in /home/elicer/.local/lib/python3.10/site-packages (from langchain) (1.26.4)\n",
      "Requirement already satisfied: langsmith<0.2.0,>=0.1.17 in /home/elicer/.local/lib/python3.10/site-packages (from langchain) (0.1.134)\n",
      "Requirement already satisfied: async-timeout<5.0.0,>=4.0.0 in /home/elicer/.local/lib/python3.10/site-packages (from langchain) (4.0.3)\n",
      "Requirement already satisfied: aiohttp<4.0.0,>=3.8.3 in /home/elicer/.local/lib/python3.10/site-packages (from langchain) (3.10.10)\n",
      "Requirement already satisfied: langchain-text-splitters<0.4.0,>=0.3.0 in /home/elicer/.local/lib/python3.10/site-packages (from langchain) (0.3.0)\n",
      "Requirement already satisfied: PyYAML>=5.3 in /home/elicer/.local/lib/python3.10/site-packages (from langchain) (6.0.2)\n",
      "Requirement already satisfied: tenacity!=8.4.0,<9.0.0,>=8.1.0 in /home/elicer/.local/lib/python3.10/site-packages (from langchain) (8.5.0)\n",
      "Requirement already satisfied: requests<3,>=2 in /home/elicer/.local/lib/python3.10/site-packages (from langchain) (2.32.3)\n",
      "Requirement already satisfied: langchain-core<0.4.0,>=0.3.10 in /home/elicer/.local/lib/python3.10/site-packages (from langchain) (0.3.10)\n",
      "Requirement already satisfied: pydantic<3.0.0,>=2.7.4 in /home/elicer/.local/lib/python3.10/site-packages (from langchain) (2.9.2)\n",
      "Collecting tiktoken<1,>=0.7\n",
      "  Downloading tiktoken-0.8.0-cp310-cp310-manylinux_2_17_x86_64.manylinux2014_x86_64.whl (1.2 MB)\n",
      "\u001b[2K     \u001b[90m━━━━━━━━━━━━━━━━━━━━━━━━━━━━━━━━━━━━━━━━\u001b[0m \u001b[32m1.2/1.2 MB\u001b[0m \u001b[31m21.6 MB/s\u001b[0m eta \u001b[36m0:00:00\u001b[0ma \u001b[36m0:00:01\u001b[0m\n",
      "\u001b[?25hRequirement already satisfied: openai<2.0.0,>=1.40.0 in /home/elicer/.local/lib/python3.10/site-packages (from langchain-openai) (1.51.2)\n",
      "Requirement already satisfied: frozenlist>=1.1.1 in /home/elicer/.local/lib/python3.10/site-packages (from aiohttp<4.0.0,>=3.8.3->langchain) (1.4.1)\n",
      "Requirement already satisfied: multidict<7.0,>=4.5 in /home/elicer/.local/lib/python3.10/site-packages (from aiohttp<4.0.0,>=3.8.3->langchain) (6.1.0)\n",
      "Requirement already satisfied: yarl<2.0,>=1.12.0 in /home/elicer/.local/lib/python3.10/site-packages (from aiohttp<4.0.0,>=3.8.3->langchain) (1.15.2)\n",
      "Requirement already satisfied: aiosignal>=1.1.2 in /home/elicer/.local/lib/python3.10/site-packages (from aiohttp<4.0.0,>=3.8.3->langchain) (1.3.1)\n",
      "Requirement already satisfied: aiohappyeyeballs>=2.3.0 in /home/elicer/.local/lib/python3.10/site-packages (from aiohttp<4.0.0,>=3.8.3->langchain) (2.4.3)\n",
      "Requirement already satisfied: attrs>=17.3.0 in /home/elicer/.local/lib/python3.10/site-packages (from aiohttp<4.0.0,>=3.8.3->langchain) (24.2.0)\n",
      "Requirement already satisfied: packaging<25,>=23.2 in /home/elicer/.local/lib/python3.10/site-packages (from langchain-core<0.4.0,>=0.3.10->langchain) (24.1)\n",
      "Requirement already satisfied: typing-extensions>=4.7 in /home/elicer/.local/lib/python3.10/site-packages (from langchain-core<0.4.0,>=0.3.10->langchain) (4.12.2)\n",
      "Requirement already satisfied: jsonpatch<2.0,>=1.33 in /home/elicer/.local/lib/python3.10/site-packages (from langchain-core<0.4.0,>=0.3.10->langchain) (1.33)\n",
      "Requirement already satisfied: orjson<4.0.0,>=3.9.14 in /home/elicer/.local/lib/python3.10/site-packages (from langsmith<0.2.0,>=0.1.17->langchain) (3.10.7)\n",
      "Requirement already satisfied: requests-toolbelt<2.0.0,>=1.0.0 in /home/elicer/.local/lib/python3.10/site-packages (from langsmith<0.2.0,>=0.1.17->langchain) (1.0.0)\n",
      "Requirement already satisfied: httpx<1,>=0.23.0 in /home/elicer/.local/lib/python3.10/site-packages (from langsmith<0.2.0,>=0.1.17->langchain) (0.27.2)\n",
      "Requirement already satisfied: jiter<1,>=0.4.0 in /home/elicer/.local/lib/python3.10/site-packages (from openai<2.0.0,>=1.40.0->langchain-openai) (0.6.1)\n",
      "Requirement already satisfied: distro<2,>=1.7.0 in /home/elicer/.local/lib/python3.10/site-packages (from openai<2.0.0,>=1.40.0->langchain-openai) (1.9.0)\n",
      "Requirement already satisfied: anyio<5,>=3.5.0 in /home/elicer/.local/lib/python3.10/site-packages (from openai<2.0.0,>=1.40.0->langchain-openai) (4.6.2)\n",
      "Requirement already satisfied: tqdm>4 in /home/elicer/.local/lib/python3.10/site-packages (from openai<2.0.0,>=1.40.0->langchain-openai) (4.66.5)\n",
      "Requirement already satisfied: sniffio in /home/elicer/.local/lib/python3.10/site-packages (from openai<2.0.0,>=1.40.0->langchain-openai) (1.3.1)\n",
      "Requirement already satisfied: pydantic-core==2.23.4 in /home/elicer/.local/lib/python3.10/site-packages (from pydantic<3.0.0,>=2.7.4->langchain) (2.23.4)\n",
      "Requirement already satisfied: annotated-types>=0.6.0 in /home/elicer/.local/lib/python3.10/site-packages (from pydantic<3.0.0,>=2.7.4->langchain) (0.7.0)\n",
      "Requirement already satisfied: idna<4,>=2.5 in /home/elicer/.local/lib/python3.10/site-packages (from requests<3,>=2->langchain) (3.10)\n",
      "Requirement already satisfied: charset-normalizer<4,>=2 in /home/elicer/.local/lib/python3.10/site-packages (from requests<3,>=2->langchain) (3.4.0)\n",
      "Requirement already satisfied: certifi>=2017.4.17 in /home/elicer/.local/lib/python3.10/site-packages (from requests<3,>=2->langchain) (2024.8.30)\n",
      "Requirement already satisfied: urllib3<3,>=1.21.1 in /home/elicer/.local/lib/python3.10/site-packages (from requests<3,>=2->langchain) (2.2.3)\n",
      "Requirement already satisfied: greenlet!=0.4.17 in /home/elicer/.local/lib/python3.10/site-packages (from SQLAlchemy<3,>=1.4->langchain) (3.1.1)\n",
      "Requirement already satisfied: regex>=2022.1.18 in /home/elicer/.local/lib/python3.10/site-packages (from tiktoken<1,>=0.7->langchain-openai) (2024.9.11)\n",
      "Requirement already satisfied: exceptiongroup>=1.0.2 in /home/elicer/.local/lib/python3.10/site-packages (from anyio<5,>=3.5.0->openai<2.0.0,>=1.40.0->langchain-openai) (1.2.2)\n",
      "Requirement already satisfied: httpcore==1.* in /home/elicer/.local/lib/python3.10/site-packages (from httpx<1,>=0.23.0->langsmith<0.2.0,>=0.1.17->langchain) (1.0.6)\n",
      "Requirement already satisfied: h11<0.15,>=0.13 in /home/elicer/.local/lib/python3.10/site-packages (from httpcore==1.*->httpx<1,>=0.23.0->langsmith<0.2.0,>=0.1.17->langchain) (0.14.0)\n",
      "Requirement already satisfied: jsonpointer>=1.9 in /home/elicer/.local/lib/python3.10/site-packages (from jsonpatch<2.0,>=1.33->langchain-core<0.4.0,>=0.3.10->langchain) (3.0.0)\n",
      "Requirement already satisfied: propcache>=0.2.0 in /home/elicer/.local/lib/python3.10/site-packages (from yarl<2.0,>=1.12.0->aiohttp<4.0.0,>=3.8.3->langchain) (0.2.0)\n",
      "Installing collected packages: tiktoken, langchain-openai\n",
      "Successfully installed langchain-openai-0.2.2 tiktoken-0.8.0\n",
      "\n",
      "\u001b[1m[\u001b[0m\u001b[34;49mnotice\u001b[0m\u001b[1;39;49m]\u001b[0m\u001b[39;49m A new release of pip is available: \u001b[0m\u001b[31;49m23.0.1\u001b[0m\u001b[39;49m -> \u001b[0m\u001b[32;49m24.2\u001b[0m\n",
      "\u001b[1m[\u001b[0m\u001b[34;49mnotice\u001b[0m\u001b[1;39;49m]\u001b[0m\u001b[39;49m To update, run: \u001b[0m\u001b[32;49mpip install --upgrade pip\u001b[0m\n"
     ]
    }
   ],
   "source": [
    "!pip install langchain langchain-openai"
   ]
  },
  {
   "cell_type": "code",
   "execution_count": 17,
   "metadata": {},
   "outputs": [],
   "source": [
    "from langchain_openai import ChatOpenAI\n",
    "\n",
    "model = ChatOpenAI(\n",
    "    model=\"gpt-4o-mini\",\n",
    "    max_tokens=2048,\n",
    "    temperature=0.1,\n",
    ")"
   ]
  },
  {
   "cell_type": "markdown",
   "metadata": {},
   "source": [
    "### Chain 생성\n",
    "\n",
    "#### LCEL(LangChain Expression Language)\n",
    "\n",
    "\n",
    "```\n",
    "chain = prompt | model | output_parser\n",
    "```\n",
    "\n",
    "이 체인에서 사용자 입력은 프롬프트 템플릿으로 전달되고, 그런 다음 프롬프트 템플릿 출력은 모델로 전달\n"
   ]
  },
  {
   "cell_type": "code",
   "execution_count": 18,
   "metadata": {},
   "outputs": [
    {
     "data": {
      "text/plain": [
       "PromptTemplate(input_variables=['topic'], input_types={}, partial_variables={}, template='{topic} 에 대해 쉽게 설명해주세요.')\n",
       "| ChatOpenAI(client=<openai.resources.chat.completions.Completions object at 0x7f2179867220>, async_client=<openai.resources.chat.completions.AsyncCompletions object at 0x7f2179875360>, root_client=<openai.OpenAI object at 0x7f2179865300>, root_async_client=<openai.AsyncOpenAI object at 0x7f2179867280>, model_kwargs={}, openai_api_key=SecretStr('**********'))"
      ]
     },
     "execution_count": 18,
     "metadata": {},
     "output_type": "execute_result"
    }
   ],
   "source": [
    "# prompt 를 PromptTemplate 객체로 생성합니다.\n",
    "prompt = PromptTemplate.from_template(\"{topic} 에 대해 쉽게 설명해주세요.\")\n",
    "\n",
    "model = ChatOpenAI()\n",
    "\n",
    "chain = prompt | model\n",
    "chain"
   ]
  },
  {
   "cell_type": "markdown",
   "metadata": {},
   "source": [
    "### invoke() 호출\n",
    "\n",
    "- python 딕셔너리 형태(키: 값)로 입력값을 전달\n",
    "- invoke() 함수 호출 시, 입력값을 전달"
   ]
  },
  {
   "cell_type": "code",
   "execution_count": 19,
   "metadata": {},
   "outputs": [],
   "source": [
    "# input 딕셔너리에 주제 설정\n",
    "input = {\"topic\": \"인공지능의 학습 방법\"}"
   ]
  },
  {
   "cell_type": "code",
   "execution_count": 20,
   "metadata": {},
   "outputs": [
    {
     "data": {
      "text/plain": [
       "AIMessage(content='인공지능의 학습 방법은 크게 지도학습, 비지도학습, 강화학습으로 나뉩니다.\\n\\n1. 지도학습: 레이블링된 데이터를 바탕으로 모델을 학습시키는 방법입니다. 입력 데이터와 정답 데이터를 모델에 제공하여 모델이 정답을 예측하도록 학습시킵니다. 예를 들어, 고양이 이미지와 해당 이미지가 고양이임을 나타내는 레이블을 제공하여 모델이 고양이를 인식하도록 학습시키는 것이 지도학습입니다.\\n\\n2. 비지도학습: 레이블링된 데이터 없이 입력 데이터만을 이용하여 모델을 학습시키는 방법입니다. 데이터 간의 패턴이나 관계를 발견하거나 데이터를 그룹화하는 데 사용됩니다. 예를 들어, 주어진 고객 데이터를 이용하여 유사한 특징을 가진 고객들을 그룹화하는 것이 비지도학습입니다.\\n\\n3. 강화학습: 보상 시스템을 통해 환경과 상호작용하며, 최적의 행동을 학습하는 방법입니다. 모델은 환경에서 어떤 행동을 취할 때 어떤 보상을 받는지 학습하고, 최적의 행동을 찾아가는 과정을 거칩니다. 예를 들어, 게임이나 로봇 제어 등에서 사용됩니다.', additional_kwargs={'refusal': None}, response_metadata={'token_usage': {'completion_tokens': 445, 'prompt_tokens': 30, 'total_tokens': 475, 'completion_tokens_details': {'audio_tokens': None, 'reasoning_tokens': 0}, 'prompt_tokens_details': {'audio_tokens': None, 'cached_tokens': 0}}, 'model_name': 'gpt-3.5-turbo-0125', 'system_fingerprint': None, 'finish_reason': 'stop', 'logprobs': None}, id='run-98d3d617-32df-46f7-8690-d7ec2418a4f6-0', usage_metadata={'input_tokens': 30, 'output_tokens': 445, 'total_tokens': 475, 'input_token_details': {'cache_read': 0}, 'output_token_details': {'reasoning': 0}})"
      ]
     },
     "execution_count": 20,
     "metadata": {},
     "output_type": "execute_result"
    }
   ],
   "source": [
    "# prompt 객체와 model 객체를 파이프(|) 연산자로 연결하고 invoke 메서드를 사용하여 input을 전달\n",
    "# 이를 통해 AI 모델이 생성한 메시지를 반환\n",
    "chain.invoke(input)"
   ]
  },
  {
   "cell_type": "code",
   "execution_count": 21,
   "metadata": {},
   "outputs": [
    {
     "name": "stdout",
     "output_type": "stream",
     "text": [
      "인공지능은 데이터를 입력받아 패턴을 학습하여 문제를 해결하는 능력을 갖고 있습니다. 이를 위해 인공지능은 학습 데이터를 사용하여 모델을 훈련시키고, 이를 통해 입력 데이터를 분석하고 판단할 수 있는 능력을 갖춥니다. 학습 방법에는 지도학습, 비지도학습, 강화학습 등이 있으며, 각각의 방법은 다양한 방식으로 데이터를 활용하여 모델을 향상시키는 목적을 가지고 있습니다. 이러한 학습 방법을 통해 인공지능은 점차적으로 더 나은 성능과 능력을 갖추게 됩니다."
     ]
    }
   ],
   "source": [
    "# 스트리밍 출력을 위한 요청\n",
    "answer = chain.stream(input)\n",
    "# 스트리밍 출력\n",
    "stream_response(answer)"
   ]
  },
  {
   "cell_type": "markdown",
   "metadata": {},
   "source": [
    "### 출력파서(Output Parser)\n"
   ]
  },
  {
   "cell_type": "code",
   "execution_count": 22,
   "metadata": {},
   "outputs": [],
   "source": [
    "from langchain_core.output_parsers import StrOutputParser\n",
    "\n",
    "output_parser = StrOutputParser()"
   ]
  },
  {
   "cell_type": "code",
   "execution_count": 23,
   "metadata": {},
   "outputs": [
    {
     "data": {
      "text/plain": [
       "PromptTemplate(input_variables=['topic'], input_types={}, partial_variables={}, template='{topic} 에 대해 쉽게 설명해주세요.')\n",
       "| ChatOpenAI(client=<openai.resources.chat.completions.Completions object at 0x7f2179867220>, async_client=<openai.resources.chat.completions.AsyncCompletions object at 0x7f2179875360>, root_client=<openai.OpenAI object at 0x7f2179865300>, root_async_client=<openai.AsyncOpenAI object at 0x7f2179867280>, model_kwargs={}, openai_api_key=SecretStr('**********'))\n",
       "| StrOutputParser()"
      ]
     },
     "execution_count": 23,
     "metadata": {},
     "output_type": "execute_result"
    }
   ],
   "source": [
    "# 프롬프트, 모델, 출력 파서를 연결하여 처리 체인을 구성합니다.\n",
    "chain = prompt | model | output_parser\n",
    "chain"
   ]
  },
  {
   "cell_type": "code",
   "execution_count": 24,
   "metadata": {},
   "outputs": [
    {
     "data": {
      "text/plain": [
       "'인공지능의 학습 원리는 크게 지도학습, 비지도학습, 강화학습으로 나눌 수 있습니다.\\n\\n1. 지도학습: 인공지능 시스템에게 입력 데이터와 해당하는 정답을 함께 제공하여 학습시키는 방법입니다. 이때 시스템은 입력 데이터와 정답 사이의 패턴을 학습하여 새로운 데이터에 대한 예측을 할 수 있게 됩니다.\\n\\n2. 비지도학습: 정답이 주어지지 않은 입력 데이터만을 이용하여 시스템이 스스로 데이터 간의 패턴이나 관계를 찾아내는 방법입니다. 이를 통해 데이터의 특성이나 구조를 파악하거나 군집화, 이상치 탐지 등의 작업을 수행할 수 있습니다.\\n\\n3. 강화학습: 시스템이 환경과 상호작용하며 보상을 최대화하는 방향으로 학습하는 방법입니다. 시스템은 특정 행동을 취했을 때 얻는 보상을 통해 최적의 행동을 찾아나가는 과정을 거치게 됩니다.\\n\\n이러한 학습 원리를 통해 인공지능 시스템은 데이터를 분석하고 판단하는 능력을 향상시킬 수 있습니다.'"
      ]
     },
     "execution_count": 24,
     "metadata": {},
     "output_type": "execute_result"
    }
   ],
   "source": [
    "# chain 객체의 invoke 메서드를 사용하여 input을 전달합니다.\n",
    "input = {\"topic\": \"인공지능의 학습 원리\"}\n",
    "chain.invoke(input)"
   ]
  },
  {
   "cell_type": "code",
   "execution_count": 25,
   "metadata": {},
   "outputs": [
    {
     "name": "stdout",
     "output_type": "stream",
     "text": [
      "인공지능의 학습 원리는 데이터를 입력받아 패턴을 학습하고, 그 패턴을 기반으로 새로운 데이터를 예측하거나 의사결정을 내리는 과정입니다. 이를 위해 인공지능 시스템은 입력 데이터를 처리하고 분석하여 특징을 추출하고, 이를 바탕으로 모델을 학습시킵니다. 모델은 학습 데이터를 토대로 가중치를 조정하고 최적의 예측을 할 수 있도록 학습됩니다. 이렇게 학습된 모델은 새로운 데이터를 입력받아 예측하거나 분류하는 역할을 수행하게 됩니다. 이러한 방식으로 인공지능은 데이터를 기반으로 스스로 학습하고 결정을 내릴 수 있습니다."
     ]
    }
   ],
   "source": [
    "# 스트리밍 출력을 위한 요청\n",
    "answer = chain.stream(input)\n",
    "# 스트리밍 출력\n",
    "stream_response(answer)"
   ]
  },
  {
   "cell_type": "markdown",
   "metadata": {},
   "source": [
    "### 템플릿을 변경하여 적용\n",
    "\n",
    "- 아래의 프롬프트 내용을 얼마든지 **변경** 가능\n",
    "- `model_name` 역시 변경하여 테스트가 가능"
   ]
  },
  {
   "cell_type": "code",
   "execution_count": 26,
   "metadata": {},
   "outputs": [],
   "source": [
    "template = \"\"\"\n",
    "당신은 영어를 가르치는 10년차 영어 선생님입니다. 주어진 상황에 맞는 영어 회화를 작성해 주세요.\n",
    "양식은 [FORMAT]을 참고하여 작성해 주세요.\n",
    "\n",
    "#상황:\n",
    "{question}\n",
    "\n",
    "#FORMAT:\n",
    "- 영어 회화:\n",
    "- 한글 해석:\n",
    "\"\"\"\n",
    "\n",
    "# 프롬프트 템플릿을 이용하여 프롬프트를 생성\n",
    "prompt = PromptTemplate.from_template(template)\n",
    "\n",
    "# ChatOpenAI 챗모델을 초기화\n",
    "model = ChatOpenAI(model_name=\"gpt-4o-mini\")\n",
    "\n",
    "# 문자열 출력 파서를 초기화\n",
    "output_parser = StrOutputParser()"
   ]
  },
  {
   "cell_type": "code",
   "execution_count": 27,
   "metadata": {},
   "outputs": [],
   "source": [
    "# 체인을 구성\n",
    "chain = prompt | model | output_parser"
   ]
  },
  {
   "cell_type": "code",
   "execution_count": 28,
   "metadata": {},
   "outputs": [
    {
     "name": "stdout",
     "output_type": "stream",
     "text": [
      "- 영어 회화:\n",
      "  - Waiter: Hi there! Welcome to our restaurant. How can I help you today?\n",
      "  - You: Hi! I’d like to see the menu, please.\n",
      "  - Waiter: Of course! Here you go. Can I get you anything to drink while you look?\n",
      "  - You: Yes, I’d like a glass of water, please.\n",
      "  - Waiter: Sure! Are you ready to order, or do you need more time?\n",
      "  - You: I think I’m ready. I’d like to order the grilled chicken with a side salad.\n",
      "  - Waiter: Great choice! Would you like any dressing for your salad?\n",
      "  - You: Yes, please. I’ll have the vinaigrette.\n",
      "  - Waiter: Perfect! I’ll get that for you right away.\n",
      "\n",
      "- 한글 해석:\n",
      "  - 웨이터: 안녕하세요! 저희 식당에 오신 것을 환영합니다. 어떻게 도와드릴까요?\n",
      "  - 당신: 안녕하세요! 메뉴를 볼 수 있을까요?\n",
      "  - 웨이터: 물론이죠! 여기 있습니다. 보시는 동안 음료를 드릴까요?\n",
      "  - 당신: 네, 물 한 잔 주세요.\n",
      "  - 웨이터: 알겠습니다! 주문할 준비가 되셨나요, 아니면 좀 더 시간이 필요하신가요?\n",
      "  - 당신: 이제 준비가 된 것 같아요. 그릴에 구운 치킨과 사이드 샐러드를 주문할게요.\n",
      "  - 웨이터: 좋은 선택입니다! 샐러드에 드레싱은 어떤 걸 원하시나요?\n",
      "  - 당신: 네, 비네그레트 드레싱으로 주세요.\n",
      "  - 웨이터: 완벽합니다! 바로 가져다 드리겠습니다.\n"
     ]
    }
   ],
   "source": [
    "# 완성된 Chain을 실행하여 답변을 얻습니다.\n",
    "print(chain.invoke({\"question\": \"저는 식당에 가서 음식을 주문하고 싶어요\"}))"
   ]
  },
  {
   "cell_type": "code",
   "execution_count": 29,
   "metadata": {},
   "outputs": [
    {
     "name": "stdout",
     "output_type": "stream",
     "text": [
      "- 영어 회화:\n",
      "  - Waiter: Good evening! How many people are in your party?\n",
      "  - You: Good evening! It's just me.\n",
      "  - Waiter: Great! Here’s the menu. Can I get you something to drink while you decide?\n",
      "  - You: Yes, I’d like a glass of water, please.\n",
      "  - Waiter: Of course! Are you ready to order, or do you need a few more minutes?\n",
      "  - You: I’m ready. I would like the grilled chicken salad, please.\n",
      "  - Waiter: Excellent choice! Would you like any dressing with that?\n",
      "  - You: Yes, please. Can I have balsamic vinaigrette?\n",
      "  - Waiter: Absolutely! I’ll be right back with your order.\n",
      "\n",
      "- 한글 해석:\n",
      "  - 웨이터: 좋은 저녁입니다! 몇 분이신가요?\n",
      "  - 당신: 좋은 저녁입니다! 저 혼자입니다.\n",
      "  - 웨이터: 좋습니다! 여기에 메뉴가 있습니다. 주문을 결정하는 동안 음료를 드릴까요?\n",
      "  - 당신: 네, 물 한 잔 주세요.\n",
      "  - 웨이터: 물론입니다! 주문할 준비가 되셨나요, 아니면 몇 분 더 필요하신가요?\n",
      "  - 당신: 준비됐습니다. 그릴에 구운 치킨 샐러드로 주세요.\n",
      "  - 웨이터: 훌륭한 선택입니다! 드레싱은 필요하신가요?\n",
      "  - 당신: 네, 발사믹 비네그레트를 주세요.\n",
      "  - 웨이터: 알겠습니다! 주문하신 대로 곧 가져다드리겠습니다."
     ]
    }
   ],
   "source": [
    "# 완성된 Chain을 실행하여 답변을 얻습니다.\n",
    "# 스트리밍 출력을 위한 요청\n",
    "answer = chain.stream({\"question\": \"저는 식당에 가서 음식을 주문하고 싶어요\"})\n",
    "# 스트리밍 출력\n",
    "stream_response(answer)"
   ]
  },
  {
   "cell_type": "code",
   "execution_count": 30,
   "metadata": {},
   "outputs": [
    {
     "name": "stdout",
     "output_type": "stream",
     "text": [
      "- 영어 회화:\n",
      "A: Hi there! I’d like to order a pizza, please.\n",
      "B: Sure! What size would you like?\n",
      "A: I’ll have a large, please. \n",
      "B: Great! What toppings do you want?\n",
      "A: I’d like pepperoni and mushrooms.\n",
      "B: Sounds good! Would you like anything to drink?\n",
      "A: Yes, I’d like a Coke, please.\n",
      "B: Perfect! Your total comes to $25. How would you like to pay?\n",
      "A: I’ll pay with my credit card.\n",
      "B: Thank you! Your pizza will be ready in about 20 minutes.\n",
      "\n",
      "- 한글 해석:\n",
      "A: 안녕하세요! 피자를 주문하고 싶어요.\n",
      "B: 물론이죠! 어떤 사이즈로 하시겠어요?\n",
      "A: 큰 사이즈로 해주세요.\n",
      "B: 좋습니다! 어떤 토핑을 원하시나요?\n",
      "A: 페퍼로니와 버섯을 추가해주세요.\n",
      "B: 좋네요! 음료수는 필요하신가요?\n",
      "A: 네, 콜라 하나 주세요.\n",
      "B: 완벽해요! 총 금액은 25달러입니다. 어떻게 결제하시겠어요?\n",
      "A: 신용카드로 결제할게요.\n",
      "B: 감사합니다! 피자는 약 20분 후에 준비될 거예요."
     ]
    }
   ],
   "source": [
    "# 이번에는 question 을 '미국에서 피자 주문'으로 설정하여 실행합니다.\n",
    "# 스트리밍 출력을 위한 요청\n",
    "answer = chain.stream({\"question\": \"미국에서 피자 주문\"})\n",
    "# 스트리밍 출력\n",
    "stream_response(answer)"
   ]
  },
  {
   "cell_type": "markdown",
   "metadata": {},
   "source": [
    "### [실습] 템플릿을 변경하여 나만의 여행 가이드 챗봇 만들기\n",
    "\n",
    "- 위의 프롬프트를 아래 주제에 맞게 **변경** 해보기\n",
    "1. 페르소나: 10년차 여행 가이드\n",
    "2. 3일간 가성비 여행 계획을 세워주는 챗봇 생성\n",
    "3. `{question}` 에는 여행갈 나라와 도시를 사용자에게 입력받음\n",
    "4. `answer` 변수를 출력하여 챗봇의 답변 결과 확인 \n",
    "5. `Langsmith` 에 접속하여 실행 내용 확인"
   ]
  },
  {
   "cell_type": "code",
   "execution_count": 44,
   "metadata": {},
   "outputs": [],
   "source": [
    "tour_guide_template = \"\"\"\n",
    "당신은 10년차 여행 가이드입니다. 주어진 지역에서 3일간 가성비 좋은 여행 계획을 세워주세요.\n",
    "\n",
    "# 지역\n",
    "{location}\n",
    "\"\"\"\n",
    "\n",
    "# 프롬프트 템플릿을 이용하여 프롬프트를 생성\n",
    "prompt = PromptTemplate.from_template(tour_guide_template)\n",
    "\n",
    "# ChatOpenAI 챗모델을 초기화\n",
    "model = ChatOpenAI(model_name=\"gpt-4o-mini\")\n",
    "\n",
    "# 문자열 출력 파서를 초기화\n",
    "output_parser = StrOutputParser()\n",
    "\n",
    "# 체인을 구성\n",
    "chain = prompt | model | output_parser"
   ]
  },
  {
   "cell_type": "code",
   "execution_count": 46,
   "metadata": {},
   "outputs": [
    {
     "name": "stdout",
     "output_type": "stream",
     "text": [
      "브리스톨은 영국에서 문화와 역사, 아름다운 자연을 동시에 즐길 수 있는 매력적인 도시입니다. 3일간의 가성비 좋은 여행 계획을 아래와 같이 제안드립니다.\n",
      "\n",
      "### 1일차: 브리스톨 시내 탐방\n",
      "\n",
      "**오전:**\n",
      "- **브리스톨 대성당(Bristol Cathedral)**: 역사적인 건축물과 아름다운 정원을 무료로 구경하세요.\n",
      "- **파운틴 스퀘어(Fountain Square)**: 근처의 카페에서 아침 식사를 즐기세요. 스콘이나 영국식 아침 식사를 추천합니다.\n",
      "\n",
      "**오후:**\n",
      "- **브리스톨 박물관 및 미술관(Bristol Museum & Art Gallery)**: 다양한 전시를 무료로 관람할 수 있습니다.\n",
      "- **클리프턴 서스펜션 브리지(Clifton Suspension Bridge)**: 브리지까지 도보로 이동하며 주변 경관을 감상하세요. 다리 위에서 멋진 사진도 찍을 수 있습니다.\n",
      "\n",
      "**저녁:**\n",
      "- **하브리스(Harbourside)**: 이 지역의 레스토랑에서 저녁을 즐기세요. 피쉬 앤 칩스나 전통적인 영국 요리를 추천합니다.\n",
      "\n",
      "### 2일차: 자연과 문화 체험\n",
      "\n",
      "**오전:**\n",
      "- **브리스톨 동물원(Bristol Zoo Gardens)**: 동물원은 입장료가 있지만, 다양한 동물을 가까이에서 볼 수 있습니다. 가족 단위 관광에 적합합니다.\n",
      "\n",
      "**오후:**\n",
      "- **로프레스트 스튜디오(Lofthouse Studios)**: 지역 아티스트들의 작업실을 방문하고, 다양한 예술 작품을 감상하세요. 일부 스튜디오에서는 무료 투어를 제공합니다.\n",
      "- **그레이트 브리스톨 스카이워크(Great Bristol Skywalk)**: 도보로 즐길 수 있는 스카이워크에서 도시의 전경을 감상하세요.\n",
      "\n",
      "**저녁:**\n",
      "- **로컬 펍 방문**: 브리스톨의 전통 펍에서 로컬 맥주를 즐기며 저녁을 해결하세요.\n",
      "\n",
      "### 3일차: 근교 탐방 및 쇼핑\n",
      "\n",
      "**오전:**\n",
      "- **브리스톨 항구(Bristol Harbour)**: 항구 주변을 산책하며 아침을 즐기세요. 주말에는 마켓이 열리기도 하니 확인해보세요.\n",
      "\n",
      "**오후:**\n",
      "- **세인트 니콜라스 마켓(St. Nicholas Market)**: 다양한 음식과 기념품을 구매할 수 있는 시장입니다. 현지 음식을 맛보는 것도 좋습니다.\n",
      "- **브리스톨의 길거리 예술 탐방**: 브리스톨은 길거리 예술로 유명합니다. 벽화와 조각을 찾아보세요.\n",
      "\n",
      "**저녁:**\n",
      "- **현지 레스토랑에서 저녁**: 마지막 날 저녁은 특별한 레스토랑에서 즐기세요. 미리 예약해 두면 좋습니다.\n",
      "\n",
      "### 추가 팁:\n",
      "- **대중교통 이용**: 브리스톨은 대중교통이 잘 되어 있으니 버스나 트램을 이용해 이동하세요.\n",
      "- **패스 구매**: 여러 관광지를 방문할 계획이라면 브리스톨 패스를 구매하면 할인 혜택이 있습니다.\n",
      "- **걷기 좋은 도시**: 많은 명소가 도보로 접근 가능하니 걷는 것을 추천합니다.\n",
      "\n",
      "이 계획을 통해 브리스톨의 매력을 충분히 느끼실 수 있을 것입니다. 즐거운 여행 되시길 바랍니다!"
     ]
    }
   ],
   "source": [
    "# 완성된 Chain을 실행하여 답변을 얻습니다.\n",
    "# 스트리밍 출력을 위한 요청\n",
    "answer = chain.stream({\"location\": \"브리스톨\"})\n",
    "# 스트리밍 출력\n",
    "stream_response(answer)"
   ]
  },
  {
   "cell_type": "markdown",
   "metadata": {},
   "source": [
    "### [실습] 템플릿을 변경하여 나만의 요리사 챗봇 만들기\n",
    "\n",
    "- 위의 프롬프트를 아래 주제에 맞게 **변경** 해보기\n",
    "1. 페르소나: 10년차 셰프\n",
    "2. 냉장고 속 재료(여러 재료도 가능)를 입력으로 받아 요리명과 레시피 출력\n",
    "3. `{food}` 에는 여행갈 냉장고 속 재료를 사용자에게 입력받음\n",
    "4. `answer` 변수를 출력하여 챗봇의 답변 결과 확인 \n",
    "5. `Langsmith` 에 접속하여 실행 내용 확인"
   ]
  },
  {
   "cell_type": "code",
   "execution_count": 37,
   "metadata": {},
   "outputs": [],
   "source": [
    "cook_template = \"\"\"\n",
    "당신은 10년차 셰프입니다.\n",
    "냉장고 속의 {food}들을 포함하여 만들 수 있는 요리명과 그에 대한 레시피를 출력해주세요.\n",
    "\"\"\"\n",
    "\n",
    "# 프롬프트 템플릿을 이용하여 프롬프트를 생성\n",
    "prompt = PromptTemplate.from_template(cook_template)\n",
    "\n",
    "# ChatOpenAI 챗모델을 초기화\n",
    "model = ChatOpenAI(model_name=\"gpt-4o-mini\")\n",
    "\n",
    "# 문자열 출력 파서를 초기화\n",
    "output_parser = StrOutputParser()\n",
    "\n",
    "# 체인을 구성\n",
    "chain = prompt | model | output_parser"
   ]
  },
  {
   "cell_type": "code",
   "execution_count": 38,
   "metadata": {},
   "outputs": [
    {
     "name": "stdout",
     "output_type": "stream",
     "text": [
      "물론이죠! 바나나와 초콜릿을 활용한 간단하면서도 맛있는 디저트를 제안합니다. 바로 **초콜릿 바나나 브레드**입니다. \n",
      "\n",
      "### 초콜릿 바나나 브레드 레시피\n",
      "\n",
      "#### 재료\n",
      "- 잘 익은 바나나 3개\n",
      "- 설탕 100g (기호에 따라 조절)\n",
      "- 계란 2개\n",
      "- 바닐라 추출물 1작은술\n",
      "- 밀가루 200g\n",
      "- 베이킹 소다 1작은술\n",
      "- 소금 1/4작은술\n",
      "- 초콜릿 칩 100g (기호에 따라 조절)\n",
      "- 식용유 또는 녹인 버터 80ml\n",
      "\n",
      "#### 조리 방법\n",
      "\n",
      "1. **오븐 예열**: 오븐을 175도(섭씨)로 예열합니다.\n",
      "\n",
      "2. **바나나 으깨기**: 큰 볼에 잘 익은 바나나를 넣고 포크로 으깹니다. 부드러운 퓨레 상태가 되도록 해주세요.\n",
      "\n",
      "3. **재료 섞기**: 으깬 바나나에 설탕, 계란, 바닐라 추출물, 식용유(또는 녹인 버터)를 넣고 잘 섞어줍니다.\n",
      "\n",
      "4. **가루 재료 혼합**: 다른 볼에 밀가루, 베이킹 소다, 소금을 섞어준 후, 바나나 혼합물에 천천히 넣고 섞어줍니다. 너무 많이 섞지 않도록 주의하세요.\n",
      "\n",
      "5. **초콜릿 칩 추가**: 마지막으로 초콜릿 칩을 넣고 가볍게 섞어줍니다.\n",
      "\n",
      "6. **반죽 붓기**: 반죽을 기름을 바른 9x5인치(23x13cm) 빵 틀에 붓습니다.\n",
      "\n",
      "7. **굽기**: 예열된 오븐에서 약 60분간 굽습니다. 가운데에 이쑤시개를 찔렀을 때 깨끗하게 나와야 합니다.\n",
      "\n",
      "8. **식히기**: 빵이 구워지면 오븐에서 꺼내고 틀에서 10분 정도 식힌 후, 틀에서 빼내어 완전히 식힙니다.\n",
      "\n",
      "9. **서빙**: 식힌 후 슬라이스하여 서빙합니다. 원하신다면 휘핑 크림이나 아이스크림과 함께 즐기세요!\n",
      "\n",
      "이렇게 간단하게 만들 수 있는 초콜릿 바나나 브레드입니다. 바나나의 자연스러운 단맛과 초콜릿의 풍미가 어우러져 정말 맛있답니다. 즐거운 요리 시간 되세요!"
     ]
    }
   ],
   "source": [
    "# 완성된 Chain을 실행하여 답변을 얻습니다.\n",
    "# 스트리밍 출력을 위한 요청\n",
    "answer = chain.stream({\"food\": \"바나나 초콜릿\"})\n",
    "# 스트리밍 출력\n",
    "stream_response(answer)"
   ]
  },
  {
   "cell_type": "markdown",
   "metadata": {},
   "source": [
    "### [실습] 템플릿을 변경하여 나만의 헬스 트레이너 챗봇 만들기\n",
    "\n",
    "- 위의 프롬프트를 아래 주제에 맞게 **변경** 해보기\n",
    "1. 페르소나: 10년차 헬스 트레이너\n",
    "2. 운동하고 싶은 신체 부위를 입력하면 운동 루틴을 출력 \n",
    "3. `{today}` 에는 운동하고 싶은 신체 부위를 사용자에게 입력받음\n",
    "4. `answer` 변수를 출력하여 챗봇의 답변 결과 확인 \n",
    "5. `Langsmith` 에 접속하여 실행 내용 확인"
   ]
  },
  {
   "cell_type": "code",
   "execution_count": 41,
   "metadata": {},
   "outputs": [],
   "source": [
    "exercise_template = \"\"\"\n",
    "당신은 10년차 운동 트레이너입니다.\n",
    "{today}에 대한 하루동안의 총합 20세트 운동 루틴을 만들어주세요.\n",
    "\"\"\"\n",
    "\n",
    "# 프롬프트 템플릿을 이용하여 프롬프트를 생성\n",
    "prompt = PromptTemplate.from_template(exercise_template)\n",
    "\n",
    "# ChatOpenAI 챗모델을 초기화\n",
    "model = ChatOpenAI(model_name=\"gpt-4o-mini\")\n",
    "\n",
    "# 문자열 출력 파서를 초기화\n",
    "output_parser = StrOutputParser()\n",
    "\n",
    "# 체인을 구성\n",
    "chain = prompt | model | output_parser"
   ]
  },
  {
   "cell_type": "code",
   "execution_count": 43,
   "metadata": {},
   "outputs": [
    {
     "name": "stdout",
     "output_type": "stream",
     "text": [
      "하체를 집중적으로 운동할 수 있는 하루 동안의 총합 20세트 루틴을 아래와 같이 구성해 보았습니다. 이 루틴은 다양한 하체 근육군을 골고루 자극할 수 있도록 설계되었습니다.\n",
      "\n",
      "### 하체 운동 루틴 (총 20세트)\n",
      "\n",
      "#### 1. 스쿼트 (Squats)\n",
      "- **세트**: 4세트\n",
      "- **반복**: 10-12회\n",
      "- **설명**: 기본 스쿼트를 실시하며, 체중을 발뒤꿈치에 두고 내려가세요.\n",
      "\n",
      "#### 2. 런지 (Lunges)\n",
      "- **세트**: 4세트\n",
      "- **반복**: 10-12회 (각 다리)\n",
      "- **설명**: 앞쪽으로 한 발을 내딛으며 무릎이 발끝을 넘지 않도록 주의하세요.\n",
      "\n",
      "#### 3. 레그 프레스 (Leg Press)\n",
      "- **세트**: 3세트\n",
      "- **반복**: 10-12회\n",
      "- **설명**: 레그 프레스 머신을 사용하여 허벅지와 엉덩이를 집중적으로 자극하세요.\n",
      "\n",
      "#### 4. 데드리프트 (Deadlifts)\n",
      "- **세트**: 3세트\n",
      "- **반복**: 8-10회\n",
      "- **설명**: 바벨 또는 덤벨을 사용하여 하체와 등 근육을 동시에 발달시킵니다.\n",
      "\n",
      "#### 5. 레그 컬 (Leg Curls)\n",
      "- **세트**: 3세트\n",
      "- **반복**: 10-12회\n",
      "- **설명**: 햄스트링을 강화하기 위해 레그 컬 머신을 이용합니다.\n",
      "\n",
      "#### 6. 카프 레이즈 (Calf Raises)\n",
      "- **세트**: 3세트\n",
      "- **반복**: 12-15회\n",
      "- **설명**: 종아리 근육을 발달시키기 위해 서서 또는 앉아서 실시합니다.\n",
      "\n",
      "#### 7. 스텝 업 (Step-Ups)\n",
      "- **세트**: 2세트\n",
      "- **반복**: 10-12회 (각 다리)\n",
      "- **설명**: 박스나 벤치를 이용하여 한 발씩 올라갔다 내려오는 동작입니다.\n",
      "\n",
      "### 루틴 요약\n",
      "- 총 세트 수: 20세트\n",
      "- 전체 시간: 약 60-90분 (세트 간 휴식 포함)\n",
      "\n",
      "### 추가 팁\n",
      "- 운동 전 충분한 스트레칭으로 워밍업을 하세요.\n",
      "- 각 세트 사이에 60-90초의 휴식을 취하는 것이 좋습니다.\n",
      "- 운동 후에는 쿨다운 및 스트레칭을 통해 회복을 도와주세요.\n",
      "\n",
      "이 루틴은 일반적인 하체 운동 프로그램으로, 개인의 체력이나 목표에 따라 조정할 수 있습니다. 안전을 최우선으로 하여 운동하세요!"
     ]
    }
   ],
   "source": [
    "# 완성된 Chain을 실행하여 답변을 얻습니다.\n",
    "# 스트리밍 출력을 위한 요청\n",
    "answer = chain.stream({\"today\": \"하체\"})\n",
    "# 스트리밍 출력\n",
    "stream_response(answer)"
   ]
  },
  {
   "cell_type": "code",
   "execution_count": null,
   "metadata": {},
   "outputs": [],
   "source": []
  }
 ],
 "metadata": {
  "kernelspec": {
   "display_name": "Python 3",
   "language": "python",
   "name": "python3"
  },
  "language_info": {
   "codemirror_mode": {
    "name": "ipython",
    "version": 3
   },
   "file_extension": ".py",
   "mimetype": "text/x-python",
   "name": "python",
   "nbconvert_exporter": "python",
   "pygments_lexer": "ipython3",
   "version": "3.10.13"
  }
 },
 "nbformat": 4,
 "nbformat_minor": 2
}
