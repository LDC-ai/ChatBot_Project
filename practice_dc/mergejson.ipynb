{
 "cells": [
  {
   "cell_type": "code",
   "execution_count": 11,
   "metadata": {},
   "outputs": [
    {
     "name": "stdout",
     "output_type": "stream",
     "text": [
      "../project/Sample/labeling/\n",
      "../project/Sample/labeling/국정감사\n",
      "../project/Sample/labeling/국정감사/16\n",
      "../project/Sample/labeling/국정감사/17\n",
      "../project/Sample/labeling/국정감사/18\n",
      "../project/Sample/labeling/국정감사/19\n",
      "../project/Sample/labeling/국정감사/20\n",
      "../project/Sample/labeling/국정감사/21\n",
      "../project/Sample/labeling/본회의\n",
      "../project/Sample/labeling/본회의/15\n",
      "../project/Sample/labeling/본회의/16\n",
      "../project/Sample/labeling/본회의/17\n",
      "../project/Sample/labeling/본회의/18\n",
      "../project/Sample/labeling/본회의/19\n",
      "../project/Sample/labeling/본회의/20\n",
      "../project/Sample/labeling/본회의/21\n",
      "../project/Sample/labeling/소위원회\n",
      "../project/Sample/labeling/소위원회/16\n",
      "../project/Sample/labeling/소위원회/17\n",
      "../project/Sample/labeling/소위원회/18\n",
      "../project/Sample/labeling/소위원회/19\n",
      "../project/Sample/labeling/소위원회/20\n",
      "../project/Sample/labeling/소위원회/21\n",
      "../project/Sample/labeling/예산결산특별위원회\n",
      "../project/Sample/labeling/예산결산특별위원회/15\n",
      "../project/Sample/labeling/예산결산특별위원회/16\n",
      "../project/Sample/labeling/예산결산특별위원회/17\n",
      "../project/Sample/labeling/예산결산특별위원회/18\n",
      "../project/Sample/labeling/예산결산특별위원회/19\n",
      "../project/Sample/labeling/예산결산특별위원회/20\n",
      "../project/Sample/labeling/예산결산특별위원회/21\n",
      "../project/Sample/labeling/특별위원회\n",
      "../project/Sample/labeling/특별위원회/16\n",
      "../project/Sample/labeling/특별위원회/17\n",
      "../project/Sample/labeling/특별위원회/18\n",
      "../project/Sample/labeling/특별위원회/19\n",
      "../project/Sample/labeling/특별위원회/20\n",
      "../project/Sample/labeling/특별위원회/21\n",
      "모든 JSON 파일이 'merged_file.json'로 합쳐졌습니다.\n"
     ]
    }
   ],
   "source": [
    "import os\n",
    "import json\n",
    "\n",
    "# JSON 파일이 있는 최상위 디렉토리 경로\n",
    "base_directory = '../project/Sample/labeling/'\n",
    "merged_data = []\n",
    "\n",
    "def load_json_files(directory):\n",
    "    for root, _, files in os.walk(directory):\n",
    "        print(root)\n",
    "        for filename in files:\n",
    "            if filename.endswith('.json'):\n",
    "                file_path = os.path.join(root, filename)\n",
    "                \n",
    "                # JSON 파일 읽기\n",
    "                with open(file_path, 'r', encoding=\"utf-8\") as file:\n",
    "                    data = json.load(file)\n",
    "                    merged_data.append(data)\n",
    "\n",
    "# JSON 파일 로드\n",
    "load_json_files(base_directory)\n",
    "\n",
    "# 합쳐진 데이터를 새로운 JSON 파일로 저장\n",
    "output_file_path = 'merged_file.json'\n",
    "with open(output_file_path, 'w', encoding=\"utf-8\") as output_file:\n",
    "    json.dump(merged_data, output_file, indent=4)\n",
    "\n",
    "print(f\"모든 JSON 파일이 '{output_file_path}'로 합쳐졌습니다.\")"
   ]
  },
  {
   "cell_type": "code",
   "execution_count": null,
   "metadata": {},
   "outputs": [],
   "source": []
  }
 ],
 "metadata": {
  "kernelspec": {
   "display_name": "Python 3",
   "language": "python",
   "name": "python3"
  },
  "language_info": {
   "codemirror_mode": {
    "name": "ipython",
    "version": 3
   },
   "file_extension": ".py",
   "mimetype": "text/x-python",
   "name": "python",
   "nbconvert_exporter": "python",
   "pygments_lexer": "ipython3",
   "version": "3.10.13"
  }
 },
 "nbformat": 4,
 "nbformat_minor": 2
}
