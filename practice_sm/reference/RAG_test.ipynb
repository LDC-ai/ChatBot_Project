{
 "cells": [
  {
   "cell_type": "code",
   "execution_count": 1,
   "metadata": {},
   "outputs": [
    {
     "data": {
      "text/plain": [
       "True"
      ]
     },
     "execution_count": 1,
     "metadata": {},
     "output_type": "execute_result"
    }
   ],
   "source": [
    "from dotenv import load_dotenv\n",
    "\n",
    "load_dotenv('./.env')"
   ]
  },
  {
   "cell_type": "code",
   "execution_count": 2,
   "metadata": {},
   "outputs": [
    {
     "name": "stdout",
     "output_type": "stream",
     "text": [
      "[API KEY]\n",
      "sk-l0rAOwEsqXqeXoZsj4jppfpH52TOFQezaNohE3ztURT3BlbkFJmqnZl5n_izzgDQoGAxMjXYm0nj4BrEzXWrArHJABUA\n",
      "[LANGCHAIN_PROJECT]\n",
      "RAG_test2\n"
     ]
    }
   ],
   "source": [
    "import os\n",
    "\n",
    "print(f\"[API KEY]\\n{os.environ['OPENAI_API_KEY']}\")\n",
    "os.environ['LANGCHAIN_PROJECT'] = 'RAG_test2'\n",
    "print(f\"[LANGCHAIN_PROJECT]\\n{os.environ['LANGCHAIN_PROJECT']}\")"
   ]
  },
  {
   "cell_type": "code",
   "execution_count": 3,
   "metadata": {},
   "outputs": [
    {
     "name": "stdout",
     "output_type": "stream",
     "text": [
      "LangSmith 추적을 시작합니다.\n",
      "[프로젝트명]\n",
      "RAG_test2\n"
     ]
    }
   ],
   "source": [
    "from langchain_teddynote import logging\n",
    "\n",
    "# 프로젝트 이름을 입력합니다.\n",
    "logging.langsmith(\"RAG_test2\")"
   ]
  },
  {
   "cell_type": "code",
   "execution_count": 4,
   "metadata": {},
   "outputs": [
    {
     "name": "stderr",
     "output_type": "stream",
     "text": [
      "USER_AGENT environment variable not set, consider setting it to identify your requests.\n"
     ]
    }
   ],
   "source": [
    "import bs4\n",
    "from langchain import hub\n",
    "from langchain_text_splitters import RecursiveCharacterTextSplitter\n",
    "from langchain_community.document_loaders import WebBaseLoader\n",
    "from langchain_community.vectorstores.faiss import FAISS\n",
    "from langchain_core.output_parsers import StrOutputParser\n",
    "from langchain_core.runnables import RunnablePassthrough\n",
    "from langchain_openai import ChatOpenAI, OpenAIEmbeddings"
   ]
  },
  {
   "cell_type": "code",
   "execution_count": 5,
   "metadata": {},
   "outputs": [
    {
     "name": "stdout",
     "output_type": "stream",
     "text": [
      "문서의 수: 57\n",
      "\n",
      "[페이지내용]\n",
      "\n",
      "\n",
      "[metadata]\n",
      "{'source': 'LLM의 동작원리와 Langchain을 이용한 맞춤형 챗봇 만들기.pdf', 'file_path': 'LLM의 동작원리와 Langchain을 이용한 맞춤형 챗봇 만들기.pdf', 'page': 10, 'total_pages': 57, 'format': 'PDF 1.7', 'title': '[대동그룹]DAY2_LLM의 동작원리와 Langchain을 이용한 맞춤형 챗봇 만들기', 'author': '양유정', 'subject': '', 'keywords': '', 'creator': 'Microsoft® PowerPoint® Microsoft 365용', 'producer': 'Microsoft® PowerPoint® Microsoft 365용', 'creationDate': \"D:20241014091229+09'00'\", 'modDate': \"D:20241014091229+09'00'\", 'trapped': ''}\n",
      "\n"
     ]
    },
    {
     "name": "stderr",
     "output_type": "stream",
     "text": [
      "/home/elicer/.local/lib/python3.10/site-packages/langchain_community/document_loaders/parsers/pdf.py:299: UserWarning: Warning: Empty content on page 0 of document LLM의 동작원리와 Langchain을 이용한 맞춤형 챗봇 만들기.pdf\n",
      "  warnings.warn(\n",
      "/home/elicer/.local/lib/python3.10/site-packages/langchain_community/document_loaders/parsers/pdf.py:299: UserWarning: Warning: Empty content on page 1 of document LLM의 동작원리와 Langchain을 이용한 맞춤형 챗봇 만들기.pdf\n",
      "  warnings.warn(\n",
      "/home/elicer/.local/lib/python3.10/site-packages/langchain_community/document_loaders/parsers/pdf.py:299: UserWarning: Warning: Empty content on page 2 of document LLM의 동작원리와 Langchain을 이용한 맞춤형 챗봇 만들기.pdf\n",
      "  warnings.warn(\n",
      "/home/elicer/.local/lib/python3.10/site-packages/langchain_community/document_loaders/parsers/pdf.py:299: UserWarning: Warning: Empty content on page 3 of document LLM의 동작원리와 Langchain을 이용한 맞춤형 챗봇 만들기.pdf\n",
      "  warnings.warn(\n",
      "/home/elicer/.local/lib/python3.10/site-packages/langchain_community/document_loaders/parsers/pdf.py:299: UserWarning: Warning: Empty content on page 4 of document LLM의 동작원리와 Langchain을 이용한 맞춤형 챗봇 만들기.pdf\n",
      "  warnings.warn(\n",
      "/home/elicer/.local/lib/python3.10/site-packages/langchain_community/document_loaders/parsers/pdf.py:299: UserWarning: Warning: Empty content on page 6 of document LLM의 동작원리와 Langchain을 이용한 맞춤형 챗봇 만들기.pdf\n",
      "  warnings.warn(\n",
      "/home/elicer/.local/lib/python3.10/site-packages/langchain_community/document_loaders/parsers/pdf.py:299: UserWarning: Warning: Empty content on page 7 of document LLM의 동작원리와 Langchain을 이용한 맞춤형 챗봇 만들기.pdf\n",
      "  warnings.warn(\n",
      "/home/elicer/.local/lib/python3.10/site-packages/langchain_community/document_loaders/parsers/pdf.py:299: UserWarning: Warning: Empty content on page 8 of document LLM의 동작원리와 Langchain을 이용한 맞춤형 챗봇 만들기.pdf\n",
      "  warnings.warn(\n",
      "/home/elicer/.local/lib/python3.10/site-packages/langchain_community/document_loaders/parsers/pdf.py:299: UserWarning: Warning: Empty content on page 9 of document LLM의 동작원리와 Langchain을 이용한 맞춤형 챗봇 만들기.pdf\n",
      "  warnings.warn(\n",
      "/home/elicer/.local/lib/python3.10/site-packages/langchain_community/document_loaders/parsers/pdf.py:299: UserWarning: Warning: Empty content on page 10 of document LLM의 동작원리와 Langchain을 이용한 맞춤형 챗봇 만들기.pdf\n",
      "  warnings.warn(\n",
      "/home/elicer/.local/lib/python3.10/site-packages/langchain_community/document_loaders/parsers/pdf.py:299: UserWarning: Warning: Empty content on page 16 of document LLM의 동작원리와 Langchain을 이용한 맞춤형 챗봇 만들기.pdf\n",
      "  warnings.warn(\n",
      "/home/elicer/.local/lib/python3.10/site-packages/langchain_community/document_loaders/parsers/pdf.py:299: UserWarning: Warning: Empty content on page 17 of document LLM의 동작원리와 Langchain을 이용한 맞춤형 챗봇 만들기.pdf\n",
      "  warnings.warn(\n",
      "/home/elicer/.local/lib/python3.10/site-packages/langchain_community/document_loaders/parsers/pdf.py:299: UserWarning: Warning: Empty content on page 18 of document LLM의 동작원리와 Langchain을 이용한 맞춤형 챗봇 만들기.pdf\n",
      "  warnings.warn(\n",
      "/home/elicer/.local/lib/python3.10/site-packages/langchain_community/document_loaders/parsers/pdf.py:299: UserWarning: Warning: Empty content on page 19 of document LLM의 동작원리와 Langchain을 이용한 맞춤형 챗봇 만들기.pdf\n",
      "  warnings.warn(\n",
      "/home/elicer/.local/lib/python3.10/site-packages/langchain_community/document_loaders/parsers/pdf.py:299: UserWarning: Warning: Empty content on page 20 of document LLM의 동작원리와 Langchain을 이용한 맞춤형 챗봇 만들기.pdf\n",
      "  warnings.warn(\n",
      "/home/elicer/.local/lib/python3.10/site-packages/langchain_community/document_loaders/parsers/pdf.py:299: UserWarning: Warning: Empty content on page 21 of document LLM의 동작원리와 Langchain을 이용한 맞춤형 챗봇 만들기.pdf\n",
      "  warnings.warn(\n",
      "/home/elicer/.local/lib/python3.10/site-packages/langchain_community/document_loaders/parsers/pdf.py:299: UserWarning: Warning: Empty content on page 22 of document LLM의 동작원리와 Langchain을 이용한 맞춤형 챗봇 만들기.pdf\n",
      "  warnings.warn(\n",
      "/home/elicer/.local/lib/python3.10/site-packages/langchain_community/document_loaders/parsers/pdf.py:299: UserWarning: Warning: Empty content on page 23 of document LLM의 동작원리와 Langchain을 이용한 맞춤형 챗봇 만들기.pdf\n",
      "  warnings.warn(\n",
      "/home/elicer/.local/lib/python3.10/site-packages/langchain_community/document_loaders/parsers/pdf.py:299: UserWarning: Warning: Empty content on page 24 of document LLM의 동작원리와 Langchain을 이용한 맞춤형 챗봇 만들기.pdf\n",
      "  warnings.warn(\n",
      "/home/elicer/.local/lib/python3.10/site-packages/langchain_community/document_loaders/parsers/pdf.py:299: UserWarning: Warning: Empty content on page 25 of document LLM의 동작원리와 Langchain을 이용한 맞춤형 챗봇 만들기.pdf\n",
      "  warnings.warn(\n",
      "/home/elicer/.local/lib/python3.10/site-packages/langchain_community/document_loaders/parsers/pdf.py:299: UserWarning: Warning: Empty content on page 26 of document LLM의 동작원리와 Langchain을 이용한 맞춤형 챗봇 만들기.pdf\n",
      "  warnings.warn(\n",
      "/home/elicer/.local/lib/python3.10/site-packages/langchain_community/document_loaders/parsers/pdf.py:299: UserWarning: Warning: Empty content on page 27 of document LLM의 동작원리와 Langchain을 이용한 맞춤형 챗봇 만들기.pdf\n",
      "  warnings.warn(\n",
      "/home/elicer/.local/lib/python3.10/site-packages/langchain_community/document_loaders/parsers/pdf.py:299: UserWarning: Warning: Empty content on page 28 of document LLM의 동작원리와 Langchain을 이용한 맞춤형 챗봇 만들기.pdf\n",
      "  warnings.warn(\n",
      "/home/elicer/.local/lib/python3.10/site-packages/langchain_community/document_loaders/parsers/pdf.py:299: UserWarning: Warning: Empty content on page 29 of document LLM의 동작원리와 Langchain을 이용한 맞춤형 챗봇 만들기.pdf\n",
      "  warnings.warn(\n",
      "/home/elicer/.local/lib/python3.10/site-packages/langchain_community/document_loaders/parsers/pdf.py:299: UserWarning: Warning: Empty content on page 31 of document LLM의 동작원리와 Langchain을 이용한 맞춤형 챗봇 만들기.pdf\n",
      "  warnings.warn(\n",
      "/home/elicer/.local/lib/python3.10/site-packages/langchain_community/document_loaders/parsers/pdf.py:299: UserWarning: Warning: Empty content on page 32 of document LLM의 동작원리와 Langchain을 이용한 맞춤형 챗봇 만들기.pdf\n",
      "  warnings.warn(\n",
      "/home/elicer/.local/lib/python3.10/site-packages/langchain_community/document_loaders/parsers/pdf.py:299: UserWarning: Warning: Empty content on page 33 of document LLM의 동작원리와 Langchain을 이용한 맞춤형 챗봇 만들기.pdf\n",
      "  warnings.warn(\n",
      "/home/elicer/.local/lib/python3.10/site-packages/langchain_community/document_loaders/parsers/pdf.py:299: UserWarning: Warning: Empty content on page 34 of document LLM의 동작원리와 Langchain을 이용한 맞춤형 챗봇 만들기.pdf\n",
      "  warnings.warn(\n",
      "/home/elicer/.local/lib/python3.10/site-packages/langchain_community/document_loaders/parsers/pdf.py:299: UserWarning: Warning: Empty content on page 35 of document LLM의 동작원리와 Langchain을 이용한 맞춤형 챗봇 만들기.pdf\n",
      "  warnings.warn(\n",
      "/home/elicer/.local/lib/python3.10/site-packages/langchain_community/document_loaders/parsers/pdf.py:299: UserWarning: Warning: Empty content on page 36 of document LLM의 동작원리와 Langchain을 이용한 맞춤형 챗봇 만들기.pdf\n",
      "  warnings.warn(\n",
      "/home/elicer/.local/lib/python3.10/site-packages/langchain_community/document_loaders/parsers/pdf.py:299: UserWarning: Warning: Empty content on page 37 of document LLM의 동작원리와 Langchain을 이용한 맞춤형 챗봇 만들기.pdf\n",
      "  warnings.warn(\n",
      "/home/elicer/.local/lib/python3.10/site-packages/langchain_community/document_loaders/parsers/pdf.py:299: UserWarning: Warning: Empty content on page 38 of document LLM의 동작원리와 Langchain을 이용한 맞춤형 챗봇 만들기.pdf\n",
      "  warnings.warn(\n",
      "/home/elicer/.local/lib/python3.10/site-packages/langchain_community/document_loaders/parsers/pdf.py:299: UserWarning: Warning: Empty content on page 39 of document LLM의 동작원리와 Langchain을 이용한 맞춤형 챗봇 만들기.pdf\n",
      "  warnings.warn(\n",
      "/home/elicer/.local/lib/python3.10/site-packages/langchain_community/document_loaders/parsers/pdf.py:299: UserWarning: Warning: Empty content on page 40 of document LLM의 동작원리와 Langchain을 이용한 맞춤형 챗봇 만들기.pdf\n",
      "  warnings.warn(\n",
      "/home/elicer/.local/lib/python3.10/site-packages/langchain_community/document_loaders/parsers/pdf.py:299: UserWarning: Warning: Empty content on page 41 of document LLM의 동작원리와 Langchain을 이용한 맞춤형 챗봇 만들기.pdf\n",
      "  warnings.warn(\n",
      "/home/elicer/.local/lib/python3.10/site-packages/langchain_community/document_loaders/parsers/pdf.py:299: UserWarning: Warning: Empty content on page 42 of document LLM의 동작원리와 Langchain을 이용한 맞춤형 챗봇 만들기.pdf\n",
      "  warnings.warn(\n",
      "/home/elicer/.local/lib/python3.10/site-packages/langchain_community/document_loaders/parsers/pdf.py:299: UserWarning: Warning: Empty content on page 43 of document LLM의 동작원리와 Langchain을 이용한 맞춤형 챗봇 만들기.pdf\n",
      "  warnings.warn(\n",
      "/home/elicer/.local/lib/python3.10/site-packages/langchain_community/document_loaders/parsers/pdf.py:299: UserWarning: Warning: Empty content on page 44 of document LLM의 동작원리와 Langchain을 이용한 맞춤형 챗봇 만들기.pdf\n",
      "  warnings.warn(\n",
      "/home/elicer/.local/lib/python3.10/site-packages/langchain_community/document_loaders/parsers/pdf.py:299: UserWarning: Warning: Empty content on page 45 of document LLM의 동작원리와 Langchain을 이용한 맞춤형 챗봇 만들기.pdf\n",
      "  warnings.warn(\n",
      "/home/elicer/.local/lib/python3.10/site-packages/langchain_community/document_loaders/parsers/pdf.py:299: UserWarning: Warning: Empty content on page 46 of document LLM의 동작원리와 Langchain을 이용한 맞춤형 챗봇 만들기.pdf\n",
      "  warnings.warn(\n",
      "/home/elicer/.local/lib/python3.10/site-packages/langchain_community/document_loaders/parsers/pdf.py:299: UserWarning: Warning: Empty content on page 47 of document LLM의 동작원리와 Langchain을 이용한 맞춤형 챗봇 만들기.pdf\n",
      "  warnings.warn(\n",
      "/home/elicer/.local/lib/python3.10/site-packages/langchain_community/document_loaders/parsers/pdf.py:299: UserWarning: Warning: Empty content on page 48 of document LLM의 동작원리와 Langchain을 이용한 맞춤형 챗봇 만들기.pdf\n",
      "  warnings.warn(\n",
      "/home/elicer/.local/lib/python3.10/site-packages/langchain_community/document_loaders/parsers/pdf.py:299: UserWarning: Warning: Empty content on page 49 of document LLM의 동작원리와 Langchain을 이용한 맞춤형 챗봇 만들기.pdf\n",
      "  warnings.warn(\n",
      "/home/elicer/.local/lib/python3.10/site-packages/langchain_community/document_loaders/parsers/pdf.py:299: UserWarning: Warning: Empty content on page 50 of document LLM의 동작원리와 Langchain을 이용한 맞춤형 챗봇 만들기.pdf\n",
      "  warnings.warn(\n",
      "/home/elicer/.local/lib/python3.10/site-packages/langchain_community/document_loaders/parsers/pdf.py:299: UserWarning: Warning: Empty content on page 53 of document LLM의 동작원리와 Langchain을 이용한 맞춤형 챗봇 만들기.pdf\n",
      "  warnings.warn(\n",
      "/home/elicer/.local/lib/python3.10/site-packages/langchain_community/document_loaders/parsers/pdf.py:299: UserWarning: Warning: Empty content on page 55 of document LLM의 동작원리와 Langchain을 이용한 맞춤형 챗봇 만들기.pdf\n",
      "  warnings.warn(\n",
      "/home/elicer/.local/lib/python3.10/site-packages/langchain_community/document_loaders/parsers/pdf.py:299: UserWarning: Warning: Empty content on page 56 of document LLM의 동작원리와 Langchain을 이용한 맞춤형 챗봇 만들기.pdf\n",
      "  warnings.warn(\n"
     ]
    }
   ],
   "source": [
    "### PDF 기반 QA(Question-Answering) 챗봇으로 변경하는 코드\n",
    "\n",
    "from langchain.document_loaders import PyMuPDFLoader\n",
    "\n",
    "# PDF 파일 로드. 파일의 경로 입력\n",
    "loader = PyMuPDFLoader(\"LLM의 동작원리와 Langchain을 이용한 맞춤형 챗봇 만들기.pdf\")\n",
    "\n",
    "# 페이지 별 문서 로드\n",
    "docs = loader.load()\n",
    "print(f\"문서의 수: {len(docs)}\")\n",
    "\n",
    "# 10번째 페이지의 내용 출력\n",
    "print(f\"\\n[페이지내용]\\n{docs[10].page_content[:500]}\")\n",
    "print(f\"\\n[metadata]\\n{docs[10].metadata}\\n\")"
   ]
  },
  {
   "cell_type": "code",
   "execution_count": 6,
   "metadata": {},
   "outputs": [
    {
     "data": {
      "text/plain": [
       "12"
      ]
     },
     "execution_count": 6,
     "metadata": {},
     "output_type": "execute_result"
    }
   ],
   "source": [
    "text_splitter = RecursiveCharacterTextSplitter(chunk_size=1000, chunk_overlap=100)\n",
    "\n",
    "splits = text_splitter.split_documents(docs)\n",
    "len(splits)"
   ]
  },
  {
   "cell_type": "code",
   "execution_count": 7,
   "metadata": {},
   "outputs": [],
   "source": [
    "# 벡터스토어를 생성합니다.\n",
    "vectorstore = FAISS.from_documents(documents=splits, embedding=OpenAIEmbeddings())\n",
    "\n",
    "# 뉴스에 포함되어 있는 정보를 검색하고 생성합니다.\n",
    "retriever = vectorstore.as_retriever()"
   ]
  },
  {
   "cell_type": "code",
   "execution_count": 8,
   "metadata": {},
   "outputs": [],
   "source": [
    "from langchain_core.prompts import PromptTemplate\n",
    "\n",
    "prompt = PromptTemplate.from_template(\n",
    "    \"\"\"당신은 질문-답변(Question-Answering)을 수행하는 친절한 AI 어시스턴트입니다. 당신의 임무는 주어진 문맥(context) 에서 주어진 질문(question) 에 답하는 것입니다.\n",
    "검색된 다음 문맥(context) 을 사용하여 질문(question) 에 답하세요. 만약, 주어진 문맥(context) 에서 답을 찾을 수 없다면, 답을 모른다면 `주어진 정보에서 질문에 대한 정보를 찾을 수 없습니다` 라고 답하세요.\n",
    "한글로 답변해 주세요. 단, 기술적인 용어나 이름은 번역하지 않고 그대로 사용해 주세요.\n",
    "\n",
    "#Question:\n",
    "{question}\n",
    "\n",
    "#Context:\n",
    "{context}\n",
    "\n",
    "#Answer:\"\"\"\n",
    ")"
   ]
  },
  {
   "cell_type": "code",
   "execution_count": 9,
   "metadata": {},
   "outputs": [],
   "source": [
    "llm = ChatOpenAI(model_name=\"gpt-4o-mini\", temperature=0.7)\n",
    "\n",
    "\n",
    "# 체인을 생성합니다.\n",
    "rag_chain = (\n",
    "    {\"context\": retriever, \"question\": RunnablePassthrough()}\n",
    "    | prompt\n",
    "    | llm\n",
    "    | StrOutputParser()\n",
    ")"
   ]
  },
  {
   "cell_type": "code",
   "execution_count": 10,
   "metadata": {},
   "outputs": [],
   "source": [
    "from langchain_teddynote.messages import stream_response"
   ]
  },
  {
   "cell_type": "code",
   "execution_count": 11,
   "metadata": {},
   "outputs": [
    {
     "name": "stdout",
     "output_type": "stream",
     "text": [
      "주어진 정보에서 질문에 대한 정보를 찾을 수 없습니다."
     ]
    }
   ],
   "source": [
    "answer = rag_chain.stream(\"프롬프트는 무엇을 의미하나?\")\n",
    "# # 제너레이터에서 데이터를 하나씩 모아서 문자열로 합치기\n",
    "# answer_content = ''.join([chunk for chunk in answer])\n",
    "\n",
    "# # 결과 출력\n",
    "# print(answer_content)\n",
    "stream_response(answer)\n"
   ]
  }
 ],
 "metadata": {
  "kernelspec": {
   "display_name": "Python 3",
   "language": "python",
   "name": "python3"
  },
  "language_info": {
   "codemirror_mode": {
    "name": "ipython",
    "version": 3
   },
   "file_extension": ".py",
   "mimetype": "text/x-python",
   "name": "python",
   "nbconvert_exporter": "python",
   "pygments_lexer": "ipython3",
   "version": "3.10.13"
  }
 },
 "nbformat": 4,
 "nbformat_minor": 2
}
