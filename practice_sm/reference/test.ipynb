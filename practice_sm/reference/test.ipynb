{
 "cells": [
  {
   "cell_type": "code",
   "execution_count": 12,
   "metadata": {},
   "outputs": [],
   "source": [
    "import bs4\n",
    "from langchain import hub\n",
    "from langchain_text_splitters import RecursiveCharacterTextSplitter\n",
    "from langchain_community.document_loaders import WebBaseLoader\n",
    "from langchain_community.vectorstores.faiss import FAISS\n",
    "from langchain_core.output_parsers import StrOutputParser\n",
    "from langchain_core.runnables import RunnablePassthrough\n",
    "from langchain_openai import ChatOpenAI, OpenAIEmbeddings\n",
    "\n",
    "from pathlib import Path\n",
    "from pprint import pprint"
   ]
  },
  {
   "cell_type": "code",
   "execution_count": 1,
   "metadata": {},
   "outputs": [
    {
     "data": {
      "text/plain": [
       "True"
      ]
     },
     "execution_count": 1,
     "metadata": {},
     "output_type": "execute_result"
    }
   ],
   "source": [
    "from dotenv import load_dotenv\n",
    "\n",
    "load_dotenv('./.env')\n"
   ]
  },
  {
   "cell_type": "code",
   "execution_count": 2,
   "metadata": {},
   "outputs": [
    {
     "name": "stdout",
     "output_type": "stream",
     "text": [
      "[API KEY]\n",
      "sk-l0rAOwEsqXqeXoZsj4jppfpH52TOFQezaNohE3ztURT3BlbkFJmqnZl5n_izzgDQoGAxMjXYm0nj4BrEzXWrArHJABUA\n",
      "[LANGCHAIN_PROJECT]\n",
      "CPCP_test1\n"
     ]
    }
   ],
   "source": [
    "import os\n",
    "\n",
    "print(f\"[API KEY]\\n{os.environ['OPENAI_API_KEY']}\")\n",
    "os.environ['LANGCHAIN_PROJECT'] = 'CPCP_test1'\n",
    "print(f\"[LANGCHAIN_PROJECT]\\n{os.environ['LANGCHAIN_PROJECT']}\")"
   ]
  },
  {
   "cell_type": "code",
   "execution_count": 5,
   "metadata": {},
   "outputs": [
    {
     "name": "stdout",
     "output_type": "stream",
     "text": [
      "LangSmith 추적을 시작합니다.\n",
      "[프로젝트명]\n",
      "CPCP_test1\n"
     ]
    }
   ],
   "source": [
    "from langchain_teddynote import logging\n",
    "\n",
    "# 프로젝트 이름을 입력합니다.\n",
    "logging.langsmith(\"CPCP_test1\")"
   ]
  },
  {
   "cell_type": "code",
   "execution_count": 69,
   "metadata": {},
   "outputs": [
    {
     "name": "stdout",
     "output_type": "stream",
     "text": [
      "page_content='2020년9월15일(화)' metadata={'source': '/home/elicer/ChatBot_Project/practice_sm/reference/LAB_21대_제382회_제5차_본회의_국회본회의_0003(050187).json', 'seq_num': 1}\n"
     ]
    }
   ],
   "source": [
    "from langchain_community.document_loaders import JSONLoader\n",
    "\n",
    "\n",
    "\n",
    "# JSONLoader 생성\n",
    "loader = JSONLoader(\n",
    "    file_path=\"LAB_21대_제382회_제5차_본회의_국회본회의_0003(050187).json\",\n",
    "    jq_schema=\".date\",\n",
    "    text_content=False,\n",
    ")\n",
    "\n",
    "# 문서 로드\n",
    "docs = loader.load()\n",
    "\n",
    "# 결과 출력\n",
    "print(docs[0])\n"
   ]
  },
  {
   "cell_type": "code",
   "execution_count": 63,
   "metadata": {},
   "outputs": [
    {
     "name": "stdout",
     "output_type": "stream",
     "text": [
      "['filename', 'original', 'id', 'date', 'conference_number', 'question_number', 'meeting_name', 'generation_number', 'committee_name', 'meeting_number', 'session_number', 'agenda', 'law', 'qna_type', 'context', 'context_learn', 'context_summary', 'questioner_name', 'questioner_ID', 'questioner_ISNI', 'questioner_affiliation', 'questioner_position', 'question', 'answerer_name', 'answerer_ID', 'answerer_ISNI', 'answerer_affiliation', 'answerer_position', 'answer']\n"
     ]
    }
   ],
   "source": [
    "import json\n",
    "\n",
    "# JSON 파일 읽기\n",
    "with open('LAB_21대_제382회_제5차_본회의_국회본회의_0003(050187).json', 'r', encoding='utf-8') as file:\n",
    "    data = json.load(file)\n",
    "\n",
    "# key 값 추출\n",
    "keys_list = list(data.keys())\n",
    "\n",
    "# 리스트 출력\n",
    "print(keys_list)\n"
   ]
  },
  {
   "cell_type": "code",
   "execution_count": 79,
   "metadata": {},
   "outputs": [
    {
     "name": "stdout",
     "output_type": "stream",
     "text": [
      "page_content='SRC_21대_제382회_제5차_본회의_국회본회의_0003(050187).xlsx' metadata={'key': 'filename'}\n",
      "page_content='http://likms.assembly.go.kr/record/mhs-10-040-0040.do?conferNum=050187&fileType=PDF' metadata={'key': 'original'}\n",
      "page_content='050187' metadata={'key': 'id'}\n",
      "page_content='2020년9월15일(화)' metadata={'key': 'date'}\n",
      "page_content='050187' metadata={'key': 'conference_number'}\n",
      "page_content='0003' metadata={'key': 'question_number'}\n",
      "page_content='본회의' metadata={'key': 'meeting_name'}\n",
      "page_content='21' metadata={'key': 'generation_number'}\n",
      "page_content='국회본회의' metadata={'key': 'committee_name'}\n",
      "page_content='제382회' metadata={'key': 'meeting_number'}\n",
      "page_content='제5차' metadata={'key': 'session_number'}\n",
      "page_content='1. 외교·통일·안보에 관한 질문' metadata={'key': 'agenda'}\n",
      "page_content='외교·통일·안보에 관한 질문' metadata={'key': 'law'}\n",
      "page_content='추출형' metadata={'key': 'qna_type'}\n",
      "page_content='한반도와 국제정세에 영향을 미칠 미국 대선이 두 달도 안 남았습니다. 외교부는 트럼프와 바이든 후보의 대선 공약과 정책을 구체적으로 파악하고 계시지요? 예, 외교부에 1차관 주도로 TF를 만들어서 동향을 면밀히 주시를 하고 있고 또 분석을 하고 있습니다. 신냉전이라고 불릴 만큼 지금 미국과 중국의 갈등이 격화되고 있습니다. 트럼프, 바이든 어느 후보가 당선되더라도 미중의 대립과 갈등은 계속될 것으로 보입니다. 외교부는 여기에 대해서 구체적인 전략과 대책을 가지고 있습니까? 외교부로서는 타국의 국내 정치 현황에 대해서 그런 평가를 내리는 것은 좀 적합하지가 않다고 생각합니다만 양 진영의 대외 공약, 플랫폼 이런 것을 잘 보면서 어떤 결과가 나오더라도 미국과 긴밀히 소통하면서 양국 관계 그리고 한반도 문제 또 국제 문제에 대해서 한미공조가 더 다져질 수 있도록 그런 준비를 하고 있습니다. 미중 갈등이 높아지고 있던 남중국해에서 만에 하나 무력 충돌이 발생하면 우리 경제의 핵심 전략물자가 통과하는 이 지역의 항행의 안전과 자유를 위해서 우리 외교부는 어떤 준비가 돼 있습니까? 그 지역이 말씀하셨듯이 우리의 경제이익에 굉장히 중요한 해안입니다. 그래서 기회가 있을 때마다 우리는 남중국해의 항행의 자유 그다음에 평화적인 문제 해결 또 그런 비군사 공약 등을 존중해야 되고, 그리고 지금 아세안과 중국 사이의 코드 오브 컨덕트(code of conduct)를 협의를 해 나가는 과정에 있습니다. 그래서 그 코드 오브 컨덕트가 그 지역의 연안국이 아니더라도 이용을 하는 모든 국의 권리와 이해를 존중하면서 그것이 마련돼야 된다는 입장을 계속 발신을 하고 있습니다. 우리 한미동맹과 한미공조 외교에 심각한 불협화음이 생기고 있는 것 같습니다. 우리 언론에서 ‘외교부의 자주파 라인이 완성됐다’ 이런 보도가 나오는데 우리 장관께서는 자주파입니까, 동맹파입니까? 무슨 파라고 그렇게 단정적으로 말씀드리기 어렵습니다만 각자가 갖고 있는 그런 지혜와 경륜을 모아서 최선의 방향을 잡으려고 노력을 하고 있습니다. 장관께서는 한미동맹이 잘 되고 있다고 보십니까? 동맹이 60여 년을 발전을 하면서 여러 가지 현안이 있고 또 입장이 반드시 같지 않은 그런 상황도 많이 있습니다만 그 60년 동안 또 협의를 통해서 문제를 해결하는 그러한 역사도 갖고 있습니다. 그렇기 때문에 여러 가지 현안에 대해서도 동맹의 정신으로 양측이 합의할 수 있는 그러한 결과를 만들어 내려고 노력을 하고 있습니다. 최근 외교부의 1차관이 미국을 다녀왔는데 동맹대화를 만든다고 했더니 미국 국무부에서 아니라고 즉각 반박을 했습니다. 이것 있을 수 없는 일입니다. 한미 간에 멀쩡한 한미워킹그룹이 있는데 무슨 실무협의체를 따로 만든다는 얘기입니까? 워킹그룹은 한반도 문제, 특히 북한 문제에 대해서 포괄적인 논의를 하자 하는 취지에서 2018년 말에 만들었고요. 이번의 동맹대화라는 것은 그것보다 좀 더 큰 그림을 가지고 60여 년이 넘은 이 동맹의 앞날을 어떻게 더 강화시킬 것인가, 그래서 상당히 포괄적인 깊이 있는 논의가 있었다고 보고를 받았습니다. 그래서 우리 측이 동맹의 미래에 대해서 동맹을 더욱더 강화시켜야 된다는 그러한 공감이 있고 어떻게 할 것인지에 대해서 그러면 집중적으로 좀 논의를 하자 하는 차원에서 우리가 제안을 했고 미 측이 이것을 거부했다 이것은 사실이 아닌 것 같고요, 미 국무부로서도 동맹 강화를 위해서 서로 노력하자 하는 공감이 있고 우리가 제안한 이 안에 대해서 긍정적으로 검토를 하고 있다 이러한 국무부의 발언이 있었습니다. 한미워킹그룹은 외교부에서 수석대표를 맡고 있는데 왜 통일부가 나서서 이것을 역할을 조정하자, 업그레이드하자 이러면서, 심지어는 워킹그룹을 해체하자는 얘기도 나오고 있는데 외교부는 왜 통일부에 끌려다니면서 눈치를 봅니까? 각 관련 부처들이 협의를 하면서 서로 입장에 있어서 조금 다른 시각에서 접근방법이 있을 수 있다고 생각을 합니다만 워킹그룹과 관련해서 이것을 해체하자 이러한 입장은 아닙니다. 그리고 외교부가 분명히…… 수석대표가 우리는 한반도본부장, 미국은 특별대표 이렇게 워킹그룹의 수석대표를 맡고 있고 수석대표 간의 대화를 통해서 또 국장급의 대화를 통해서 다양한 의제에 대해서 논의를 하고 있습니다. 아마 문제가 된 게 그 제재를 논의하는 과정에서 이 제재를 논의하면서 남북협력의 걸림돌이 되는 게 아니냐 하는 그런 우려가 있다 하는 것도 잘 알고 있고, 그래서 그러한 우려를 설명도 더 드리고 워킹그룹이 그간에 순기능을 했던 부분에 대해서 좀 더 적극적으로 설명을 드리고 또 운용의 묘를 좀 더 살려 나가고자 합니다. 외교부는 지금 중국에 대한 소위 3불정책 입장을 유지하고 계시지요? 그 내용이 뭡니까? 이게 사드 문제와 관련해서 서로의 협의의 결과를 발표했습니다. 그때 결과 발표가 합의문의 발표가 아니고 협의의 결과를 발표한 것이고, 우리의 입장은 미국의 MD에 가입하는 걸 의미하는 것이 아니다 또 사드의 추가 배치는 하지 않는다 그다음에 삼국, 한․미․일 안보 협력이 군사동맹으로 발전하지는 않을 것이다 하는 입장을 밝혔고 또한 우리의 국방주권을 제한하는 어떠한 논의에는 응할 수가 없다 하는 그런 입장을 밝혔습니다. 그러니까 합의가 아니니까 구속받지 않는 거지요? 그렇습니다. 3불정책은 우리가 스스로 안보주권을 포기하는 거라고 생각하는데 어떻게 생각하세요? 안보주권을 포기했다고 생각하지 않습니다. 이미 우리가 갖고 있던 그런 입장을 다시 반복했을 따름입니다.' metadata={'key': 'context'}\n",
      "page_content='외교부는 남중국해에서 일어날 수 있는 무력 충돌에 대비하여 적극적으로 대응하기 위해 다양한 준비를 하고 있습니다. 이 지역이 우리 경제의 핵심 전략물자가 통과하는 중요 지역이기 때문에 항행의 안전과 자유를 위해 외교부는 노력하고 있습니다. 또한, 남중국해의 항행 자유와 평화적인 문제 해결, 비군사 공약을 존중하고, 아세안과 중국 간의 코드 오브 컨덕트 협의에도 적극적으로 참여하여 연안국이 아니더라도 모든 국의 권리와 이해를 존중하는 입장을 강조하고 있습니다.' metadata={'key': 'context_learn'}\n",
      "page_content='박진' metadata={'key': 'questioner_name'}\n",
      "page_content='7462' metadata={'key': 'questioner_ID'}\n",
      "page_content='0000000049645388' metadata={'key': 'questioner_ISNI'}\n",
      "page_content='' metadata={'key': 'questioner_affiliation'}\n",
      "page_content='의원' metadata={'key': 'questioner_position'}\n",
      "page_content='강경화' metadata={'key': 'answerer_name'}\n",
      "page_content=' ' metadata={'key': 'answerer_ID'}\n",
      "page_content=' ' metadata={'key': 'answerer_ISNI'}\n",
      "page_content='외교부' metadata={'key': 'answerer_affiliation'}\n",
      "page_content='장관' metadata={'key': 'answerer_position'}\n"
     ]
    }
   ],
   "source": [
    "from langchain.schema import Document\n",
    "\n",
    "# 문서 리스트 생성\n",
    "documents = []\n",
    "for key, value in data.items():\n",
    "    if isinstance(value, str):  # 값이 문자열인지 확인\n",
    "        documents.append(Document(page_content=value, metadata={\"key\": key}))\n",
    "\n",
    "# 생성된 문서 출력\n",
    "for doc in documents:\n",
    "    print(doc)\n"
   ]
  },
  {
   "cell_type": "code",
   "execution_count": 85,
   "metadata": {},
   "outputs": [],
   "source": [
    "# 벡터스토어를 생성합니다.\n",
    "vectorstore = FAISS.from_documents(documents=documents, embedding=OpenAIEmbeddings())\n",
    "\n",
    "# 뉴스에 포함되어 있는 정보를 검색하고 생성합니다.\n",
    "retriever = vectorstore.as_retriever()"
   ]
  },
  {
   "cell_type": "code",
   "execution_count": 86,
   "metadata": {},
   "outputs": [],
   "source": [
    "from langchain_core.prompts import PromptTemplate\n",
    "\n",
    "prompt = PromptTemplate.from_template(\n",
    "    \"\"\"당신은 질문-답변(Question-Answering)을 수행하는 친절한 AI 어시스턴트입니다. 당신의 임무는 주어진 문맥(context) 에서 주어진 질문(question) 에 답하는 것입니다.\n",
    "검색된 다음 문맥(context) 을 사용하여 질문(question) 에 답하세요. 만약, 주어진 문맥(context) 에서 답을 찾을 수 없다면, 답을 모른다면 `주어진 정보에서 질문에 대한 정보를 찾을 수 없습니다` 라고 답하세요.\n",
    "한글로 답변해 주세요. 단, 기술적인 용어나 이름은 번역하지 않고 그대로 사용해 주세요.\n",
    "\n",
    "#Question:\n",
    "{question}\n",
    "\n",
    "#Context:\n",
    "{context}\n",
    "\n",
    "#Answer:\"\"\"\n",
    ")"
   ]
  },
  {
   "cell_type": "code",
   "execution_count": 87,
   "metadata": {},
   "outputs": [],
   "source": [
    "llm = ChatOpenAI(model_name=\"gpt-4o-mini\", temperature=0.7)\n",
    "\n",
    "\n",
    "# 체인을 생성합니다.\n",
    "rag_chain = (\n",
    "    {\"context\": retriever, \"question\": RunnablePassthrough()}\n",
    "    | prompt\n",
    "    | llm\n",
    "    | StrOutputParser()\n",
    ")"
   ]
  },
  {
   "cell_type": "code",
   "execution_count": 88,
   "metadata": {},
   "outputs": [],
   "source": [
    "from langchain_teddynote.messages import stream_response"
   ]
  },
  {
   "cell_type": "code",
   "execution_count": 94,
   "metadata": {},
   "outputs": [
    {
     "name": "stdout",
     "output_type": "stream",
     "text": [
      "21대 제5차 국회본회의의 주제는 '외교·통일·안보에 관한 질문'입니다."
     ]
    }
   ],
   "source": [
    "answer = rag_chain.stream(\"21대 제5차 국회본회의의 주제는?\")\n",
    "# # 제너레이터에서 데이터를 하나씩 모아서 문자열로 합치기\n",
    "# answer_content = ''.join([chunk for chunk in answer])\n",
    "\n",
    "# # 결과 출력\n",
    "# print(answer_content)\n",
    "stream_response(answer)\n"
   ]
  }
 ],
 "metadata": {
  "kernelspec": {
   "display_name": "Python 3",
   "language": "python",
   "name": "python3"
  },
  "language_info": {
   "codemirror_mode": {
    "name": "ipython",
    "version": 3
   },
   "file_extension": ".py",
   "mimetype": "text/x-python",
   "name": "python",
   "nbconvert_exporter": "python",
   "pygments_lexer": "ipython3",
   "version": "3.10.13"
  }
 },
 "nbformat": 4,
 "nbformat_minor": 2
}
